{
 "cells": [
  {
   "cell_type": "markdown",
   "metadata": {},
   "source": [
    "# Generic Programming\n",
    "GP is 30yo\n",
    "Met Alex 15 years ago -\n",
    "Alex is 15 years older\n",
    "Personal story\n",
    "Discovered GP through STL\n",
    "\n",
    "## History\n",
    "\n",
    "### Early Years\n",
    "\n",
    "- ML and Meta- constructs\n",
    "\n",
    "### Original Paper\n",
    "\n",
    "[Generic Programming](http://stepanovpapers.com/genprog.pdf)\n",
    "\n",
    "- David Musser and Alexander Stepanov \n",
    "- July 1988\n",
    "- Is generic programming the same as design by contract?\n",
    "\n",
    "### STL\n",
    "\n",
    "[The Standard Template Library. HP Laboratories Technical Report](http://stepanovpapers.com/STL/DOC.PDF)\n",
    "\n",
    "- Alexander Stepanov and Meng Lee\n",
    "- November 1994"
   ]
  },
  {
   "cell_type": "code",
   "execution_count": null,
   "metadata": {},
   "outputs": [],
   "source": []
  },
  {
   "cell_type": "markdown",
   "metadata": {},
   "source": [
    "### Regular Type\n",
    "\n",
    "[Fundamentals of Generic Programming](http://stepanovpapers.com/DeSt98.pdf)\n",
    "\n",
    "- James Dehnert and Alexander Stepanov\n",
    "\n",
    "### Concepts\n",
    "\n",
    "### Elements of Programming\n",
    "\n",
    "[Elements of Programming](http://elementsofprogramming.com/)\n",
    "\n",
    "- Alexander Stepanov and Paul McJones\n",
    "- doesn't use the term Generic Programming\n",
    "\n",
    "### FMTGP\n",
    "\n",
    "## Practice\n",
    "\n",
    "## Future"
   ]
  },
  {
   "cell_type": "code",
   "execution_count": null,
   "metadata": {},
   "outputs": [],
   "source": []
  }
 ],
 "metadata": {
  "kernelspec": {
   "display_name": "C++17",
   "language": "C++17",
   "name": "xcpp17"
  },
  "language_info": {
   "codemirror_mode": "text/x-c++src",
   "file_extension": ".cpp",
   "mimetype": "text/x-c++src",
   "name": "c++",
   "version": "17"
  },
  "toc": {
   "nav_menu": {},
   "number_sections": true,
   "sideBar": true,
   "skip_h1_title": false,
   "toc_cell": false,
   "toc_position": {},
   "toc_section_display": "block",
   "toc_window_display": false
  }
 },
 "nbformat": 4,
 "nbformat_minor": 4
}
