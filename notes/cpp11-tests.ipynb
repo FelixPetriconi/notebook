{
 "cells": [
  {
   "cell_type": "code",
   "execution_count": 1,
   "metadata": {},
   "outputs": [],
   "source": [
    "#include <type_traits>\n",
    "\n",
    "namespace std {\n",
    "inline namespace adobe_dcx {\n",
    "    \n",
    "template <class T>\n",
    "class optional {\n",
    "    typename std::aligned_storage<sizeof(T)>::type _storage;\n",
    "    bool _has_value = false;\n",
    "    \n",
    "public:\n",
    "    using value_type = T;\n",
    "    \n",
    "    constexpr optional() noexcept = default;\n",
    "    \n",
    "    constexpr optional(const optional& other) {\n",
    "        if (!other.has_value()) {\n",
    "        } else if (has_value()) {\n",
    "            **this = *other;\n",
    "        } else {\n",
    "            new (&_storage) T(*other);\n",
    "            _has_value = true;\n",
    "        }\n",
    "    }\n",
    "    \n",
    "    optional(optional&& other) noexcept(std::is_nothrow_move_constructible<T>::value && std::is_nothrow_move_assignable<T>::value) {\n",
    "        if (!other.has_value()) {\n",
    "            reset();\n",
    "        } else if (has_value()) {\n",
    "            **this = std::move(*other);\n",
    "        } else {\n",
    "            new (&_storage) T(std::move(*other));\n",
    "            _has_value = true;\n",
    "        }\n",
    "    }\n",
    "    \n",
    "    template <class U = value_type>\n",
    "    constexpr optional(U&& value) {\n",
    "        new (&_storage) T(std::forward<U>(value));\n",
    "        _has_value = true;\n",
    "    }\n",
    "    \n",
    "    ~optional() {\n",
    "        if (has_value()) (**this).T::~T();\n",
    "    }\n",
    "    \n",
    "    void reset() noexcept {\n",
    "        if (!has_value()) return;\n",
    "        (**this).T::~T();\n",
    "        _has_value = false;\n",
    "    }\n",
    "    \n",
    "    T& operator*() { return reinterpret_cast<T&>(_storage); }\n",
    "    const T& operator*() const { return reinterpret_cast<const T&>(_storage); }\n",
    "    \n",
    "    constexpr bool has_value() const noexcept {\n",
    "        return _has_value;\n",
    "    }\n",
    "    \n",
    "    constexpr explicit operator bool() const noexcept {\n",
    "        return _has_value;\n",
    "    }\n",
    "    \n",
    "    template <class U>\n",
    "    constexpr T value_or(U&& default_value) const& {\n",
    "        return has_value() ? (**this) : static_cast<T>(std::forward<U>(default_value));\n",
    "    }\n",
    "    template <class U>\n",
    "    constexpr T value_or(U&& default_value) && {\n",
    "        return has_value() ? std::move(**this) : static_cast<T>(std::forward<U>(default_value));\n",
    "    }\n",
    "};\n",
    "    \n",
    "}\n",
    "}"
   ]
  },
  {
   "cell_type": "code",
   "execution_count": 2,
   "metadata": {},
   "outputs": [],
   "source": [
    "using namespace std;\n",
    "optional<int> x = 10;"
   ]
  },
  {
   "cell_type": "code",
   "execution_count": 3,
   "metadata": {},
   "outputs": [
    {
     "data": {
      "text/plain": [
       "10"
      ]
     },
     "execution_count": 3,
     "metadata": {},
     "output_type": "execute_result"
    }
   ],
   "source": [
    "*x"
   ]
  },
  {
   "cell_type": "code",
   "execution_count": 4,
   "metadata": {},
   "outputs": [
    {
     "data": {
      "text/plain": [
       "true"
      ]
     },
     "execution_count": 4,
     "metadata": {},
     "output_type": "execute_result"
    }
   ],
   "source": [
    "x.has_value()"
   ]
  },
  {
   "cell_type": "code",
   "execution_count": 5,
   "metadata": {},
   "outputs": [
    {
     "data": {
      "text/plain": [
       "10"
      ]
     },
     "execution_count": 5,
     "metadata": {},
     "output_type": "execute_result"
    }
   ],
   "source": [
    "x.value_or(42)"
   ]
  },
  {
   "cell_type": "code",
   "execution_count": 6,
   "metadata": {},
   "outputs": [],
   "source": [
    "x.reset();"
   ]
  },
  {
   "cell_type": "code",
   "execution_count": 7,
   "metadata": {},
   "outputs": [
    {
     "data": {
      "text/plain": [
       "false"
      ]
     },
     "execution_count": 7,
     "metadata": {},
     "output_type": "execute_result"
    }
   ],
   "source": [
    "x.has_value()"
   ]
  },
  {
   "cell_type": "code",
   "execution_count": 8,
   "metadata": {},
   "outputs": [
    {
     "data": {
      "text/plain": [
       "42"
      ]
     },
     "execution_count": 8,
     "metadata": {},
     "output_type": "execute_result"
    }
   ],
   "source": [
    "x.value_or(42)"
   ]
  },
  {
   "cell_type": "markdown",
   "metadata": {},
   "source": [
    "Thought on tracked values -\n",
    "\n",
    "A tracked value should be bound to an execution context. You want to be able to write:\n",
    "```cpp\n",
    "tracked | [](auto& x){\n",
    "    x.stuff();\n",
    "};\n",
    "```\n",
    "vs.\n",
    "```cpp\n",
    "async(executor, [] {\n",
    "    if (auto p = tracked.lock()) {\n",
    "        p->stuff();\n",
    "    }\n",
    "});\n",
    "```\n",
    "\n",
    "Should work with optional (and futures?) as well. Also, this would be when/if_all - requiring the same executor (how can you test that? - no equality on lambdas!)\n",
    "\n",
    "```cpp\n",
    "(track1, track2) | core | [](auto& x1, auto& x2){\n",
    "       // use x1 an x2\n",
    "} | surface | ;\n",
    "```"
   ]
  },
  {
   "cell_type": "code",
   "execution_count": null,
   "metadata": {},
   "outputs": [],
   "source": []
  }
 ],
 "metadata": {
  "kernelspec": {
   "display_name": "C++14",
   "language": "C++14",
   "name": "xeus-cling-cpp14"
  },
  "language_info": {
   "codemirror_mode": "text/x-c++src",
   "file_extension": ".cpp",
   "mimetype": "text/x-c++src",
   "name": "c++",
   "version": "-std=c++14"
  }
 },
 "nbformat": 4,
 "nbformat_minor": 2
}
