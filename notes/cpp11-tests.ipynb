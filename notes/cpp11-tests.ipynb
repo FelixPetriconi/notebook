{
 "cells": [
  {
   "cell_type": "code",
   "execution_count": 1,
   "metadata": {},
   "outputs": [],
   "source": [
    "#include <type_traits>\n",
    "\n",
    "namespace std {\n",
    "inline namespace adobe_dcx {\n",
    "    \n",
    "template <class T>\n",
    "class optional {\n",
    "    std::aligned_storage_t<sizeof(T)> _storage;\n",
    "    bool _has_value = false;\n",
    "    \n",
    "public:\n",
    "    using value_type = T;\n",
    "    \n",
    "    constexpr optional() noexcept = default;\n",
    "    \n",
    "    constexpr optional(const optional& other) {\n",
    "        if (!other.has_value()) {\n",
    "        } else if (has_value()) {\n",
    "            **this = *other;\n",
    "        } else {\n",
    "            new (&_storage) T(*other);\n",
    "            _has_value = true;\n",
    "        }\n",
    "    }\n",
    "    \n",
    "    optional(optional&& other) noexcept(std::is_nothrow_move_constructible<T>::value && std::is_nothrow_move_assignable<T>::value) {\n",
    "        if (!other.has_value()) {\n",
    "            reset();\n",
    "        } else if (has_value()) {\n",
    "            **this = std::move(*other);\n",
    "        } else {\n",
    "            new (&_storage) T(std::move(*other));\n",
    "            _has_value = true;\n",
    "        }\n",
    "    }\n",
    "    \n",
    "    template <class U = value_type>\n",
    "    constexpr optional(U&& value) {\n",
    "        new (&_storage) T(std::forward<U>(value));\n",
    "        _has_value = true;\n",
    "    }\n",
    "    \n",
    "    ~optional() {\n",
    "        if (has_value()) (**this).T::~T();\n",
    "    }\n",
    "    \n",
    "    void reset() noexcept {\n",
    "        if (!has_value()) return;\n",
    "        (**this).T::~T();\n",
    "        _has_value = false;\n",
    "    }\n",
    "    \n",
    "    constexpr T& value() & = delete;\n",
    "    constexpr const T & value() const & = delete;\n",
    "    constexpr T&& value() && = delete;\n",
    "    constexpr const T&& value() const && = delete;\n",
    "    \n",
    "    T& operator*() { return reinterpret_cast<T&>(_storage); }\n",
    "    const T& operator*() const { return reinterpret_cast<const T&>(_storage); }\n",
    "    \n",
    "    constexpr bool has_value() const noexcept {\n",
    "        return _has_value;\n",
    "    }\n",
    "    \n",
    "    constexpr explicit operator bool() const noexcept {\n",
    "        return _has_value;\n",
    "    }\n",
    "    \n",
    "    template <class U>\n",
    "    constexpr T value_or(U&& default_value) const& {\n",
    "        return has_value() ? (**this) : static_cast<T>(std::forward<U>(default_value));\n",
    "    }\n",
    "    template <class U>\n",
    "    constexpr T value_or(U&& default_value) && {\n",
    "        return has_value() ? std::move(**this) : static_cast<T>(std::forward<U>(default_value));\n",
    "    }\n",
    "};\n",
    "    \n",
    "struct nullopt_t {\n",
    "    explicit constexpr nullopt_t(int) {}\n",
    "};\n",
    "    \n",
    "}\n",
    "}"
   ]
  },
  {
   "cell_type": "code",
   "execution_count": 2,
   "metadata": {},
   "outputs": [],
   "source": [
    "using namespace std;\n",
    "optional<int> x = 10;"
   ]
  },
  {
   "cell_type": "code",
   "execution_count": 3,
   "metadata": {},
   "outputs": [
    {
     "data": {
      "text/plain": [
       "10"
      ]
     },
     "execution_count": 3,
     "metadata": {},
     "output_type": "execute_result"
    }
   ],
   "source": [
    "*x"
   ]
  },
  {
   "cell_type": "code",
   "execution_count": 4,
   "metadata": {},
   "outputs": [
    {
     "data": {
      "text/plain": [
       "true"
      ]
     },
     "execution_count": 4,
     "metadata": {},
     "output_type": "execute_result"
    }
   ],
   "source": [
    "x.has_value()"
   ]
  },
  {
   "cell_type": "code",
   "execution_count": 5,
   "metadata": {},
   "outputs": [
    {
     "data": {
      "text/plain": [
       "10"
      ]
     },
     "execution_count": 5,
     "metadata": {},
     "output_type": "execute_result"
    }
   ],
   "source": [
    "x.value_or(42)"
   ]
  },
  {
   "cell_type": "code",
   "execution_count": 6,
   "metadata": {},
   "outputs": [],
   "source": [
    "x.reset();"
   ]
  },
  {
   "cell_type": "code",
   "execution_count": 7,
   "metadata": {},
   "outputs": [
    {
     "data": {
      "text/plain": [
       "false"
      ]
     },
     "execution_count": 7,
     "metadata": {},
     "output_type": "execute_result"
    }
   ],
   "source": [
    "x.has_value()"
   ]
  },
  {
   "cell_type": "code",
   "execution_count": 8,
   "metadata": {},
   "outputs": [
    {
     "data": {
      "text/plain": [
       "42"
      ]
     },
     "execution_count": 8,
     "metadata": {},
     "output_type": "execute_result"
    }
   ],
   "source": [
    "x.value_or(42)"
   ]
  },
  {
   "cell_type": "code",
   "execution_count": 9,
   "metadata": {},
   "outputs": [
    {
     "name": "stderr",
     "output_type": "stream",
     "text": [
      "\u001b[1minput_line_23:2:4: \u001b[0m\u001b[0;1;31merror: \u001b[0m\u001b[1mcall to deleted member function 'value'\u001b[0m\n",
      " x.value()\n",
      "\u001b[0;1;32m ~~^~~~~\n",
      "\u001b[0m\u001b[1minput_line_8:51:18: \u001b[0m\u001b[0;1;30mnote: \u001b[0mcandidate function has been explicitly deleted\u001b[0m\n",
      "    constexpr T& value() & = delete;\n",
      "\u001b[0;1;32m                 ^\n",
      "\u001b[0m\u001b[1minput_line_8:52:25: \u001b[0m\u001b[0;1;30mnote: \u001b[0mcandidate function has been explicitly deleted\u001b[0m\n",
      "    constexpr const T & value() const & = delete;\n",
      "\u001b[0;1;32m                        ^\n",
      "\u001b[0m\u001b[1minput_line_8:53:19: \u001b[0m\u001b[0;1;30mnote: \u001b[0mcandidate function not viable: no known conversion from 'optional<...>' to 'optional<...>' for object argument\u001b[0m\n",
      "    constexpr T&& value() && = delete;\n",
      "\u001b[0;1;32m                  ^\n",
      "\u001b[0m\u001b[1minput_line_8:54:25: \u001b[0m\u001b[0;1;30mnote: \u001b[0mcandidate function not viable: no known conversion from 'optional<...>' to '\u001b[0;1;36mconst \u001b[0moptional<...>' for object argument\u001b[0m\n",
      "    constexpr const T&& value() const && = delete;\n",
      "\u001b[0;1;32m                        ^\n",
      "\u001b[0m"
     ]
    },
    {
     "ename": "Interpreter Error",
     "evalue": "",
     "output_type": "error",
     "traceback": [
      "Interpreter Error: "
     ]
    }
   ],
   "source": []
  },
  {
   "cell_type": "markdown",
   "metadata": {},
   "source": [
    "Thought on tracked values -\n",
    "\n",
    "A tracked value should be bound to an execution context. You want to be able to write:\n",
    "```cpp\n",
    "tracked | [](auto& x){\n",
    "    x.stuff();\n",
    "};\n",
    "```\n",
    "vs.\n",
    "```cpp\n",
    "async(executor, [] {\n",
    "    if (auto p = tracked.lock()) {\n",
    "        p->stuff();\n",
    "    }\n",
    "});\n",
    "```\n",
    "\n",
    "Should work with optional (and futures?) as well. Also, this would be when/if_all - requiring the same executor (how can you test that? - no equality on lambdas!)\n",
    "\n",
    "```cpp\n",
    "(track1, track2) | core | [](auto& x1, auto& x2){\n",
    "       // use x1 an x2\n",
    "} | surface ;\n",
    "```"
   ]
  },
  {
   "cell_type": "code",
   "execution_count": null,
   "metadata": {},
   "outputs": [],
   "source": []
  }
 ],
 "metadata": {
  "kernelspec": {
   "display_name": "C++14",
   "language": "C++14",
   "name": "xeus-cling-cpp14"
  },
  "language_info": {
   "codemirror_mode": "text/x-c++src",
   "file_extension": ".cpp",
   "mimetype": "text/x-c++src",
   "name": "c++",
   "version": "-std=c++14"
  }
 },
 "nbformat": 4,
 "nbformat_minor": 2
}
