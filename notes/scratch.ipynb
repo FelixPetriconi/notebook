{
 "cells": [
  {
   "cell_type": "code",
   "execution_count": 1,
   "metadata": {},
   "outputs": [],
   "source": [
    "#include <atomic>\n",
    "#include <chrono>\n",
    "#include <functional>\n",
    "#include <iostream>\n",
    "#include <set>\n",
    "#include <thread>\n",
    "#include <utility>\n",
    "#include <vector>"
   ]
  },
  {
   "cell_type": "code",
   "execution_count": 2,
   "metadata": {},
   "outputs": [],
   "source": [
    "using namespace std;"
   ]
  },
  {
   "cell_type": "code",
   "execution_count": 3,
   "metadata": {},
   "outputs": [],
   "source": [
    "using namespace chrono;"
   ]
  },
  {
   "cell_type": "code",
   "execution_count": 4,
   "metadata": {
    "slideshow": {
     "slide_type": "slide"
    }
   },
   "outputs": [],
   "source": [
    "struct temp {\n",
    "    void set_property(int) { }\n",
    "    void operation() { }\n",
    "};\n",
    "\n",
    "const int value = 42;\n",
    "std::shared_ptr<temp> p = make_shared<temp>();\n",
    "\n",
    "p->set_property(value);\n",
    "// Someplace else...\n",
    "p->set_property(value);\n"
   ]
  },
  {
   "cell_type": "code",
   "execution_count": 5,
   "metadata": {},
   "outputs": [],
   "source": [
    "namespace v1 {\n",
    "\n",
    "using type = temp;\n",
    "\n",
    "void f(type* p) {\n",
    "    //...\n",
    "    p->operation();\n",
    "    //\n",
    "}\n",
    "\n",
    "} // namespace v1"
   ]
  },
  {
   "cell_type": "code",
   "execution_count": null,
   "metadata": {},
   "outputs": [],
   "source": [
    "namespace v1 {\n",
    "\n",
    "using type = temp;\n",
    "\n",
    "void f(type* p) {\n",
    "    //...\n",
    "    if (p) p->operation();\n",
    "    //\n",
    "}\n",
    "\n",
    "} // namespace v1"
   ]
  },
  {
   "cell_type": "code",
   "execution_count": null,
   "metadata": {},
   "outputs": [],
   "source": [
    "namespace v1 {\n",
    "\n",
    "using type = temp;\n",
    "\n",
    "void f(type& a) {\n",
    "    //...\n",
    "    a.operation();\n",
    "    //\n",
    "}\n",
    "\n",
    "} // namespace v1"
   ]
  },
  {
   "cell_type": "code",
   "execution_count": 6,
   "metadata": {},
   "outputs": [
    {
     "name": "stderr",
     "output_type": "stream",
     "text": [
      "\u001b[1minput_line_11:6:5: \u001b[0m\u001b[0;1;35mwarning: \u001b[0m\u001b[1mnull passed to a callee that requires a non-null argument [-Wnonnull]\u001b[0m\n",
      "    p->operation();\n",
      "\u001b[0;1;32m    ^\n",
      "\u001b[0m"
     ]
    },
    {
     "ename": "Interpreter Exception",
     "evalue": "",
     "output_type": "error",
     "traceback": [
      "Interpreter Exception: "
     ]
    }
   ],
   "source": [
    "f(nullptr)"
   ]
  },
  {
   "cell_type": "markdown",
   "metadata": {},
   "source": [
    "Problem statement: Save documents every 5 minutes after application has been idle for 5 seconds."
   ]
  },
  {
   "cell_type": "markdown",
   "metadata": {},
   "source": [
    "Save documents every _n_ minutes after application has been idle for _m_ seconds."
   ]
  },
  {
   "cell_type": "markdown",
   "metadata": {},
   "source": [
    "**Save documents every _n_ minutes** after application has been idle for _m_ seconds."
   ]
  },
  {
   "cell_type": "markdown",
   "metadata": {},
   "source": [
    "**Save documents every _n_ minutes** - we can use a recurring timer.<sup>*</sup>"
   ]
  },
  {
   "cell_type": "markdown",
   "metadata": {},
   "source": [
    "(Not really - but we'll come back to it.)"
   ]
  },
  {
   "cell_type": "markdown",
   "metadata": {},
   "source": [
    "**Invoke a tast after the application has been idle for _m_ seconds.**"
   ]
  },
  {
   "cell_type": "code",
   "execution_count": null,
   "metadata": {
    "scrolled": true
   },
   "outputs": [],
   "source": [
    "?std::vector"
   ]
  },
  {
   "cell_type": "code",
   "execution_count": null,
   "metadata": {
    "slideshow": {
     "slide_type": "slide"
    }
   },
   "outputs": [],
   "source": [
    "namespace v1 {\n",
    "\n",
    "extern system_clock::time_point _last_idle;\n",
    "void invoke_after(system_clock::duration, function<void()>);\n",
    "\n",
    "template <class F> // F is task of the form void()\n",
    "void after_idle(F task, system_clock::duration delay) {\n",
    "    auto when = delay - (system_clock::now() - _last_idle);\n",
    "    \n",
    "    if (system_clock::duration::zero() < when) {\n",
    "        invoke_after([=] { after_idle(task, delay); });\n",
    "    } else {\n",
    "        task();\n",
    "    }\n",
    "}\n",
    "\n",
    "} // namespace v1"
   ]
  },
  {
   "cell_type": "code",
   "execution_count": null,
   "metadata": {
    "slideshow": {
     "slide_type": "slide"
    }
   },
   "outputs": [],
   "source": [
    "namespace v2 {\n",
    "\n",
    "template <class S, // S is a scheduler void(task, duration)\n",
    "          class T, // T is a timer duration()\n",
    "          class F> // F is a task void()\n",
    "void on_expiration(S scheduler, T timer, F task) {\n",
    "    struct local {\n",
    "        static void recursive(S& scheduler, T timer, F task) {\n",
    "            auto remaining = timer();\n",
    "            if (remaining) {\n",
    "                scheduler(remaining, [scheduler, _timer = move(timer),\n",
    "                                      _task = move(task)]() mutable {\n",
    "                    recursive(scheduler, move(_timer), move(_task));\n",
    "                });\n",
    "            } else {\n",
    "                task();\n",
    "            }\n",
    "        }\n",
    "    };\n",
    "    auto remaining = timer(); // invoke before move\n",
    "    scheduler(remaining,\n",
    "              [scheduler, _timer = move(timer), _task = move(task)]() mutable {\n",
    "                  local::recursive(scheduler, move(_timer), move(_task));\n",
    "              });\n",
    "}\n",
    "\n",
    "} // namespace v2"
   ]
  },
  {
   "cell_type": "code",
   "execution_count": null,
   "metadata": {
    "slideshow": {
     "slide_type": "slide"
    }
   },
   "outputs": [],
   "source": [
    "namespace v3 {\n",
    "\n",
    "template <class S, class T, class F>\n",
    "void recursive(S& scheduler, T timer, F task) {\n",
    "    auto remaining = timer();\n",
    "    if (decltype(remaining){0} < remaining) {\n",
    "        scheduler(remaining, [scheduler, _timer = move(timer),\n",
    "                              _task = move(task)]() mutable {\n",
    "            recursive(scheduler, move(_timer), move(_task));\n",
    "        });\n",
    "    } else {\n",
    "        task();\n",
    "    }\n",
    "}\n",
    "\n",
    "} // namespace v3"
   ]
  },
  {
   "cell_type": "code",
   "execution_count": null,
   "metadata": {
    "slideshow": {
     "slide_type": "slide"
    }
   },
   "outputs": [],
   "source": [
    "namespace v3 {\n",
    "\n",
    "template <class S, // S is a scheduler void(task, duration)\n",
    "          class T, // T is a timer duration()\n",
    "          class F> // F is a task void()\n",
    "void on_expiration(S scheduler, T timer, F task) {\n",
    "    auto remaining = timer(); // invoke before move\n",
    "    scheduler(remaining,\n",
    "              [scheduler, _timer = move(timer), _task = move(task)]() mutable {\n",
    "                  recursive(scheduler, move(_timer), move(_task));\n",
    "              });\n",
    "}\n",
    "\n",
    "} // namespace v3"
   ]
  },
  {
   "cell_type": "code",
   "execution_count": null,
   "metadata": {
    "slideshow": {
     "slide_type": "slide"
    }
   },
   "outputs": [],
   "source": [
    "#if 0\n",
    "v3::on_expiration(\n",
    "    [](auto after, auto task) {\n",
    "        cout << \"try again in \" << duration_cast<duration<double>>(after).count() << \" seconds.\" << endl;\n",
    "        this_thread::sleep_for(after);\n",
    "        task();\n",
    "    },\n",
    "    [_target = 4.0s]() mutable {\n",
    "        _target -= 1.0s;\n",
    "        return _target;\n",
    "    },\n",
    "    [] { cout << \"done!\\n\"; }\n",
    ");\n",
    "#endif"
   ]
  },
  {
   "cell_type": "code",
   "execution_count": null,
   "metadata": {
    "slideshow": {
     "slide_type": "slide"
    }
   },
   "outputs": [],
   "source": [
    "namespace v4 {\n",
    "    \n",
    "    \n",
    "template <class S, class T, class F>\n",
    "void on_expiration_(S scheduler, T timer, F task) {\n",
    "    auto remaining = timer();\n",
    "    if (decltype(remaining){0} < remaining) {\n",
    "        scheduler(remaining, [=] { on_expiration_(scheduler, timer, task); });\n",
    "    } else {\n",
    "        task();\n",
    "    }\n",
    "}\n",
    "\n",
    "template <class S, class T, class F>\n",
    "void on_expiration(S scheduler, T timer, F task) {\n",
    "    scheduler(timer(), [=] { on_expiration_(scheduler, timer, task); });\n",
    "}\n",
    "\n",
    "} // namespace v4"
   ]
  },
  {
   "cell_type": "code",
   "execution_count": null,
   "metadata": {
    "slideshow": {
     "slide_type": "slide"
    }
   },
   "outputs": [],
   "source": [
    "v4::on_expiration(\n",
    "    [](auto after, auto task) {\n",
    "        cout << \"try again in \" << duration_cast<duration<double>>(after).count() << \" seconds.\" << endl;\n",
    "        this_thread::sleep_for(after);\n",
    "        task();\n",
    "    },\n",
    "    [_target = 4.0s]() mutable {\n",
    "        _target -= 1.0s;\n",
    "        return _target;\n",
    "    },\n",
    "    [] { cout << \"done!\\n\"; }\n",
    ");"
   ]
  },
  {
   "cell_type": "code",
   "execution_count": null,
   "metadata": {},
   "outputs": [],
   "source": [
    "namespace {\n",
    "    std::map<std::string, int> c = { { \"Hello\", 42 } };\n",
    "}"
   ]
  },
  {
   "cell_type": "markdown",
   "metadata": {},
   "source": [
    "\\begin{align}\n",
    "a * b & = c \\\\\n",
    "a & = c / b\n",
    "\\end{align}"
   ]
  },
  {
   "cell_type": "code",
   "execution_count": null,
   "metadata": {},
   "outputs": [],
   "source": [
    "c"
   ]
  },
  {
   "cell_type": "code",
   "execution_count": null,
   "metadata": {},
   "outputs": [],
   "source": [
    "c[\"Hello\"]"
   ]
  },
  {
   "cell_type": "code",
   "execution_count": null,
   "metadata": {
    "slideshow": {
     "slide_type": "slide"
    }
   },
   "outputs": [],
   "source": [
    "namespace v1 {\n",
    "\n",
    "template <class T>\n",
    "class registry {\n",
    "    unordered_map<size_t, T> _map;\n",
    "    size_t _id = 0;\n",
    "\n",
    "public:\n",
    "    auto append(T element) -> size_t {\n",
    "        _map.emplace(_id, move(element));\n",
    "        return _id++;\n",
    "    }\n",
    "\n",
    "    void erase(size_t id) { _map.erase(id); }\n",
    "\n",
    "    auto find(size_t id) -> T* {\n",
    "        auto p = _map.find(id);\n",
    "        return (p == end(_map)) ? nullptr : &p->second;\n",
    "    }\n",
    "\n",
    "    template <typename F>\n",
    "    void for_each(F f) const {\n",
    "        for (const auto& e : _map)\n",
    "            f(e.second);\n",
    "    }\n",
    "};\n",
    "\n",
    "} // namespace v1"
   ]
  },
  {
   "cell_type": "code",
   "execution_count": null,
   "metadata": {
    "slideshow": {
     "slide_type": "slide"
    }
   },
   "outputs": [],
   "source": [
    "namespace v2 {\n",
    "\n",
    "template <class T>\n",
    "class registry {\n",
    "    vector<pair<size_t, optional<T>>> _map;\n",
    "    size_t _size = 0;\n",
    "    size_t _id = 0;\n",
    "\n",
    "public:\n",
    "    //...\n",
    "    auto append(T element) -> size_t {\n",
    "        _map.emplace_back(_id, move(element));\n",
    "        ++_size;\n",
    "        return _id++;\n",
    "    }\n",
    "    //...\n",
    "\n",
    "    void erase(size_t id) {\n",
    "        auto p = lower_bound(\n",
    "            begin(_map), end(_map), id,\n",
    "            [](const auto& a, const auto& b) { return a.first < b; });\n",
    "        \n",
    "        if (p == end(_map) || p->first != id) return;\n",
    "        \n",
    "        p->second.reset();\n",
    "        --_size;\n",
    "        \n",
    "        if (_size < (_map.size() / 2)) {\n",
    "            _map.erase(remove_if(begin(_map), end(_map),\n",
    "                                 [](const auto& e) { return !e.second; }),\n",
    "                       end(_map));\n",
    "        }\n",
    "    }\n",
    "    //...\n",
    "\n",
    "    auto find(size_t id) -> T* {\n",
    "        auto p = lower_bound(\n",
    "            begin(_map), end(_map), id,\n",
    "            [](const auto& a, const auto& b) { return a.first < b; });\n",
    "        return (p == end(_map) || (p->first != id) || !p->second) ? nullptr :\n",
    "                                                                    &*p->second;\n",
    "    }\n",
    "\n",
    "    template <typename F>\n",
    "    void for_each(F f) {\n",
    "        for (const auto& e : _map) {\n",
    "            if (e.second) f(*e.second);\n",
    "        }\n",
    "    }\n",
    "};\n",
    "\n",
    "} // namespace v2"
   ]
  },
  {
   "cell_type": "markdown",
   "metadata": {},
   "source": []
  },
  {
   "cell_type": "code",
   "execution_count": null,
   "metadata": {
    "slideshow": {
     "slide_type": "slide"
    }
   },
   "outputs": [],
   "source": [
    "{\n",
    "    \n",
    "    int a[] = { 0, 1, 2, 3 };\n",
    "    int* p = &a[0], * f = &a[2];\n",
    "    \n",
    "    std::rotate(p, f, f + 1);\n",
    "}"
   ]
  },
  {
   "cell_type": "code",
   "execution_count": null,
   "metadata": {
    "slideshow": {
     "slide_type": "slide"
    }
   },
   "outputs": [],
   "source": [
    "namespace adobe {\n",
    "template <class T>\n",
    "class forest {};\n",
    "} // namespace adobe\n",
    "\n",
    "namespace v1 {\n",
    "\n",
    "class view {\n",
    "    std::list<std::shared_ptr<view>> _children;\n",
    "    std::weak_ptr<view> _parent;\n",
    "    //...\n",
    "};\n",
    "\n",
    "view screen;\n",
    "\n",
    "} // namespace v1\n",
    "\n",
    "namespace v2 {\n",
    "\n",
    "class view {\n",
    "    //...\n",
    "};\n",
    "\n",
    "class adobe::forest<view> views;\n",
    "\n",
    "} // namespace v2"
   ]
  },
  {
   "cell_type": "code",
   "execution_count": 3,
   "metadata": {
    "slideshow": {
     "slide_type": "slide"
    }
   },
   "outputs": [
    {
     "name": "stderr",
     "output_type": "stream",
     "text": [
      "\u001b[1minput_line_9:1:8: \u001b[0m\u001b[0;1;31merror: \u001b[0m\u001b[1mredefinition of 'type'\u001b[0m\n",
      "struct type {\n",
      "\u001b[0;1;32m       ^\n",
      "\u001b[0m\u001b[1minput_line_8:1:8: \u001b[0m\u001b[0;1;30mnote: \u001b[0mprevious definition is here\u001b[0m\n",
      "struct type {\n",
      "\u001b[0;1;32m       ^\n",
      "\u001b[0m"
     ]
    },
    {
     "ename": "Interpreter Error",
     "evalue": "",
     "output_type": "error",
     "traceback": [
      "Interpreter Error: "
     ]
    }
   ],
   "source": [
    "struct type {\n",
    "    void member() { }\n",
    "};\n",
    "\n",
    "{\n",
    "    type* p = nullptr;\n",
    "    p->member();\n",
    "    \n",
    "    if (p) p->member();\n",
    "}"
   ]
  },
  {
   "cell_type": "code",
   "execution_count": null,
   "metadata": {
    "slideshow": {
     "slide_type": "slide"
    }
   },
   "outputs": [],
   "source": [
    "namespace {\n",
    "void f(type* p) {\n",
    "    //...\n",
    "    if (p) p->member();\n",
    "    //...\n",
    "}\n",
    "\n",
    "void f(type& p) {\n",
    "    //...\n",
    "    p.member();\n",
    "    //...\n",
    "}\n",
    "} // namespace"
   ]
  }
 ],
 "metadata": {
  "kernelspec": {
   "display_name": "C++17",
   "language": "C++17",
   "name": "xcpp17"
  },
  "language_info": {
   "codemirror_mode": "text/x-c++src",
   "file_extension": ".cpp",
   "mimetype": "text/x-c++src",
   "name": "c++",
   "version": "-std=c++17"
  }
 },
 "nbformat": 4,
 "nbformat_minor": 4
}
