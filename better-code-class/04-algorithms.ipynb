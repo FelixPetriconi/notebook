{
 "cells": [
  {
   "cell_type": "markdown",
   "metadata": {},
   "source": [
    "## Sequences\n",
    "- `[f, l)`\n",
    "- `[f, f + n) _n`\n",
    "- `[f, predicate()) _until`\n",
    "- `[f, is_sentinel())` NTBS\n",
    "- `[f, ...)` unbounded (dependent on something else)\n",
    "\n",
    "## Projection Functions\n",
    "\n",
    "## Position Based Algorithms\n",
    "  - All non-modifying sequence operations taking a predicate\n",
    "  \n",
    "## Strict Weak Order\n",
    "\n",
    "## Iterator hierarchy (and why you probably shouldn't care)\n",
    "\n",
    "## Common algorithms and their uses\n",
    "\n",
    "## New Algorithms (C++11 - 20)\n",
    "\n",
    "## Writing a custom algorithm\n",
    "- what to return\n",
    "\n",
    "## Composition vs. multi-pass\n",
    "\n",
    "## Generators vs input iterator\n",
    "\n",
    "## Output iterators vs sink functions\n",
    "\n"
   ]
  }
 ],
 "metadata": {
  "kernelspec": {
   "display_name": "C++17",
   "language": "C++17",
   "name": "xeus-cling-cpp17"
  },
  "language_info": {
   "codemirror_mode": "text/x-c++src",
   "file_extension": ".cpp",
   "mimetype": "text/x-c++src",
   "name": "c++",
   "version": "-std=c++17"
  }
 },
 "nbformat": 4,
 "nbformat_minor": 2
}
