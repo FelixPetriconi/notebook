{
 "cells": [
  {
   "cell_type": "markdown",
   "metadata": {
    "slideshow": {
     "slide_type": "slide"
    }
   },
   "source": [
    "## Prior Homework\n",
    "\n",
    "**Exercise:** Look at the API and implementation for ZString (or a commonly used class in your own project). What does a ZString represent? What would be a good set of basis operations? What operations would be better implemented externally? Are there operations that should be removed?"
   ]
  },
  {
   "cell_type": "markdown",
   "metadata": {
    "slideshow": {
     "slide_type": "slide"
    }
   },
   "source": [
    "```cpp\n",
    "\n",
    "class ZString {\n",
    "public:\n",
    "    static ZString RomanizationOf(int32 num, int16_t minWidth = 0);\n",
    "    static ZString FixedRomanizationOf(int32 value,\n",
    "                                       int16_t places,\n",
    "                                       bool trim,\n",
    "                                       bool isSigned = false);\n",
    "\n",
    "    [[ deprecated ]] int32 AsInteger() const; // Use HasInteger\n",
    "    bool AsBool() const;\n",
    "\n",
    "    typedef enum _t_Base { any = 0, decimal = 10, hex = 16, octal = 8 } Base;\n",
    "\n",
    "    bool HasInteger(int32& value,\n",
    "                    Base base = decimal,\n",
    "                    ZString* rest = NULL,\n",
    "                    bool skip_whitespace_for_rest = true) const;\n",
    "    bool HasFloat(nativeFloat& value,\n",
    "                  ZString* rest = NULL,\n",
    "                  bool skip_whitespace_for_rest = true,\n",
    "                  bool from_user_interface = true) const;\n",
    "\n",
    "    void TrimEllipsis();\n",
    "    void TrimBlanks();\n",
    "    void TrimWhiteSpace();\n",
    "\n",
    "    bool TruncateToLength(uint32_t maxLength);\n",
    "    ZString MakeSubString(uint32 startPos, uint32_t exactLength) const;\n",
    "\n",
    "#if INSIDE_PHOTOSHOP\n",
    "    enum TrimFromLocation { tflBeginning, tflMiddle, tflEnd };\n",
    "\n",
    "    bool TrimToWidth(const PSFont& font,\n",
    "                     nativeFloat maxWidth,\n",
    "                     TrimFromLocation trimFromLoc = tflEnd);\n",
    "\n",
    "    bool TrimToWidth(ZStringWidthProc& inWidthProc,\n",
    "                     nativeFloat maxWidth,\n",
    "                     TrimFromLocation trimFromLoc = tflEnd);\n",
    "\n",
    "    bool TrimLongNameToWidthFromMiddle(const PSFont& font, nativeFloat maxWidth);\n",
    "#endif\n",
    "    bool TruncateFilename(uint32_t maxLength = 31);\n",
    "\n",
    "    void RemoveAccelerators(bool removeParentheticalHotkeysOnWindows = false,\n",
    "                            bool removeDoubleAmpersandOnWindows = false);\n",
    "\n",
    "    void DoubleAmpersand();\n",
    "    bool StripAmpersand(void);\n",
    "\n",
    "    unsigned short GetAccelerator() const;\n",
    "\n",
    "    bool SplitZStringAtAmpersand(ZString& preZstr,\n",
    "                                 ZString& accelZstr,\n",
    "                                 ZString& postZstr) const;\n",
    "\n",
    "    unsigned short GetFirstCharacterForShortcut() const;\n",
    "\n",
    "    void ReplaceCharacters(const unsigned short* matchChars,\n",
    "                           const unsigned short* replacementChars,\n",
    "                           uint32 numChars);\n",
    "\n",
    "    void EscapeCharacters(const unsigned short* charsToEscape,\n",
    "                          const unsigned short* escapeChars,\n",
    "                          uint32 numChars);\n",
    "\n",
    "#if MSWindows\n",
    "    void RemoveDirectionalityMarkers();\n",
    "#endif\n",
    "    void SplitZString(ZString& prePart,\n",
    "                      ZString& postPart,\n",
    "                      const ZString& splitter) const;\n",
    "\n",
    "    void ReverseSplitZString(ZString& prePart,\n",
    "                             ZString& postPart,\n",
    "                             const ZString& splitter) const;\n",
    "\n",
    "    bool IsAllWhiteSpace() const;\n",
    "    bool ContainsWhiteSpace() const;\n",
    "    uint32 CountWhiteSpaceCharacters() const;\n",
    "    bool IsEmpty() const;\n",
    "\n",
    "    bool InitialMatch(const ZString& substring, const uint32 count) const;\n",
    "\n",
    "    bool StartsWith(const ZString& subString, bool caseSensitive = true) const;\n",
    "    bool EndsWith(const ZString& subString, bool caseSensitive = true) const;\n",
    "\n",
    "    bool Contains(const ZString& subString, bool caseSensitive = true) const;\n",
    "\n",
    "    bool ContainsNonRomanCharacters(CharsDistribution* charsDist = NULL) const;\n",
    "\n",
    "    void operator=(const ZString& x);\n",
    "    ZString& operator=(ZString&& x) noexcept;\n",
    "\n",
    "    ZString operator+(const ZString& x) const;\n",
    "    ZString& operator+=(const ZString& x);\n",
    "\n",
    "    bool operator==(const ZString& x) const;\n",
    "    bool operator!=(const ZString& x) const { return !(*this == x); }\n",
    "\n",
    "    bool operator<(const ZString&) const;\n",
    "\n",
    "    int32 CompareAgainst(const ZString& other,\n",
    "                         bool forEquivalence,\n",
    "                         bool localizedCompare,\n",
    "                         bool caseSensitive,\n",
    "                         bool diacriticalSensitive,\n",
    "                         bool digitsAsNumber = false) const;\n",
    "\n",
    "    void RemoveBadFileNameCharacters();\n",
    "\n",
    "    void PathToSegments(ZString& server,\n",
    "                        ZString& volume,\n",
    "                        ZString& driveLetter,\n",
    "                        std::vector<ZString>& segments,\n",
    "                        ZString& fileName) const;\n",
    "\n",
    "    static void SegmentsToPath(const ZString& server,\n",
    "                               const ZString& volume,\n",
    "                               const ZString& driveLetter,\n",
    "                               const std::vector<ZString>& segments,\n",
    "                               const ZString& fileName,\n",
    "                               ZString& fullPath);\n",
    "\n",
    "    void PathGetLastSegment(ZString& file) const;\n",
    "\n",
    "    void PathGetLastSegmentMacOrWin(ZString& file) const;\n",
    "\n",
    "    void FileNameExtension(ZString& base, ZString& extension) const;\n",
    "\n",
    "    void EnsureTrailingSeparator();\n",
    "    void RemoveTrailingSeparator();\n",
    "\n",
    "    void RemoveFileOrPathSegment();\n",
    "\n",
    "    ZString GetProperPathSplitter(void) const;\n",
    "\n",
    "    bool SearchString(const photoshop::utf16_t* wSubStr,\n",
    "                      uint32 startPos,\n",
    "                      uint32& foundPostion) const;\n",
    "\n",
    "    void Delete(uint32 position, uint32 length);\n",
    "\n",
    "    void InsertUnicodeCString(const photoshop::utf16_t* wInsStr, uint32 position);\n",
    "\n",
    "    void AppendPathSegment(const ZString&);\n",
    "\n",
    "    void SplitPostScriptFontName(ZString& familyPart, ZString& stylePart) const;\n",
    "\n",
    "    void MapCommonSymbolsToLowASCIIEquivalents();\n",
    "\n",
    "    ZString();\n",
    "    ZString(const ZString& x);\n",
    "    ZString(ZString&& x);\n",
    "\n",
    "    ZString(const char cKey[],\n",
    "            const int32 maxBufferSize = -1,\n",
    "            ZStringDictionary* dictionary = TheOneTrueDefaultDictionary());\n",
    "\n",
    "#if Macintosh\n",
    "#if INSIDE_PHOTOSHOP\n",
    "    ZString(ConstHFSUniStr255Param key,\n",
    "            ZStringDictionary* dictionary = TheOneTrueDefaultDictionary());\n",
    "#endif // INSIDE_PHOTOSHOP\n",
    "#endif // Macintosh\n",
    "\n",
    "    ZString(const unsigned short* ucKey,\n",
    "            const int32 maxBufferSize = -1,\n",
    "            ZStringDictionary* dictionary = TheOneTrueDefaultDictionary());\n",
    "\n",
    "    explicit ZString(const unsigned char pKey[],\n",
    "                     const uint32 maxLength = 255,\n",
    "                     ZStringDictionary* dictionary = TheOneTrueDefaultDictionary());\n",
    "\n",
    "    explicit ZString(const wchar_t* utf32Key,\n",
    "                     const int32 maxBufferSize = -1,\n",
    "                     ZStringDictionary* dictionary = TheOneTrueDefaultDictionary());\n",
    "\n",
    "#if INSIDE_PHOTOSHOP\n",
    "    explicit ZString(const std::string& asl_string);\n",
    "    explicit ZString(const adobe::name_t& asl_name);\n",
    "#endif // INSIDE_PHOTOSHOP\n",
    "\n",
    "#if INSIDE_PHOTOSHOP\n",
    "    explicit ZString(const CStr31& key,\n",
    "                     ZStringDictionary* dictionary = TheOneTrueDefaultDictionary());\n",
    "    explicit ZString(const CStr32& key,\n",
    "                     ZStringDictionary* dictionary = TheOneTrueDefaultDictionary());\n",
    "    explicit ZString(const CStr63& key,\n",
    "                     ZStringDictionary* dictionary = TheOneTrueDefaultDictionary());\n",
    "    explicit ZString(const CStr255& key,\n",
    "                     ZStringDictionary* dictionary = TheOneTrueDefaultDictionary());\n",
    "#endif\n",
    "\n",
    "    ~ZString();\n",
    "\n",
    "    static ZString Make(\n",
    "        const char cKey[],\n",
    "        const int32 maxBufferSize = -1,\n",
    "        ZStringDictionary* dictionary = TheOneTrueDefaultDictionary());\n",
    "\n",
    "    void InitPathSeparators();\n",
    "\n",
    "    void Clear(); // Set to the empty string.\n",
    "\n",
    "    bool WillReplace(const uint32 index) const;\n",
    "\n",
    "    void Replace(const uint32 index,\n",
    "                 const ZString& replacement,\n",
    "                 const bool useAlternativeDelimiter = false);\n",
    "\n",
    "    void ReplaceWithAlternatives(const uint32 index,\n",
    "                                 const ZString& replacement,\n",
    "                                 const bool useAlternativeDelimiter = false);\n",
    "\n",
    "#if Macintosh\n",
    "protected:\n",
    "    friend class ACFStringRef;\n",
    "    operator CFStringRef() const;\n",
    "\n",
    "public:\n",
    "    NSString* AsAutoreleasedNSString() const;\n",
    "#endif\n",
    "\n",
    "public:\n",
    "    bool AllCharactersInLocalCodePage() const;\n",
    "\n",
    "    uint32 LengthAsUnicodeCString() const;\n",
    "    void AsUnicodeCString(unsigned short ucstr[],\n",
    "                          int32 ucstrBufferSize,\n",
    "                          bool warnAboutBufferOverflow = true) const;\n",
    "\n",
    "#if INSIDE_PHOTOSHOP\n",
    "    uint32 LengthAsUniStr255() const;\n",
    "\n",
    "    void AsUniStr255(HFSUniStr255* uniStr,\n",
    "                     bool warnAboutBufferOverflow = true) const;\n",
    "#endif\n",
    "\n",
    "    uint32 LengthAsWideCharCString() const;\n",
    "\n",
    "    void AsWideCharCString(photoshop::utf16_t wccstr[],\n",
    "                           int32 wccstrBufferSize,\n",
    "                           bool warnAboutBufferOverflow = true) const;\n",
    "\n",
    "    uint32 LengthAsCString() const;\n",
    "    \n",
    "    void AsCString(char cstr[],\n",
    "                   int32 cstrBufferSize,\n",
    "                   bool warnAboutBufferOverflow = true) const;\n",
    "\n",
    "    uint32 LengthAsUTF8String() const;\n",
    "    void AsUTF8String(unsigned char utf8_cstr[],\n",
    "                      int32 utf8BufferSize,\n",
    "                      bool warnAboutBufferOverflow = true) const;\n",
    "\n",
    "    photoshop::utf16_string as_wstring() const;\n",
    "\n",
    "#if INSIDE_PHOTOSHOP\n",
    "    std::string as_utf8_string() const;\n",
    "\n",
    "    operator std::string() const { return as_utf8_string(); }\n",
    "#endif\n",
    "    bool HasEnglishPartOfKey(std::string* englishPart = nullptr) const;\n",
    "\n",
    "    uint32 LengthAsLowAsciiCString() const;\n",
    "\n",
    "    void AsLowAsciiCString(char cstr[],\n",
    "                           int32 cstrBufferSize,\n",
    "                           bool warnAboutBufferOverflow = true) const;\n",
    "\n",
    "    uint32 LengthAsCStringForMacScriptCodePage(const short macScript) const;\n",
    "\n",
    "    void AsCStringForMacScriptCodePage(const short macScript,\n",
    "                                       char cstr[],\n",
    "                                       int32 cstrBufferSize,\n",
    "                                       bool warnAboutBufferOverflow = true) const;\n",
    "\n",
    "#if MSWindows\n",
    "    uint32 LengthAsCStringForWindowsCodePage(\n",
    "        const short windowsCodePage,\n",
    "        bool retryWithDefaultCodePage = false,\n",
    "        bool useSpecialFunkySubstitutions = false) const;\n",
    "\n",
    "    void AsCStringForWindowsCodePage(\n",
    "        const short windowsCodePage,\n",
    "        char cstr[],\n",
    "        int32 cstrBufferSize,\n",
    "        bool warnAboutBufferOverflow = true,\n",
    "        bool retryWithDefaultCodePage = false,\n",
    "        bool useSpecialFunkySubstitutions = false) const;\n",
    "\n",
    "#endif\n",
    "\n",
    "    uint32 LengthAsPascalString() const; // NOTE:  may return greater than 255\n",
    "\n",
    "    void AsPascalString(unsigned char pstr[],\n",
    "                        unsigned char maxLength,\n",
    "                        bool warnAboutBufferOverflow = true) const;\n",
    "\n",
    "#if INSIDE_PHOTOSHOP\n",
    "    void AsPascalString(CStr31& pstr, bool warnAboutBufferOverflow = true) const;\n",
    "    void AsPascalString(CStr32& pstr, bool warnAboutBufferOverflow = true) const;\n",
    "    void AsPascalString(CStr63& pstr, bool warnAboutBufferOverflow = true) const;\n",
    "    void AsPascalString(CStr255& pstr, bool warnAboutBufferOverflow = true) const;\n",
    "#endif\n",
    "\n",
    "    uint32 LengthAsPascalStringForMacScriptCodePage(const short macScript) const;\n",
    "\n",
    "    void AsPascalStringForMacScriptCodePage(\n",
    "        const short macScript,\n",
    "        unsigned char pstr[],\n",
    "        unsigned char maxLength,\n",
    "        bool warnAboutBufferOverflow = true) const;\n",
    "\n",
    "#if INSIDE_PHOTOSHOP\n",
    "    void AsPascalStringForMacScriptCodePage(\n",
    "        const short macScript,\n",
    "        CStr31& pstr,\n",
    "        bool warnAboutBufferOverflow = true) const;\n",
    "    void AsPascalStringForMacScriptCodePage(\n",
    "        const short macScript,\n",
    "        CStr32& pstr,\n",
    "        bool warnAboutBufferOverflow = true) const;\n",
    "    void AsPascalStringForMacScriptCodePage(\n",
    "        const short macScript,\n",
    "        CStr63& pstr,\n",
    "        bool warnAboutBufferOverflow = true) const;\n",
    "    void AsPascalStringForMacScriptCodePage(\n",
    "        const short macScript,\n",
    "        CStr255& pstr,\n",
    "        bool warnAboutBufferOverflow = true) const;\n",
    "\n",
    "#if MSWindows\n",
    "\n",
    "    uint32 LengthAsPascalStringForWindowsCodePage(\n",
    "        const short windowsCodePage) const;\n",
    "\n",
    "    void AsPascalStringForWindowsCodePage(\n",
    "        const short windowsCodePage,\n",
    "        unsigned char pstr[],\n",
    "        unsigned char maxLength,\n",
    "        bool warnAboutBufferOverflow = true) const;\n",
    "\n",
    "    void AsPascalStringForWindowsCodePage(\n",
    "        const short windowsCodePage,\n",
    "        CStr31& pstr,\n",
    "        bool warnAboutBufferOverflow = true) const;\n",
    "    void AsPascalStringForWindowsCodePage(\n",
    "        const short windowsCodePage,\n",
    "        CStr32& pstr,\n",
    "        bool warnAboutBufferOverflow = true) const;\n",
    "    void AsPascalStringForWindowsCodePage(\n",
    "        const short windowsCodePage,\n",
    "        CStr63& pstr,\n",
    "        bool warnAboutBufferOverflow = true) const;\n",
    "    void AsPascalStringForWindowsCodePage(\n",
    "        const short windowsCodePage,\n",
    "        CStr255& pstr,\n",
    "        bool warnAboutBufferOverflow = true) const;\n",
    "\n",
    "#endif\n",
    "#endif\n",
    "\n",
    "    void GetSegments(std::vector<ZString>& segments,\n",
    "                     const unsigned short delimiter) const;\n",
    "\n",
    "    void GetSegments(std::vector<ZString>& segments,\n",
    "                     const unsigned short* delimiters,\n",
    "                     uint32 numDelimiters) const;\n",
    "\n",
    "    void SetFromSegments(const std::vector<ZString>& segments,\n",
    "                         const unsigned short delimiter);\n",
    "\n",
    "    uint32 CountLines() const;\n",
    "\n",
    "#if qZStringLogging\n",
    "    static void DumpHashProfiles(void);\n",
    "#endif\n",
    "\n",
    "#if qAssertions\n",
    "    bool IsPrivate() const { return fIsPrivate; }\n",
    "    void SetPrivate(bool isPrivate) { fIsPrivate = isPrivate; }\n",
    "#endif\n",
    "    enum FindFromLocation { tflFromBeginning, tflFromEnd };\n",
    "\n",
    "    bool FindFirstNonMatchingCharacterPosition(\n",
    "        const unsigned short* matchChars,\n",
    "        uint32 numChars,\n",
    "        uint32& position,\n",
    "        FindFromLocation findFromLoc = tflFromBeginning) const;\n",
    "\n",
    "    ZString RemoveCharactersFromBeginningAndEnd(const unsigned short* charsToRemove,\n",
    "                                                uint32 numChars) const;\n",
    "\n",
    "#if qAssertions && INSIDE_PHOTOSHOP\n",
    "protected:\n",
    "    friend class TShowAnyZStringDialog;\n",
    "    ZString ZStringFromZStringKey();\n",
    "    static ZString ZStringFromDictionaryEntryKey(ZStringDictionaryEntry* entry);\n",
    "#endif // qAssertions && INSIDE_PHOTOSHOP\n",
    "};\n",
    "```"
   ]
  },
  {
   "cell_type": "markdown",
   "metadata": {
    "slideshow": {
     "slide_type": "slide"
    }
   },
   "source": [
    "## Sequences\n",
    "\n",
    "- For a sequence of _n_ elements their are _n + 1_ positions"
   ]
  },
  {
   "cell_type": "markdown",
   "metadata": {
    "slideshow": {
     "slide_type": "fragment"
    }
   },
   "source": [
    "- How to represent a range of elements?"
   ]
  },
  {
   "cell_type": "markdown",
   "metadata": {
    "slideshow": {
     "slide_type": "fragment"
    }
   },
   "source": [
    "- Problem with closed interval `[f, l]`?"
   ]
  },
  {
   "cell_type": "markdown",
   "metadata": {
    "slideshow": {
     "slide_type": "fragment"
    }
   },
   "source": [
    "- Problem with open interval `(f, l)`?"
   ]
  },
  {
   "cell_type": "markdown",
   "metadata": {
    "slideshow": {
     "slide_type": "fragment"
    }
   },
   "source": [
    "- Half-open intervals have significant advantages `[f, l)`\n",
    "    - By strong convention we are open on the right"
   ]
  },
  {
   "cell_type": "markdown",
   "metadata": {},
   "source": [
    "- Think of the positions as the lines between the elements"
   ]
  },
  {
   "cell_type": "markdown",
   "metadata": {
    "slideshow": {
     "slide_type": "slide"
    }
   },
   "source": [
    "- Limitations of half-open intevals\n",
    "    - If there is not _next element_ then a half open interval cannot express a single element\n",
    "    - If there is a finite number of elements, the last (or first) cannot be included"
   ]
  },
  {
   "cell_type": "markdown",
   "metadata": {
    "slideshow": {
     "slide_type": "slide"
    }
   },
   "source": [
    "- There are different common ways to represent a sequence"
   ]
  },
  {
   "cell_type": "markdown",
   "metadata": {
    "slideshow": {
     "slide_type": "fragment"
    }
   },
   "source": [
    "- `[f, l)`"
   ]
  },
  {
   "cell_type": "markdown",
   "metadata": {
    "slideshow": {
     "slide_type": "fragment"
    }
   },
   "source": [
    "- `[f, f + n) _n`"
   ]
  },
  {
   "cell_type": "markdown",
   "metadata": {
    "slideshow": {
     "slide_type": "fragment"
    }
   },
   "source": [
    "- `[f, predicate()) _until`"
   ]
  },
  {
   "cell_type": "markdown",
   "metadata": {
    "slideshow": {
     "slide_type": "fragment"
    }
   },
   "source": [
    "- `[f, is_sentinel())` NTBS"
   ]
  },
  {
   "cell_type": "markdown",
   "metadata": {
    "slideshow": {
     "slide_type": "fragment"
    }
   },
   "source": [
    "- `[f, ...)` unbounded (dependent on something else)"
   ]
  },
  {
   "cell_type": "markdown",
   "metadata": {
    "slideshow": {
     "slide_type": "fragment"
    }
   },
   "source": [
    "- For a variable `a` in C and C++, it is guaranteed that `&a + 1` yields a valid, but not dereferenceable, pointer\n",
    "    - `[&a, &a + 1)` is a valid range"
   ]
  },
  {
   "cell_type": "markdown",
   "metadata": {
    "slideshow": {
     "slide_type": "slide"
    }
   },
   "source": [
    "## Common algorithms and their uses\n",
    "\n",
    "- A great resource for finding standard algorithms:\n",
    "\n",
    "https://en.cppreference.com/w/cpp/algorithm"
   ]
  },
  {
   "cell_type": "markdown",
   "metadata": {
    "slideshow": {
     "slide_type": "slide"
    }
   },
   "source": [
    "### Non-modifying sequence operations\n",
    "\n",
    "- `for_each`\n",
    "- `find`"
   ]
  },
  {
   "cell_type": "markdown",
   "metadata": {
    "slideshow": {
     "slide_type": "slide"
    }
   },
   "source": [
    "### Modifying sequence operations\n",
    "\n",
    "- `copy`\n",
    "- `move`\n",
    "- `fill`\n",
    "- `transform`\n",
    "- `generate`"
   ]
  },
  {
   "cell_type": "markdown",
   "metadata": {
    "slideshow": {
     "slide_type": "slide"
    }
   },
   "source": [
    "### Sorting operations\n",
    "\n",
    "- `sort`"
   ]
  },
  {
   "cell_type": "markdown",
   "metadata": {
    "slideshow": {
     "slide_type": "fragment"
    }
   },
   "source": [
    "- Comparison function must be a strict-weak ordering"
   ]
  },
  {
   "cell_type": "markdown",
   "metadata": {
    "slideshow": {
     "slide_type": "slide"
    }
   },
   "source": [
    "### Binary search operations\n",
    "\n",
    "- `lower_bound`"
   ]
  },
  {
   "cell_type": "markdown",
   "metadata": {
    "slideshow": {
     "slide_type": "slide"
    }
   },
   "source": [
    "**Exercise:** Review list of standard algorithms.\n",
    "\n",
    "**Exercise:** Find a _raw loop_ in the ZString implementation. Claim it on the wiki https://git.corp.adobe.com/better-code/class/wiki/class-04-registration. Improve the code, create a pull-request, and assign me as the reviewer. The PR should include a http://quick-bench.com/ benchmark of the relevant code for comparison."
   ]
  },
  {
   "cell_type": "markdown",
   "metadata": {
    "slideshow": {
     "slide_type": "skip"
    }
   },
   "source": [
    "<!--- stopped here --->\n",
    "\n",
    "## More advanced algorithms\n",
    "\n",
    "## New Algorithms (C++11 - 20)\n",
    "\n",
    "## Projection Functions\n",
    "\n",
    "## Position Based Algorithms\n",
    "  - All non-modifying sequence operations taking a predicate\n",
    "  \n",
    "## Strict Weak Order\n",
    "\n",
    "## Iterator hierarchy (and why you probably shouldn't care)\n",
    "\n",
    "## Writing a custom algorithm\n",
    "- what to return\n",
    "\n",
    "## Composition vs. multi-pass\n",
    "\n",
    "## Generators vs input iterator\n",
    "\n",
    "## Output iterators vs sink functions"
   ]
  },
  {
   "cell_type": "code",
   "execution_count": 1,
   "metadata": {},
   "outputs": [],
   "source": []
  }
 ],
 "metadata": {
  "kernelspec": {
   "display_name": "C++17",
   "language": "C++17",
   "name": "xcpp17"
  },
  "language_info": {
   "codemirror_mode": "text/x-c++src",
   "file_extension": ".cpp",
   "mimetype": "text/x-c++src",
   "name": "c++",
   "version": "-std=c++17"
  }
 },
 "nbformat": 4,
 "nbformat_minor": 4
}
