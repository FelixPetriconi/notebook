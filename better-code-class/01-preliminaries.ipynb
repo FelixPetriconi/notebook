{
 "cells": [
  {
   "cell_type": "code",
   "execution_count": 1,
   "metadata": {
    "slideshow": {
     "slide_type": "skip"
    }
   },
   "outputs": [],
   "source": [
    "#include \"../common.hpp\""
   ]
  },
  {
   "cell_type": "markdown",
   "metadata": {
    "slideshow": {
     "slide_type": "slide"
    }
   },
   "source": [
    "# Preface\n",
    "\n",
    "- What is _better code_?"
   ]
  },
  {
   "cell_type": "markdown",
   "metadata": {
    "slideshow": {
     "slide_type": "fragment"
    }
   },
   "source": [
    "- What is _good code_?"
   ]
  },
  {
   "cell_type": "markdown",
   "metadata": {
    "slideshow": {
     "slide_type": "fragment"
    }
   },
   "source": [
    "- Goals:\n",
    "    - Not prescriptive\n",
    "    - Not always achievable"
   ]
  },
  {
   "cell_type": "markdown",
   "metadata": {
    "slideshow": {
     "slide_type": "fragment"
    }
   },
   "source": [
    "- Not limited to C++\n",
    "- Language is a constraint"
   ]
  },
  {
   "cell_type": "markdown",
   "metadata": {
    "slideshow": {
     "slide_type": "slide"
    }
   },
   "source": [
    "## Types\n",
    "\n",
    "**Goal: Write _complete_, _expressive_, and _efficient_ types**"
   ]
  },
  {
   "cell_type": "markdown",
   "metadata": {
    "slideshow": {
     "slide_type": "fragment"
    }
   },
   "source": [
    "> A _type_ is a pattern for storing and modifying objects.\n",
    "\n",
    "- In C++ _type_ is a mechanism for implementing types, but can also be used for other purposes\n",
    "- We use _type_ to mean _type_ as well as the mechanism for implementing types in C++ interchangeably"
   ]
  },
  {
   "cell_type": "markdown",
   "metadata": {
    "slideshow": {
     "slide_type": "slide"
    }
   },
   "source": [
    "> An _object_ is a representation of an entity as a value in memory.\n",
    "\n",
    "- An object is a _physical_ entity, and as such is imbued with a set of properties\n",
    "    - size\n",
    "    - address"
   ]
  },
  {
   "cell_type": "markdown",
   "metadata": {
    "slideshow": {
     "slide_type": "fragment"
    }
   },
   "source": [
    "- All objects have of common, _basis_, operations\n",
    "    - constructible\n",
    "    - destructible\n",
    "    - copyable<sup>1</sup>\n",
    "    - equality comparable<sup>1</sup>\n",
    "\n",
    "- <sup>1</sup>Well defined, but may be problematic to implement"
   ]
  },
  {
   "cell_type": "markdown",
   "metadata": {
    "slideshow": {
     "slide_type": "slide"
    }
   },
   "source": [
    "> The _computational basis_ for a type is a finite set of procedures that enable the construction of any other procedure on the type\n",
    "\n",
    "- A type which does not implement a _computational basis_ is _incomplete_"
   ]
  },
  {
   "cell_type": "markdown",
   "metadata": {
    "slideshow": {
     "slide_type": "slide"
    }
   },
   "source": [
    "## Regular\n",
    "\n",
    "> There is a set of procedures whose inclusion in the computational basis of a type lets us place objects in data structures and use algorithms to _copy objects_ from one data structure to another. We call types having such a basis _regular_, since their use guarantees regularity of behavior and, therefore, interoperability.\n",
    "\n",
    "- The copy operation creates a new object, equal to, and logically disjoint from the original\n",
    "\n",
    "\\begin{align}\n",
    "b & \\to a \\implies a = b. && \\text{(copies are equal)}\n",
    "\\end{align}"
   ]
  },
  {
   "cell_type": "markdown",
   "metadata": {
    "slideshow": {
     "slide_type": "slide"
    }
   },
   "source": [
    "> Two objects are _equal_ iff they represent the same entity\n",
    "\n",
    "- From this definition we can derive the following axioms for equality:\n",
    "\n",
    "\\begin{align}\n",
    "(\\forall a) a & = a. && \\text{(Reflexivity)} \\\\\n",
    "(\\forall a, b) a & = b \\implies b = a. && \\text{(Symmetry)} \\\\\n",
    "(\\forall a, b, c) a & = b \\wedge b = c \\implies a = c. && \\text {(Transitivity)} \\\\\n",
    "\\end{align}"
   ]
  },
  {
   "cell_type": "markdown",
   "metadata": {
    "slideshow": {
     "slide_type": "slide"
    }
   },
   "source": [
    "- Copies are logically disjoint\n",
    "\n",
    "For all $op$, which modifies its operand, and $b = c$:\n",
    "\\begin{align}\n",
    "b & \\to a, op(a) \\implies a \\neq b \\wedge b = c.  && \\text{(copies are disjoint)}\n",
    "\\end{align}\n",
    "\n",
    "- An _algebraic structure_ is a set of connected axioms\n",
    "    - as with copy and assignment\n",
    "- Algebraic structures define the basic semantics of operations"
   ]
  },
  {
   "cell_type": "markdown",
   "metadata": {
    "slideshow": {
     "slide_type": "slide"
    }
   },
   "source": [
    "### Implementing Copy, Assignment, and Equality\n",
    "\n",
    "- Copy-constructor is used to implement the copy operation\n",
    "    - **The compiler is fee to assume the semantics of the copy constructor and may elide the copy**\n",
    "- To copy an object, simply copy all the _members_ or _parts_\n",
    "- If not defined, the compiler will provide a member-wise copy-constructor\n",
    "- The copy-constructor can be declared `= default` to ensure it is present"
   ]
  },
  {
   "cell_type": "code",
   "execution_count": 2,
   "metadata": {
    "slideshow": {
     "slide_type": "fragment"
    }
   },
   "outputs": [],
   "source": [
    "class my_type {\n",
    "    // members\n",
    "public:\n",
    "    my_type(const my_type&) = default;\n",
    "};"
   ]
  },
  {
   "cell_type": "code",
   "execution_count": 3,
   "metadata": {
    "slideshow": {
     "slide_type": "skip"
    }
   },
   "outputs": [],
   "source": [
    ".undo"
   ]
  },
  {
   "cell_type": "markdown",
   "metadata": {
    "slideshow": {
     "slide_type": "slide"
    }
   },
   "source": [
    "- Similarly, the compiler will provide a member-wise copy-assignment operator"
   ]
  },
  {
   "cell_type": "code",
   "execution_count": 4,
   "metadata": {
    "slideshow": {
     "slide_type": "fragment"
    }
   },
   "outputs": [],
   "source": [
    "class my_type {\n",
    "    // members\n",
    "public:\n",
    "    my_type(const my_type&) = default;\n",
    "    my_type& operator=(const my_type&) = default;\n",
    "};"
   ]
  },
  {
   "cell_type": "code",
   "execution_count": 5,
   "metadata": {
    "slideshow": {
     "slide_type": "skip"
    }
   },
   "outputs": [],
   "source": [
    ".undo"
   ]
  },
  {
   "cell_type": "markdown",
   "metadata": {
    "slideshow": {
     "slide_type": "slide"
    }
   },
   "source": [
    "- If the representation of an object is unique, then equality can be implemented as member-wise equality\n",
    "- Unfortunately, the compiler does not implement member-wise equality (until C++20)\n",
    "- Use `std::tie()` as a simple mechanism to implement equality\n",
    "\n",
    "- Do not declare `operator==()` as a member operator\n",
    "- A `friend` declaration may be used to implement directly in the class definition.\n",
    "    - `inline` is implied."
   ]
  },
  {
   "cell_type": "code",
   "execution_count": 6,
   "metadata": {
    "slideshow": {
     "slide_type": "slide"
    }
   },
   "outputs": [],
   "source": [
    "class my_type {\n",
    "    int _a = 0;\n",
    "    int _b = 42;\n",
    "    \n",
    "    auto underlying() const { return std::tie(_a, _b); }\n",
    "public:\n",
    "    my_type(const my_type&) = default;\n",
    "    my_type& operator=(const my_type&) = default;\n",
    "    \n",
    "    friend bool operator==(const my_type& a, const my_type& b) {\n",
    "        return a.underlying() == b.underlying();\n",
    "    }\n",
    "    friend bool operator!=(const my_type& a, const my_type& b) {\n",
    "        return !(a == b);\n",
    "    }\n",
    "};"
   ]
  },
  {
   "cell_type": "code",
   "execution_count": 7,
   "metadata": {
    "slideshow": {
     "slide_type": "skip"
    }
   },
   "outputs": [],
   "source": [
    ".undo"
   ]
  },
  {
   "cell_type": "markdown",
   "metadata": {
    "slideshow": {
     "slide_type": "slide"
    }
   },
   "source": [
    "#### Semantics and Complexity\n",
    "\n",
    "- We associate semantics with operation names to ascribe meaning to software\n",
    "    - Operations with the same semantics should have the same name\n",
    "- The complexity of an operation is another important part of the operation semantics\n",
    "    - By associating complexity with names we make code easier to reason about\n",
    "- The _expected_ complexity of copy, assignment, and equality<sup>2</sup> is proportional to the area of the object\n",
    "    - If these operations cannot be implemented with the expected complexity, they should be given different names\n",
    "\n",
    "\n",
    "- <sup>2</sup> worst case, if equal. For most unequal objects the expected complexity is a small, constant."
   ]
  },
  {
   "cell_type": "markdown",
   "metadata": {
    "slideshow": {
     "slide_type": "slide"
    }
   },
   "source": [
    "- Naming is language\n",
    "    - Often semantics are expected from patterns of common use\n",
    "    - When naming functions consider expectations and that few will read any specification"
   ]
  },
  {
   "cell_type": "markdown",
   "metadata": {
    "slideshow": {
     "slide_type": "slide"
    }
   },
   "source": [
    "### Equationally Complete\n",
    "\n",
    "- A type for which equality can be implemented as a non-friend (non-member) function is said to be _equationally complete_\n",
    "- A type which is both equationally and computationally complete can be copied without the use of the copy-constructor or assignment operator\n",
    "    - Equationally complete implies all the parts are readable\n",
    "    - Computationally complete implies all the values are obtainable"
   ]
  },
  {
   "cell_type": "markdown",
   "metadata": {
    "slideshow": {
     "slide_type": "notes"
    }
   },
   "source": [
    "**SKIP** Next cell is skipped for workshop"
   ]
  },
  {
   "cell_type": "markdown",
   "metadata": {
    "slideshow": {
     "slide_type": "skip"
    },
    "tags": [
     "exercise"
    ]
   },
   "source": [
    "**Exercise:** Find a type in your project which is not equationally complete and make it so."
   ]
  },
  {
   "cell_type": "markdown",
   "metadata": {
    "slideshow": {
     "slide_type": "slide"
    }
   },
   "source": [
    "## Relationships\n",
    "\n",
    "- Relationships are unavoidable with objects in a space\n",
    "    - The address of an object is the relationship between the object and the space within which it resides\n",
    "    \n",
    "- For any relationship there is a predicate form\n",
    "    - Dick and Jane are married (relationship)\n",
    "    - Are Dick and Jane married? (predicate)\n",
    "\n",
    "- We normally think of objects as representing _things_ or _nouns_\n",
    "    - An object may also represent a _relationship_\n",
    "    - The `next` pointer in a linked list represents the relationship between one element and its successor"
   ]
  },
  {
   "cell_type": "markdown",
   "metadata": {
    "slideshow": {
     "slide_type": "slide"
    }
   },
   "source": [
    "- An object which represents a relationship is a _witness_ to the relationship\n",
    "- When copying a witness, or an object in the witnessed relationship, there are three possible outcomes\n",
    "    - The relationship is maintained\n",
    "    - The relationship is severed\n",
    "    - The witness is invalidated "
   ]
  },
  {
   "cell_type": "markdown",
   "metadata": {
    "slideshow": {
     "slide_type": "slide"
    }
   },
   "source": [
    "### Whole-Part Relationship\n",
    "\n",
    "- A common and useful relationship is the _whole-part_ relationship\n",
    "- An object is a whole, composed of its parts\n",
    "- A part is _local_ if it is stored directly in the object"
   ]
  },
  {
   "cell_type": "code",
   "execution_count": 8,
   "metadata": {
    "slideshow": {
     "slide_type": "fragment"
    }
   },
   "outputs": [],
   "source": [
    "class my_type {\n",
    "    std::string _str; // local part\n",
    "    int _val; // local part\n",
    "    //...\n",
    "};"
   ]
  },
  {
   "cell_type": "code",
   "execution_count": 9,
   "metadata": {
    "slideshow": {
     "slide_type": "skip"
    }
   },
   "outputs": [],
   "source": [
    ".undo"
   ]
  },
  {
   "cell_type": "markdown",
   "metadata": {
    "slideshow": {
     "slide_type": "slide"
    }
   },
   "source": [
    "- A part is remote if it is stored elsewhere (such as on the heap)\n",
    "    - Variable size data (polymorphic or dynamic arrays)\n",
    "    - Trade-off in performance of copy vs. _move_\n",
    "    - Sharing of immutable data\n",
    "    - Separation of interface from implementation dependencies (PImpl)"
   ]
  },
  {
   "cell_type": "markdown",
   "metadata": {
    "slideshow": {
     "slide_type": "fragment"
    }
   },
   "source": [
    "- Remote parts are expensive\n",
    "    - You can copy roughly 10K of data in the time it takes to make a small heap allocation (< 1K)\n",
    "    - And 5K of data in the time it takes to make a large heap allocation\n",
    "    - Each access is a potential cache miss\n",
    "    - Most objects are never or rarely copied\n",
    "        - We'll see why soon"
   ]
  },
  {
   "cell_type": "markdown",
   "metadata": {
    "slideshow": {
     "slide_type": "slide"
    }
   },
   "source": [
    "- Prefer local parts when appropriate\n",
    "    - There are _many_ unnecessary heap allocations in Photoshop (and most products) \n",
    "- But also be aware that techniques like PImpl can greatly improve build time and reduce header file pollution\n",
    "    - In C++20, modules may make this less necessary"
   ]
  },
  {
   "cell_type": "markdown",
   "metadata": {
    "slideshow": {
     "slide_type": "slide"
    }
   },
   "source": [
    "- Here is a common implementation of PImpl\n",
    "    - We'll look at this more later"
   ]
  },
  {
   "cell_type": "code",
   "execution_count": 10,
   "metadata": {
    "slideshow": {
     "slide_type": "fragment"
    }
   },
   "outputs": [],
   "source": [
    "// my_type.hpp\n",
    "\n",
    "namespace library {\n",
    "\n",
    "class my_type {\n",
    "    struct implementation;             // forward declaration\n",
    "    implementation* _remote = nullptr; // remote part\n",
    "public:\n",
    "    // declare the basis operations - implementation is in a .cpp file\n",
    "    my_type(int x, int y);\n",
    "    ~my_type();\n",
    "    my_type(const my_type&);\n",
    "    my_type& operator=(const my_type&);\n",
    "};\n",
    "\n",
    "} // namespace library"
   ]
  },
  {
   "cell_type": "code",
   "execution_count": 11,
   "metadata": {
    "slideshow": {
     "slide_type": "slide"
    }
   },
   "outputs": [],
   "source": [
    "// my_type.cpp\n",
    "\n",
    "// #include \"my_type.hpp\" // first include\n",
    "\n",
    "// other includes\n",
    "\n",
    "namespace library {\n",
    "\n",
    "struct my_type::implementation {\n",
    "    int _x;\n",
    "    int _y;\n",
    "    //...\n",
    "};\n",
    "\n",
    "my_type::my_type(int x, int y) : _remote{new implementation{x, y}} {}\n",
    "my_type::~my_type() { delete _remote; }\n",
    "my_type::my_type(const my_type& a) : _remote{new implementation{*a._remote}} {}\n",
    "my_type& my_type::operator=(const my_type& a) {\n",
    "    *_remote = *a._remote;\n",
    "    return *this;\n",
    "}\n",
    "    \n",
    "} // namespace library"
   ]
  },
  {
   "cell_type": "code",
   "execution_count": 12,
   "metadata": {},
   "outputs": [],
   "source": [
    ".undo 2"
   ]
  },
  {
   "cell_type": "markdown",
   "metadata": {
    "slideshow": {
     "slide_type": "slide"
    }
   },
   "source": [
    "- A major downside of using the PImpl pattern is the amount of forwarding boiler plate that must be written."
   ]
  },
  {
   "cell_type": "markdown",
   "metadata": {
    "slideshow": {
     "slide_type": "slide"
    }
   },
   "source": [
    "### Move\n",
    "- The _move_ operation transfers the value of one object to a new or existing object\n",
    "    \n",
    "\\begin{align}\n",
    "a = b, a & \\rightharpoonup c \\implies c = b. && \\text{(move is value preserving)}\n",
    "\\end{align}"
   ]
  },
  {
   "cell_type": "markdown",
   "metadata": {
    "slideshow": {
     "slide_type": "fragment"
    }
   },
   "source": [
    "- This says nothing about the moved from value\n",
    "    - In this way, move is a _weaker_ form of copy\n",
    "- The expectation is that moving a value does not require additional resources, beyond the local storage, for an object\n",
    "    - In this way, move is a _stronger_ form of copy\n",
    "- Move is a distinct operation as part of an _efficient_ basis"
   ]
  },
  {
   "cell_type": "markdown",
   "metadata": {
    "slideshow": {
     "slide_type": "slide"
    }
   },
   "source": [
    "> A basis is _efficient_ if and only if any procedure implemented using it is as efficient as an equivalent procedure written in terms of an alternative basis."
   ]
  },
  {
   "cell_type": "markdown",
   "metadata": {
    "slideshow": {
     "slide_type": "fragment"
    }
   },
   "source": [
    "- In C++ we implement the move operation in terms of rvalue references.\n",
    "    - An rvalue is a temporary value\n",
    "    - Any witnesses to remote parts can be maintained without copying the remote part"
   ]
  },
  {
   "cell_type": "code",
   "execution_count": 13,
   "metadata": {
    "slideshow": {
     "slide_type": "slide"
    }
   },
   "outputs": [],
   "source": [
    "namespace library {\n",
    "\n",
    "class my_type {\n",
    "    struct implementation;             // forward declaration\n",
    "    implementation* _remote = nullptr; // remote part\n",
    "public:\n",
    "    // declare the basis operations - implementation is in a .cpp file\n",
    "    my_type(int x, int y);\n",
    "    ~my_type();\n",
    "    my_type(const my_type&);\n",
    "    my_type& operator=(const my_type&);\n",
    "\n",
    "    my_type(my_type&& a) noexcept : _remote{a._remote} { a._remote = nullptr; }\n",
    "    my_type& operator=(my_type&& a) noexcept;\n",
    "};\n",
    "\n",
    "} // namespace library"
   ]
  },
  {
   "cell_type": "code",
   "execution_count": 14,
   "metadata": {
    "slideshow": {
     "slide_type": "slide"
    }
   },
   "outputs": [],
   "source": [
    "namespace library {\n",
    "\n",
    "struct my_type::implementation {\n",
    "    int _x;\n",
    "    int _y;\n",
    "    //...\n",
    "};\n",
    "\n",
    "my_type::my_type(int x, int y) : _remote{new implementation{x, y}} {}\n",
    "my_type::~my_type() { delete _remote; }\n",
    "my_type::my_type(const my_type& a) : _remote{new implementation{*a._remote}} {}\n",
    "my_type& my_type::operator=(const my_type& a) {\n",
    "    *_remote = *a._remote;\n",
    "    return *this;\n",
    "}\n",
    "my_type& my_type::operator=(my_type&& a) noexcept {\n",
    "    delete _remote;\n",
    "    _remote = a._remote;\n",
    "    a._remote = nullptr;\n",
    "    return *this;\n",
    "}\n",
    "\n",
    "} // namespace library"
   ]
  },
  {
   "cell_type": "markdown",
   "metadata": {
    "slideshow": {
     "slide_type": "slide"
    }
   },
   "source": [
    "- The requirements in the C++ standard are that we must leave the moved from object _\"valid but unspecified\"_ state\n",
    "    - This is a contradiction\n",
    "    - Because the value is _unspecified_ the object no longer has _meaning_ and not all operations are valid\n",
    "- Some operations _must_ be valid on the otherwise unspecified state\n",
    "    - destruction\n",
    "    - copy and move assigning to the object (to establish a new value)\n",
    "    - self move assignment (for self-swap)"
   ]
  },
  {
   "cell_type": "markdown",
   "metadata": {
    "slideshow": {
     "slide_type": "slide"
    },
    "tags": [
     "exercise"
    ]
   },
   "source": [
    "**Exercise:** `my_type` contains a bug. Find the bug. Fix it using at least two different approaches. What are the trade-offs?"
   ]
  }
 ],
 "metadata": {
  "celltoolbar": "Slideshow",
  "kernelspec": {
   "display_name": "C++17",
   "language": "C++17",
   "name": "xcpp17"
  },
  "language_info": {
   "codemirror_mode": "text/x-c++src",
   "file_extension": ".cpp",
   "mimetype": "text/x-c++src",
   "name": "c++",
   "version": "17"
  },
  "toc": {
   "nav_menu": {
    "height": "665px",
    "width": "354px"
   },
   "number_sections": true,
   "sideBar": true,
   "skip_h1_title": false,
   "toc_cell": true,
   "toc_position": {
    "height": "1125px",
    "left": "0px",
    "right": "1364px",
    "top": "110px",
    "width": "212px"
   },
   "toc_section_display": "block",
   "toc_window_display": true
  },
  "toc-showcode": false,
  "toc-showmarkdowntxt": false,
  "toc-showtags": true
 },
 "nbformat": 4,
 "nbformat_minor": 4
}
