{
 "cells": [
  {
   "cell_type": "code",
   "execution_count": 1,
   "metadata": {
    "slideshow": {
     "slide_type": "skip"
    }
   },
   "outputs": [],
   "source": [
    "using namespace std;"
   ]
  },
  {
   "cell_type": "markdown",
   "metadata": {
    "slideshow": {
     "slide_type": "slide"
    }
   },
   "source": [
    "## Online Resources\n",
    "\n",
    "### Information:\n",
    "- [r/cpp](https://www.reddit.com/r/cpp/): Reddit forum to find news and blogs\n",
    "- [Cpplang Slack](https://cpplang.now.sh/): Get your questions answered fast\n",
    "- [CppCast](http://cppcast.com/): The only podcast dedicated to C++\n",
    "- [isocpp](https://isocpp.org/): The standard committee and recent news\n",
    "- [stackoverflow](https://stackoverflow.com/questions/tagged/c%2B%2B): Get your questions answered well\n",
    "\n",
    "### Reference:\n",
    "- [cppreference](http://en.cppreference.com/w/): The best online reference for C++\n",
    "- [working draft](http://www.open-std.org/jtc1/sc22/wg21/docs/papers/2017/n4700.pdf): The definitive answer\n",
    "\n",
    "### Tools:\n",
    "- [Compiler Explorer (godbolt)](https://godbolt.org/): See what the code generates\n",
    "- [Coliru](http://coliru.stacked-crooked.com/): Just run some code\n"
   ]
  },
  {
   "cell_type": "markdown",
   "metadata": {
    "slideshow": {
     "slide_type": "slide"
    }
   },
   "source": [
    "## Other Tools\n",
    "\n",
    "- [clang-tidy](http://clang.llvm.org/extra/clang-tidy/): Diagnose and fix your code\n",
    "- [include-what-you-use](https://include-what-you-use.org/): Help to prune the include lists and add direct dependencies\n",
    "- [cling](https://root.cern.ch/cling): Interpreted C++\n",
    "- [jupyter](https://jupyter.org/): Data science notebook, can work with cling\n",
    "- Xcode includes clang static analyzer and sanitizers"
   ]
  },
  {
   "cell_type": "markdown",
   "metadata": {
    "slideshow": {
     "slide_type": "fragment"
    }
   },
   "source": [
    "Moving to `cmake` would simplify the process of using these tools."
   ]
  }
 ],
 "metadata": {
  "celltoolbar": "Slideshow",
  "kernelspec": {
   "display_name": "xeus C++14",
   "language": "",
   "name": "xeus-cling-cpp14"
  },
  "language_info": {
   "codemirror_mode": "text/x-c++src",
   "file_extension": ".cpp",
   "mimetype": "text/x-c++src",
   "name": "c++",
   "version": ""
  }
 },
 "nbformat": 4,
 "nbformat_minor": 2
}
