{
 "cells": [
  {
   "cell_type": "code",
   "execution_count": 1,
   "metadata": {
    "execution": {
     "iopub.execute_input": "2020-12-22T07:26:49.466023Z",
     "iopub.status.busy": "2020-12-22T07:26:49.465389Z",
     "iopub.status.idle": "2020-12-22T07:26:49.487891Z",
     "shell.execute_reply": "2020-12-22T07:26:49.487364Z"
    },
    "slideshow": {
     "slide_type": "skip"
    }
   },
   "outputs": [],
   "source": [
    "#include \"../common.hpp\"\n",
    "\n",
    "namespace bcc { }\n",
    "using namespace bcc;"
   ]
  },
  {
   "cell_type": "markdown",
   "metadata": {
    "slideshow": {
     "slide_type": "slide"
    }
   },
   "source": [
    "# Types\n",
    "\n",
    "**Goal: Write _complete_, _expressive_, and _efficient_ types**"
   ]
  },
  {
   "cell_type": "markdown",
   "metadata": {
    "slideshow": {
     "slide_type": "fragment"
    }
   },
   "source": [
    "> A _type_ is a pattern for storing and modifying objects.\n",
    "\n",
    "- In C++, `struct`, `class`, and `enum` are mechanisms for implementing types, but can also be used for other purposes\n",
    "- We use _type_ to mean _type_ as well as the mechanisms for implementing types in C++ interchangeably"
   ]
  },
  {
   "cell_type": "markdown",
   "metadata": {
    "slideshow": {
     "slide_type": "slide"
    }
   },
   "source": [
    "> An _object_ is a representation of an entity as a value in memory.\n",
    "\n",
    "- An object is a _physical_ entity, and as such is imbued with a set of properties\n",
    "    - size\n",
    "    - address"
   ]
  },
  {
   "cell_type": "markdown",
   "metadata": {
    "slideshow": {
     "slide_type": "fragment"
    }
   },
   "source": [
    "- All objects have of common, _basis_, operations\n",
    "    - constructible\n",
    "    - destructible\n",
    "    - copyable<sup>1</sup>\n",
    "    - equality comparable<sup>1</sup>\n",
    "\n",
    "- <sup>1</sup>Well defined, but may be problematic to implement"
   ]
  },
  {
   "cell_type": "markdown",
   "metadata": {
    "slideshow": {
     "slide_type": "slide"
    }
   },
   "source": [
    "> The _computational basis_ for a type is a finite set of procedures that enable the construction of any other procedure on the type\n",
    "\n",
    "- A type which implements a _computational basis_ is _computationally complete_"
   ]
  },
  {
   "cell_type": "markdown",
   "metadata": {
    "slideshow": {
     "slide_type": "slide"
    }
   },
   "source": [
    "## Regular\n",
    "\n",
    "> There is a set of procedures whose inclusion in the computational basis of a type lets us place objects in data structures and use algorithms to _copy objects_ from one data structure to another. We call types having such a basis _regular_, since their use guarantees regularity of behavior and, therefore, interoperability.\n",
    "\n",
    "- The copy operation creates a new object, equal to, and logically disjoint from the original\n",
    "\n",
    "\\begin{align}\n",
    "b & \\to a \\implies a = b. && \\text{(copies are equal)}\n",
    "\\end{align}"
   ]
  },
  {
   "cell_type": "markdown",
   "metadata": {
    "slideshow": {
     "slide_type": "slide"
    }
   },
   "source": [
    "> Two objects are _equal_ iff they represent the same entity\n",
    "\n",
    "- From this definition we can derive the following axioms for equality:\n",
    "\n",
    "\\begin{align}\n",
    "(\\forall a) a & = a. && \\text{(Reflexivity)} \\\\\n",
    "(\\forall a, b) a & = b \\implies b = a. && \\text{(Symmetry)} \\\\\n",
    "(\\forall a, b, c) a & = b \\wedge b = c \\implies a = c. && \\text {(Transitivity)} \\\\\n",
    "\\end{align}"
   ]
  },
  {
   "cell_type": "markdown",
   "metadata": {
    "slideshow": {
     "slide_type": "slide"
    }
   },
   "source": [
    "- Copies are logically disjoint\n",
    "\n",
    "For all $op$, which modifies its operand, and $b = c$:\n",
    "\\begin{align}\n",
    "b & \\to a, op(a) \\implies a \\neq b \\wedge b = c.  && \\text{(copies are disjoint)}\n",
    "\\end{align}\n",
    "\n",
    "- An _algebraic structure_ is a set of connected axioms\n",
    "    - as with copy and assignment\n",
    "- Algebraic structures define the basic semantics of operations"
   ]
  },
  {
   "cell_type": "markdown",
   "metadata": {
    "slideshow": {
     "slide_type": "slide"
    }
   },
   "source": [
    "### Implementing Copy, Assignment, and Equality\n",
    "\n",
    "- Copy-constructor is used to implement the copy operation\n",
    "    - **The compiler is free to assume the semantics of the copy constructor and may elide the copy**\n",
    "- To copy an object, simply copy all the _members_ or _parts_\n",
    "- If not defined, the compiler will provide a member-wise copy-constructor\n",
    "- The copy-constructor can be declared `= default` to ensure it is present"
   ]
  },
  {
   "cell_type": "code",
   "execution_count": 2,
   "metadata": {
    "execution": {
     "iopub.execute_input": "2020-12-22T07:26:47.115707Z",
     "iopub.status.busy": "2020-12-22T07:26:47.115115Z",
     "iopub.status.idle": "2020-12-22T07:26:47.116348Z",
     "shell.execute_reply": "2020-12-22T07:26:47.116937Z"
    },
    "slideshow": {
     "slide_type": "fragment"
    }
   },
   "outputs": [],
   "source": [
    "class my_type {\n",
    "    // members\n",
    "public:\n",
    "    my_type(const my_type&) = default;\n",
    "};"
   ]
  },
  {
   "cell_type": "code",
   "execution_count": 3,
   "metadata": {
    "execution": {
     "iopub.execute_input": "2020-12-22T07:26:47.119384Z",
     "iopub.status.busy": "2020-12-22T07:26:47.118672Z",
     "iopub.status.idle": "2020-12-22T07:26:47.120167Z",
     "shell.execute_reply": "2020-12-22T07:26:47.120771Z"
    },
    "slideshow": {
     "slide_type": "skip"
    }
   },
   "outputs": [],
   "source": [
    ".undo"
   ]
  },
  {
   "cell_type": "markdown",
   "metadata": {
    "slideshow": {
     "slide_type": "slide"
    }
   },
   "source": [
    "- Similarly, the compiler will provide a member-wise copy-assignment operator"
   ]
  },
  {
   "cell_type": "code",
   "execution_count": 4,
   "metadata": {
    "execution": {
     "iopub.execute_input": "2020-12-22T07:26:47.123061Z",
     "iopub.status.busy": "2020-12-22T07:26:47.122548Z",
     "iopub.status.idle": "2020-12-22T07:26:47.123506Z",
     "shell.execute_reply": "2020-12-22T07:26:47.124090Z"
    },
    "slideshow": {
     "slide_type": "fragment"
    }
   },
   "outputs": [],
   "source": [
    "class my_type {\n",
    "    // members\n",
    "public:\n",
    "    my_type(const my_type&) = default;\n",
    "    my_type& operator=(const my_type&) = default;\n",
    "};"
   ]
  },
  {
   "cell_type": "code",
   "execution_count": 5,
   "metadata": {
    "execution": {
     "iopub.execute_input": "2020-12-22T07:26:47.126042Z",
     "iopub.status.busy": "2020-12-22T07:26:47.125615Z",
     "iopub.status.idle": "2020-12-22T07:26:47.126499Z",
     "shell.execute_reply": "2020-12-22T07:26:47.126951Z"
    },
    "slideshow": {
     "slide_type": "skip"
    }
   },
   "outputs": [],
   "source": [
    ".undo"
   ]
  },
  {
   "cell_type": "markdown",
   "metadata": {
    "slideshow": {
     "slide_type": "slide"
    }
   },
   "source": [
    "- If the representation of an object is unique, then equality can be implemented as member-wise equality\n",
    "- Unfortunately, the compiler does not implement member-wise equality (until C++20)\n",
    "- Use `std::tie()` as a simple mechanism to implement equality\n",
    "\n",
    "- Do not declare `operator==()` as a member operator\n",
    "- A `friend` declaration may be used to implement directly in the class definition.\n",
    "    - `inline` is implied."
   ]
  },
  {
   "cell_type": "code",
   "execution_count": 6,
   "metadata": {
    "execution": {
     "iopub.execute_input": "2020-12-22T07:26:47.129254Z",
     "iopub.status.busy": "2020-12-22T07:26:47.128738Z",
     "iopub.status.idle": "2020-12-22T07:26:47.135476Z",
     "shell.execute_reply": "2020-12-22T07:26:47.134952Z"
    },
    "slideshow": {
     "slide_type": "slide"
    }
   },
   "outputs": [],
   "source": [
    "class my_type {\n",
    "    int _a = 0;\n",
    "    int _b = 42;\n",
    "    \n",
    "    auto underlying() const { return std::tie(_a, _b); }\n",
    "public:\n",
    "    my_type(const my_type&) = default;\n",
    "    my_type& operator=(const my_type&) = default;\n",
    "    \n",
    "    friend bool operator==(const my_type& a, const my_type& b) {\n",
    "        return a.underlying() == b.underlying();\n",
    "    }\n",
    "    friend bool operator!=(const my_type& a, const my_type& b) {\n",
    "        return !(a == b);\n",
    "    }\n",
    "};"
   ]
  },
  {
   "cell_type": "code",
   "execution_count": 7,
   "metadata": {
    "execution": {
     "iopub.execute_input": "2020-12-22T07:26:47.137950Z",
     "iopub.status.busy": "2020-12-22T07:26:47.137270Z",
     "iopub.status.idle": "2020-12-22T07:26:47.144237Z",
     "shell.execute_reply": "2020-12-22T07:26:47.143382Z"
    },
    "slideshow": {
     "slide_type": "skip"
    }
   },
   "outputs": [],
   "source": [
    ".undo"
   ]
  },
  {
   "cell_type": "markdown",
   "metadata": {
    "slideshow": {
     "slide_type": "slide"
    }
   },
   "source": [
    "### Semantics and Complexity\n",
    "\n",
    "- We associate semantics with operation names to ascribe meaning to software\n",
    "    - Operations with the same semantics should have the same name\n",
    "- The complexity of an operation is another important part of the operation semantics\n",
    "    - By associating complexity with names we make code easier to reason about\n",
    "- The _expected_ complexity of copy, assignment, and equality<sup>2</sup> is proportional to the area of the object\n",
    "    - If these operations cannot be implemented with the expected complexity, they should be given different names\n",
    "\n",
    "\n",
    "<sup>2</sup> worst case, if equal."
   ]
  },
  {
   "cell_type": "markdown",
   "metadata": {
    "slideshow": {
     "slide_type": "slide"
    }
   },
   "source": [
    "- Naming is language\n",
    "    - Often semantics are expected from patterns of common use\n",
    "    - When naming functions consider expectations and that few will read any specification"
   ]
  },
  {
   "cell_type": "markdown",
   "metadata": {
    "slideshow": {
     "slide_type": "slide"
    }
   },
   "source": [
    "### Equationally Complete\n",
    "\n",
    "- A type for which equality can be implemented as a non-friend (non-member) function is said to be _equationally complete_\n",
    "- A type which is both equationally and computationally complete can be copied without the use of the copy-constructor or assignment operator\n",
    "    - Equationally complete implies all the parts are readable\n",
    "    - Computationally complete implies all the values are obtainable"
   ]
  },
  {
   "cell_type": "markdown",
   "metadata": {
    "slideshow": {
     "slide_type": "notes"
    }
   },
   "source": [
    "**SKIP** Next cell is skipped for workshop"
   ]
  },
  {
   "cell_type": "markdown",
   "metadata": {
    "slideshow": {
     "slide_type": "skip"
    },
    "tags": [
     "exercise"
    ]
   },
   "source": [
    "**Exercise:** Find a type in your project which is not equationally complete and make it so."
   ]
  },
  {
   "cell_type": "markdown",
   "metadata": {
    "slideshow": {
     "slide_type": "slide"
    }
   },
   "source": [
    "## Relationships\n",
    "\n",
    "- Relationships are unavoidable with objects in a space\n",
    "    - The address of an object is the relationship between the object and the space within which it resides\n",
    "    \n",
    "- For any relationship there is a predicate form\n",
    "    - Dick and Jane are married (relationship)\n",
    "    - Are Dick and Jane married? (predicate)\n",
    "\n",
    "- We normally think of objects as representing _things_ or _nouns_\n",
    "    - An object may also represent a _relationship_\n",
    "    - The `next` pointer in a linked list represents the relationship between one element and its successor"
   ]
  },
  {
   "cell_type": "markdown",
   "metadata": {
    "slideshow": {
     "slide_type": "slide"
    }
   },
   "source": [
    "- An object which represents a relationship is a _witness_ to the relationship\n",
    "- When copying a witness there are three possible outcomes\n",
    "    - The relationship is maintained\n",
    "    - The relationship is severed\n",
    "    - The witness is invalidated "
   ]
  },
  {
   "cell_type": "markdown",
   "metadata": {
    "slideshow": {
     "slide_type": "fragment"
    }
   },
   "source": [
    "- Other mutating operations on any object in the relationship have the same possible outcomes"
   ]
  },
  {
   "cell_type": "markdown",
   "metadata": {
    "slideshow": {
     "slide_type": "notes"
    }
   },
   "source": [
    "Give two example - the wedding band example\n",
    "An offset into an array example"
   ]
  },
  {
   "cell_type": "markdown",
   "metadata": {
    "slideshow": {
     "slide_type": "slide"
    }
   },
   "source": [
    "### Whole-Part Relationship\n",
    "\n",
    "- A common and useful relationship is the _whole-part_ relationship\n",
    "- An object is a whole, composed of its parts\n",
    "- A part is _local_ if it is stored directly in the object"
   ]
  },
  {
   "cell_type": "code",
   "execution_count": 8,
   "metadata": {
    "execution": {
     "iopub.execute_input": "2020-12-22T07:26:47.147688Z",
     "iopub.status.busy": "2020-12-22T07:26:47.147109Z",
     "iopub.status.idle": "2020-12-22T07:26:47.148133Z",
     "shell.execute_reply": "2020-12-22T07:26:47.148648Z"
    },
    "slideshow": {
     "slide_type": "fragment"
    }
   },
   "outputs": [],
   "source": [
    "class my_type {\n",
    "    std::string _str; // local part\n",
    "    int _val; // local part\n",
    "    //...\n",
    "};"
   ]
  },
  {
   "cell_type": "code",
   "execution_count": 9,
   "metadata": {
    "execution": {
     "iopub.execute_input": "2020-12-22T07:26:47.150737Z",
     "iopub.status.busy": "2020-12-22T07:26:47.150305Z",
     "iopub.status.idle": "2020-12-22T07:26:47.151290Z",
     "shell.execute_reply": "2020-12-22T07:26:47.151724Z"
    },
    "slideshow": {
     "slide_type": "skip"
    }
   },
   "outputs": [],
   "source": [
    ".undo"
   ]
  },
  {
   "cell_type": "markdown",
   "metadata": {
    "slideshow": {
     "slide_type": "slide"
    }
   },
   "source": [
    "- A part is remote if it is stored elsewhere (such as on the heap)\n",
    "    - Variable size data (polymorphic or dynamic arrays)\n",
    "    - Trade-off in performance of copy vs. _move_\n",
    "    - Sharing of immutable data\n",
    "    - Separation of interface from implementation dependencies (PImpl)"
   ]
  },
  {
   "cell_type": "markdown",
   "metadata": {
    "slideshow": {
     "slide_type": "fragment"
    }
   },
   "source": [
    "- Remote parts are expensive\n",
    "    - You can copy roughly 10K of data in the time it takes to make a small heap allocation (< 1K)\n",
    "    - And 5K of data in the time it takes to make a large heap allocation\n",
    "    - Each access is a potential cache miss\n",
    "    - Most objects are never or rarely copied\n",
    "        - We'll see why soon"
   ]
  },
  {
   "cell_type": "markdown",
   "metadata": {
    "slideshow": {
     "slide_type": "slide"
    }
   },
   "source": [
    "- Prefer local parts when appropriate\n",
    "    - There are _many_ unnecessary heap allocations in Photoshop (and most products) \n",
    "- But also be aware that techniques like PImpl can greatly improve build time and reduce header file pollution\n",
    "    - In C++20, modules may make this less necessary"
   ]
  },
  {
   "cell_type": "markdown",
   "metadata": {
    "slideshow": {
     "slide_type": "slide"
    }
   },
   "source": [
    "- Here is a common implementation of PImpl\n",
    "    - We'll look at this more later"
   ]
  },
  {
   "cell_type": "code",
   "execution_count": 10,
   "metadata": {
    "execution": {
     "iopub.execute_input": "2020-12-22T07:26:47.154348Z",
     "iopub.status.busy": "2020-12-22T07:26:47.153785Z",
     "iopub.status.idle": "2020-12-22T07:26:47.154774Z",
     "shell.execute_reply": "2020-12-22T07:26:47.155295Z"
    },
    "slideshow": {
     "slide_type": "fragment"
    }
   },
   "outputs": [],
   "source": [
    "// my_type.hpp\n",
    "\n",
    "namespace library {\n",
    "\n",
    "class my_type {\n",
    "    struct implementation;             // forward declaration\n",
    "    implementation* _remote = nullptr; // remote part\n",
    "public:\n",
    "    // declare the basis operations - implementation is in a .cpp file\n",
    "    my_type(int x, int y);\n",
    "    ~my_type();\n",
    "    my_type(const my_type&);\n",
    "    my_type& operator=(const my_type&);\n",
    "};\n",
    "\n",
    "} // namespace library"
   ]
  },
  {
   "cell_type": "code",
   "execution_count": 11,
   "metadata": {
    "execution": {
     "iopub.execute_input": "2020-12-22T07:26:47.157798Z",
     "iopub.status.busy": "2020-12-22T07:26:47.157277Z",
     "iopub.status.idle": "2020-12-22T07:26:47.159623Z",
     "shell.execute_reply": "2020-12-22T07:26:47.159158Z"
    },
    "slideshow": {
     "slide_type": "slide"
    }
   },
   "outputs": [],
   "source": [
    "// my_type.cpp\n",
    "\n",
    "// #include \"my_type.hpp\" // first include\n",
    "\n",
    "// other includes\n",
    "\n",
    "namespace library {\n",
    "\n",
    "struct my_type::implementation {\n",
    "    int _x;\n",
    "    int _y;\n",
    "    //...\n",
    "};\n",
    "\n",
    "my_type::my_type(int x, int y) : _remote{new implementation{x, y}} {}\n",
    "my_type::~my_type() { delete _remote; }\n",
    "my_type::my_type(const my_type& a) : _remote{new implementation{*a._remote}} {}\n",
    "my_type& my_type::operator=(const my_type& a) {\n",
    "    *_remote = *a._remote;\n",
    "    return *this;\n",
    "}\n",
    "    \n",
    "} // namespace library"
   ]
  },
  {
   "cell_type": "code",
   "execution_count": 12,
   "metadata": {
    "execution": {
     "iopub.execute_input": "2020-12-22T07:26:47.162256Z",
     "iopub.status.busy": "2020-12-22T07:26:47.161442Z",
     "iopub.status.idle": "2020-12-22T07:26:47.162682Z",
     "shell.execute_reply": "2020-12-22T07:26:47.163122Z"
    }
   },
   "outputs": [],
   "source": [
    ".undo 2"
   ]
  },
  {
   "cell_type": "markdown",
   "metadata": {
    "slideshow": {
     "slide_type": "slide"
    }
   },
   "source": [
    "- A major downside of using the PImpl pattern is the amount of forwarding boiler plate that must be written."
   ]
  },
  {
   "cell_type": "markdown",
   "metadata": {
    "slideshow": {
     "slide_type": "slide"
    }
   },
   "source": [
    "### Move\n",
    "- The _move_ operation transfers the value of one object to a new or existing object\n",
    "    \n",
    "\\begin{align}\n",
    "a = b, a & \\rightharpoonup c \\implies c = b. && \\text{(move is value preserving)}\n",
    "\\end{align}"
   ]
  },
  {
   "cell_type": "markdown",
   "metadata": {
    "slideshow": {
     "slide_type": "fragment"
    }
   },
   "source": [
    "- This says nothing about the moved from value\n",
    "    - In this way, move is a _weaker_ form of copy\n",
    "- The expectation is that moving a value does not require additional resources, beyond the local storage, for an object\n",
    "    - In this way, move is a _stronger_ form of copy\n",
    "- Move is a distinct operation as part of an _efficient_ basis"
   ]
  },
  {
   "cell_type": "markdown",
   "metadata": {
    "slideshow": {
     "slide_type": "slide"
    }
   },
   "source": [
    "> A basis is _efficient_ if and only if any procedure implemented using it is as efficient as an equivalent procedure written in terms of an alternative basis."
   ]
  },
  {
   "cell_type": "markdown",
   "metadata": {
    "slideshow": {
     "slide_type": "fragment"
    }
   },
   "source": [
    "- In C++ we implement the move operation in terms of rvalue references.\n",
    "    - An rvalue is a temporary value\n",
    "    - Any witnesses to remote parts can be maintained without copying the remote part"
   ]
  },
  {
   "cell_type": "code",
   "execution_count": 13,
   "metadata": {
    "execution": {
     "iopub.execute_input": "2020-12-22T07:26:47.165673Z",
     "iopub.status.busy": "2020-12-22T07:26:47.165062Z",
     "iopub.status.idle": "2020-12-22T07:26:47.166112Z",
     "shell.execute_reply": "2020-12-22T07:26:47.166612Z"
    },
    "slideshow": {
     "slide_type": "slide"
    }
   },
   "outputs": [],
   "source": [
    "namespace library {\n",
    "\n",
    "class my_type {\n",
    "    struct implementation;             // forward declaration\n",
    "    implementation* _remote = nullptr; // remote part\n",
    "public:\n",
    "    // declare the basis operations - implementation is in a .cpp file\n",
    "    my_type(int x, int y);\n",
    "    ~my_type();\n",
    "    my_type(const my_type&);\n",
    "    my_type& operator=(const my_type&);\n",
    "\n",
    "    my_type(my_type&& a) noexcept : _remote{a._remote} { a._remote = nullptr; }\n",
    "    my_type& operator=(my_type&& a) noexcept;\n",
    "};\n",
    "\n",
    "} // namespace library"
   ]
  },
  {
   "cell_type": "code",
   "execution_count": 14,
   "metadata": {
    "execution": {
     "iopub.execute_input": "2020-12-22T07:26:47.169071Z",
     "iopub.status.busy": "2020-12-22T07:26:47.168351Z",
     "iopub.status.idle": "2020-12-22T07:26:47.171479Z",
     "shell.execute_reply": "2020-12-22T07:26:47.170769Z"
    },
    "slideshow": {
     "slide_type": "slide"
    }
   },
   "outputs": [],
   "source": [
    "namespace library {\n",
    "\n",
    "struct my_type::implementation {\n",
    "    int _x;\n",
    "    int _y;\n",
    "    //...\n",
    "};\n",
    "\n",
    "my_type::my_type(int x, int y) : _remote{new implementation{x, y}} {}\n",
    "my_type::~my_type() { delete _remote; }\n",
    "my_type::my_type(const my_type& a) : _remote{new implementation{*a._remote}} {}\n",
    "my_type& my_type::operator=(const my_type& a) {\n",
    "    *_remote = *a._remote;\n",
    "    return *this;\n",
    "}\n",
    "my_type& my_type::operator=(my_type&& a) noexcept {\n",
    "    delete _remote;\n",
    "    _remote = a._remote;\n",
    "    a._remote = nullptr;\n",
    "    return *this;\n",
    "}\n",
    "\n",
    "} // namespace library"
   ]
  },
  {
   "cell_type": "markdown",
   "metadata": {
    "slideshow": {
     "slide_type": "slide"
    }
   },
   "source": [
    "- The requirements in the C++ standard are that we must leave the moved from object _\"valid but unspecified\"_ state\n",
    "    - This is a contradiction\n",
    "    - Because the value is _unspecified_ the object no longer has _meaning_ and not all operations are valid\n",
    "- Some operations _must_ be valid on the otherwise unspecified state\n",
    "    - destruction\n",
    "    - copy and move assigning to the object (to establish a new value)\n",
    "    - self move assignment (for self-swap)"
   ]
  },
  {
   "cell_type": "markdown",
   "metadata": {
    "slideshow": {
     "slide_type": "slide"
    },
    "tags": [
     "exercise"
    ]
   },
   "source": [
    "**Exercise:** `my_type` contains a bug. Find the bug. Fix it using at least two different approaches. What are the trade-offs?"
   ]
  },
  {
   "cell_type": "markdown",
   "metadata": {
    "slideshow": {
     "slide_type": "slide"
    }
   },
   "source": [
    "# Types\n",
    "\n",
    "**Goal: Write _complete_, _expressive_, and _efficient_ types**"
   ]
  },
  {
   "cell_type": "markdown",
   "metadata": {
    "slideshow": {
     "slide_type": "slide"
    }
   },
   "source": [
    "## Exercises"
   ]
  },
  {
   "cell_type": "markdown",
   "metadata": {
    "slideshow": {
     "slide_type": "skip"
    }
   },
   "source": [
    "**SKIP** Following cells are skipped for workshop"
   ]
  },
  {
   "cell_type": "markdown",
   "metadata": {
    "slideshow": {
     "slide_type": "skip"
    },
    "tags": [
     "exercise"
    ]
   },
   "source": [
    "**Exercise:** Find a type in your project which is not equationally complete and make it so."
   ]
  },
  {
   "cell_type": "markdown",
   "metadata": {
    "slideshow": {
     "slide_type": "skip"
    }
   },
   "source": [
    "- Why?\n",
    "    - An equationally complete type is easier to test\n",
    "        - If you cannot read a property, how do you validate it?\n",
    "    - Considering how to make a type equationally complete forces you to think through the properties of the type"
   ]
  },
  {
   "cell_type": "markdown",
   "metadata": {
    "slideshow": {
     "slide_type": "skip"
    }
   },
   "source": [
    "- Considerations\n",
    "    - Only properties with associated constraints (invariants) and relationships require accessors member functions\n",
    "    - Providing direct data access is preferred to boiler plate _getters and setters_\n",
    "    - The Objective-C naming conventions can make an API more clear\n",
    "        - Reading a property is simply the name of the property, i.e. `property()`\n",
    "        - Writing a property is done with `set_property()`"
   ]
  },
  {
   "cell_type": "markdown",
   "metadata": {
    "slideshow": {
     "slide_type": "skip"
    }
   },
   "source": [
    "```cpp\n",
    "v.resize(10);\n",
    "auto s = v.size();\n",
    "\n",
    "v.reserve(10);\n",
    "auto s = v.capacity();\n",
    "```\n",
    "vs.\n",
    "```cpp\n",
    "v.set_size(10);\n",
    "auto s = v.size();\n",
    "\n",
    "v.set_capacity(10);\n",
    "auto s = v.capacity();\n",
    "```"
   ]
  },
  {
   "cell_type": "markdown",
   "metadata": {
    "slideshow": {
     "slide_type": "slide"
    },
    "tags": [
     "exercise"
    ]
   },
   "source": [
    "**Exercise:** `my_type` contains a bug. Find the bug. Fix it using at least two different\n",
    "approaches. What are the trade-offs?"
   ]
  },
  {
   "cell_type": "code",
   "execution_count": 2,
   "metadata": {
    "execution": {
     "iopub.execute_input": "2020-12-22T07:26:49.490272Z",
     "iopub.status.busy": "2020-12-22T07:26:49.489763Z",
     "iopub.status.idle": "2020-12-22T07:26:49.491099Z",
     "shell.execute_reply": "2020-12-22T07:26:49.491642Z"
    },
    "slideshow": {
     "slide_type": "slide"
    }
   },
   "outputs": [],
   "source": [
    "namespace library {\n",
    "\n",
    "class my_type {\n",
    "    struct implementation;             // forward declaration\n",
    "    implementation* _remote = nullptr; // remote part\n",
    "public:\n",
    "    // declare the basis operations - implementation is in a .cpp file\n",
    "    my_type(int x, int y);\n",
    "    ~my_type();\n",
    "    my_type(const my_type&);\n",
    "    my_type& operator=(const my_type&);\n",
    "\n",
    "    my_type(my_type&& a) noexcept : _remote{a._remote} { a._remote = nullptr; }\n",
    "    my_type& operator=(my_type&& a) noexcept;\n",
    "};\n",
    "\n",
    "} // namespace library"
   ]
  },
  {
   "cell_type": "code",
   "execution_count": 3,
   "metadata": {
    "execution": {
     "iopub.execute_input": "2020-12-22T07:26:49.493995Z",
     "iopub.status.busy": "2020-12-22T07:26:49.493187Z",
     "iopub.status.idle": "2020-12-22T07:26:49.496107Z",
     "shell.execute_reply": "2020-12-22T07:26:49.495577Z"
    },
    "slideshow": {
     "slide_type": "slide"
    }
   },
   "outputs": [],
   "source": [
    "namespace library {\n",
    "\n",
    "struct my_type::implementation {\n",
    "    int _x;\n",
    "    int _y;\n",
    "    //...\n",
    "};\n",
    "\n",
    "my_type::my_type(int x, int y) : _remote{new implementation{x, y}} {}\n",
    "my_type::~my_type() { delete _remote; }\n",
    "my_type::my_type(const my_type& a) : _remote{new implementation{*a._remote}} {}\n",
    "my_type& my_type::operator=(const my_type& a) {\n",
    "    *_remote = *a._remote;\n",
    "    return *this;\n",
    "}\n",
    "my_type& my_type::operator=(my_type&& a) noexcept {\n",
    "    delete _remote;\n",
    "    _remote = a._remote;\n",
    "    a._remote = nullptr;\n",
    "    return *this;\n",
    "}\n",
    "\n",
    "} // namespace library"
   ]
  },
  {
   "cell_type": "markdown",
   "metadata": {
    "slideshow": {
     "slide_type": "slide"
    }
   },
   "source": [
    "- What bug?"
   ]
  },
  {
   "cell_type": "markdown",
   "metadata": {
    "slideshow": {
     "slide_type": "fragment"
    }
   },
   "source": [
    "```cpp\n",
    "{\n",
    "    using namespace library;\n",
    "    \n",
    "    my_type a{10, 20};\n",
    "    my_type b{12, 30};\n",
    "    \n",
    "    b = move(a);\n",
    "    a = b;\n",
    "}\n",
    "```"
   ]
  },
  {
   "cell_type": "markdown",
   "metadata": {
    "slideshow": {
     "slide_type": "fragment"
    }
   },
   "source": [
    "```\n",
    "input_line_9:11:6: warning: null passed to a callee that requires a non-null argument [-Wnonnull]\n",
    "    *_remote = *a._remote;\n",
    "     ^~~~~~~\n",
    "Interpreter Exception: \n",
    "```"
   ]
  },
  {
   "cell_type": "markdown",
   "metadata": {
    "slideshow": {
     "slide_type": "slide"
    }
   },
   "source": [
    "```cpp\n",
    "// b = move(a);\n",
    "\n",
    "my_type& my_type::operator=(my_type&& a) noexcept {\n",
    "    delete _remote;\n",
    "    _remote = a._remote;\n",
    "    a._remote = nullptr; // <--\n",
    "    return *this;\n",
    "}\n",
    "```"
   ]
  },
  {
   "cell_type": "markdown",
   "metadata": {},
   "source": [
    "```cpp\n",
    "// a = b;\n",
    "\n",
    "my_type& my_type::operator=(const my_type& a) {\n",
    "    *_remote = *a._remote;\n",
    "//   ^~~~~~~ nullptr dereference\n",
    "    return *this;\n",
    "}\n",
    "```"
   ]
  },
  {
   "cell_type": "markdown",
   "metadata": {},
   "source": [
    "- Some operations _must_ be valid on the otherwise unspecified state\n",
    "    - destruction\n",
    "    - copy and move assigning to the object (to establish a new value)\n",
    "    - self move assignment (for self-swap)"
   ]
  },
  {
   "cell_type": "markdown",
   "metadata": {
    "slideshow": {
     "slide_type": "slide"
    }
   },
   "source": [
    "## Safety\n",
    "\n",
    "- An object which represents an entity is _fully formed_.\n",
    "- An object which does not represent an entity is _partially formed_."
   ]
  },
  {
   "cell_type": "markdown",
   "metadata": {
    "slideshow": {
     "slide_type": "fragment"
    }
   },
   "source": [
    "- Any operation which maintains the correspondence between an object and an entity it represents is _safe_\n",
    "- An operation which loses the correspondence is _unsafe_"
   ]
  },
  {
   "cell_type": "markdown",
   "metadata": {
    "slideshow": {
     "slide_type": "fragment"
    }
   },
   "source": [
    "- There are different categories of safety\n",
    "    - i.e. _memory safety_\n",
    "        - Destroying the correspondence of unrelated objects to an entity ultimately causes the bug"
   ]
  },
  {
   "cell_type": "markdown",
   "metadata": {
    "slideshow": {
     "slide_type": "slide"
    }
   },
   "source": [
    "- An operation is _operationally safe_ if, when the operation pre-conditions are satisfied, the operation results in objects which are fully formed\n",
    "- An operation is _operationally unsafe_ if, when the operation pre-conditions are satisfied, the operation may result in an object which is not fully formed\n",
    "    - From here on, when referring to a _safe_ operation we mean _operationally safe_"
   ]
  },
  {
   "cell_type": "markdown",
   "metadata": {
    "slideshow": {
     "slide_type": "slide"
    }
   },
   "source": [
    "- As a general rule\n",
    "    - Only safe operations should be public\n",
    "    - Unsafe operations should be private\n",
    "    \n",
    "- Moving from an object _may_ leave the object in a \"valid but **unspecified**\" state\n",
    "    - _Unspecified_ is without a correspondence to an entity\n",
    "    - move is a public unsafe operation, it may leave the moved from object in a partially formed state\n",
    "    \n",
    "- There is a trade-off between safety, and efficiency\n",
    "    - Not every operation can be implemented to be both safe, and efficient (provably)"
   ]
  },
  {
   "cell_type": "markdown",
   "metadata": {
    "slideshow": {
     "slide_type": "slide"
    }
   },
   "source": [
    "- There are many examples of unsafe operations with the built in types:"
   ]
  },
  {
   "cell_type": "code",
   "execution_count": 4,
   "metadata": {
    "execution": {
     "iopub.execute_input": "2020-12-22T07:26:49.498633Z",
     "iopub.status.busy": "2020-12-22T07:26:49.498146Z",
     "iopub.status.idle": "2020-12-22T07:26:49.501731Z",
     "shell.execute_reply": "2020-12-22T07:26:49.502172Z"
    },
    "slideshow": {
     "slide_type": "fragment"
    }
   },
   "outputs": [
    {
     "name": "stdout",
     "output_type": "stream",
     "text": [
      "22021\n"
     ]
    }
   ],
   "source": [
    "{\n",
    "    int x; // unspecified\n",
    "    cout << x << endl;\n",
    "}"
   ]
  },
  {
   "cell_type": "code",
   "execution_count": 5,
   "metadata": {
    "execution": {
     "iopub.execute_input": "2020-12-22T07:26:49.504211Z",
     "iopub.status.busy": "2020-12-22T07:26:49.503702Z",
     "iopub.status.idle": "2020-12-22T07:26:49.506880Z",
     "shell.execute_reply": "2020-12-22T07:26:49.507362Z"
    },
    "slideshow": {
     "slide_type": "fragment"
    }
   },
   "outputs": [
    {
     "name": "stdout",
     "output_type": "stream",
     "text": [
      "nan\n"
     ]
    }
   ],
   "source": [
    "{\n",
    "    double x = 0.0/0.0; // explicitly undefined\n",
    "    cout << x << endl;\n",
    "}"
   ]
  },
  {
   "cell_type": "code",
   "execution_count": 6,
   "metadata": {
    "execution": {
     "iopub.execute_input": "2020-12-22T07:26:49.509218Z",
     "iopub.status.busy": "2020-12-22T07:26:49.508767Z",
     "iopub.status.idle": "2020-12-22T07:26:49.518980Z",
     "shell.execute_reply": "2020-12-22T07:26:49.518553Z"
    },
    "slideshow": {
     "slide_type": "slide"
    }
   },
   "outputs": [
    {
     "name": "stdout",
     "output_type": "stream",
     "text": [
      "\n"
     ]
    }
   ],
   "source": [
    "{\n",
    "    string x = \"hello world\";\n",
    "    string y = move(x); // unspecified\n",
    "    cout << x << endl;\n",
    "}"
   ]
  },
  {
   "cell_type": "code",
   "execution_count": 7,
   "metadata": {
    "execution": {
     "iopub.execute_input": "2020-12-22T07:26:49.521196Z",
     "iopub.status.busy": "2020-12-22T07:26:49.520499Z",
     "iopub.status.idle": "2020-12-22T07:26:49.546128Z",
     "shell.execute_reply": "2020-12-22T07:26:49.545480Z"
    },
    "slideshow": {
     "slide_type": "fragment"
    }
   },
   "outputs": [],
   "source": [
    "{\n",
    "    unique_ptr<int> x = make_unique<int>(42);\n",
    "    unique_ptr<int> y = move(x); // safe! x is guaranteed to be == nullptr\n",
    "}"
   ]
  },
  {
   "cell_type": "markdown",
   "metadata": {
    "slideshow": {
     "slide_type": "slide"
    }
   },
   "source": [
    "- After an unsafe operation where an object is left partially formed\n",
    "    - Subsequent operations are required to restore the fully formed state prior to use\n",
    "        - If the partially formed state is _explicit_ it may by used in subsequent operation but those operations must yield explicitly undefined values for later detection and handling\n",
    "        - i.e. NaN, expected, maybe-monad pattern\n",
    "    - Or the object must be destroyed"
   ]
  },
  {
   "cell_type": "markdown",
   "metadata": {
    "slideshow": {
     "slide_type": "slide"
    }
   },
   "source": [
    "- An _implicit move_, one generated by the compiler, always occurs on an expiring value\n",
    "    - This means the combined operation of `op(rv); rv.~T();` is safe\n",
    "- `std::move()` is equivalent to `static_cast<T&&>()`\n",
    "    - Explicit move is unsafe\n",
    "    - Circumventing the type system requires additional care"
   ]
  },
  {
   "cell_type": "markdown",
   "metadata": {
    "slideshow": {
     "slide_type": "slide"
    }
   },
   "source": [
    "### Fixes to copy-assignment crash\n",
    "\n",
    "- We need to be able to assign to our partially formed value\n",
    "    - Two possible options\n",
    "        - Change assignment\n",
    "        - Change move"
   ]
  },
  {
   "cell_type": "code",
   "execution_count": 8,
   "metadata": {
    "execution": {
     "iopub.execute_input": "2020-12-22T07:26:49.548879Z",
     "iopub.status.busy": "2020-12-22T07:26:49.548147Z",
     "iopub.status.idle": "2020-12-22T07:26:49.549564Z",
     "shell.execute_reply": "2020-12-22T07:26:49.550156Z"
    },
    "slideshow": {
     "slide_type": "skip"
    }
   },
   "outputs": [],
   "source": [
    "namespace lib3 {\n",
    "\n",
    "class my_type {\n",
    "    struct implementation;             // forward declaration\n",
    "    implementation* _remote = nullptr; // remote part\n",
    "public:\n",
    "    // declare the basis operations - implementation is in a .cpp file\n",
    "    my_type(int x, int y);\n",
    "    ~my_type();\n",
    "    my_type(const my_type&);\n",
    "    my_type& operator=(const my_type&);\n",
    "\n",
    "    my_type(my_type&& a) noexcept : _remote{a._remote} { a._remote = nullptr; }\n",
    "    my_type& operator=(my_type&& a) noexcept;\n",
    "};\n",
    "\n",
    "} // namespace lib3"
   ]
  },
  {
   "cell_type": "code",
   "execution_count": 9,
   "metadata": {
    "execution": {
     "iopub.execute_input": "2020-12-22T07:26:49.552247Z",
     "iopub.status.busy": "2020-12-22T07:26:49.551793Z",
     "iopub.status.idle": "2020-12-22T07:26:49.554658Z",
     "shell.execute_reply": "2020-12-22T07:26:49.553952Z"
    },
    "slideshow": {
     "slide_type": "slide"
    }
   },
   "outputs": [],
   "source": [
    "namespace lib3 {\n",
    "\n",
    "struct my_type::implementation {\n",
    "    int _x;\n",
    "    int _y;\n",
    "    //...\n",
    "};\n",
    "\n",
    "my_type::my_type(int x, int y) : _remote{new implementation{x, y}} {}\n",
    "my_type::~my_type() { delete _remote; }\n",
    "my_type::my_type(const my_type& a) : _remote{new implementation{*a._remote}} {}\n",
    "my_type& my_type::operator=(const my_type& a) {\n",
    "    if (_remote) *_remote = *a._remote;\n",
    "    else _remote = new implementation{*a._remote}; // <---\n",
    "    return *this;\n",
    "}\n",
    "my_type& my_type::operator=(my_type&& a) noexcept {\n",
    "    delete _remote;\n",
    "    _remote = a._remote;\n",
    "    a._remote = nullptr;\n",
    "    return *this;\n",
    "}\n",
    "\n",
    "} // namespace lib3"
   ]
  },
  {
   "cell_type": "code",
   "execution_count": 10,
   "metadata": {
    "execution": {
     "iopub.execute_input": "2020-12-22T07:26:49.556918Z",
     "iopub.status.busy": "2020-12-22T07:26:49.556205Z",
     "iopub.status.idle": "2020-12-22T07:26:49.562050Z",
     "shell.execute_reply": "2020-12-22T07:26:49.561562Z"
    },
    "slideshow": {
     "slide_type": "slide"
    }
   },
   "outputs": [],
   "source": [
    "{\n",
    "    using namespace lib3;\n",
    "    \n",
    "    my_type a{10, 20};\n",
    "    my_type b{12, 30};\n",
    "    \n",
    "    b = move(a);\n",
    "    a = b;\n",
    "}"
   ]
  },
  {
   "cell_type": "code",
   "execution_count": 11,
   "metadata": {
    "execution": {
     "iopub.execute_input": "2020-12-22T07:26:49.564511Z",
     "iopub.status.busy": "2020-12-22T07:26:49.563662Z",
     "iopub.status.idle": "2020-12-22T07:26:49.565271Z",
     "shell.execute_reply": "2020-12-22T07:26:49.565973Z"
    },
    "slideshow": {
     "slide_type": "skip"
    }
   },
   "outputs": [],
   "source": [
    "namespace lib4 {\n",
    "\n",
    "class my_type {\n",
    "    struct implementation;             // forward declaration\n",
    "    implementation* _remote = nullptr; // remote part\n",
    "public:\n",
    "    // declare the basis operations - implementation is in a .cpp file\n",
    "    my_type(int x, int y);\n",
    "    ~my_type();\n",
    "    my_type(const my_type&);\n",
    "    my_type& operator=(const my_type&);\n",
    "\n",
    "    my_type(my_type&& a) noexcept : _remote{a._remote} { a._remote = nullptr; }\n",
    "    my_type& operator=(my_type&& a) noexcept;\n",
    "};\n",
    "\n",
    "} // namespace lib4"
   ]
  },
  {
   "cell_type": "code",
   "execution_count": 12,
   "metadata": {
    "execution": {
     "iopub.execute_input": "2020-12-22T07:26:49.568192Z",
     "iopub.status.busy": "2020-12-22T07:26:49.567715Z",
     "iopub.status.idle": "2020-12-22T07:26:49.571738Z",
     "shell.execute_reply": "2020-12-22T07:26:49.571198Z"
    },
    "slideshow": {
     "slide_type": "slide"
    }
   },
   "outputs": [],
   "source": [
    "namespace lib4 {\n",
    "\n",
    "struct my_type::implementation {\n",
    "    int _x;\n",
    "    int _y;\n",
    "    //...\n",
    "};\n",
    "\n",
    "my_type::my_type(int x, int y) : _remote{new implementation{x, y}} {}\n",
    "my_type::~my_type() { delete _remote; }\n",
    "my_type::my_type(const my_type& a) : _remote{new implementation{*a._remote}} {}\n",
    "my_type& my_type::operator=(const my_type& a) {\n",
    "    *_remote = *a._remote;\n",
    "    return *this;\n",
    "}\n",
    "my_type& my_type::operator=(my_type&& a) noexcept {\n",
    "    swap(_remote, a._remote); // <----\n",
    "    return *this;\n",
    "}\n",
    "\n",
    "} // namespace lib4"
   ]
  },
  {
   "cell_type": "code",
   "execution_count": 13,
   "metadata": {
    "execution": {
     "iopub.execute_input": "2020-12-22T07:26:49.573718Z",
     "iopub.status.busy": "2020-12-22T07:26:49.573164Z",
     "iopub.status.idle": "2020-12-22T07:26:49.580917Z",
     "shell.execute_reply": "2020-12-22T07:26:49.580277Z"
    }
   },
   "outputs": [],
   "source": [
    "{\n",
    "    using namespace lib4;\n",
    "    \n",
    "    my_type a{10, 20};\n",
    "    my_type b{12, 30};\n",
    "    \n",
    "    b = move(a);\n",
    "    a = b;\n",
    "}"
   ]
  },
  {
   "cell_type": "markdown",
   "metadata": {
    "slideshow": {
     "slide_type": "slide"
    }
   },
   "source": [
    "```cpp\n",
    "{\n",
    "    using namespace lib4;\n",
    "    \n",
    "    my_type a{10, 20};\n",
    "    my_type b = move(a);\n",
    "    a = b;\n",
    "}\n",
    "```\n",
    "```\n",
    "input_line_17:11:6: warning: null passed to a callee that requires a non-null argument [-Wnonnull]\n",
    "    *_remote = *a._remote;\n",
    "     ^~~~~~~\n",
    "Interpreter Exception: \n",
    "```"
   ]
  },
  {
   "cell_type": "markdown",
   "metadata": {
    "slideshow": {
     "slide_type": "slide"
    }
   },
   "source": [
    "### Idiomatic Approach"
   ]
  },
  {
   "cell_type": "code",
   "execution_count": 14,
   "metadata": {
    "execution": {
     "iopub.execute_input": "2020-12-22T07:26:49.582995Z",
     "iopub.status.busy": "2020-12-22T07:26:49.582398Z",
     "iopub.status.idle": "2020-12-22T07:26:49.583441Z",
     "shell.execute_reply": "2020-12-22T07:26:49.583911Z"
    },
    "slideshow": {
     "slide_type": "skip"
    }
   },
   "outputs": [],
   "source": [
    "namespace lib5 {\n",
    "\n",
    "class my_type {\n",
    "    struct implementation;             // forward declaration\n",
    "    implementation* _remote = nullptr; // remote part\n",
    "public:\n",
    "    // declare the basis operations - implementation is in a .cpp file\n",
    "    my_type(int x, int y);\n",
    "    ~my_type();\n",
    "    my_type(const my_type&);\n",
    "    my_type& operator=(const my_type&);\n",
    "\n",
    "    my_type(my_type&& a) noexcept : _remote{a._remote} { a._remote = nullptr; }\n",
    "    my_type& operator=(my_type&& a) noexcept;\n",
    "};\n",
    "\n",
    "} // namespace lib5"
   ]
  },
  {
   "cell_type": "code",
   "execution_count": 15,
   "metadata": {
    "execution": {
     "iopub.execute_input": "2020-12-22T07:26:49.586294Z",
     "iopub.status.busy": "2020-12-22T07:26:49.585530Z",
     "iopub.status.idle": "2020-12-22T07:26:49.588452Z",
     "shell.execute_reply": "2020-12-22T07:26:49.587924Z"
    },
    "slideshow": {
     "slide_type": "slide"
    }
   },
   "outputs": [],
   "source": [
    "namespace lib5 {\n",
    "\n",
    "struct my_type::implementation {\n",
    "    int _x;\n",
    "    int _y;\n",
    "    //...\n",
    "};\n",
    "\n",
    "my_type::my_type(int x, int y) : _remote{new implementation{x, y}} {}\n",
    "my_type::~my_type() { delete _remote; }\n",
    "my_type::my_type(const my_type& a) : _remote{new implementation{*a._remote}} {}\n",
    "my_type& my_type::operator=(const my_type& a) {\n",
    "    return *this = my_type(a); // <--- copy and move\n",
    "}\n",
    "my_type& my_type::operator=(my_type&& a) noexcept {\n",
    "    delete _remote;\n",
    "    _remote = a._remote;\n",
    "    a._remote = nullptr;\n",
    "    return *this;\n",
    "}\n",
    "\n",
    "} // namespace lib5"
   ]
  },
  {
   "cell_type": "code",
   "execution_count": 16,
   "metadata": {
    "execution": {
     "iopub.execute_input": "2020-12-22T07:26:49.590467Z",
     "iopub.status.busy": "2020-12-22T07:26:49.589974Z",
     "iopub.status.idle": "2020-12-22T07:26:49.597531Z",
     "shell.execute_reply": "2020-12-22T07:26:49.597042Z"
    },
    "slideshow": {
     "slide_type": "slide"
    }
   },
   "outputs": [],
   "source": [
    "{\n",
    "    using namespace lib5;\n",
    "    \n",
    "    my_type a{10, 20};\n",
    "    my_type b{12, 30};\n",
    "    \n",
    "    b = move(a);\n",
    "    a = b;\n",
    "}\n",
    "\n",
    "{\n",
    "    using namespace lib5;\n",
    "    \n",
    "    my_type a{10, 20};\n",
    "    my_type b = move(a);\n",
    "    a = b;\n",
    "}"
   ]
  },
  {
   "cell_type": "markdown",
   "metadata": {
    "slideshow": {
     "slide_type": "slide"
    }
   },
   "source": [
    "- The idomatic solution can work with unique_ptr"
   ]
  },
  {
   "cell_type": "code",
   "execution_count": 17,
   "metadata": {
    "execution": {
     "iopub.execute_input": "2020-12-22T07:26:49.599926Z",
     "iopub.status.busy": "2020-12-22T07:26:49.599259Z",
     "iopub.status.idle": "2020-12-22T07:26:49.611585Z",
     "shell.execute_reply": "2020-12-22T07:26:49.611101Z"
    },
    "slideshow": {
     "slide_type": "fragment"
    }
   },
   "outputs": [],
   "source": [
    "namespace lib6 {\n",
    "\n",
    "class my_type {\n",
    "    struct implementation;\n",
    "    struct deleter {\n",
    "        void operator()(implementation*) const noexcept; // <---\n",
    "    };\n",
    "    unique_ptr<implementation, deleter> _remote;\n",
    "public:\n",
    "    // declare the basis operations - implementation is in a .cpp file\n",
    "    my_type(int x, int y); // <---\n",
    "    ~my_type() = default;\n",
    "    my_type(const my_type&); // <---\n",
    "    my_type& operator=(const my_type& a) { return *this = my_type(a); }\n",
    "\n",
    "    my_type(my_type&& a) noexcept = default;\n",
    "    my_type& operator=(my_type&& a) noexcept = default;\n",
    "};\n",
    "\n",
    "} // namespace lib6\n"
   ]
  },
  {
   "cell_type": "code",
   "execution_count": 18,
   "metadata": {
    "execution": {
     "iopub.execute_input": "2020-12-22T07:26:49.613553Z",
     "iopub.status.busy": "2020-12-22T07:26:49.613071Z",
     "iopub.status.idle": "2020-12-22T07:26:49.616586Z",
     "shell.execute_reply": "2020-12-22T07:26:49.616087Z"
    },
    "slideshow": {
     "slide_type": "slide"
    }
   },
   "outputs": [],
   "source": [
    "namespace lib6 {\n",
    "\n",
    "struct my_type::implementation {\n",
    "    int _x;\n",
    "    int _y;\n",
    "    //...\n",
    "};\n",
    "\n",
    "my_type::my_type(int x, int y) : _remote{new implementation{x, y}} {}\n",
    "my_type::my_type(const my_type& a) : _remote{new implementation{*a._remote}} {}\n",
    "void my_type::deleter::operator()(implementation* p) const noexcept { delete p; }\n",
    "\n",
    "} // namespace lib6"
   ]
  },
  {
   "cell_type": "code",
   "execution_count": 19,
   "metadata": {
    "execution": {
     "iopub.execute_input": "2020-12-22T07:26:49.618532Z",
     "iopub.status.busy": "2020-12-22T07:26:49.618078Z",
     "iopub.status.idle": "2020-12-22T07:26:49.640467Z",
     "shell.execute_reply": "2020-12-22T07:26:49.639958Z"
    },
    "slideshow": {
     "slide_type": "slide"
    }
   },
   "outputs": [],
   "source": [
    "{\n",
    "    using namespace lib6;\n",
    "    \n",
    "    my_type a{10, 20};\n",
    "    my_type b{12, 30};\n",
    "\n",
    "    b = move(a);\n",
    "    a = b;\n",
    "}\n",
    "\n",
    "{\n",
    "    using namespace lib6;\n",
    "    \n",
    "    my_type a{10, 20};\n",
    "    my_type b = move(a);\n",
    "    a = b;\n",
    "}\n"
   ]
  },
  {
   "cell_type": "markdown",
   "metadata": {
    "slideshow": {
     "slide_type": "slide"
    }
   },
   "source": [
    "### Tradeoffs\n",
    "\n",
    "- **Copy Assignment: In situ assignment (if available) or copy construct**\n",
    "- **Move Assignment: Swap**"
   ]
  },
  {
   "cell_type": "markdown",
   "metadata": {
    "slideshow": {
     "slide_type": "fragment"
    }
   },
   "source": [
    "- Performance: Faster for in situ case (saves heap allocations)\n",
    "- Object Lifetime: Not precise\n",
    "- Exception Safety: Basic Guarantee (not transactional)\n",
    "- Implementation: Complex"
   ]
  },
  {
   "cell_type": "markdown",
   "metadata": {
    "slideshow": {
     "slide_type": "fragment"
    }
   },
   "source": [
    "- **Copy Assignment: Copy construct and move assign**\n",
    "- **Move Assignment: Consume**"
   ]
  },
  {
   "cell_type": "markdown",
   "metadata": {
    "slideshow": {
     "slide_type": "fragment"
    }
   },
   "source": [
    "- Performance: Slower\n",
    "- Object Lifetime: Precise\n",
    "- Exception Safety: Strong Guarantee (transactional)\n",
    "- Implementation: Simple"
   ]
  },
  {
   "cell_type": "markdown",
   "metadata": {
    "slideshow": {
     "slide_type": "slide"
    }
   },
   "source": [
    "- Recommendation\n",
    "    - I prefer the idiomatic, simpler approach\n",
    "        - unless I have evidence of a performance issue\n",
    "        - or the type is heavily used\n",
    "    - Write it correct and simple first"
   ]
  },
  {
   "cell_type": "markdown",
   "metadata": {
    "slideshow": {
     "slide_type": "slide"
    }
   },
   "source": [
    "## Default Construction\n",
    "\n",
    "- What should the state be of a default constructed object?\n",
    "    - Should it always be fully formed?\n",
    "    \n",
    "- A common use case of a default constructed object is to create the object before we have a value to give to it:"
   ]
  },
  {
   "cell_type": "code",
   "execution_count": 20,
   "metadata": {
    "execution": {
     "iopub.execute_input": "2020-12-22T07:26:49.642708Z",
     "iopub.status.busy": "2020-12-22T07:26:49.642234Z",
     "iopub.status.idle": "2020-12-22T07:26:49.646875Z",
     "shell.execute_reply": "2020-12-22T07:26:49.646375Z"
    },
    "slideshow": {
     "slide_type": "skip"
    }
   },
   "outputs": [],
   "source": [
    "namespace {\n",
    "bool predicate() { return true; }\n",
    "std::pair<std::string, std::string> get_pair() { return std::make_pair<string, string>(\"Hello\", \"World\"); }\n",
    "}"
   ]
  },
  {
   "cell_type": "code",
   "execution_count": 21,
   "metadata": {
    "execution": {
     "iopub.execute_input": "2020-12-22T07:26:49.648743Z",
     "iopub.status.busy": "2020-12-22T07:26:49.648222Z",
     "iopub.status.idle": "2020-12-22T07:26:49.652431Z",
     "shell.execute_reply": "2020-12-22T07:26:49.651847Z"
    },
    "slideshow": {
     "slide_type": "slide"
    }
   },
   "outputs": [],
   "source": [
    "{\n",
    "    string s;\n",
    "    if (predicate()) s = \"Hello\";\n",
    "    else s = \"World\";\n",
    "}"
   ]
  },
  {
   "cell_type": "code",
   "execution_count": 22,
   "metadata": {
    "execution": {
     "iopub.execute_input": "2020-12-22T07:26:49.654610Z",
     "iopub.status.busy": "2020-12-22T07:26:49.654093Z",
     "iopub.status.idle": "2020-12-22T07:26:49.671951Z",
     "shell.execute_reply": "2020-12-22T07:26:49.671418Z"
    },
    "slideshow": {
     "slide_type": "fragment"
    }
   },
   "outputs": [],
   "source": [
    "{\n",
    "    string s1;\n",
    "    string s2;\n",
    "    tie(s1, s2) = get_pair();\n",
    "}"
   ]
  },
  {
   "cell_type": "markdown",
   "metadata": {
    "slideshow": {
     "slide_type": "slide"
    }
   },
   "source": [
    "- The language has facilities that make it rarely necessary to construct an object before providing a value:"
   ]
  },
  {
   "cell_type": "code",
   "execution_count": 23,
   "metadata": {
    "execution": {
     "iopub.execute_input": "2020-12-22T07:26:49.673887Z",
     "iopub.status.busy": "2020-12-22T07:26:49.673406Z",
     "iopub.status.idle": "2020-12-22T07:26:49.682652Z",
     "shell.execute_reply": "2020-12-22T07:26:49.682150Z"
    },
    "slideshow": {
     "slide_type": "fragment"
    }
   },
   "outputs": [],
   "source": [
    "{\n",
    "    string s = predicate() ? \"Hello\" : \"World\";\n",
    "}"
   ]
  },
  {
   "cell_type": "code",
   "execution_count": 24,
   "metadata": {
    "execution": {
     "iopub.execute_input": "2020-12-22T07:26:49.684716Z",
     "iopub.status.busy": "2020-12-22T07:26:49.684227Z",
     "iopub.status.idle": "2020-12-22T07:26:49.691211Z",
     "shell.execute_reply": "2020-12-22T07:26:49.690626Z"
    },
    "slideshow": {
     "slide_type": "fragment"
    }
   },
   "outputs": [],
   "source": [
    "{\n",
    "    auto [s1, s2] = get_pair();\n",
    "}"
   ]
  },
  {
   "cell_type": "markdown",
   "metadata": {
    "slideshow": {
     "slide_type": "slide"
    }
   },
   "source": [
    "- This makes having a default constructor optional\n",
    "    - But not having one can be inconvenient "
   ]
  },
  {
   "cell_type": "markdown",
   "metadata": {},
   "source": [
    "- A default constructor value is often overwritten before use\n",
    "    - As such it is inefficient to allocate memory, or acquire resources, in the default constructor"
   ]
  },
  {
   "cell_type": "markdown",
   "metadata": {
    "slideshow": {
     "slide_type": "slide"
    }
   },
   "source": [
    "- A default constructor should:\n",
    "    - Be noexcept (one way to do this is to initialize to point to a const (or constexpr) singleton)\n",
    "    - Be `constexpr`\n",
    "    - Execute in time no worse than the time proportional to the `sizeof()` the object\n",
    "    - If the object has a meaningful _zero_ or _empty_ state it should initialize to that state\n",
    "        - Otherwise it may be partially-formed"
   ]
  },
  {
   "cell_type": "code",
   "execution_count": 25,
   "metadata": {
    "execution": {
     "iopub.execute_input": "2020-12-22T07:26:49.693568Z",
     "iopub.status.busy": "2020-12-22T07:26:49.692880Z",
     "iopub.status.idle": "2020-12-22T07:26:49.718898Z",
     "shell.execute_reply": "2020-12-22T07:26:49.718345Z"
    },
    "slideshow": {
     "slide_type": "slide"
    }
   },
   "outputs": [],
   "source": [
    "namespace lib7 {\n",
    "\n",
    "class my_type {\n",
    "    struct implementation;\n",
    "    struct deleter {\n",
    "        void operator()(implementation*) const noexcept; // <---\n",
    "    };\n",
    "    unique_ptr<implementation, deleter> _remote;\n",
    "public:\n",
    "    // declare the basis operations - implementation is in a .cpp file\n",
    "    constexpr my_type() noexcept = default; // partially formed\n",
    "    my_type(int x, int y); // <---\n",
    "    ~my_type() = default;\n",
    "    my_type(const my_type&); // <---\n",
    "    my_type& operator=(const my_type& a) { return *this = my_type(a); }\n",
    "\n",
    "    my_type(my_type&& a) noexcept = default;\n",
    "    my_type& operator=(my_type&& a) noexcept = default;\n",
    "};\n",
    "\n",
    "} // namespace lib7"
   ]
  },
  {
   "cell_type": "markdown",
   "metadata": {
    "slideshow": {
     "slide_type": "slide"
    }
   },
   "source": [
    "- Recommendation\n",
    "    - Provide a default-ctor\n",
    "    - Avoid using it unless it has a meaningful zero or empty value"
   ]
  },
  {
   "cell_type": "markdown",
   "metadata": {
    "slideshow": {
     "slide_type": "skip"
    }
   },
   "source": [
    "**Exercise:** Look at the regular operations (copy, assignment, equality, default construction) for a type in the standard library, or a commonly used type within your project. Is the implementation correct? Complete? Efficient?"
   ]
  },
  {
   "cell_type": "markdown",
   "metadata": {
    "slideshow": {
     "slide_type": "skip"
    }
   },
   "source": [
    "### What is _mutable_?\n",
    "\n",
    "### Polymorphism will be covered later\n",
    "\n",
    "## Efficiency\n",
    "\n",
    "- An operation is _efficient_ if there is no way to implement it to use fewer resources\n",
    "    - time\n",
    "    - space\n",
    "    - energy\n",
    "    \n",
    "- Unless otherwise specified, we will use efficiency to mean _time efficiency_\n",
    "    - But in practice, where not all three can be achieved the trade-offs should be consider"
   ]
  },
  {
   "cell_type": "markdown",
   "metadata": {
    "toc-hr-collapsed": false
   },
   "source": [
    "# Efficiency & Expressiveness"
   ]
  },
  {
   "cell_type": "markdown",
   "metadata": {
    "slideshow": {
     "slide_type": "slide"
    },
    "toc-hr-collapsed": false
   },
   "source": [
    "## Recap"
   ]
  },
  {
   "cell_type": "markdown",
   "metadata": {
    "slideshow": {
     "slide_type": "slide"
    },
    "toc-hr-collapsed": false
   },
   "source": [
    "### Definition of _Type_ and _Regular_\n",
    "\n",
    "> A _type_ is a pattern for storing and modifying objects.\n",
    "\n",
    "<div></div>\n",
    "\n",
    "> There is a set of procedures whose inclusion in the computational basis of a type lets us place objects in data structures and use algorithms to _copy objects_ from one data structure to another. We call types having such a basis _regular_, since their use guarantees regularity of behavior and, therefore, interoperability."
   ]
  },
  {
   "cell_type": "markdown",
   "metadata": {
    "slideshow": {
     "slide_type": "slide"
    },
    "toc-hr-collapsed": false
   },
   "source": [
    "### Semantics and Complexity\n",
    "\n",
    "- Semantics of an operation are defined with axioms derived from the definition. i.e. we can define the semantics of equality as:\n",
    "\n",
    "\\begin{align}\n",
    "(\\forall a) a & = a. && \\text{(Reflexivity)} \\\\\n",
    "(\\forall a, b) a & = b \\implies b = a. && \\text{(Symmetry)} \\\\\n",
    "(\\forall a, b, c) a & = b \\wedge b = c \\implies a = c. && \\text {(Transitivity)} \\\\\n",
    "\\end{align}\n",
    "\n",
    "- This covers any equivalence relation\n",
    "- Two objects are _equal_ iff their two values represent the same entity\n",
    "\n",
    "- The expected complexity of an operation is an important attribute of the operation\n",
    "- i.e. The only thing that separates the concept of `ForwardIterator` and `RandomAccessIterator` is the complexity of advancing `n` steps"
   ]
  },
  {
   "cell_type": "markdown",
   "metadata": {
    "slideshow": {
     "slide_type": "slide"
    },
    "toc-hr-collapsed": false
   },
   "source": [
    "### Computational Basis and Computationally Complete\n",
    "> The _computational basis_ for a type is a finite set of procedures that enable the construction of any other procedure on the type\n",
    "\n",
    "- A type which does not implement a _computational basis_ is _incomplete_"
   ]
  },
  {
   "cell_type": "markdown",
   "metadata": {
    "slideshow": {
     "slide_type": "slide"
    },
    "toc-hr-collapsed": false
   },
   "source": [
    "### Equationally Complete\n",
    "- A type for which equality can be implemented as a non-friend (non-member) function is said to be _equationally complete_\n",
    "- A type which is both equationally and computationally complete can be copied without the use of the copy-constructor or assignment operator\n",
    "    - Equationally complete implies all the parts are readable\n",
    "    - Computationally complete implies all the values are obtainable\n",
    "    "
   ]
  },
  {
   "cell_type": "markdown",
   "metadata": {
    "slideshow": {
     "slide_type": "slide"
    },
    "toc-hr-collapsed": false
   },
   "source": [
    "### Whole/Part Relationship\n",
    "- An object is a _whole_, composed of its _parts_\n",
    "- A part is _local_ if it is stored directly in the object\n",
    "- A part is _remote_ if it is stored elsewhere (such as on the heap)"
   ]
  },
  {
   "cell_type": "markdown",
   "metadata": {
    "slideshow": {
     "slide_type": "slide"
    },
    "toc-hr-collapsed": false
   },
   "source": [
    "### Safety\n",
    "- Any operation which maintains the correspondence between an object and an entity it represents is _safe_\n",
    "- An operation which loses the correspondence is _unsafe_"
   ]
  },
  {
   "cell_type": "markdown",
   "metadata": {
    "slideshow": {
     "slide_type": "slide"
    },
    "toc-hr-collapsed": false
   },
   "source": [
    "### Canonical Type with and without Remote Parts"
   ]
  },
  {
   "cell_type": "code",
   "execution_count": 2,
   "metadata": {
    "execution": {
     "iopub.execute_input": "2020-12-22T07:26:52.765829Z",
     "iopub.status.busy": "2020-12-22T07:26:52.765003Z",
     "iopub.status.idle": "2020-12-22T07:26:52.775502Z",
     "shell.execute_reply": "2020-12-22T07:26:52.774737Z"
    },
    "slideshow": {
     "slide_type": "slide"
    }
   },
   "outputs": [],
   "source": [
    "namespace bcc {\n",
    "\n",
    "class simple_type {\n",
    "    int _members = 0;\n",
    "\n",
    "public:\n",
    "    simple_type() noexcept = default;                         // default-ctor\n",
    "\n",
    "    simple_type(const simple_type&) = default;                // copy-ctor\n",
    "    simple_type& operator=(const simple_type&) = default;     // copy-assign\n",
    "\n",
    "    simple_type(simple_type&&) noexcept = default;            // move-ctor\n",
    "    simple_type& operator=(simple_type&&) noexcept = default; // move_assign\n",
    "\n",
    "    friend bool operator==(const simple_type& a, const simple_type& b) {\n",
    "        return tie(a._members /*, ...*/) == tie(b._members /*, ...*/);\n",
    "    }\n",
    "    friend bool operator!=(const simple_type& a, const simple_type& b) {\n",
    "        return !(a == b);\n",
    "    }\n",
    "};\n",
    "\n",
    "} // namespace bcc"
   ]
  },
  {
   "cell_type": "code",
   "execution_count": 3,
   "metadata": {
    "execution": {
     "iopub.execute_input": "2020-12-22T07:26:52.778172Z",
     "iopub.status.busy": "2020-12-22T07:26:52.777351Z",
     "iopub.status.idle": "2020-12-22T07:26:52.792192Z",
     "shell.execute_reply": "2020-12-22T07:26:52.791652Z"
    },
    "slideshow": {
     "slide_type": "slide"
    }
   },
   "outputs": [],
   "source": [
    "namespace bcc {\n",
    "\n",
    "class pimpl_type {\n",
    "    class implementation;\n",
    "    struct deleter {\n",
    "        void operator()(implementation*) const;\n",
    "    };\n",
    "    unique_ptr<implementation, deleter> _remote;\n",
    "\n",
    "public:\n",
    "    pimpl_type() noexcept = default;                        // default-ctor\n",
    "    pimpl_type(const pimpl_type&);                          // copy-ctor\n",
    "    pimpl_type& operator=(const pimpl_type& a) {            // copy-assign\n",
    "        return *this = pimpl_type(a);\n",
    "    }\n",
    "    pimpl_type(pimpl_type&&) noexcept = default;            // move-ctor\n",
    "    pimpl_type& operator=(pimpl_type&&) noexcept = default; // move_assign\n",
    "    friend bool operator==(const pimpl_type&, const pimpl_type&);\n",
    "    friend bool operator!=(const pimpl_type& a, const pimpl_type& b) {\n",
    "        return !(a == b);\n",
    "    }\n",
    "};\n",
    "\n",
    "} // namespace bcc"
   ]
  },
  {
   "cell_type": "code",
   "execution_count": 4,
   "metadata": {
    "execution": {
     "iopub.execute_input": "2020-12-22T07:26:52.794548Z",
     "iopub.status.busy": "2020-12-22T07:26:52.793868Z",
     "iopub.status.idle": "2020-12-22T07:26:52.800344Z",
     "shell.execute_reply": "2020-12-22T07:26:52.799805Z"
    },
    "slideshow": {
     "slide_type": "slide"
    }
   },
   "outputs": [],
   "source": [
    "// cpp file\n",
    "namespace bcc {\n",
    "\n",
    "struct pimpl_type::implementation {\n",
    "    // a simple type...\n",
    "    int _members = 0;\n",
    "\n",
    "    friend bool operator==(const implementation& a, const implementation& b) {\n",
    "        return tie(a._members /*, ...*/) == tie(b._members /*, ...*/);\n",
    "    }\n",
    "};\n",
    "\n",
    "void pimpl_type::deleter::operator()(implementation* a) const { delete a; }\n",
    "\n",
    "pimpl_type::pimpl_type(const pimpl_type& a)\n",
    "    : _remote(new implementation(*a._remote)) {}\n",
    "\n",
    "bool operator==(const pimpl_type& a, const pimpl_type& b) {\n",
    "    return *a._remote == *b._remote;\n",
    "}\n",
    "\n",
    "} // namespace bcc"
   ]
  },
  {
   "cell_type": "markdown",
   "metadata": {
    "slideshow": {
     "slide_type": "slide"
    }
   },
   "source": [
    "- In both cases the default-dtor is used (not specified)\n",
    "- We will be covering polymorphic types and containers later in the course"
   ]
  },
  {
   "cell_type": "markdown",
   "metadata": {
    "jupyter": {
     "source_hidden": true
    },
    "slideshow": {
     "slide_type": "skip"
    },
    "toc-hr-collapsed": false
   },
   "source": [
    "## Prior Homework\n",
    "\n",
    "**Exercise** Look at the regular operations (copy, assignment, equality, default construction) for a type in the standard library, or a commonly used type within your project. Is the implementation correct? Complete? Efficient?"
   ]
  },
  {
   "cell_type": "markdown",
   "metadata": {
    "jupyter": {
     "source_hidden": true
    },
    "slideshow": {
     "slide_type": "skip"
    },
    "toc-hr-collapsed": false
   },
   "source": [
    "## Prior Homework\n",
    "\n",
    "**Exercise:** Look at the regular operations (copy, assignment, equality, default construction) for ZString (or a commonly used type within your project). Is the implementation correct? Complete? Efficient?"
   ]
  },
  {
   "cell_type": "markdown",
   "metadata": {
    "jupyter": {
     "source_hidden": true
    },
    "slideshow": {
     "slide_type": "skip"
    },
    "toc-hr-collapsed": false
   },
   "source": [
    "`ZString` operations:\n",
    "- default-ctor: Should be declared `noexcept` but will not throw\n",
    "```cpp\n",
    "    ZString();\n",
    "```\n",
    "- copy-ctor: Logical copy by incrementing reference count to immutable string, should be declared `noexcept`.\n",
    "```cpp\n",
    "    ZString(const ZString &x);\n",
    "```\n",
    "- copy-assign: Handles self assignment, requires locking (spin-lock). Complex logic. Benchmark against a copy/move implementation? Returns void?\n",
    "```cpp\n",
    "    void operator=(const ZString &x);\n",
    "```\n",
    "- move-ctor: Should be declared `noexcept` but will not throw, expensive operation to atomic increment a reference count on `TheOneTrueEmptyZByteRun`, guarantees moved from `ZString` is empty string.\n",
    "```cpp\n",
    "    ZString(ZString&& x);\n",
    "```"
   ]
  },
  {
   "cell_type": "markdown",
   "metadata": {
    "jupyter": {
     "source_hidden": true
    },
    "slideshow": {
     "slide_type": "skip"
    },
    "toc-hr-collapsed": false
   },
   "source": [
    "- move-assign: Implemented as swap(). Does not guarantee moved from `ZString` is empty.\n",
    "```cpp\n",
    "    ZString& operator=(ZString&& x) noexcept;\n",
    "```\n",
    "- equality: Representational (not value) equality. Should be declared as non-member function.\n",
    "```cpp\n",
    "    bool operator == (const ZString &x) const;\n",
    "```\n",
    "\n",
    "Observation: `fDefaultRun` is hardly used except for test cases and to propagate `fCharacterRun`. Is it needed?\n",
    "\n",
    "Discussion: How can we incrementally improve ZString?"
   ]
  },
  {
   "cell_type": "markdown",
   "metadata": {
    "slideshow": {
     "slide_type": "slide"
    },
    "toc-hr-collapsed": false
   },
   "source": [
    "## What Should Be Part of The Public Interface On A Type?\n",
    "\n",
    "- In general we want the minimum number of public calls with private access to provide a type which is:\n",
    "    - Computationally Complete\n",
    "    - Equationally Complete\n",
    "    \n",
    "- Other operations should be implemented in terms of those"
   ]
  },
  {
   "cell_type": "markdown",
   "metadata": {
    "slideshow": {
     "slide_type": "slide"
    },
    "toc-hr-collapsed": false
   },
   "source": [
    "Example:"
   ]
  },
  {
   "cell_type": "code",
   "execution_count": 5,
   "metadata": {
    "execution": {
     "iopub.execute_input": "2020-12-22T07:26:52.803455Z",
     "iopub.status.busy": "2020-12-22T07:26:52.802705Z",
     "iopub.status.idle": "2020-12-22T07:26:52.803936Z",
     "shell.execute_reply": "2020-12-22T07:26:52.804536Z"
    },
    "slideshow": {
     "slide_type": "-"
    }
   },
   "outputs": [],
   "source": [
    "namespace bcc {\n",
    "\n",
    "class number {\n",
    "    unsigned int _data = 0;\n",
    "\n",
    "public:\n",
    "    // default standard operations\n",
    "    number& operator++() {\n",
    "        ++_data;\n",
    "        return *this;\n",
    "    }\n",
    "    friend unsigned int operator-(const number& a, const number& b) {\n",
    "        return a._data - b._data;\n",
    "    }\n",
    "};\n",
    "\n",
    "} // namespace bcc"
   ]
  },
  {
   "cell_type": "markdown",
   "metadata": {
    "slideshow": {
     "slide_type": "slide"
    }
   },
   "source": [
    "- `number` is computationally and equationally complete"
   ]
  },
  {
   "cell_type": "code",
   "execution_count": 6,
   "metadata": {
    "execution": {
     "iopub.execute_input": "2020-12-22T07:26:52.807811Z",
     "iopub.status.busy": "2020-12-22T07:26:52.806902Z",
     "iopub.status.idle": "2020-12-22T07:26:52.808539Z",
     "shell.execute_reply": "2020-12-22T07:26:52.809250Z"
    },
    "slideshow": {
     "slide_type": "-"
    }
   },
   "outputs": [],
   "source": [
    "namespace bcc {\n",
    "\n",
    "bool operator==(const number& a, const number& b) {\n",
    "    return (a - b) == 0;\n",
    "}\n",
    "\n",
    "} // namespace bcc"
   ]
  },
  {
   "cell_type": "markdown",
   "metadata": {
    "slideshow": {
     "slide_type": "slide"
    }
   },
   "source": [
    "- Being correct and complete is not enough:"
   ]
  },
  {
   "cell_type": "code",
   "execution_count": 7,
   "metadata": {
    "execution": {
     "iopub.execute_input": "2020-12-22T07:26:52.812339Z",
     "iopub.status.busy": "2020-12-22T07:26:52.811353Z",
     "iopub.status.idle": "2020-12-22T07:26:52.817794Z",
     "shell.execute_reply": "2020-12-22T07:26:52.818622Z"
    },
    "slideshow": {
     "slide_type": "fragment"
    }
   },
   "outputs": [
    {
     "name": "stdout",
     "output_type": "stream",
     "text": [
      "3\n"
     ]
    }
   ],
   "source": [
    "{\n",
    "// construct the value 3\n",
    "number a; ++a; ++a; ++a;\n",
    "\n",
    "// print it\n",
    "cout << (a - number()) << endl;\n",
    "}"
   ]
  },
  {
   "cell_type": "markdown",
   "metadata": {
    "slideshow": {
     "slide_type": "slide"
    },
    "toc-hr-collapsed": false
   },
   "source": [
    "## Efficient Basis\n",
    "\n",
    "- An operation is _efficient_ if there is no way to implement it to use fewer resources:\n",
    "    - time\n",
    "    - space\n",
    "    - energy\n",
    "    \n",
    "- Unless otherwise specified, we will use efficiency to mean _time efficiency_\n",
    "    - But in practice, where not all three can be achieved the trade-offs should be considered\n",
    "\n",
    "- A type has an _efficient basis_ if any additional operations can be implemented efficiently in terms of the basis operations"
   ]
  },
  {
   "cell_type": "markdown",
   "metadata": {
    "slideshow": {
     "slide_type": "slide"
    },
    "toc-hr-collapsed": false
   },
   "source": [
    "- Making all data members public ensures an efficient basis, but may be unsafe\n",
    "- In fact, we can prove that some operations cannot be implemented both efficiently and safely\n",
    "- The canonical example is in-situ sort, although it is true of any in-situ permutation\n",
    "    - This is why functional languages do not allow direct in-situ permutations\n",
    "\n",
    "- In C++, explicit `move` is both unsafe and inefficient\n",
    "    - It is less safe than copy\n",
    "    - But more efficient than copy\n",
    "    \n",
    "- Strive to make operations safe _and_ efficient\n",
    "- Only sacrifice safety for efficiency with good (measurable) reason"
   ]
  },
  {
   "cell_type": "markdown",
   "metadata": {
    "slideshow": {
     "slide_type": "slide"
    },
    "toc-hr-collapsed": false
   },
   "source": [
    "## Expressive Basis\n",
    "\n",
    "> A basis is _expressive_ iff it allows compact and convenient definitions of procedures on the type.\n",
    "\n",
    "For example:"
   ]
  },
  {
   "cell_type": "code",
   "execution_count": 8,
   "metadata": {
    "execution": {
     "iopub.execute_input": "2020-12-22T07:26:52.821815Z",
     "iopub.status.busy": "2020-12-22T07:26:52.820916Z",
     "iopub.status.idle": "2020-12-22T07:26:52.824275Z",
     "shell.execute_reply": "2020-12-22T07:26:52.823741Z"
    },
    "slideshow": {
     "slide_type": "fragment"
    }
   },
   "outputs": [],
   "source": [
    "{\n",
    "// construct the value 3\n",
    "number a; ++a; ++a; ++a;\n",
    "}"
   ]
  },
  {
   "cell_type": "markdown",
   "metadata": {
    "slideshow": {
     "slide_type": "slide"
    }
   },
   "source": [
    "is not as expressive as:"
   ]
  },
  {
   "cell_type": "code",
   "execution_count": 9,
   "metadata": {
    "execution": {
     "iopub.execute_input": "2020-12-22T07:26:52.832289Z",
     "iopub.status.busy": "2020-12-22T07:26:52.829854Z",
     "iopub.status.idle": "2020-12-22T07:26:52.833189Z",
     "shell.execute_reply": "2020-12-22T07:26:52.833999Z"
    },
    "slideshow": {
     "slide_type": "fragment"
    }
   },
   "outputs": [],
   "source": [
    "{\n",
    "int a = 3;\n",
    "}"
   ]
  },
  {
   "cell_type": "markdown",
   "metadata": {
    "slideshow": {
     "slide_type": "slide"
    }
   },
   "source": [
    "- Especially for common operators you should provide operations in meaningful groups:\n",
    "- If your provide `operator==()` (and you should), also provide `!=`\n",
    "- If you provide `operator<()`, _natural total order_, you should provide all comparison operators\n",
    "- Negation and addition implies subtraction\n",
    "- etc."
   ]
  },
  {
   "cell_type": "markdown",
   "metadata": {
    "slideshow": {
     "slide_type": "slide"
    },
    "toc-hr-collapsed": false
   },
   "source": [
    "## (Revisited) What Should Be Part of The Public Interface On A Type?\n",
    "\n",
    "- In general we want the **minimum** number of public calls with private access to provide a type which is:\n",
    "    - Computationally Complete\n",
    "    - Equationally Complete\n",
    "    - Efficient\n",
    "    - Safe\n",
    "    - Operations required to be part of the class interface by the language (i.e., you cannot implement a stand alone assignment operator)\n",
    "    \n",
    "- Other operations, including operations that are part of the expressive basis, should be implemented in terms of those operations\n",
    "- This still leaves a fair amount up to the designer to choose how to balance safety and efficiency and what _expressive_ means in the context of the type"
   ]
  },
  {
   "cell_type": "markdown",
   "metadata": {
    "jupyter": {
     "source_hidden": true
    },
    "slideshow": {
     "slide_type": "skip"
    }
   },
   "source": [
    "**Exercise:** Look at the API and implementation for ZString (or a commonly used class in your own project). What does a ZString represent? What would be a good set of basis operations? What operations would be better implemented externally? Are there operations that should be removed?"
   ]
  }
 ],
 "metadata": {
  "kernelspec": {
   "display_name": "C++17",
   "language": "C++17",
   "name": "xcpp17"
  },
  "language_info": {
   "codemirror_mode": "text/x-c++src",
   "file_extension": ".cpp",
   "mimetype": "text/x-c++src",
   "name": "c++",
   "version": "17"
  },
  "toc-autonumbering": false,
  "toc-showcode": false,
  "toc-showmarkdowntxt": false,
  "toc-showtags": false
 },
 "nbformat": 4,
 "nbformat_minor": 4
}
