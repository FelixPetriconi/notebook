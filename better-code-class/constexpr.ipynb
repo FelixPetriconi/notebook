{
 "cells": [
  {
   "cell_type": "code",
   "execution_count": 1,
   "metadata": {
    "slideshow": {
     "slide_type": "skip"
    }
   },
   "outputs": [],
   "source": [
    "using namespace std;"
   ]
  },
  {
   "cell_type": "markdown",
   "metadata": {
    "slideshow": {
     "slide_type": "slide"
    }
   },
   "source": [
    "## `constexpr`\n",
    "`constexpr` specifier declares that it is possible to evaluate a function or variable at compile time. Such variables and functions can then be used inside a [constant expression](http://en.cppreference.com/w/cpp/language/constant_expression)."
   ]
  },
  {
   "cell_type": "markdown",
   "metadata": {
    "slideshow": {
     "slide_type": "slide"
    }
   },
   "source": [
    "### `constexpr` variables\n",
    "A variable declared `constexpr` is `const` (implied) and must be evaluated at compile time."
   ]
  },
  {
   "cell_type": "code",
   "execution_count": 2,
   "metadata": {
    "slideshow": {
     "slide_type": "fragment"
    }
   },
   "outputs": [],
   "source": [
    "const int r = rand();"
   ]
  },
  {
   "cell_type": "markdown",
   "metadata": {
    "slideshow": {
     "slide_type": "fragment"
    }
   },
   "source": [
    "```cpp\n",
    "constexpr int r = rand();\n",
    "```"
   ]
  },
  {
   "cell_type": "markdown",
   "metadata": {
    "slideshow": {
     "slide_type": "fragment"
    }
   },
   "source": [
    "```\n",
    "input_line_9:2:16: error: constexpr variable 'r' must be initialized by a constant expression\n",
    " constexpr int r = rand();\n",
    "               ^   ~~~~~~\n",
    "input_line_9:2:20: note: non-constexpr function 'rand' cannot be used in a constant expression\n",
    " constexpr int r = rand();\n",
    "                   ^\n",
    "```"
   ]
  },
  {
   "cell_type": "markdown",
   "metadata": {
    "slideshow": {
     "slide_type": "fragment"
    }
   },
   "source": [
    "**Review:** `const` variables defined at `namespace` scope have [internal linkage](http://en.cppreference.com/w/cpp/language/language_linkage) by default. This allows them to be safely used in header files without an [ODR](http://en.cppreference.com/w/cpp/language/definition) violation. However, each compilation unit will have it's own logical copy."
   ]
  },
  {
   "cell_type": "markdown",
   "metadata": {
    "slideshow": {
     "slide_type": "slide"
    }
   },
   "source": [
    "\n",
    "```cpp\n",
    "// header.hpp\n",
    "constexpr int variable = 42;\n",
    "```\n",
    "---\n",
    "```cpp\n",
    "// code.cpp\n",
    "#include \"header.hpp\"\n",
    "\n",
    "const void* local_address() {\n",
    "    return &variable;\n",
    "}\n",
    "```\n",
    "---\n",
    "```cpp\n",
    "// main.cpp\n",
    "#include \"header.hpp\"\n",
    "#include <iostream>\n",
    "\n",
    "using namespace std;\n",
    "\n",
    "const void* local_address();\n",
    "\n",
    "int main() {\n",
    "    cout << &variable << endl;\n",
    "    cout << local_address() << endl;\n",
    "};\n",
    "```"
   ]
  },
  {
   "cell_type": "markdown",
   "metadata": {
    "slideshow": {
     "slide_type": "fragment"
    }
   },
   "source": [
    "```\n",
    "0x10004b6c8\n",
    "0x10004bd7c\n",
    "```"
   ]
  },
  {
   "cell_type": "markdown",
   "metadata": {
    "slideshow": {
     "slide_type": "slide"
    }
   },
   "source": [
    "C++17 adds [inline variables](http://en.cppreference.com/w/cpp/language/inline) which, at namespace scope, default to external linkage. This is what you likely want in your header files (_finally!_)."
   ]
  },
  {
   "cell_type": "markdown",
   "metadata": {
    "slideshow": {
     "slide_type": "slide"
    }
   },
   "source": [
    "\n",
    "```cpp\n",
    "// header.hpp\n",
    "inline constexpr int variable = 42;\n",
    "```\n",
    "---\n",
    "```cpp\n",
    "// code.cpp\n",
    "#include \"header.hpp\"\n",
    "\n",
    "const void* local_address() {\n",
    "    return &variable;\n",
    "}\n",
    "```\n",
    "---\n",
    "```cpp\n",
    "// main.cpp\n",
    "#include \"header.hpp\"\n",
    "#include <iostream>\n",
    "\n",
    "using namespace std;\n",
    "\n",
    "const void* local_address();\n",
    "\n",
    "int main() {\n",
    "    cout << &variable << endl;\n",
    "    cout << local_address() << endl;\n",
    "};\n",
    "```"
   ]
  },
  {
   "cell_type": "markdown",
   "metadata": {
    "slideshow": {
     "slide_type": "fragment"
    }
   },
   "source": [
    "```\n",
    "0x10004b6c8\n",
    "0x10004b6c8\n",
    "```"
   ]
  },
  {
   "cell_type": "markdown",
   "metadata": {
    "slideshow": {
     "slide_type": "slide"
    }
   },
   "source": [
    "### `constexpr` functions\n",
    "A `constexpr` function is a function for which it is _possible_ to evaluate it at compile time provided appropriate function argument are provided.\n",
    "\n",
    "A `constexpr` function must satisfy the following requirements:\n",
    "* Not virtual\n",
    "* [Literal](http://en.cppreference.com/w/cpp/concept/LiteralType) return type\n",
    "* All arguments are literal types\n",
    "* $\\exists$ a set of arguments such that the function can be evaluated as a [core constant expression](http://en.cppreference.com/w/cpp/language/constant_expression#Core_constant_expressions).\n",
    "* Function body contains **any statement except**\n",
    "    * `asm`\n",
    "    * `goto`\n",
    "    * label (other than `case` and `default`)\n",
    "    * `try` block\n",
    "    * variable definition of non-literal type\n",
    "    * static or thread-local variable\n",
    "    * uninitialized variable"
   ]
  },
  {
   "cell_type": "markdown",
   "metadata": {
    "slideshow": {
     "slide_type": "slide"
    }
   },
   "source": [
    "Example:"
   ]
  },
  {
   "cell_type": "code",
   "execution_count": 3,
   "metadata": {
    "slideshow": {
     "slide_type": "fragment"
    }
   },
   "outputs": [],
   "source": [
    "constexpr uint64_t fnv64_hash_str(const char* p) {\n",
    "    uint64_t hash = UINT64_C(14695981039346656037);\n",
    "    while (*p) {\n",
    "        hash *= UINT64_C(1099511628211);\n",
    "        hash ^= *p;\n",
    "        ++p;\n",
    "    }\n",
    "    return hash;\n",
    "}"
   ]
  },
  {
   "cell_type": "code",
   "execution_count": 4,
   "metadata": {
    "slideshow": {
     "slide_type": "fragment"
    }
   },
   "outputs": [],
   "source": [
    "constexpr auto str_hash = fnv64_hash_str(\"Hello World!\");"
   ]
  },
  {
   "cell_type": "code",
   "execution_count": 5,
   "metadata": {
    "slideshow": {
     "slide_type": "fragment"
    }
   },
   "outputs": [
    {
     "name": "stdout",
     "output_type": "stream",
     "text": [
      "8e59dd02f68c387c\n"
     ]
    }
   ],
   "source": [
    "cout << hex << str_hash << endl;"
   ]
  },
  {
   "cell_type": "markdown",
   "metadata": {
    "slideshow": {
     "slide_type": "slide"
    }
   },
   "source": [
    "### `constexpr` constructor\n",
    "The definition of a literal type has been extended to include types with a `constexpr` constructor (though not all classes with a constexpr constructor are a literal type).\n",
    "\n",
    "A `constexpr` constructor must satisfy the requirements of a `constexpr` function and:\n",
    "* No virtual base classes\n",
    "* Every base class subobject and every non-static data member must be initialized\n",
    "* Every non-static member and base class initializer must be done with a `constexpr` constructor"
   ]
  },
  {
   "cell_type": "markdown",
   "metadata": {
    "slideshow": {
     "slide_type": "slide"
    }
   },
   "source": [
    "Example:"
   ]
  },
  {
   "cell_type": "code",
   "execution_count": 6,
   "metadata": {
    "slideshow": {
     "slide_type": "fragment"
    }
   },
   "outputs": [],
   "source": [
    "namespace {\n",
    "\n",
    "struct point {\n",
    "    int _width;\n",
    "    int _height;\n",
    "\n",
    "    constexpr point(int w, int h) : _width(w), _height(h) { }\n",
    "};\n",
    "\n",
    "constexpr bool operator==(const point& a, const point& b) {\n",
    "    return (a._width == b._width) && (a._height == b._height);\n",
    "}\n",
    "    \n",
    "} // namespace"
   ]
  },
  {
   "cell_type": "code",
   "execution_count": 7,
   "metadata": {
    "slideshow": {
     "slide_type": "fragment"
    }
   },
   "outputs": [],
   "source": [
    "constexpr point origin = { 10, 10 };"
   ]
  },
  {
   "cell_type": "code",
   "execution_count": 8,
   "metadata": {
    "slideshow": {
     "slide_type": "fragment"
    }
   },
   "outputs": [],
   "source": [
    "static_assert(origin == point(10, 10), \"mismatch\");"
   ]
  },
  {
   "cell_type": "markdown",
   "metadata": {
    "slideshow": {
     "slide_type": "slide"
    }
   },
   "source": [
    "`std::pair`, `std::tuple`, and `std::array` may all be used as literal types. With `constexpr` functions, you can create and manipulate complex data structures at compile time. These classes have been extended in C++17 to allow more operations, including non-const operations."
   ]
  },
  {
   "cell_type": "code",
   "execution_count": 9,
   "metadata": {
    "slideshow": {
     "slide_type": "slide"
    }
   },
   "outputs": [],
   "source": [
    "template <class T, size_t N>\n",
    "struct carray {\n",
    "    T _data[N];\n",
    "\n",
    "    constexpr const T& operator[](size_t n) const { return _data[n]; }\n",
    "    constexpr T& operator[](size_t n) { return _data[n]; }\n",
    "};\n",
    "\n",
    "template <class T, size_t N>\n",
    "constexpr auto begin(const carray<T, N>& x) {\n",
    "    return &x._data[0];\n",
    "}\n",
    "\n",
    "template <class T, size_t N>\n",
    "constexpr auto end(const carray<T, N>& x) {\n",
    "    return &x._data[0] + N;\n",
    "}"
   ]
  },
  {
   "cell_type": "code",
   "execution_count": 10,
   "metadata": {
    "slideshow": {
     "slide_type": "slide"
    }
   },
   "outputs": [],
   "source": [
    "constexpr bool strless(const char* a, const char* b) {\n",
    "    while (*a && (*a == *b)) {\n",
    "        ++a;\n",
    "        ++b;\n",
    "    }\n",
    "    return static_cast<unsigned char>(*a) < static_cast<unsigned char>(*b);\n",
    "}"
   ]
  },
  {
   "cell_type": "code",
   "execution_count": 11,
   "metadata": {
    "slideshow": {
     "slide_type": "slide"
    }
   },
   "outputs": [],
   "source": [
    "template <class T, size_t N, size_t M, class Comp>\n",
    "constexpr auto merge(const carray<T, N>& a, const carray<T, M>& b, Comp comp) {\n",
    "    carray<T, N + M> result{0};\n",
    "    size_t i = 0, j = 0, k = 0;\n",
    "    while (j != N && k != M) {\n",
    "        if (comp(a[j], b[k])) {\n",
    "            result[i] = a[j];\n",
    "            ++j;\n",
    "        } else {\n",
    "            result[i] = b[k];\n",
    "            ++k;\n",
    "        }\n",
    "        ++i;\n",
    "    }\n",
    "    while (j != N) {\n",
    "        result[i] = a[j];\n",
    "        ++j;\n",
    "        ++i;\n",
    "    }\n",
    "    while (k != M) {\n",
    "        result[i] = b[k];\n",
    "        ++k;\n",
    "        ++i;\n",
    "    }\n",
    "    return result;\n",
    "}"
   ]
  },
  {
   "cell_type": "code",
   "execution_count": 12,
   "metadata": {
    "slideshow": {
     "slide_type": "slide"
    }
   },
   "outputs": [],
   "source": [
    "constexpr carray<const char*, 3> a1 = {\n",
    "    \"Dave\",\n",
    "    \"Nick\",\n",
    "    \"Sean\"\n",
    "};\n",
    "\n",
    "constexpr carray<const char*, 4> a2 = {\n",
    "    \"Emily\",\n",
    "    \"Olivia\",\n",
    "    \"Ryan\",\n",
    "    \"Seetha\"\n",
    "};"
   ]
  },
  {
   "cell_type": "code",
   "execution_count": 13,
   "metadata": {
    "slideshow": {
     "slide_type": "fragment"
    }
   },
   "outputs": [],
   "source": [
    "constexpr auto result = merge(a1, a2, strless);"
   ]
  },
  {
   "cell_type": "code",
   "execution_count": 14,
   "metadata": {
    "slideshow": {
     "slide_type": "fragment"
    }
   },
   "outputs": [
    {
     "name": "stdout",
     "output_type": "stream",
     "text": [
      "Dave\n",
      "Emily\n",
      "Nick\n",
      "Olivia\n",
      "Ryan\n",
      "Sean\n",
      "Seetha\n"
     ]
    }
   ],
   "source": [
    "for (const auto& e : result) cout << e << endl;"
   ]
  },
  {
   "cell_type": "markdown",
   "metadata": {
    "slideshow": {
     "slide_type": "slide"
    }
   },
   "source": [
    "### `if constexpr` (C++17)\n",
    "A conditional of the form `if constexpr` is known as a _constexpr if_ statement. The predicate must be a constant expression. An unexecuted statement is discarded. If used in a template, the discarded path is not instanciated and _constexpr if_ is an alternative to [SFINAE](http://en.cppreference.com/w/cpp/language/sfinae) for some use cases."
   ]
  },
  {
   "cell_type": "code",
   "execution_count": 15,
   "metadata": {
    "slideshow": {
     "slide_type": "skip"
    }
   },
   "outputs": [],
   "source": [
    "template <class I, size_t N>\n",
    "struct span {\n",
    "    I _f;\n",
    "};\n",
    "\n",
    "template <class T, size_t N>\n",
    "constexpr auto make_span(const T (&x)[N]) {\n",
    "    return span<const T*, N>{begin(x)};\n",
    "}\n",
    "\n",
    "template <class I, size_t N>\n",
    "constexpr auto begin(const span<I, N>& x) {\n",
    "    return x._f;\n",
    "}\n",
    "\n",
    "template <class I, size_t N>\n",
    "constexpr auto end(const span<I, N>& x) {\n",
    "    return begin(x) + N;\n",
    "}"
   ]
  },
  {
   "cell_type": "code",
   "execution_count": 16,
   "metadata": {
    "slideshow": {
     "slide_type": "slide"
    }
   },
   "outputs": [],
   "source": [
    "// C++14 example\n",
    "\n",
    "template <class I, class Comp>\n",
    "constexpr auto merge_sort(const span<I, 1>& a, Comp comp) {\n",
    "    return carray<typename iterator_traits<decltype(begin(a))>::value_type, 1>{*begin(a)};\n",
    "}\n",
    "\n",
    "template <class I, size_t N, class Comp>\n",
    "constexpr auto merge_sort(const span<I, N>& a, Comp comp) {\n",
    "    return merge(merge_sort(span<I, N / 2>{begin(a)}, comp),\n",
    "        merge_sort(span<I, N - N / 2>{begin(a) + N / 2}, comp), comp);\n",
    "}"
   ]
  },
  {
   "cell_type": "markdown",
   "metadata": {
    "slideshow": {
     "slide_type": "slide"
    }
   },
   "source": [
    "```cpp\n",
    "// C++17 example\n",
    "\n",
    "template <class I, size_t N, class Comp>\n",
    "constexpr auto merge_sort(const span<I, N>& a, Comp comp) {\n",
    "    if constexpr (N == 1)\n",
    "        return carray<typename iterator_traits<decltype(begin(a))>::value_type, 1>{\n",
    "            *begin(a)\n",
    "        };\n",
    "    else\n",
    "        return merge(merge_sort(span<I, N / 2>{begin(a)}, comp),\n",
    "                     merge_sort(span<I, N - N / 2>{begin(a) + N / 2}, comp), comp);\n",
    "}\n",
    "```"
   ]
  },
  {
   "cell_type": "code",
   "execution_count": 17,
   "metadata": {
    "slideshow": {
     "slide_type": "slide"
    }
   },
   "outputs": [],
   "source": [
    "constexpr const char* names[]{\"Carole\",    \"Cherelle\", \"Elene\",    \"Ahmad\",  \"Janae\",\n",
    "                              \"Stephenie\", \"Bill\",     \"Joannie\",  \"Taylor\", \"Sharice\",\n",
    "                              \"Myrtle\",    \"Dara\",     \"Manuel\",   \"Hayley\", \"Odis\",\n",
    "                              \"Otto\",      \"Goldie\",   \"Stepanie\", \"Nicky\",  \"Ashley\"};\n",
    "\n",
    "constexpr auto sorted = merge_sort(make_span(names), strless);"
   ]
  },
  {
   "cell_type": "code",
   "execution_count": 18,
   "metadata": {
    "slideshow": {
     "slide_type": "fragment"
    }
   },
   "outputs": [
    {
     "name": "stdout",
     "output_type": "stream",
     "text": [
      "Ahmad\n",
      "Ashley\n",
      "Bill\n",
      "Carole\n",
      "Cherelle\n",
      "Dara\n",
      "Elene\n",
      "Goldie\n",
      "Hayley\n",
      "Janae\n",
      "Joannie\n",
      "Manuel\n",
      "Myrtle\n",
      "Nicky\n",
      "Odis\n",
      "Otto\n",
      "Sharice\n",
      "Stepanie\n",
      "Stephenie\n",
      "Taylor\n"
     ]
    }
   ],
   "source": [
    "for (const auto& e : sorted) cout << e << endl;"
   ]
  },
  {
   "cell_type": "markdown",
   "metadata": {
    "slideshow": {
     "slide_type": "slide"
    }
   },
   "source": [
    "### What should be declared `constexpr`?\n",
    "The short answer is \"[all the things](https://www.youtube.com/watch?v=PJwd4JLYJJY).\""
   ]
  },
  {
   "cell_type": "markdown",
   "metadata": {
    "slideshow": {
     "slide_type": "fragment"
    }
   },
   "source": [
    "If a function can be made constexpr, without adding a performance penanlty then make it constexpr."
   ]
  },
  {
   "cell_type": "markdown",
   "metadata": {
    "slideshow": {
     "slide_type": "fragment"
    }
   },
   "source": [
    "Be cautious about declaring variables that require complex calculations as `constexpr`."
   ]
  },
  {
   "cell_type": "markdown",
   "metadata": {
    "slideshow": {
     "slide_type": "fragment"
    }
   },
   "source": [
    "Constructs like ZStrings and ExpressViews explicity made a tradeoff of runtime performance to improve developer productivity. Such gains are easily wiped out by doing too much at compile time."
   ]
  },
  {
   "cell_type": "markdown",
   "metadata": {
    "slideshow": {
     "slide_type": "slide"
    }
   },
   "source": [
    "### Exercise\n",
    "Find something in your product that would be improved using `constexpr`, either by simplifing the code or by directly improving peformance. Measure the results, including compile time impact, and write a summary of what you found."
   ]
  },
  {
   "cell_type": "code",
   "execution_count": null,
   "metadata": {},
   "outputs": [],
   "source": []
  }
 ],
 "metadata": {
  "celltoolbar": "Slideshow",
  "kernelspec": {
   "display_name": "xeus C++14",
   "language": "",
   "name": "xeus-cling-cpp14"
  },
  "language_info": {
   "codemirror_mode": "text/x-c++src",
   "file_extension": ".cpp",
   "mimetype": "text/x-c++src",
   "name": "c++",
   "version": ""
  }
 },
 "nbformat": 4,
 "nbformat_minor": 2
}
