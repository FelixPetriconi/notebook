{
 "cells": [
  {
   "cell_type": "markdown",
   "metadata": {
    "slideshow": {
     "slide_type": "skip"
    },
    "toc": true
   },
   "source": [
    "<h1>Table of Contents<span class=\"tocSkip\"></span></h1>\n",
    "<div class=\"toc\" style=\"margin-top: 1em;\"><ul class=\"toc-item\"><li><span><a href=\"#Futures\" data-toc-modified-id=\"Futures-1\"><span class=\"toc-item-num\">1&nbsp;&nbsp;</span>Futures</a></span><ul class=\"toc-item\"><li><span><a href=\"#Callbacks\" data-toc-modified-id=\"Callbacks-1.1\"><span class=\"toc-item-num\">1.1&nbsp;&nbsp;</span>Callbacks</a></span></li></ul></li></ul></div>"
   ]
  },
  {
   "cell_type": "code",
   "execution_count": 1,
   "metadata": {
    "slideshow": {
     "slide_type": "skip"
    }
   },
   "outputs": [],
   "source": [
    "#include <mutex>\n",
    "#include <string>\n",
    "#include <unordered_set>\n",
    "#include <functional>\n",
    "#include <condition_variable>\n",
    "#include <deque>\n",
    "#include <thread>\n",
    "#include <iostream>\n",
    "\n",
    "using namespace std;"
   ]
  },
  {
   "cell_type": "code",
   "execution_count": 2,
   "metadata": {
    "slideshow": {
     "slide_type": "skip"
    }
   },
   "outputs": [],
   "source": [
    "namespace bcc {\n",
    "\n",
    "class sequential_process {\n",
    "    using task = function<void()>;\n",
    "\n",
    "    mutex _mutex;\n",
    "    condition_variable _condition;\n",
    "    deque<task> _queue;\n",
    "    bool _done = false;\n",
    "\n",
    "    void run_loop();\n",
    "\n",
    "    thread _thread{[this] { run_loop(); }};\n",
    "\n",
    "public:\n",
    "    ~sequential_process();\n",
    "    void async(task f);\n",
    "};\n",
    "    \n",
    "sequential_process::~sequential_process() {\n",
    "    {\n",
    "        lock_guard<mutex> lock(_mutex);\n",
    "        _done = true;\n",
    "    }\n",
    "    _condition.notify_one();\n",
    "    _thread.join();\n",
    "}\n",
    "\n",
    "void sequential_process::async(task f) {\n",
    "    {\n",
    "        lock_guard<mutex> lock(_mutex);\n",
    "        _queue.push_back(move(f));\n",
    "    }\n",
    "    _condition.notify_one();\n",
    "}\n",
    "\n",
    "void sequential_process::run_loop() {\n",
    "    while (true) {\n",
    "        task work;\n",
    "        {\n",
    "            unique_lock<mutex> lock(_mutex);\n",
    "\n",
    "            while (_queue.empty() && !_done) {\n",
    "                _condition.wait(lock);\n",
    "            }\n",
    "\n",
    "            if (_queue.empty()) return;\n",
    "\n",
    "            work = move(_queue.front());\n",
    "            _queue.pop_front();\n",
    "        }\n",
    "        work();\n",
    "    }\n",
    "}\n",
    "    \n",
    "} // namespace bcc\n",
    "\n",
    "using namespace bcc;"
   ]
  },
  {
   "cell_type": "markdown",
   "metadata": {
    "slideshow": {
     "slide_type": "slide"
    }
   },
   "source": [
    "# Futures\n",
    "\n",
    "- Homework from last class, rewrite interned_string as a sequential process"
   ]
  },
  {
   "cell_type": "code",
   "execution_count": 3,
   "metadata": {
    "slideshow": {
     "slide_type": "slide"
    }
   },
   "outputs": [],
   "source": [
    "class interned_string {\n",
    "    struct shared_pool {\n",
    "        mutex _mutex;\n",
    "        unordered_set<string> _pool;\n",
    "\n",
    "        const string* insert(const string& a) {\n",
    "            lock_guard<mutex> lock(_mutex);\n",
    "            return &*_pool.insert(a).first;\n",
    "        }\n",
    "    };\n",
    "\n",
    "    static auto pool() -> shared_pool& {\n",
    "        static shared_pool result;\n",
    "        return result;\n",
    "    }\n",
    "\n",
    "    const std::string* _string;\n",
    "public:\n",
    "    interned_string(const string& a) : _string(pool().insert(a)) {}\n",
    "    const string& str() const { return *_string; }\n",
    "};"
   ]
  },
  {
   "cell_type": "code",
   "execution_count": 4,
   "metadata": {
    "slideshow": {
     "slide_type": "skip"
    }
   },
   "outputs": [],
   "source": [
    ".undo 1"
   ]
  },
  {
   "cell_type": "markdown",
   "metadata": {
    "slideshow": {
     "slide_type": "slide"
    }
   },
   "source": [
    "```cpp\n",
    "struct shared_pool {\n",
    "    unordered_set<string> _pool;\n",
    "    sequential_process _process;\n",
    "\n",
    "    const string* insert(const string& a) {\n",
    "        _process.async([&, _a = a]{\n",
    "            _pool.insert(a).first;\n",
    "        });\n",
    "\n",
    "        return ???;\n",
    "    }\n",
    "};\n",
    "```"
   ]
  },
  {
   "cell_type": "markdown",
   "metadata": {
    "slideshow": {
     "slide_type": "slide"
    }
   },
   "source": [
    "## Callbacks"
   ]
  },
  {
   "cell_type": "code",
   "execution_count": 5,
   "metadata": {
    "slideshow": {
     "slide_type": "fragment"
    }
   },
   "outputs": [],
   "source": [
    "struct shared_pool {\n",
    "    sequential_process _process;\n",
    "    unordered_set<string> _pool;\n",
    "\n",
    "    template <class F> // F models void(const string*)\n",
    "    void insert(string a, F&& f) {\n",
    "        _process.async([this, _a = move(a), _f = forward<F>(f)]{\n",
    "            _f(&*_pool.insert(_a).first);\n",
    "        });\n",
    "    }\n",
    "};"
   ]
  },
  {
   "cell_type": "markdown",
   "metadata": {
    "slideshow": {
     "slide_type": "slide"
    }
   },
   "source": [
    "```cpp\n",
    "class interned_string {\n",
    "    // struct shared_pool\n",
    "\n",
    "    static auto pool() -> shared_pool& {\n",
    "        static shared_pool result;\n",
    "        return result;\n",
    "    }\n",
    "\n",
    "    const std::string* _string;\n",
    "public:\n",
    "    interned_string(const string& a) : _string(pool().insert(a, ???)) {}\n",
    "    const string& str() const { return *_string; }\n",
    "};\n",
    "```"
   ]
  },
  {
   "cell_type": "code",
   "execution_count": 6,
   "metadata": {
    "slideshow": {
     "slide_type": "slide"
    }
   },
   "outputs": [],
   "source": [
    "class interned_string {\n",
    "    // struct shared_pool\n",
    "\n",
    "    static auto pool() -> shared_pool& {\n",
    "        static shared_pool result;\n",
    "        return result;\n",
    "    }\n",
    "\n",
    "    const std::string* _string;\n",
    "    \n",
    "    interned_string(const string* s) : _string(s) {}\n",
    "public:\n",
    "    template <class F> // F models void(interned_string)\n",
    "    static void make(string a, F&& f) {\n",
    "        pool().insert(move(a), [_f = forward<F>(f)](const string* s){\n",
    "            _f(interned_string(s));\n",
    "        });\n",
    "    }\n",
    "    const string& str() const { return *_string; }\n",
    "};"
   ]
  },
  {
   "cell_type": "code",
   "execution_count": 7,
   "metadata": {
    "slideshow": {
     "slide_type": "slide"
    }
   },
   "outputs": [
    {
     "name": "stdout",
     "output_type": "stream",
     "text": [
      "Hello World\n"
     ]
    }
   ],
   "source": [
    "interned_string::make(\"Hello World\"s, [](const interned_string& s){\n",
    "    cout << s.str() << endl;\n",
    "});\n",
    "\n",
    "this_thread::sleep_for(1s);"
   ]
  },
  {
   "cell_type": "markdown",
   "metadata": {
    "slideshow": {
     "slide_type": "slide"
    }
   },
   "source": [
    "- Pros of callbacks:\n",
    "    - Fast, no synchronization required\n",
    "    - Easy to understand\n",
    "- Cons\n",
    "    - Requires code be transformed into functional form\n",
    "    - You must know were a value is going before invocation\n",
    "    - Challenging to make exception safe"
   ]
  },
  {
   "cell_type": "markdown",
   "metadata": {
    "slideshow": {
     "slide_type": "skip"
    }
   },
   "source": [
    "[Part 2 - notebook](./11-futures-pt2.ipynb)"
   ]
  },
  {
   "cell_type": "markdown",
   "metadata": {
    "slideshow": {
     "slide_type": "slide"
    }
   },
   "source": [
    "[Part 2](./11-futures-pt2.slides.html)"
   ]
  },
  {
   "cell_type": "code",
   "execution_count": 8,
   "metadata": {},
   "outputs": [],
   "source": []
  }
 ],
 "metadata": {
  "celltoolbar": "Slideshow",
  "kernelspec": {
   "display_name": "C++14",
   "language": "C++14",
   "name": "xeus-cling-cpp14"
  },
  "language_info": {
   "codemirror_mode": "text/x-c++src",
   "file_extension": ".cpp",
   "mimetype": "text/x-c++src",
   "name": "c++",
   "version": "14"
  },
  "toc": {
   "nav_menu": {},
   "number_sections": true,
   "sideBar": true,
   "skip_h1_title": false,
   "toc_cell": true,
   "toc_position": {},
   "toc_section_display": "block",
   "toc_window_display": false
  }
 },
 "nbformat": 4,
 "nbformat_minor": 2
}
