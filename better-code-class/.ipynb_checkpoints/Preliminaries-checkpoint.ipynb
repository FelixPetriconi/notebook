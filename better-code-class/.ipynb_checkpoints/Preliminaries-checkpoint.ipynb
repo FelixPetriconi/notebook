{
 "cells": [
  {
   "cell_type": "code",
   "execution_count": 1,
   "metadata": {
    "slideshow": {
     "slide_type": "skip"
    }
   },
   "outputs": [],
   "source": [
    "using namespace std;"
   ]
  },
  {
   "cell_type": "markdown",
   "metadata": {
    "slideshow": {
     "slide_type": "skip"
    }
   },
   "source": [
    "## Notes\n",
    "\n",
    "- <span style=\"color:red\">Remember to _Restart & Run All_</span>"
   ]
  },
  {
   "cell_type": "markdown",
   "metadata": {
    "slideshow": {
     "slide_type": "slide"
    }
   },
   "source": [
    "- If you are using connect locally, mute your speaker and mic\n",
    "- If you are remote, mute your mic"
   ]
  },
  {
   "cell_type": "markdown",
   "metadata": {},
   "source": [
    "## Class Information\n",
    "\n",
    "- https://git.corp.adobe.com/better-code/class/wiki"
   ]
  },
  {
   "cell_type": "markdown",
   "metadata": {
    "slideshow": {
     "slide_type": "slide"
    }
   },
   "source": [
    "## Brief History of C++\n",
    "\n",
    "- 1979 Bjarne Stroustrup begins work on C with Classes\n",
    "- 1983 \"C with Classes\" renamed C++\n",
    "- 1985 _The C++ Programming Language_ is published along with first commercial compiler, Cfront\n",
    "- 1989 C++ 2.0 released with Cfront 2.0\n",
    "- 1998 C++ published as ISO standard (C++98) with the STL from Alex Stepanov and Meng Lee\n",
    "- 2003 C++03 ISO standard, minor revisions to C++98\n",
    "- 2011 C++11 Major language update\n",
    "- 2014 C++14 Revisions, minor additions, corrections to C++11\n",
    "- 2017 C++17 Significant (not quite major) update\n",
    "- 2020 ..."
   ]
  },
  {
   "cell_type": "markdown",
   "metadata": {
    "slideshow": {
     "slide_type": "fragment"
    }
   },
   "source": [
    "With C++11 there were significant process changes to encourage working groups to publish Technical Specifications (TS's) for experimental features, language and library, in advance of them being incorporated into the language. The process replaced the prior Technical Report (TR1) process which was used to vet library extensions prior to C++11."
   ]
  },
  {
   "cell_type": "markdown",
   "metadata": {
    "slideshow": {
     "slide_type": "slide"
    }
   },
   "source": [
    "## C++11, C++14, C++17... C++20, TSs...\n",
    "\n",
    "### Clang\n",
    "\n",
    "- 2000 LLVM project is started at University of Illinois at Urbana-Champaign by Vikram Adve and Chris Lattner\n",
    "    - later adding ObjC and C support\n",
    "- 2005 Apple hires Lattner, initially working on Clang OpenGL compiler\n",
    "- 2009 GCC runtime library moves to GPLv3 license, Apple (and others) move to add C++ support to Clang\n",
    "- 2010 Clang++ able to build Boost libraries and passes nearly all tests\n",
    "- Clang now actively developed by Apple, Microsoft, Google, ARM, Sony, Intel, AMD and others\n",
    "- LLVM has spawned numerous other languages, including Swift"
   ]
  },
  {
   "cell_type": "markdown",
   "metadata": {
    "slideshow": {
     "slide_type": "fragment"
    }
   },
   "source": [
    "### Boost\n",
    "\n",
    "- 1998 Beman Dawes and Robert Klarer propose the idea for creating a web based library repository"
   ]
  },
  {
   "cell_type": "markdown",
   "metadata": {
    "slideshow": {
     "slide_type": "slide"
    }
   },
   "source": [
    "### The Free Lunch Is Over\n",
    "\n",
    "- 2005 Herb Sutter publishes [_The Free Lunch Is Over: A Fundamental Turn Toward Concurrency in Software_](http://www.gotw.ca/publications/concurrency-ddj.htm)"
   ]
  },
  {
   "cell_type": "markdown",
   "metadata": {
    "slideshow": {
     "slide_type": "fragment"
    }
   },
   "source": [
    "### Language Evolution\n",
    "\n",
    "- 1987 Need for common functional language identified and work on [Haskell begins](http://haskell.cs.yale.edu/wp-content/uploads/2011/02/history.pdf)\n",
    "- 2005 Joel Spolsky publishes [_The Perils of JavaSchools_](https://www.joelonsoftware.com/2005/12/29/the-perils-of-javaschools-2/)\n",
    "- JavaScript Transpilers: Babel, CoffeeScript, TypeScript, Dart, GWT, [Elm](http://elm-lang.org/), ..."
   ]
  },
  {
   "cell_type": "markdown",
   "metadata": {
    "slideshow": {
     "slide_type": "slide"
    }
   },
   "source": [
    "## Online Resources\n",
    "\n",
    "### Information:\n",
    "- [r/cpp](https://www.reddit.com/r/cpp/): Reddit forum to find news and blogs\n",
    "- [Cpplang Slack](https://cpplang.now.sh/): Get your questions answered fast\n",
    "- [CppCast](http://cppcast.com/): The only podcast dedicated to C++\n",
    "- [isocpp](https://isocpp.org/): The standard committee and recent news\n",
    "- [stackoverflow](https://stackoverflow.com/questions/tagged/c%2B%2B): Get your questions answered well\n",
    "\n",
    "### Reference:\n",
    "- [cppreference](http://en.cppreference.com/w/): The best online reference for C++\n",
    "- [working draft](http://www.open-std.org/jtc1/sc22/wg21/docs/papers/2017/n4700.pdf): The definitive answer\n",
    "\n",
    "### Tools:\n",
    "- [Compiler Explorer (godbolt)](https://godbolt.org/): See what the code generates\n",
    "- [Coliru](http://coliru.stacked-crooked.com/): Just run some code\n",
    "- [Clang in Browser](https://tbfleming.github.io/cib/): Demo of Clang to wasm in the browser\n"
   ]
  },
  {
   "cell_type": "markdown",
   "metadata": {
    "slideshow": {
     "slide_type": "slide"
    }
   },
   "source": [
    "## Other Tools\n",
    "\n",
    "- [clang-tidy](http://clang.llvm.org/extra/clang-tidy/): Diagnose and fix your code\n",
    "- [include-what-you-use](https://include-what-you-use.org/): Help to prune the include lists and add direct dependencies\n",
    "- [cling](https://root.cern.ch/cling): Interpreted C++\n",
    "- [jupyter](https://jupyter.org/): Data science notebook, can work with cling\n",
    "- Xcode includes clang static analyzer and sanitizers"
   ]
  },
  {
   "cell_type": "markdown",
   "metadata": {
    "slideshow": {
     "slide_type": "fragment"
    }
   },
   "source": [
    "Moving to `cmake` would simplify the process of using many tools."
   ]
  },
  {
   "cell_type": "markdown",
   "metadata": {
    "slideshow": {
     "slide_type": "slide"
    }
   },
   "source": [
    "# Demo"
   ]
  },
  {
   "cell_type": "code",
   "execution_count": 2,
   "metadata": {
    "slideshow": {
     "slide_type": "slide"
    }
   },
   "outputs": [],
   "source": [
    "vector<int> a = {30, 20, 40, 10};\n",
    "sort(begin(a), end(a));"
   ]
  },
  {
   "cell_type": "code",
   "execution_count": 3,
   "metadata": {
    "slideshow": {
     "slide_type": "-"
    }
   },
   "outputs": [],
   "source": [
    "// for(const auto& e : a) cout << e << endl;"
   ]
  },
  {
   "cell_type": "code",
   "execution_count": null,
   "metadata": {},
   "outputs": [],
   "source": []
  }
 ],
 "metadata": {
  "celltoolbar": "Slideshow",
  "kernelspec": {
   "display_name": "xeus C++14",
   "language": "",
   "name": "xeus-cling-cpp14"
  },
  "language_info": {
   "codemirror_mode": "text/x-c++src",
   "file_extension": ".cpp",
   "mimetype": "text/x-c++src",
   "name": "c++",
   "version": ""
  }
 },
 "nbformat": 4,
 "nbformat_minor": 2
}
