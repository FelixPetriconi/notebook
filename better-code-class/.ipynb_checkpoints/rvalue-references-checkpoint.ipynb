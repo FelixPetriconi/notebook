{
 "cells": [
  {
   "cell_type": "code",
   "execution_count": 1,
   "metadata": {
    "scrolled": false,
    "slideshow": {
     "slide_type": "skip"
    }
   },
   "outputs": [],
   "source": [
    "#include \"../common.hpp\"\n",
    "\n",
    "using namespace std;\n",
    "using namespace std::string_literals;"
   ]
  },
  {
   "cell_type": "markdown",
   "metadata": {
    "slideshow": {
     "slide_type": "slide"
    }
   },
   "source": [
    "## RValue References\n",
    "\n",
    "- _rvalue_ (right hand value) is an unnamed temporary\n",
    "- `T&&` is used to denote a reference that can only bind to a temporary"
   ]
  },
  {
   "cell_type": "markdown",
   "metadata": {
    "slideshow": {
     "slide_type": "fragment"
    }
   },
   "source": [
    "```cpp\n",
    "string str = \"Hello\"s;\n",
    "string&& ref = str;\n",
    "```\n",
    "---\n",
    "```\n",
    "input_line_9:3:10: error: rvalue reference to type 'basic_string<...>' cannot bind to lvalue of type\n",
    "      'basic_string<...>'\n",
    "string&& ref = str;\n",
    "         ^     ~~~\n",
    "```"
   ]
  },
  {
   "cell_type": "code",
   "execution_count": 2,
   "metadata": {
    "slideshow": {
     "slide_type": "fragment"
    }
   },
   "outputs": [],
   "source": [
    "string&& ref = \"Hello\"s;"
   ]
  },
  {
   "cell_type": "markdown",
   "metadata": {
    "slideshow": {
     "slide_type": "slide"
    }
   },
   "source": [
    "- A temporary value is safe to _consume_\n",
    "- Useful to avoid copies\n",
    "- A constructor taking the class type by rvalue reference is known as a _move constructor_\n",
    "    - Similar to a copy constructor but it consumes it's argument"
   ]
  },
  {
   "cell_type": "code",
   "execution_count": 3,
   "metadata": {
    "slideshow": {
     "slide_type": "fragment"
    }
   },
   "outputs": [],
   "source": [
    "class movable {\n",
    "    int* _some_data;\n",
    "public:\n",
    "    movable(movable&& x) noexcept : _some_data{x._some_data} // consume x\n",
    "    { x._some_data = nullptr; } // leave x destructible\n",
    "    \n",
    "    //...\n",
    "};"
   ]
  },
  {
   "cell_type": "markdown",
   "metadata": {
    "slideshow": {
     "slide_type": "slide"
    }
   },
   "source": [
    "### Return Value Optimization\n",
    "- _Return value optimization_ (RVO) avoids a copy (or move) on return by constructing the result in place\n",
    "- RVO applies to _local named values_ and rvalue results\n",
    "- Allowed optimziation since C++03, required by C++17"
   ]
  },
  {
   "cell_type": "code",
   "execution_count": 4,
   "metadata": {
    "slideshow": {
     "slide_type": "fragment"
    }
   },
   "outputs": [
    {
     "name": "stdout",
     "output_type": "stream",
     "text": [
      "annotate ctor\n"
     ]
    }
   ],
   "source": [
    "annotate f() {\n",
    "    annotate x;\n",
    "    return x;\n",
    "}\n",
    "\n",
    "annotate y = f();"
   ]
  },
  {
   "cell_type": "markdown",
   "metadata": {
    "slideshow": {
     "slide_type": "slide"
    }
   },
   "source": [
    "- Arguments to functions are in the caller scope\n",
    "- RVO applies to passing an argument by value"
   ]
  },
  {
   "cell_type": "code",
   "execution_count": 5,
   "metadata": {
    "slideshow": {
     "slide_type": "fragment"
    }
   },
   "outputs": [
    {
     "name": "stdout",
     "output_type": "stream",
     "text": [
      "annotate ctor\n",
      "annotate dtor\n"
     ]
    }
   ],
   "source": [
    "void g(annotate x) { }\n",
    "g(f());"
   ]
  },
  {
   "cell_type": "markdown",
   "metadata": {
    "slideshow": {
     "slide_type": "slide"
    }
   },
   "source": [
    "- RVO does not apply to returning value argument\n",
    "- C++11 defines returning a value argument as a _move_ operation"
   ]
  },
  {
   "cell_type": "code",
   "execution_count": 6,
   "metadata": {
    "slideshow": {
     "slide_type": "fragment"
    }
   },
   "outputs": [
    {
     "name": "stdout",
     "output_type": "stream",
     "text": [
      "annotate ctor\n",
      "annotate move-ctor\n",
      "annotate dtor\n"
     ]
    }
   ],
   "source": [
    "annotate h(annotate x) {\n",
    "    return x;\n",
    "}\n",
    "\n",
    "annotate z = h(f());"
   ]
  },
  {
   "cell_type": "markdown",
   "metadata": {
    "slideshow": {
     "slide_type": "slide"
    }
   },
   "source": [
    "### Using RValue Refs and RVO to Avoid Copies\n",
    "#### Make Classes Movable\n",
    "- Provide a move constructor and move assignment operator\n",
    "    - Compiler will provide them implicitely if\n",
    "        - there are no user declared copy constructors, copy assignment operators, or destructors\n",
    "        - all non-static data members and base classes are movable\n",
    "    - To ensure you have them, declare them `= default`\n",
    "    - Move constructor and move assignment should be declared `noexcept`\n",
    "    - Post-condition of moved from object is _partially formed_ & can alias rhs for move assignment\n",
    "    - Otherwise can assume no aliasing"
   ]
  },
  {
   "cell_type": "markdown",
   "metadata": {
    "slideshow": {
     "slide_type": "slide"
    }
   },
   "source": [
    "Example:"
   ]
  },
  {
   "cell_type": "code",
   "execution_count": 7,
   "metadata": {
    "slideshow": {
     "slide_type": "fragment"
    }
   },
   "outputs": [],
   "source": [
    "class example_01 {\n",
    "    int* _data;\n",
    "public:\n",
    "    explicit example_01(int x) : _data(new int(x)) { }\n",
    "    ~example_01() { delete _data; }\n",
    "    \n",
    "    example_01(const example_01&) = delete;\n",
    "    example_01& operator=(const example_01&) = delete;\n",
    "    \n",
    "    example_01(example_01&& x) noexcept : _data(x._data) { x._data = nullptr; }\n",
    "    example_01& operator=(example_01&& x) noexcept {\n",
    "        delete _data;\n",
    "        _data = x._data;\n",
    "        x._data = nullptr;\n",
    "        return *this;\n",
    "    }\n",
    "    \n",
    "    explicit operator int () { return *_data; }\n",
    "};"
   ]
  },
  {
   "cell_type": "code",
   "execution_count": 8,
   "metadata": {
    "slideshow": {
     "slide_type": "slide"
    }
   },
   "outputs": [],
   "source": [
    "class example_02 {\n",
    "    unique_ptr<int> _data;\n",
    "public:\n",
    "    explicit example_02(int x) : _data(make_unique<int>(x)) { }\n",
    "    // implicit dtor\n",
    "    \n",
    "    // implicit deleted copy-ctor and copy-assignment\n",
    "    \n",
    "    /*\n",
    "        move-ctor and move-assignment would be provided by default, but declaring\n",
    "        them ensures they are provided and correct.\n",
    "    */\n",
    "    example_02(example_02&&) noexcept = default;\n",
    "    example_02& operator=(example_02&&) noexcept = default;\n",
    "    \n",
    "    explicit operator int () { return *_data; }\n",
    "};"
   ]
  },
  {
   "cell_type": "markdown",
   "metadata": {
    "slideshow": {
     "slide_type": "slide"
    }
   },
   "source": [
    "#### The Self Swap Problem\n",
    "What is the post condition of:"
   ]
  },
  {
   "cell_type": "code",
   "execution_count": 9,
   "metadata": {
    "slideshow": {
     "slide_type": "-"
    }
   },
   "outputs": [],
   "source": [
    "string s = \"Hello World!\";\n",
    "swap(s, s);"
   ]
  },
  {
   "cell_type": "code",
   "execution_count": 10,
   "metadata": {
    "slideshow": {
     "slide_type": "fragment"
    }
   },
   "outputs": [
    {
     "name": "stdout",
     "output_type": "stream",
     "text": [
      "Hello World!\n"
     ]
    }
   ],
   "source": [
    "cout << s << endl;"
   ]
  },
  {
   "cell_type": "code",
   "execution_count": 1,
   "metadata": {},
   "outputs": [
    {
     "name": "stderr",
     "output_type": "stream",
     "text": [
      "\u001b[1minput_line_7:2:2: \u001b[0m\u001b[0;1;31merror: \u001b[0m\u001b[1muse of undeclared identifier 's'\u001b[0m\n",
      " s\n",
      "\u001b[0;1;32m ^\n",
      "\u001b[0m"
     ]
    }
   ],
   "source": [
    "s"
   ]
  },
  {
   "cell_type": "markdown",
   "metadata": {
    "slideshow": {
     "slide_type": "slide"
    }
   },
   "source": [
    "`std::swap()` is defined as:\n",
    "```cpp\n",
    "template <class T>\n",
    "void swap(T& a, T& b) {\n",
    "    T tmp = move(a);\n",
    "    a = move(b); // if a and b alias, then b has been moved from\n",
    "    b = move(tmp);\n",
    "}\n",
    "```"
   ]
  },
  {
   "cell_type": "markdown",
   "metadata": {
    "slideshow": {
     "slide_type": "slide"
    }
   },
   "source": [
    "```cpp\n",
    "    example_01& operator=(example_01&& x) noexcept {\n",
    "        delete _data;\n",
    "        _data = x._data;\n",
    "        x._data = nullptr;\n",
    "        return *this;\n",
    "    }\n",
    "```\n",
    "\n",
    "Is this okay?"
   ]
  },
  {
   "cell_type": "code",
   "execution_count": 11,
   "metadata": {
    "slideshow": {
     "slide_type": "fragment"
    }
   },
   "outputs": [],
   "source": [
    "example_01 e1(42);\n",
    "swap(e1, e1);"
   ]
  },
  {
   "cell_type": "code",
   "execution_count": 12,
   "metadata": {
    "slideshow": {
     "slide_type": "fragment"
    }
   },
   "outputs": [
    {
     "name": "stdout",
     "output_type": "stream",
     "text": [
      "42\n"
     ]
    }
   ],
   "source": [
    "cout << static_cast<int>(e1) << endl;"
   ]
  },
  {
   "cell_type": "markdown",
   "metadata": {
    "slideshow": {
     "slide_type": "slide"
    }
   },
   "source": [
    "Testing"
   ]
  }
 ],
 "metadata": {
  "celltoolbar": "Slideshow",
  "kernelspec": {
   "display_name": "xeus C++14",
   "language": "",
   "name": "xeus-cling-cpp14"
  },
  "language_info": {
   "codemirror_mode": "text/x-c++src",
   "file_extension": ".cpp",
   "mimetype": "text/x-c++src",
   "name": "c++",
   "version": ""
  }
 },
 "nbformat": 4,
 "nbformat_minor": 2
}
