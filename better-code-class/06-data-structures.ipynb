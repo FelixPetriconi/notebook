{
 "cells": [
  {
   "cell_type": "markdown",
   "metadata": {
    "slideshow": {
     "slide_type": "slide"
    }
   },
   "source": [
    "# Data Structures and Structured Data"
   ]
  },
  {
   "cell_type": "markdown",
   "metadata": {
    "slideshow": {
     "slide_type": "slide"
    }
   },
   "source": [
    "## Definitions\n",
    "> *Classic:* A _data structure_ is a format for organizing and storing data.\n",
    "\n",
    "- Doesn't define _structure_, replaces it with the related word, _format_\n",
    "- In mathematics, _structure_ is defined as:\n",
    "\n",
    "> A _structure_ on a set consists of additional entities that, in some manner, relate to the set, endowing the collection with meaning or significance."
   ]
  },
  {
   "cell_type": "markdown",
   "metadata": {
    "slideshow": {
     "slide_type": "slide"
    }
   },
   "source": [
    "- A type is a pattern for storing and modifying objects\n",
    "- A type is a structure that relates a set of objects to a set of values\n",
    "    - This is a _representational_ relationship\n",
    "- A representational relationship creates a _trivial data structure_ consisting of a single value\n",
    "\n",
    "- Values are related to other values, i.e. $3 \\neq 4$"
   ]
  },
  {
   "cell_type": "markdown",
   "metadata": {
    "slideshow": {
     "slide_type": "slide"
    }
   },
   "source": [
    "- Because objects exist in memory, they have a _physical_ relationship\n",
    "\n",
    "> A _data structure_ is a structure utilizing value, representational, and physical relationships to encode semantic relationships on a collection of objects\n",
    "\n",
    "- The choice of encoding can make a dramatic difference on the performance of operations"
   ]
  },
  {
   "cell_type": "markdown",
   "metadata": {
    "slideshow": {
     "slide_type": "slide"
    }
   },
   "source": [
    "<center>\n",
    "    <img src='img/memory-hierarchy.svg' alt='Memory Hierarchy'>\n",
    "    <br>\n",
    "    <em>Data from <a href='http://ithare.com/infographics-operation-costs-in-cpu-clock-cycles/'>IT Hare</a></em>\n",
    "</center>"
   ]
  },
  {
   "cell_type": "markdown",
   "metadata": {
    "slideshow": {
     "slide_type": "slide"
    }
   },
   "source": [
    "- A data structure is created anytime a relationship is established between objects\n",
    "- To avoid confusion we will reserve the term _data structure_ to refer to types with a set of invariants which insure a set of relationship are maintained. i.e. standard containers\n",
    "- More transient data structures will be referred to as _structured data_"
   ]
  },
  {
   "cell_type": "markdown",
   "metadata": {
    "slideshow": {
     "slide_type": "slide"
    }
   },
   "source": [
    "## Problem"
   ]
  },
  {
   "cell_type": "code",
   "execution_count": 1,
   "metadata": {
    "execution": {
     "iopub.execute_input": "2020-12-21T05:11:21.409512Z",
     "iopub.status.busy": "2020-12-21T05:11:21.408747Z",
     "iopub.status.idle": "2020-12-21T05:11:21.410169Z",
     "shell.execute_reply": "2020-12-21T05:11:21.410807Z"
    },
    "slideshow": {
     "slide_type": "slide"
    }
   },
   "outputs": [],
   "source": [
    "template <class I> // I models RandomAccessIterator\n",
    "void sort_subrange_0(I f, I l, I sf, I sl) {\n",
    "    std::sort(f, l);\n",
    "}\n",
    "\n",
    "template <class I> // I models RandomAccessIterator\n",
    "void sort_subrange(I f, I l, I sf, I sl) {\n",
    "    if (f != sf && sf != l) {\n",
    "        std::nth_element(f, sf, l); // partition [f, l) at sf\n",
    "        ++sf;\n",
    "    }\n",
    "    std::partial_sort(sf, sl, l);\n",
    "}"
   ]
  },
  {
   "cell_type": "markdown",
   "metadata": {
    "slideshow": {
     "slide_type": "slide"
    }
   },
   "source": [
    "<center>\n",
    "    <img src='img/sort-v-sort-subrange.png' alt='Sort v Sort Subrange'>\n",
    "    <br>\n",
    "    <em><a href='http://quick-bench.com/C0fww_d39OVBvCnoNrXUN5XU0nE'>Benchmark Code</a></em>\n",
    "</center>"
   ]
  },
  {
   "cell_type": "code",
   "execution_count": null,
   "metadata": {},
   "outputs": [],
   "source": []
  }
 ],
 "metadata": {
  "kernelspec": {
   "display_name": "C++17",
   "language": "C++17",
   "name": "xcpp17"
  },
  "language_info": {
   "codemirror_mode": "text/x-c++src",
   "file_extension": ".cpp",
   "mimetype": "text/x-c++src",
   "name": "c++",
   "version": "17"
  }
 },
 "nbformat": 4,
 "nbformat_minor": 4
}
