{
 "cells": [
  {
   "cell_type": "markdown",
   "metadata": {},
   "source": [
    "# Data Structures and Structured Data\n",
    "## Definitions\n",
    "> A _data structure_ is a format for organizing and storing data.\n",
    "\n",
    "- Doesn't define _structure_, replaces it with the related word, _format_\n",
    "- In mathematics, _structure_ is defined as:\n",
    "\n",
    "> A _structure_ on a set consists of additional entities that, in some manner, relate to the set, endowing the collection with meaning or significance.\n",
    "\n",
    "- A type is a pattern for storing and modifying objects\n",
    "- A type is a structure that relates a set of objects to a set of values\n",
    "- This is a _representational_ relationship\n",
    "- A representational relationship creates a _trivial data structure_ consisting of a single value\n",
    "\n",
    "- Values are related to other values, i.e. $3 \\neq 4$"
   ]
  },
  {
   "cell_type": "markdown",
   "metadata": {},
   "source": [
    "- Because objects exist in memory, they have a _physical_ relationship\n",
    "\n",
    "> A _data structure_ is a structure utilizing value, representational, and physical relationships to encode semantic relationships on a collection of objects\n",
    "\n",
    "- The choice of encoding can make a dramatic difference on the performance of operations\n",
    "\n",
    "**Insert chart of performance of memory hierarchy**\n",
    "\n",
    "- Anytime a relationship is established between objects, a data structure is created\n",
    "- However, to avoid confusion we will reserve the term _data structure_ to refer to types with a set of invariants which insure a set of relationship are maintained. i.e. A container.\n",
    "- More transient data structures will be referred to as _structured data_\n",
    "\n",
    "## Problem"
   ]
  },
  {
   "cell_type": "code",
   "execution_count": null,
   "metadata": {},
   "outputs": [],
   "source": [
    "template <class I> // I models RandomAccessIterator\n",
    "void sort_subrange_0(I f, I l, I sf, I sl) {\n",
    "    std::sort(f, l);\n",
    "}\n",
    "\n",
    "template <class I> // I models RandomAccessIterator\n",
    "void sort_subrange(I f, I l, I sf, I sl) {\n",
    "    std::nth_element(f, sf, l); // partition [f, l) at sf\n",
    "    if (sf != l) {\n",
    "        ++sf;\n",
    "        std::partial_sort(sf, sl, l);\n",
    "    }\n",
    "}"
   ]
  },
  {
   "cell_type": "markdown",
   "metadata": {},
   "source": [
    "[Benchmark](http://quick-bench.com/FqOyKLpH-jOhM1bgTWn3QuFG1qc)"
   ]
  }
 ],
 "metadata": {
  "kernelspec": {
   "display_name": "C++17",
   "language": "C++17",
   "name": "xcpp17"
  },
  "language_info": {
   "codemirror_mode": "text/x-c++src",
   "file_extension": ".cpp",
   "mimetype": "text/x-c++src",
   "name": "c++",
   "version": "17"
  }
 },
 "nbformat": 4,
 "nbformat_minor": 4
}
