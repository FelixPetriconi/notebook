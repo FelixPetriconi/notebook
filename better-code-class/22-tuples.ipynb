{
 "cells": [
  {
   "cell_type": "code",
   "execution_count": 1,
   "metadata": {
    "slideshow": {
     "slide_type": "skip"
    }
   },
   "outputs": [],
   "source": [
    "#include <iostream>\n",
    "#include <string>\n",
    "#include <tuple>\n",
    "#include <future>\n",
    "\n",
    "#include \"../common.hpp\"\n",
    "\n",
    "using namespace std;"
   ]
  },
  {
   "cell_type": "markdown",
   "metadata": {
    "slideshow": {
     "slide_type": "slide"
    }
   },
   "source": [
    "# Tuples, Parameter Packs, & Initializer Lists \n",
    "- `tuples`, parameter packs (variadic templates), and initializer lists are closely related\n",
    "    - IMO, they should be the same thing\n",
    "    - They each provide a distinct set of capabilities\n",
    "    - Learn to use them in conjunction"
   ]
  },
  {
   "cell_type": "markdown",
   "metadata": {
    "slideshow": {
     "slide_type": "slide"
    }
   },
   "source": [
    "## `tuple`\n",
    "- `std::tuple` is a generalization of `std::pair`\n",
    "    - `tuple` is a standard library component, implemented using parameter packs\n",
    "    - `tuple` holds an arbitrary number of elements of arbitrary type (including none)"
   ]
  },
  {
   "cell_type": "code",
   "execution_count": 2,
   "metadata": {
    "slideshow": {
     "slide_type": "fragment"
    }
   },
   "outputs": [],
   "source": [
    "{\n",
    "    tuple<> a; // empty\n",
    "    tuple<int> b = 5;\n",
    "    tuple<int, string> c = {5, \"Hello World!\"s};\n",
    "    tuple<int, string, double> d = {5, \"Hello World!\"s, 42.5};\n",
    "}"
   ]
  },
  {
   "cell_type": "markdown",
   "metadata": {
    "slideshow": {
     "slide_type": "slide"
    }
   },
   "source": [
    "- A tuple can be constructed from a set of arguments using `make_tuple`\n",
    "    - Or using deduction guides (C++17)"
   ]
  },
  {
   "cell_type": "code",
   "execution_count": 3,
   "metadata": {
    "slideshow": {
     "slide_type": "fragment"
    }
   },
   "outputs": [],
   "source": [
    "{\n",
    "    auto x = make_tuple(10, 3.0, \"Hello World!\"s);\n",
    "}"
   ]
  },
  {
   "cell_type": "code",
   "execution_count": 4,
   "metadata": {
    "slideshow": {
     "slide_type": "fragment"
    }
   },
   "outputs": [],
   "source": [
    "{\n",
    "    tuple x = {10, 3.0, \"Hello World!\"s}; // since C++17\n",
    "}"
   ]
  },
  {
   "cell_type": "markdown",
   "metadata": {
    "slideshow": {
     "slide_type": "slide"
    }
   },
   "source": [
    "- `get<>()` is used to retrieve an element from a tuple"
   ]
  },
  {
   "cell_type": "code",
   "execution_count": 5,
   "metadata": {
    "slideshow": {
     "slide_type": "fragment"
    }
   },
   "outputs": [
    {
     "name": "stdout",
     "output_type": "stream",
     "text": [
      "3.2\n"
     ]
    }
   ],
   "source": [
    "{\n",
    "    tuple x = {10, 3.2, \"Hello World!\"s};\n",
    "    cout << get<1>(x) << endl;\n",
    "}"
   ]
  },
  {
   "cell_type": "markdown",
   "metadata": {
    "slideshow": {
     "slide_type": "slide"
    }
   },
   "source": [
    "- `tuple_element_t<>` is used to retrieve an element type from a tuple"
   ]
  },
  {
   "cell_type": "code",
   "execution_count": 6,
   "metadata": {
    "slideshow": {
     "slide_type": "fragment"
    }
   },
   "outputs": [
    {
     "name": "stdout",
     "output_type": "stream",
     "text": [
      "d\n"
     ]
    }
   ],
   "source": [
    "{\n",
    "    tuple x = { 10, 3.2, \"Hello World!\"s };\n",
    "    cout << typeid(tuple_element_t<1, decltype(x)>).name() << endl;\n",
    "}"
   ]
  },
  {
   "cell_type": "markdown",
   "metadata": {
    "slideshow": {
     "slide_type": "slide"
    }
   },
   "source": [
    "- `tuple_size_v<>` is used to get the number of elements in a tuple"
   ]
  },
  {
   "cell_type": "code",
   "execution_count": 7,
   "metadata": {
    "slideshow": {
     "slide_type": "fragment"
    }
   },
   "outputs": [
    {
     "name": "stdout",
     "output_type": "stream",
     "text": [
      "3\n"
     ]
    }
   ],
   "source": [
    "{\n",
    "    tuple x = { 10, 3.0, \"Hello World!\"s };\n",
    "    cout << tuple_size_v<decltype(x)> << endl;\n",
    "}"
   ]
  },
  {
   "cell_type": "markdown",
   "metadata": {
    "slideshow": {
     "slide_type": "slide"
    }
   },
   "source": [
    "- The `tie()` function creates a `tuple` of l-value references\n",
    "    - A common use is to us `tie()` to extract the elements of a `tuple`"
   ]
  },
  {
   "cell_type": "code",
   "execution_count": 8,
   "metadata": {
    "slideshow": {
     "slide_type": "fragment"
    }
   },
   "outputs": [
    {
     "name": "stdout",
     "output_type": "stream",
     "text": [
      "10, Hello World!\n"
     ]
    }
   ],
   "source": [
    "{\n",
    "    int a;\n",
    "    string b;\n",
    "    \n",
    "    tie(a, b) = tuple{10, \"Hello World!\"s};\n",
    "    cout << a << \", \" << b << endl;\n",
    "}"
   ]
  },
  {
   "cell_type": "markdown",
   "metadata": {
    "slideshow": {
     "slide_type": "slide"
    }
   },
   "source": [
    "- You can use `ignore` with `tie()` to skip any elements"
   ]
  },
  {
   "cell_type": "code",
   "execution_count": 9,
   "metadata": {
    "slideshow": {
     "slide_type": "fragment"
    }
   },
   "outputs": [
    {
     "name": "stdout",
     "output_type": "stream",
     "text": [
      "Hello World!\n"
     ]
    }
   ],
   "source": [
    "{\n",
    "    string a;\n",
    "    \n",
    "    tie(ignore, a) = tuple{10, \"Hello World!\"s};\n",
    "    cout << a << endl;\n",
    "}"
   ]
  },
  {
   "cell_type": "markdown",
   "metadata": {
    "slideshow": {
     "slide_type": "slide"
    }
   },
   "source": [
    "- With C++17 you can use structured bindings to extract the elements"
   ]
  },
  {
   "cell_type": "code",
   "execution_count": 10,
   "metadata": {
    "slideshow": {
     "slide_type": "fragment"
    }
   },
   "outputs": [
    {
     "name": "stdout",
     "output_type": "stream",
     "text": [
      "10, Hello World!\n"
     ]
    }
   ],
   "source": [
    "{\n",
    "    auto [a, b] = tuple{10, \"Hello World!\"s};\n",
    "    cout << a << \", \" << b << endl;\n",
    "}"
   ]
  },
  {
   "cell_type": "markdown",
   "metadata": {
    "slideshow": {
     "slide_type": "fragment"
    }
   },
   "source": [
    "- However, there is no `ignore` equivalent"
   ]
  },
  {
   "cell_type": "markdown",
   "metadata": {
    "slideshow": {
     "slide_type": "slide"
    }
   },
   "source": [
    "- `tie()` is also useful for class reflection\n",
    "    - `tuple` provides lexicographical comparisons"
   ]
  },
  {
   "cell_type": "code",
   "execution_count": 11,
   "metadata": {
    "slideshow": {
     "slide_type": "fragment"
    }
   },
   "outputs": [],
   "source": [
    "class example1 {\n",
    "    int _a;\n",
    "    string _b;\n",
    "    bool _c;\n",
    "\n",
    "    auto as_tuple() const { return tie(_a, _b, _c); }\n",
    "public:\n",
    "    example1(int a, string b, bool c) : _a(move(a)), _b(move(b)), _c(move(c)) { }\n",
    "    \n",
    "    friend inline bool operator==(const example1& x, const example1& y) {\n",
    "        return x.as_tuple() == y.as_tuple();\n",
    "    }\n",
    "    friend inline bool operator<(const example1& x, const example1& y) {\n",
    "        return x.as_tuple() < y.as_tuple();\n",
    "    }\n",
    "    //...\n",
    "};"
   ]
  },
  {
   "cell_type": "code",
   "execution_count": 12,
   "metadata": {
    "slideshow": {
     "slide_type": "slide"
    }
   },
   "outputs": [
    {
     "name": "stdout",
     "output_type": "stream",
     "text": [
      "x == x: true\n",
      "x == y: false\n",
      "x < y: true\n",
      "y < x: false\n",
      "x < x: false\n"
     ]
    }
   ],
   "source": [
    "{\n",
    "    example1 x(10, \"Hello\", false);\n",
    "    example1 y(10, \"World\", false);\n",
    "    \n",
    "    cout << boolalpha;\n",
    "    cout << \"x == x: \" << (x == x) << endl;\n",
    "    cout << \"x == y: \" << (x == y) << endl;\n",
    "    cout << \"x < y: \" << (x < y) << endl;\n",
    "    cout << \"y < x: \" << (y < x) << endl;\n",
    "    cout << \"x < x: \" << (x < x) << endl;\n",
    "}"
   ]
  },
  {
   "cell_type": "markdown",
   "metadata": {
    "slideshow": {
     "slide_type": "slide"
    }
   },
   "source": [
    "## Parameter Packs\n",
    "- A type parameter pack is a template argument representing a sequence of types\n",
    "- A function parameter pack is a set of function arguments matching a type parameter pack"
   ]
  },
  {
   "cell_type": "code",
   "execution_count": 13,
   "metadata": {
    "slideshow": {
     "slide_type": "fragment"
    }
   },
   "outputs": [],
   "source": [
    "template <class... Args> // Args is a type parameter pack\n",
    "void example_fn1(Args... args); // Args... is a pack expansion\n",
    "                                // args is a function parameter pack"
   ]
  },
  {
   "cell_type": "markdown",
   "metadata": {
    "slideshow": {
     "slide_type": "slide"
    }
   },
   "source": [
    "- Although one might think that `Args` would be a tuple type and `args` a tuple instance that is not the case"
   ]
  },
  {
   "cell_type": "markdown",
   "metadata": {
    "slideshow": {
     "slide_type": "fragment"
    }
   },
   "source": [
    "```cpp\n",
    "template <class... Args>\n",
    "void example_fn1(Args... args) {\n",
    "    auto x = args;\n",
    "}\n",
    "```\n",
    "---\n",
    "```\n",
    "input_line_26:3:14: error: initializer contains unexpanded parameter pack 'args'\n",
    "    auto x = args;\n",
    "             ^~~~\n",
    "```"
   ]
  },
  {
   "cell_type": "markdown",
   "metadata": {
    "slideshow": {
     "slide_type": "slide"
    }
   },
   "source": [
    "- In order to use a parameter pack, it must be _expanded_ with `...`"
   ]
  },
  {
   "cell_type": "code",
   "execution_count": 14,
   "metadata": {
    "slideshow": {
     "slide_type": "fragment"
    }
   },
   "outputs": [],
   "source": [
    "template <class... Args>\n",
    "void example_fn2(Args... args) {\n",
    "    tuple x = { args... }; // expand parameter pack into a tuple\n",
    "}"
   ]
  },
  {
   "cell_type": "markdown",
   "metadata": {
    "slideshow": {
     "slide_type": "slide"
    }
   },
   "source": [
    "- The pack expansion is the equivalent of replacing it with a comma separated list `arg1, arg2, arg3, ...`\n",
    "    - and can be used almost anyplace a comma separated list is allowed\n",
    "- The expansion can also occur after a valid subexpression containing the parameter pack\n",
    "    - In which case the subexpression is repeated"
   ]
  },
  {
   "cell_type": "code",
   "execution_count": 15,
   "metadata": {
    "slideshow": {
     "slide_type": "fragment"
    }
   },
   "outputs": [],
   "source": [
    "// A C++14 implementation of make_tuple()\n",
    "\n",
    "template <class... Args>\n",
    "auto make_tuple1(\n",
    "    Args&&... args) { // type parameter pack expansion to forward references\n",
    "    return tuple<decay_t<Args>...>(\n",
    "        forward<Args>(args)...); // type and function parameter pack expansions\n",
    "}"
   ]
  },
  {
   "cell_type": "code",
   "execution_count": 16,
   "metadata": {
    "slideshow": {
     "slide_type": "slide"
    }
   },
   "outputs": [
    {
     "name": "stdout",
     "output_type": "stream",
     "text": [
      "10, Hello, false\n"
     ]
    }
   ],
   "source": [
    "{\n",
    "auto [a, b, c] = make_tuple1(10, \"Hello\", false);\n",
    "cout << a << \", \" << b << \", \" << c << endl;\n",
    "}"
   ]
  },
  {
   "cell_type": "markdown",
   "metadata": {
    "slideshow": {
     "slide_type": "slide"
    }
   },
   "source": [
    "- C++17 adds _fold expressions_, this allows parameter packs to be expanded with an arbitrary binary function"
   ]
  },
  {
   "cell_type": "code",
   "execution_count": 17,
   "metadata": {
    "slideshow": {
     "slide_type": "fragment"
    }
   },
   "outputs": [],
   "source": [
    "template <class T, class... Args>\n",
    "auto sum(T&& initial, Args&&... args) {\n",
    "    return (forward<T>(initial) + ... + forward<Args>(args));\n",
    "}"
   ]
  },
  {
   "cell_type": "code",
   "execution_count": 18,
   "metadata": {
    "slideshow": {
     "slide_type": "fragment"
    }
   },
   "outputs": [
    {
     "name": "stdout",
     "output_type": "stream",
     "text": [
      "9\n",
      "Hello Class!\n"
     ]
    }
   ],
   "source": [
    "{\n",
    "    cout << sum(1, 3, 5) << endl;\n",
    "    cout << sum(\"Hello\"s, \" \", \"Class!\") << endl;\n",
    "}"
   ]
  },
  {
   "cell_type": "markdown",
   "metadata": {
    "slideshow": {
     "slide_type": "slide"
    }
   },
   "source": [
    "- Non-type template parameter packs also work"
   ]
  },
  {
   "cell_type": "code",
   "execution_count": 19,
   "metadata": {
    "slideshow": {
     "slide_type": "fragment"
    }
   },
   "outputs": [],
   "source": [
    "template <int... Ns>\n",
    "constexpr int sum() {\n",
    "    return (... + Ns);\n",
    "}"
   ]
  },
  {
   "cell_type": "code",
   "execution_count": 20,
   "metadata": {
    "slideshow": {
     "slide_type": "fragment"
    }
   },
   "outputs": [
    {
     "name": "stdout",
     "output_type": "stream",
     "text": [
      "10\n"
     ]
    }
   ],
   "source": [
    "{\n",
    "    cout << sum<1, 2, 3, 4>() << endl;\n",
    "}"
   ]
  },
  {
   "cell_type": "markdown",
   "metadata": {
    "slideshow": {
     "slide_type": "slide"
    }
   },
   "source": [
    "- `auto...` can be used to create a function parameter pack in a lambda"
   ]
  },
  {
   "cell_type": "code",
   "execution_count": 21,
   "metadata": {
    "slideshow": {
     "slide_type": "fragment"
    }
   },
   "outputs": [
    {
     "name": "stdout",
     "output_type": "stream",
     "text": [
      "15\n"
     ]
    }
   ],
   "source": [
    "{\n",
    "    auto product = [](auto... args) { return (args * ...); };\n",
    "\n",
    "    cout << product(1, 3, 5) << endl;\n",
    "}"
   ]
  },
  {
   "cell_type": "markdown",
   "metadata": {
    "slideshow": {
     "slide_type": "slide"
    }
   },
   "source": [
    "- But you can't use _`type...`_ to get a non-type parameter pack"
   ]
  },
  {
   "cell_type": "markdown",
   "metadata": {
    "slideshow": {
     "slide_type": "fragment"
    }
   },
   "source": [
    "```cpp\n",
    "{\n",
    "    auto product = [](int... args){ return (args * ...); };\n",
    "}\n",
    "```\n",
    "```\n",
    "input_line_52:3:26: error: type 'int' of function parameter pack does not contain any unexpanded parameter\n",
    "      packs\n",
    "    auto product = [](int... args){ return (args * ...); };\n",
    "```"
   ]
  },
  {
   "cell_type": "markdown",
   "metadata": {
    "slideshow": {
     "slide_type": "slide"
    }
   },
   "source": [
    "- `sizeof...()` will tell you the number of elements in a parameter pack"
   ]
  },
  {
   "cell_type": "code",
   "execution_count": 22,
   "metadata": {
    "slideshow": {
     "slide_type": "fragment"
    }
   },
   "outputs": [],
   "source": [
    "template <class... Args>\n",
    "size_t arg_count(const Args&... args) {\n",
    "    return sizeof...(args);\n",
    "}"
   ]
  },
  {
   "cell_type": "code",
   "execution_count": 23,
   "metadata": {
    "slideshow": {
     "slide_type": "fragment"
    }
   },
   "outputs": [
    {
     "name": "stdout",
     "output_type": "stream",
     "text": [
      "3\n"
     ]
    }
   ],
   "source": [
    "{\n",
    "    cout << arg_count(1, 32.5, \"Hello\") << endl;\n",
    "}"
   ]
  },
  {
   "cell_type": "markdown",
   "metadata": {
    "slideshow": {
     "slide_type": "slide"
    }
   },
   "source": [
    "- `std::apply()` converts a tuple into arguments to a function\n",
    "    - _C++17 but easily implemented in C++14_"
   ]
  },
  {
   "cell_type": "code",
   "execution_count": 24,
   "metadata": {
    "slideshow": {
     "slide_type": "fragment"
    }
   },
   "outputs": [
    {
     "name": "stdout",
     "output_type": "stream",
     "text": [
      "Hello!\n",
      "Hello!\n",
      "Hello!\n"
     ]
    }
   ],
   "source": [
    "{\n",
    "    tuple x = { \"Hello!\"s, 3 };\n",
    "    \n",
    "    apply([](const string& str, int n){\n",
    "        while (n-- != 0) cout << str << endl;\n",
    "    }, x);\n",
    "}"
   ]
  },
  {
   "cell_type": "markdown",
   "metadata": {
    "slideshow": {
     "slide_type": "slide"
    }
   },
   "source": [
    "- We can use `apply()` to convert a tuple into an argument pack"
   ]
  },
  {
   "cell_type": "code",
   "execution_count": 25,
   "metadata": {
    "slideshow": {
     "slide_type": "fragment"
    }
   },
   "outputs": [
    {
     "name": "stdout",
     "output_type": "stream",
     "text": [
      "25\n"
     ]
    }
   ],
   "source": [
    "{\n",
    "    tuple x = {1, 3, 5, 7, 9};\n",
    "\n",
    "    cout << apply([](auto... args) { return (... + args); }, x) << endl;\n",
    "}"
   ]
  },
  {
   "cell_type": "markdown",
   "metadata": {
    "slideshow": {
     "slide_type": "slide"
    }
   },
   "source": [
    "## `initializer_list<>`\n",
    "- When a function takes an argument of type `std::initializer_list<>` it may be passed a list of elements of the same type"
   ]
  },
  {
   "cell_type": "code",
   "execution_count": 26,
   "metadata": {
    "slideshow": {
     "slide_type": "fragment"
    }
   },
   "outputs": [
    {
     "name": "stdout",
     "output_type": "stream",
     "text": [
      "15\n"
     ]
    }
   ],
   "source": [
    "{\n",
    "    auto product = [](initializer_list<int> args) {\n",
    "        // return (args * ...);\n",
    "        return reduce(begin(args), end(args), 1, multiplies());\n",
    "    };\n",
    "\n",
    "    cout << product({1, 3, 5}) << endl;\n",
    "}"
   ]
  },
  {
   "cell_type": "markdown",
   "metadata": {
    "slideshow": {
     "slide_type": "slide"
    }
   },
   "source": [
    "- The intended use is to allow constructors for containers to behave as constructors for built in arrays"
   ]
  },
  {
   "cell_type": "code",
   "execution_count": 27,
   "metadata": {
    "slideshow": {
     "slide_type": "fragment"
    }
   },
   "outputs": [
    {
     "name": "stdout",
     "output_type": "stream",
     "text": [
      "0\n",
      "10\n",
      "20\n",
      "30\n"
     ]
    }
   ],
   "source": [
    "{\n",
    "    vector v = {0, 10, 20, 30};\n",
    "    \n",
    "    for (const auto& e : v) cout << e << endl;\n",
    "}"
   ]
  },
  {
   "cell_type": "markdown",
   "metadata": {
    "slideshow": {
     "slide_type": "slide"
    }
   },
   "source": [
    "- An `initializer_list<>` differs from a parameter pack in a few ways\n",
    "    - The elements in an `initializer_list<>` can only be a single type\n",
    "    - Even though the `initializer_list<>` is a temporary object, access to it is always via `const &`\n",
    "        - It is not possible to move or forward from an `initializer_list<>`\n",
    "    - Elements of an `initializer_list<>` are allowed to be stored in read-only memory\n",
    "    - **The order the element expressions are evaluated in an `initializer_list<>` is defined to be left-to-right**\n",
    "    - An `initializer_list<>` does not require a template interface\n",
    "        - Can be used in a function prototype in a header\n",
    "    - An `initializer_list<>` can be used with a range based for loop\n",
    "    \n",
    "- An `initializer_list` is not a library only feature, it is a language feature exposed through a library interface"
   ]
  },
  {
   "cell_type": "code",
   "execution_count": 28,
   "metadata": {
    "slideshow": {
     "slide_type": "slide"
    }
   },
   "outputs": [
    {
     "name": "stdout",
     "output_type": "stream",
     "text": [
      "Hello\n",
      "World!\n"
     ]
    }
   ],
   "source": [
    "{\n",
    "    auto a = { \"Hello\"s, \"World!\"s }; // a is initializer_list<string>\n",
    "    for (const auto& e : a) cout << e << endl;\n",
    "}"
   ]
  },
  {
   "cell_type": "markdown",
   "metadata": {
    "slideshow": {
     "slide_type": "fragment"
    }
   },
   "source": [
    "```cpp\n",
    "{\n",
    "    auto a = { \"Hello\"s, 10 };\n",
    "}\n",
    "```\n",
    "```\n",
    "input_line_47:3:10: error: cannot deduce actual type for variable 'a' with type\n",
    "'auto' from initializer list\n",
    "    auto a = { \"Hello\"s, 10 };\n",
    "         ^   ~~~~~~~~~~~~~~~~\n",
    "```"
   ]
  },
  {
   "cell_type": "markdown",
   "metadata": {
    "slideshow": {
     "slide_type": "slide"
    }
   },
   "source": [
    "## Combining the three building blocks"
   ]
  },
  {
   "cell_type": "markdown",
   "metadata": {
    "slideshow": {
     "slide_type": "slide"
    }
   },
   "source": [
    "- By exploiting the fact that an initializer list evaluates in order we can iterate over a function parameter pack\n",
    "    - Thanks to Eric Niebler for the suggestion"
   ]
  },
  {
   "cell_type": "code",
   "execution_count": 29,
   "metadata": {
    "slideshow": {
     "slide_type": "fragment"
    }
   },
   "outputs": [],
   "source": [
    "template <class F, class... Args>\n",
    "constexpr F for_each_argument(F f, Args&&... args) {\n",
    "    (void)std::initializer_list<int>{(f(std::forward<Args>(args)), 0)...};\n",
    "    return f;\n",
    "}"
   ]
  },
  {
   "cell_type": "code",
   "execution_count": 30,
   "metadata": {
    "slideshow": {
     "slide_type": "fragment"
    }
   },
   "outputs": [
    {
     "name": "stdout",
     "output_type": "stream",
     "text": [
      "10\n",
      "Hello!\n",
      "35.2\n"
     ]
    }
   ],
   "source": [
    "{\n",
    "    for_each_argument([](const auto& e){\n",
    "        cout << e << endl;\n",
    "    }, 10, \"Hello!\", 35.2);\n",
    "}"
   ]
  },
  {
   "cell_type": "markdown",
   "metadata": {
    "slideshow": {
     "slide_type": "slide"
    }
   },
   "source": [
    "- We can use `apply()` to convert a tuple to an argument list\n",
    "    - Combined with `for_each_argument()` we can iterate over a tuple"
   ]
  },
  {
   "cell_type": "code",
   "execution_count": 31,
   "metadata": {
    "slideshow": {
     "slide_type": "fragment"
    }
   },
   "outputs": [],
   "source": [
    "template <class F, class Tuple>\n",
    "constexpr F for_each_element(F f, Tuple&& t) {\n",
    "    return std::apply(\n",
    "        [_f = std::move(f)](auto&&... args) {\n",
    "            return for_each_argument(std::move(_f),\n",
    "                                     std::forward<decltype(args)>(args)...);\n",
    "        },\n",
    "        std::forward<Tuple>(t));\n",
    "}"
   ]
  },
  {
   "cell_type": "code",
   "execution_count": 32,
   "metadata": {
    "slideshow": {
     "slide_type": "slide"
    }
   },
   "outputs": [
    {
     "name": "stdout",
     "output_type": "stream",
     "text": [
      "10\n",
      "Hello!\n",
      "35.2\n"
     ]
    }
   ],
   "source": [
    "{\n",
    "    for_each_element([](const auto& e){\n",
    "        cout << e << endl;\n",
    "    }, tuple(10, \"Hello!\"s, 35.2));\n",
    "}"
   ]
  },
  {
   "cell_type": "markdown",
   "metadata": {
    "slideshow": {
     "slide_type": "slide"
    }
   },
   "source": [
    "- By using `tie()` to reflect a object members into a tuple, we can iterate the members of the object"
   ]
  },
  {
   "cell_type": "code",
   "execution_count": 33,
   "metadata": {
    "slideshow": {
     "slide_type": "fragment"
    }
   },
   "outputs": [],
   "source": [
    "class example2 {\n",
    "    int _a;\n",
    "    string _b;\n",
    "    bool _c;\n",
    "\n",
    "    auto as_tuple() const { return tie(_a, _b, _c); }\n",
    "public:\n",
    "    example2(int a, string b, bool c) : _a(move(a)), _b(move(b)), _c(move(c)) { }\n",
    "    \n",
    "    friend inline ostream& operator<<(ostream& out, const example2& x) {\n",
    "        for_each_element([&](const auto& e){\n",
    "            out << boolalpha << e << endl;\n",
    "        }, x.as_tuple());\n",
    "        return out;\n",
    "    }\n",
    "};"
   ]
  },
  {
   "cell_type": "code",
   "execution_count": 34,
   "metadata": {
    "slideshow": {
     "slide_type": "slide"
    }
   },
   "outputs": [
    {
     "name": "stdout",
     "output_type": "stream",
     "text": [
      "42\n",
      "Hello World\n",
      "true\n"
     ]
    }
   ],
   "source": [
    "{\n",
    "    example2 x(42, \"Hello World\", true);\n",
    "    cout << x;\n",
    "}"
   ]
  },
  {
   "cell_type": "markdown",
   "metadata": {
    "slideshow": {
     "slide_type": "slide"
    }
   },
   "source": [
    "- Recall our implementation of a polymorphic task\n",
    "    - Using parameter packs we can write a task that takes any number of arguments and returns a value"
   ]
  },
  {
   "cell_type": "code",
   "execution_count": 35,
   "metadata": {
    "slideshow": {
     "slide_type": "slide"
    }
   },
   "outputs": [],
   "source": [
    "template <class>\n",
    "class task;\n",
    "\n",
    "template <class R, class... Args>\n",
    "class task<R(Args...)> {\n",
    "    struct concept;\n",
    "    \n",
    "    template <class F>\n",
    "    struct model;\n",
    "    \n",
    "    unique_ptr<concept> _p;\n",
    "\n",
    "public:\n",
    "    constexpr task() noexcept = default;\n",
    "    template <class F>\n",
    "    task(F&& f) : _p(make_unique<model<decay_t<F>>>(forward<F>(f))) {}\n",
    "    task(task&&) noexcept = default;\n",
    "    task& operator=(task&&) noexcept = default;\n",
    "\n",
    "    R operator()(Args... args) { return _p->invoke(forward<Args>(args)...); }\n",
    "};"
   ]
  },
  {
   "cell_type": "code",
   "execution_count": 36,
   "metadata": {
    "slideshow": {
     "slide_type": "slide"
    }
   },
   "outputs": [],
   "source": [
    "template <class R, class... Args>\n",
    "struct task<R(Args...)>::concept {\n",
    "    virtual ~concept() = default;\n",
    "    virtual R invoke(Args&&...) = 0;\n",
    "};\n",
    "\n",
    "template <class R, class... Args>\n",
    "template <class F>\n",
    "struct task<R(Args...)>::model final : concept {\n",
    "    template <class G>\n",
    "    explicit model(G&& f) : _f(forward<G>(f)) {}\n",
    "    R invoke(Args&&... args) override { return move(_f)(forward<Args>(args)...); }\n",
    "\n",
    "    F _f;\n",
    "};"
   ]
  },
  {
   "cell_type": "code",
   "execution_count": 37,
   "metadata": {
    "slideshow": {
     "slide_type": "slide"
    }
   },
   "outputs": [
    {
     "name": "stdout",
     "output_type": "stream",
     "text": [
      "Hello 5\n"
     ]
    }
   ],
   "source": [
    "{\n",
    "    task<string(int)> f;\n",
    "\n",
    "    f = [_prefix = \"Hello \"s](int suffix) mutable {\n",
    "        return move(_prefix) + to_string(suffix);\n",
    "    };\n",
    "\n",
    "    cout << f(5) << endl;\n",
    "}"
   ]
  },
  {
   "cell_type": "markdown",
   "metadata": {
    "slideshow": {
     "slide_type": "slide"
    }
   },
   "source": [
    "- A function parameter pack can be captured in a lambda"
   ]
  },
  {
   "cell_type": "code",
   "execution_count": 38,
   "metadata": {
    "slideshow": {
     "slide_type": "fragment"
    }
   },
   "outputs": [],
   "source": [
    "template <class F, class... Args>\n",
    "auto bind_all_1(F f, Args&&... args) {\n",
    "    return [_f = move(f), args...] { _f(args...); };\n",
    "}"
   ]
  },
  {
   "cell_type": "code",
   "execution_count": 39,
   "metadata": {
    "slideshow": {
     "slide_type": "fragment"
    }
   },
   "outputs": [
    {
     "name": "stdout",
     "output_type": "stream",
     "text": [
      "Hello, World!"
     ]
    }
   ],
   "source": [
    "{\n",
    "    auto print =\n",
    "        bind_all_1([](const string& a, const string& b) { cout << a << \", \" << b; },\n",
    "                   \"Hello\", \"World!\");\n",
    "\n",
    "    print();\n",
    "}"
   ]
  },
  {
   "cell_type": "markdown",
   "metadata": {
    "slideshow": {
     "slide_type": "slide"
    }
   },
   "source": [
    "- However, there is no way to _move_ or _forward_ a function parameter pack directly into a lambda capture"
   ]
  },
  {
   "cell_type": "code",
   "execution_count": 40,
   "metadata": {
    "slideshow": {
     "slide_type": "fragment"
    }
   },
   "outputs": [
    {
     "name": "stdout",
     "output_type": "stream",
     "text": [
      "annotate ctor\n",
      "annotate ctor\n",
      "annotate copy-ctor\n",
      "annotate copy-ctor\n",
      "annotate dtor\n",
      "annotate dtor\n",
      "annotate dtor\n",
      "annotate dtor\n"
     ]
    }
   ],
   "source": [
    "{\n",
    "    auto print = bind_all_1([](const annotate& a, const annotate& b) {}, annotate(),\n",
    "                            annotate());\n",
    "\n",
    "    print();\n",
    "}"
   ]
  },
  {
   "cell_type": "markdown",
   "metadata": {
    "slideshow": {
     "slide_type": "slide"
    }
   },
   "source": [
    "- but you can forward a function parameter pack using a tuple"
   ]
  },
  {
   "cell_type": "code",
   "execution_count": 41,
   "metadata": {
    "slideshow": {
     "slide_type": "fragment"
    }
   },
   "outputs": [],
   "source": [
    "template <class F, class... Args>\n",
    "auto bind_all_2(F f, Args&&... args) {\n",
    "    return\n",
    "        [_f = move(f), _args = tuple{forward<Args>(args)...}] { apply(_f, _args); };\n",
    "}"
   ]
  },
  {
   "cell_type": "code",
   "execution_count": 42,
   "metadata": {
    "slideshow": {
     "slide_type": "slide"
    }
   },
   "outputs": [
    {
     "name": "stdout",
     "output_type": "stream",
     "text": [
      "annotate ctor\n",
      "annotate ctor\n",
      "annotate move-ctor\n",
      "annotate move-ctor\n",
      "annotate dtor\n",
      "annotate dtor\n",
      "annotate dtor\n",
      "annotate dtor\n"
     ]
    }
   ],
   "source": [
    "{\n",
    "    auto print = bind_all_2([](const annotate& a, const annotate& b) {}, annotate(),\n",
    "                            annotate());\n",
    "\n",
    "    print();\n",
    "}"
   ]
  },
  {
   "cell_type": "markdown",
   "metadata": {
    "slideshow": {
     "slide_type": "slide"
    }
   },
   "source": [
    "## Recommendations\n",
    "- Tuples, parameter packs, and initializer lists are powerful tools for generative code\n",
    "- The ability to capture argument lists in tuples and expand back is useful for marshaling arguments\n",
    "- `tie()` is a useful tool for compile time reflection\n",
    "- Many use cases of function parameter packs are just to provide simple bindings\n",
    "    - Because of the complexity of specifying the callable object in C++, a lambda is a better solution\n",
    "    - e.g. `std::async(&f, a, b);` vs `std::async([=]{ f(a, b); });`\n",
    "- Generally `initializer_list<>` is troublesome because it doesn't support move, only use when the type is known to be trivial\n",
    "    - In practice, initialization with an `initializer_list<>` is rarely useful outside of a test case\n",
    "- Don't use a `tuple` where a `struct` would be more clear\n",
    "    - Especially true with C++17 structured bindings\n",
    "- Proceed with caution..."
   ]
  },
  {
   "cell_type": "markdown",
   "metadata": {
    "slideshow": {
     "slide_type": "slide"
    }
   },
   "source": [
    "## Homework\n",
    "- See if you can find a place in your project code that could be improved at the call site by using any of the above tools\n",
    "    - How significant is the improvement?\n",
    "    - How much complexity is required in the implementation to support it?\n",
    "- Report on the homework wiki https://git.corp.adobe.com/better-code/class/wiki/Homework"
   ]
  }
 ],
 "metadata": {
  "kernelspec": {
   "display_name": "C++17",
   "language": "C++17",
   "name": "xeus-cling-cpp17"
  },
  "language_info": {
   "codemirror_mode": "text/x-c++src",
   "file_extension": ".cpp",
   "mimetype": "text/x-c++src",
   "name": "c++",
   "version": "17"
  }
 },
 "nbformat": 4,
 "nbformat_minor": 2
}
