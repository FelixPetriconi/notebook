{
 "cells": [
  {
   "cell_type": "code",
   "execution_count": 1,
   "metadata": {
    "execution": {
     "iopub.execute_input": "2020-12-28T04:09:35.023919Z",
     "iopub.status.busy": "2020-12-28T04:09:35.022897Z",
     "iopub.status.idle": "2020-12-28T04:09:35.064527Z",
     "shell.execute_reply": "2020-12-28T04:09:35.063716Z"
    },
    "slideshow": {
     "slide_type": "skip"
    }
   },
   "outputs": [],
   "source": [
    "#include \"../common.hpp\""
   ]
  },
  {
   "cell_type": "markdown",
   "metadata": {
    "slideshow": {
     "slide_type": "slide"
    }
   },
   "source": [
    "# Introduction\n",
    "\n",
    "> Engineering is making informed trade-offs to find the best solution given a set of constraints.\n",
    "\n",
    "\n",
    "> My hope is that this workshop is generally applicable, but the choices I've made are colored by my experience."
   ]
  },
  {
   "cell_type": "markdown",
   "metadata": {
    "slideshow": {
     "slide_type": "slide"
    }
   },
   "source": [
    "## Career Background"
   ]
  },
  {
   "cell_type": "markdown",
   "metadata": {
    "slideshow": {
     "slide_type": "slide"
    }
   },
   "source": [
    "## Demo"
   ]
  },
  {
   "cell_type": "markdown",
   "metadata": {
    "slideshow": {
     "slide_type": "slide"
    }
   },
   "source": [
    "## Philosophy\n",
    "\n",
    "- _Correct_\n",
    "- _Performant_\n",
    "    - On a wide variety of consumer and enterprise hardware\n",
    "    - Balance CPU/GPU/ML/Memory/Storage/Power resources\n",
    "- _Scalable_\n",
    "    - With large data sets, but primarily on a single machine"
   ]
  },
  {
   "cell_type": "markdown",
   "metadata": {
    "slideshow": {
     "slide_type": "slide"
    }
   },
   "source": [
    "## Course Outline\n",
    "\n",
    "- Introduction\n",
    "- Preface\n",
    "- Types\n",
    "    - Goal: Write _complete_, _expressive_, and _efficient_ types\n",
    "- Algorithms\n",
    "    - Goal: No _raw_ loops\n",
    "- Data Structures\n",
    "    - Goal: No _incidental_ data structures\n",
    "- Concurrency\n",
    "    - Goal: No _raw_ synchronization\n",
    "- Relationships\n",
    "    - Goal: No contradictions\n",
    "- Epilogue"
   ]
  },
  {
   "cell_type": "markdown",
   "metadata": {},
   "source": [
    "Find a place:\n",
    "Requirements vs. Guarantees (Algorithms)\n",
    "Physical nature of machine - transistors (Preface)\n",
    "Keep philosophy - redundant with preface?\n",
    "\n",
    "Story Arc -\n",
    "- Types - task\n",
    "- Algorithms - heaps\n",
    "- Data structure - priority queue, queue\n",
    "- Concurrency - timer tasks, sequential process\n",
    "- Relationship (rename architecture?) - declarative flow graph?"
   ]
  }
 ],
 "metadata": {
  "kernelspec": {
   "display_name": "C++17",
   "language": "C++17",
   "name": "xcpp17"
  },
  "language_info": {
   "codemirror_mode": "text/x-c++src",
   "file_extension": ".cpp",
   "mimetype": "text/x-c++src",
   "name": "c++",
   "version": "17"
  }
 },
 "nbformat": 4,
 "nbformat_minor": 4
}
