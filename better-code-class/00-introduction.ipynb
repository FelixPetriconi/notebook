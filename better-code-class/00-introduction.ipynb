{
 "cells": [
  {
   "cell_type": "code",
   "execution_count": 1,
   "metadata": {
    "execution": {
     "iopub.execute_input": "2020-12-21T05:11:08.527488Z",
     "iopub.status.busy": "2020-12-21T05:11:08.526807Z",
     "iopub.status.idle": "2020-12-21T05:11:08.553320Z",
     "shell.execute_reply": "2020-12-21T05:11:08.552775Z"
    },
    "slideshow": {
     "slide_type": "skip"
    }
   },
   "outputs": [],
   "source": [
    "#include \"../common.hpp\""
   ]
  },
  {
   "cell_type": "markdown",
   "metadata": {
    "slideshow": {
     "slide_type": "slide"
    }
   },
   "source": [
    "# Introduction\n",
    "\n",
    "> Engineering is making informed trade-offs to find the best solution given a set of constraints.\n",
    "\n",
    "\n",
    "> My hope is that this workshop is generally applicable, but the choices I've made are colored by my experience."
   ]
  },
  {
   "cell_type": "markdown",
   "metadata": {
    "slideshow": {
     "slide_type": "slide"
    }
   },
   "source": [
    "## Career Background"
   ]
  },
  {
   "cell_type": "markdown",
   "metadata": {
    "slideshow": {
     "slide_type": "slide"
    }
   },
   "source": [
    "## Demo"
   ]
  },
  {
   "cell_type": "markdown",
   "metadata": {
    "slideshow": {
     "slide_type": "slide"
    }
   },
   "source": [
    "## Philosophy\n",
    "\n",
    "- _Correct_\n",
    "- _Performant_\n",
    "    - On a wide variety of consumer and enterprise hardware\n",
    "    - Balance CPU/GPU/ML/Memory/Storage/Power resources\n",
    "- _Scalable_\n",
    "    - With large data sets, but primarily on a single machine"
   ]
  },
  {
   "cell_type": "markdown",
   "metadata": {
    "slideshow": {
     "slide_type": "slide"
    }
   },
   "source": [
    "## Course Outline\n",
    "\n",
    "- Introduction\n",
    "- Preface\n",
    "- Types\n",
    "    - Goal: Write _complete_, _expressive_, and _efficient_ types\n",
    "- Algorithms\n",
    "    - Goal: No _raw_ loops\n",
    "- Data Structures\n",
    "    - Goal: No _incidental_ data structures\n",
    "- Concurrency\n",
    "    - Goal: No _raw_ synchronization\n",
    "- Relationships\n",
    "    - Goal: No contradictions\n",
    "- Epilogue"
   ]
  }
 ],
 "metadata": {
  "kernelspec": {
   "display_name": "C++17",
   "language": "C++17",
   "name": "xcpp17"
  },
  "language_info": {
   "codemirror_mode": "text/x-c++src",
   "file_extension": ".cpp",
   "mimetype": "text/x-c++src",
   "name": "c++",
   "version": "17"
  }
 },
 "nbformat": 4,
 "nbformat_minor": 4
}
