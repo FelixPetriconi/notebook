{
 "cells": [
  {
   "cell_type": "code",
   "execution_count": 1,
   "metadata": {},
   "outputs": [],
   "source": [
    "#include \"../common.hpp\"\n",
    "#include <initializer_list>\n",
    "\n",
    "using namespace std;"
   ]
  },
  {
   "cell_type": "markdown",
   "metadata": {
    "slideshow": {
     "slide_type": "slide"
    }
   },
   "source": [
    "# auto\n",
    "\n",
    "- Prior to C++11, the keyword `auto` was a storage class specifier\n",
    "    - But rarely used"
   ]
  },
  {
   "cell_type": "code",
   "execution_count": 2,
   "metadata": {
    "slideshow": {
     "slide_type": "fragment"
    }
   },
   "outputs": [
    {
     "name": "stderr",
     "output_type": "stream",
     "text": [
      "\u001b[1minput_line_9:2:5: \u001b[0m\u001b[0;1;35mwarning: \u001b[0m\u001b[1m'auto' storage class specifier is not permitted in C++11, and will not be supported in future releases [-Wauto-storage-class]\u001b[0m\n",
      "    auto int i = 42;\n",
      "\u001b[0;1;32m    ^~~~~\n",
      "\u001b[0m"
     ]
    }
   ],
   "source": [
    "void f() {\n",
    "    auto int i = 42;\n",
    "}"
   ]
  },
  {
   "cell_type": "markdown",
   "metadata": {
    "slideshow": {
     "slide_type": "slide"
    }
   },
   "source": [
    "## auto variable declarations\n",
    "\n",
    "`auto` can be used in a variable declaration.\n",
    "\n",
    "- `auto` alone will always deduce to an object type (not a reference, or const type)"
   ]
  },
  {
   "cell_type": "code",
   "execution_count": 3,
   "metadata": {
    "slideshow": {
     "slide_type": "fragment"
    }
   },
   "outputs": [
    {
     "name": "stdout",
     "output_type": "stream",
     "text": [
      "int const&\n",
      "int\n"
     ]
    }
   ],
   "source": [
    "const int& a = 42;\n",
    "auto b = a;\n",
    "    \n",
    "type_name<decltype(a)>();\n",
    "type_name<decltype(b)>();"
   ]
  },
  {
   "cell_type": "markdown",
   "metadata": {
    "slideshow": {
     "slide_type": "slide"
    }
   },
   "source": [
    "- cv-qualifiers and reference modifiers can be combined with auto"
   ]
  },
  {
   "cell_type": "code",
   "execution_count": 4,
   "metadata": {
    "slideshow": {
     "slide_type": "fragment"
    }
   },
   "outputs": [
    {
     "name": "stdout",
     "output_type": "stream",
     "text": [
      "int const\n",
      "int const&\n"
     ]
    }
   ],
   "source": [
    "const auto c = b;\n",
    "const auto& d = b;\n",
    "\n",
    "type_name<decltype(c)>();\n",
    "type_name<decltype(d)>();"
   ]
  },
  {
   "cell_type": "markdown",
   "metadata": {
    "slideshow": {
     "slide_type": "slide"
    }
   },
   "source": [
    "- `decltype(auto)` can be used to declare a variable which matches the expression type"
   ]
  },
  {
   "cell_type": "code",
   "execution_count": 5,
   "metadata": {
    "slideshow": {
     "slide_type": "fragment"
    }
   },
   "outputs": [
    {
     "name": "stdout",
     "output_type": "stream",
     "text": [
      "int const&\n"
     ]
    }
   ],
   "source": [
    "decltype(auto) e = a;\n",
    "\n",
    "type_name<decltype(e)>();"
   ]
  },
  {
   "cell_type": "markdown",
   "metadata": {
    "slideshow": {
     "slide_type": "slide"
    }
   },
   "source": [
    "- `auto&&` is a forwarding reference\n",
    "- `decltype` is used with the `std::forward` template argument"
   ]
  },
  {
   "cell_type": "code",
   "execution_count": 6,
   "metadata": {
    "slideshow": {
     "slide_type": "fragment"
    }
   },
   "outputs": [],
   "source": [
    "namespace {\n",
    "\n",
    "annotate some_function() { return annotate(); }\n",
    "void some_sink(annotate) { }\n",
    "    \n",
    "} // namespace"
   ]
  },
  {
   "cell_type": "code",
   "execution_count": 7,
   "metadata": {
    "slideshow": {
     "slide_type": "fragment"
    }
   },
   "outputs": [
    {
     "name": "stdout",
     "output_type": "stream",
     "text": [
      "annotate ctor\n",
      "annotate move-ctor\n",
      "annotate dtor\n"
     ]
    }
   ],
   "source": [
    "auto&& q = some_function();\n",
    "some_sink(forward<decltype(q)>(q));"
   ]
  },
  {
   "cell_type": "markdown",
   "metadata": {
    "slideshow": {
     "slide_type": "slide"
    }
   },
   "source": [
    "## auto function results\n",
    "\n",
    "C++11 added trailing return types. This allows a return type which is dependent on an argument type."
   ]
  },
  {
   "cell_type": "code",
   "execution_count": 8,
   "metadata": {
    "slideshow": {
     "slide_type": "fragment"
    }
   },
   "outputs": [],
   "source": [
    "namespace {\n",
    "    \n",
    "int function_a();\n",
    "auto function_b() -> int; // same signature as function_a\n",
    "\n",
    "template <class T, class U>\n",
    "auto add(T a, U b) -> decltype(a + b) {\n",
    "    return a + b;\n",
    "}\n",
    "    \n",
    "} // namespace"
   ]
  },
  {
   "cell_type": "markdown",
   "metadata": {
    "slideshow": {
     "slide_type": "slide"
    }
   },
   "source": [
    "- C++14 allows the return type to be omitted for `template` and `inline` functions."
   ]
  },
  {
   "cell_type": "code",
   "execution_count": 9,
   "metadata": {
    "slideshow": {
     "slide_type": "fragment"
    }
   },
   "outputs": [],
   "source": [
    "inline auto mixed_add(unsigned a, signed b) {\n",
    "    return a + b;\n",
    "}\n",
    "\n",
    "auto r = mixed_add(42, -1);"
   ]
  },
  {
   "cell_type": "code",
   "execution_count": 10,
   "metadata": {
    "scrolled": true,
    "slideshow": {
     "slide_type": "fragment"
    }
   },
   "outputs": [
    {
     "name": "stdout",
     "output_type": "stream",
     "text": [
      "unsigned int\n",
      "41\n"
     ]
    }
   ],
   "source": [
    "type_name<decltype(r)>();\n",
    "cout << r << \"\\n\";"
   ]
  },
  {
   "cell_type": "markdown",
   "metadata": {
    "slideshow": {
     "slide_type": "slide"
    }
   },
   "source": [
    "- Using `decltype(auto)` for the return type preserves references and cv-qualifiers"
   ]
  },
  {
   "cell_type": "code",
   "execution_count": 11,
   "metadata": {
    "slideshow": {
     "slide_type": "fragment"
    }
   },
   "outputs": [],
   "source": [
    "namespace {\n",
    "    \n",
    "vector<int> v = { 0, 1, 2, 3 };\n",
    "\n",
    "inline decltype(auto) back() {\n",
    "    return v.back();\n",
    "}\n",
    "    \n",
    "} // namespace"
   ]
  },
  {
   "cell_type": "code",
   "execution_count": 12,
   "metadata": {
    "slideshow": {
     "slide_type": "fragment"
    }
   },
   "outputs": [
    {
     "name": "stdout",
     "output_type": "stream",
     "text": [
      "int&\n"
     ]
    }
   ],
   "source": [
    "type_name<decltype(back())>();"
   ]
  },
  {
   "cell_type": "markdown",
   "metadata": {
    "slideshow": {
     "slide_type": "slide"
    }
   },
   "source": [
    "## auto template parameters (C++17)\n",
    "\n"
   ]
  },
  {
   "cell_type": "markdown",
   "metadata": {
    "slideshow": {
     "slide_type": "slide"
    }
   },
   "source": [
    "## structured bindings (C++17)"
   ]
  },
  {
   "cell_type": "markdown",
   "metadata": {
    "slideshow": {
     "slide_type": "slide"
    }
   },
   "source": [
    "## auto lambda arguments (covered in lambda section)"
   ]
  },
  {
   "cell_type": "markdown",
   "metadata": {},
   "source": [
    "## Issue\n",
    "\n",
    "### Qualify with references appropriately"
   ]
  },
  {
   "cell_type": "code",
   "execution_count": 13,
   "metadata": {},
   "outputs": [
    {
     "name": "stdout",
     "output_type": "stream",
     "text": [
      "annotate ctor\n",
      "annotate ctor\n",
      "annotate ctor\n",
      "annotate ctor\n",
      "annotate ctor\n"
     ]
    }
   ],
   "source": [
    "vector<annotate> w(5);"
   ]
  },
  {
   "cell_type": "code",
   "execution_count": 14,
   "metadata": {},
   "outputs": [
    {
     "name": "stdout",
     "output_type": "stream",
     "text": [
      "annotate copy-ctor\n",
      "annotate dtor\n",
      "annotate copy-ctor\n",
      "annotate dtor\n",
      "annotate copy-ctor\n",
      "annotate dtor\n",
      "annotate copy-ctor\n",
      "annotate dtor\n",
      "annotate copy-ctor\n",
      "annotate dtor\n"
     ]
    }
   ],
   "source": [
    "for (auto e : w) {\n",
    "    // do something\n",
    "}"
   ]
  },
  {
   "cell_type": "code",
   "execution_count": 15,
   "metadata": {},
   "outputs": [],
   "source": [
    "for (const auto& e : w) {\n",
    "    // do something\n",
    "}"
   ]
  },
  {
   "cell_type": "code",
   "execution_count": 16,
   "metadata": {},
   "outputs": [],
   "source": []
  }
 ],
 "metadata": {
  "celltoolbar": "Slideshow",
  "kernelspec": {
   "display_name": "xeus C++14",
   "language": "",
   "name": "xeus-cling-cpp14"
  },
  "language_info": {
   "codemirror_mode": "text/x-c++src",
   "file_extension": ".cpp",
   "mimetype": "text/x-c++src",
   "name": "c++",
   "version": ""
  }
 },
 "nbformat": 4,
 "nbformat_minor": 2
}
