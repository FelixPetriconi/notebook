{
 "cells": [
  {
   "cell_type": "code",
   "execution_count": 1,
   "metadata": {},
   "outputs": [],
   "source": [
    "#include \"../common.hpp\""
   ]
  },
  {
   "cell_type": "markdown",
   "metadata": {
    "toc-hr-collapsed": false
   },
   "source": [
    "# Efficiency & Expressiveness\n",
    "## Recap\n",
    "### Definition of _Type_ and _Regular_\n",
    "### Semantics and Complexity\n",
    "### Computational Basis and Computationally Complete\n",
    "### Equationally Complete\n",
    "### Whole/Part Relationship\n",
    "### Safety\n",
    "### Canonical Type with and without Remote Parts"
   ]
  },
  {
   "cell_type": "code",
   "execution_count": 2,
   "metadata": {
    "slideshow": {
     "slide_type": "slide"
    }
   },
   "outputs": [],
   "source": [
    "namespace bcc {\n",
    "\n",
    "class simple_type {\n",
    "    int _members = 0;\n",
    "\n",
    "public:\n",
    "    simple_type() noexcept = default;                         // default-ctor\n",
    "\n",
    "    simple_type(const simple_type&) = default;                // copy-ctor\n",
    "    simple_type& operator=(const simple_type&) = default;     // copy-assign\n",
    "\n",
    "    simple_type(simple_type&&) noexcept = default;            // move-ctor\n",
    "    simple_type& operator=(simple_type&&) noexcept = default; // move_assign\n",
    "\n",
    "    friend bool operator==(const simple_type& a, const simple_type& b) {\n",
    "        return tie(a._members /*, ...*/) == tie(b._members /*, ...*/);\n",
    "    }\n",
    "    friend bool operator!=(const simple_type& a, const simple_type& b) {\n",
    "        return !(a == b);\n",
    "    }\n",
    "};\n",
    "\n",
    "} // namespace bcc"
   ]
  },
  {
   "cell_type": "code",
   "execution_count": 3,
   "metadata": {
    "slideshow": {
     "slide_type": "slide"
    }
   },
   "outputs": [],
   "source": [
    "namespace bcc {\n",
    "\n",
    "class pimpl_type {\n",
    "    class implementation;\n",
    "    struct deleter {\n",
    "        void operator()(implementation*) const;\n",
    "    };\n",
    "    unique_ptr<implementation, deleter> _remote;\n",
    "\n",
    "public:\n",
    "    pimpl_type() noexcept = default;                        // default-ctor\n",
    "    pimpl_type(const pimpl_type&);                          // copy-ctor\n",
    "    pimpl_type& operator=(const pimpl_type& a) {            // copy-assign\n",
    "        return *this = pimpl_type(a);\n",
    "    }\n",
    "    pimpl_type(pimpl_type&&) noexcept = default;            // move-ctor\n",
    "    pimpl_type& operator=(pimpl_type&&) noexcept = default; // move_assign\n",
    "    friend bool operator==(const pimpl_type&, const pimpl_type&);\n",
    "    friend bool operator!=(const pimpl_type& a, const pimpl_type& b) {\n",
    "        return !(a == b);\n",
    "    }\n",
    "};\n",
    "\n",
    "} // namespace bcc"
   ]
  },
  {
   "cell_type": "code",
   "execution_count": 4,
   "metadata": {
    "slideshow": {
     "slide_type": "slide"
    }
   },
   "outputs": [],
   "source": [
    "// cpp file\n",
    "namespace bcc {\n",
    "\n",
    "struct pimpl_type::implementation {\n",
    "    // a simple type...\n",
    "    int _members = 0;\n",
    "\n",
    "    friend bool operator==(const implementation& a, const implementation& b) {\n",
    "        return tie(a._members /*, ...*/) == tie(b._members /*, ...*/);\n",
    "    }\n",
    "};\n",
    "\n",
    "void pimpl_type::deleter::operator()(implementation* a) const { delete a; }\n",
    "\n",
    "pimpl_type::pimpl_type(const pimpl_type& a)\n",
    "    : _remote(a._remote ? new implementation(*a._remote) : nullptr) {}\n",
    "\n",
    "bool operator==(const pimpl_type& a, const pimpl_type& b) {\n",
    "    return *a._remote == *b._remote;\n",
    "}\n",
    "\n",
    "} // namespace bcc"
   ]
  },
  {
   "cell_type": "markdown",
   "metadata": {
    "slideshow": {
     "slide_type": "slide"
    }
   },
   "source": [
    "- In both cases the default-dtor is used (not specified)\n",
    "- We will be covering polymorphic types and containers later in the course"
   ]
  },
  {
   "cell_type": "markdown",
   "metadata": {
    "slideshow": {
     "slide_type": "slide"
    },
    "toc-hr-collapsed": false
   },
   "source": [
    "## Prior Homework\n",
    "\n",
    "**Exercise:** Look at the regular operations (copy, assignment, equality, default construction) for ZString (or a commonly used type within your project). Is the implementation correct? Complete? Efficient?\n",
    "\n",
    "`ZString` operations:\n",
    "- default-ctor: Should be declared `noexcept` but will not throw\n",
    "- copy-ctor: Logical copy by incrementing reference count to immutable string, should be declared `noexcept`.\n",
    "- copy-assign: Handles self assignment, requires locking (spin-lock). Complex logic. Benchmark against a copy/move implementation? Returns void?\n",
    "- move-ctor: Should be declared `noexcept` but will not throw, expensive operation to atomic increment a reference count on `TheOneTrueEmptyZByteRun`, guarantees moved from `ZString` is empty string.\n",
    "- move-assign: Implemented as swap(). Does not guarantee moved from `ZString` is empty.\n",
    "- equality: Representational (not value) equality.\n",
    "\n",
    "Observation: `fDefaultRun` is hardly used except for test cases and to propagate `fCharacterRun`. Is it needed?\n",
    "\n",
    "Discussion: How can we incrementally improve ZString?\n",
    "\n",
    "## What Should Be Part of The Public Interface On A Type?\n",
    "\n",
    "- In general we want the minimum number of public calls (basis operations) to provide a type which is:\n",
    "    - Computationally Complete\n",
    "    - Equationally Complete\n",
    "    \n",
    "- Other operations should be implemented in terms of those basis operations\n",
    "\n",
    "Example:"
   ]
  },
  {
   "cell_type": "code",
   "execution_count": 5,
   "metadata": {},
   "outputs": [],
   "source": [
    "namespace bcc {\n",
    "\n",
    "class natural_number {\n",
    "    unsigned int _data = 0;\n",
    "\n",
    "public:\n",
    "    // default standard operations\n",
    "    natural_number& operator++() {\n",
    "        ++_data;\n",
    "        return *this;\n",
    "    }\n",
    "    natural_number& operator--() {\n",
    "        --_data;\n",
    "        return *this;\n",
    "    }\n",
    "    bool is_zero() const { return _data == 0; }\n",
    "};\n",
    "\n",
    "} // namespace bcc"
   ]
  },
  {
   "cell_type": "markdown",
   "metadata": {},
   "source": [
    "- `natural_number` is computationally and equationally complete"
   ]
  },
  {
   "cell_type": "code",
   "execution_count": 6,
   "metadata": {},
   "outputs": [],
   "source": [
    "namespace bcc {\n",
    "\n",
    "bool operator==(natural_number a, natural_number b) {\n",
    "    while (!a.is_zero() && !b.is_zero()) {\n",
    "        --a;\n",
    "        --b;\n",
    "    }\n",
    "    return a.is_zero() && b.is_zero();\n",
    "}\n",
    "\n",
    "} // namespace bcc"
   ]
  },
  {
   "cell_type": "markdown",
   "metadata": {},
   "source": [
    "- Being correct and complete is not enough"
   ]
  },
  {
   "cell_type": "markdown",
   "metadata": {
    "slideshow": {
     "slide_type": "slide"
    },
    "toc-hr-collapsed": false
   },
   "source": [
    "## Efficient Basis\n",
    "\n",
    "- An operation is _efficient_ if there is no way to implement it to use fewer resources\n",
    "    - time\n",
    "    - space\n",
    "    - energy\n",
    "    \n",
    "- Unless otherwise specified, we will use efficiency to mean _time efficiency_\n",
    "    - But in practice, where not all three can be achieved the trade-offs should be considered\n",
    "\n",
    "- A type has an _efficient basis_ if any additional operations can be implemented efficiently in terms of the basis operations. Making all data members public ensures an efficient basis, but may be unsafe\n",
    "- In fact, we can prove that some operations cannot be implemented both efficiently and safely\n",
    "- The canonical example is in-situ sort, although it is true of any in-situ permutation\n",
    "    - This is why functional languages do not allow direct in-situ permutations\n",
    "\n",
    "- In C++, move is both unsafe and inefficient\n",
    "    - It is less safe than copy\n",
    "    - But more efficient than copy\n",
    "    \n",
    "- When writing a type,\n",
    "\n",
    "## Expressive Basis"
   ]
  },
  {
   "cell_type": "markdown",
   "metadata": {},
   "source": []
  },
  {
   "cell_type": "code",
   "execution_count": null,
   "metadata": {},
   "outputs": [],
   "source": []
  }
 ],
 "metadata": {
  "kernelspec": {
   "display_name": "C++17",
   "language": "C++17",
   "name": "xeus-cling-cpp17"
  },
  "language_info": {
   "codemirror_mode": "text/x-c++src",
   "file_extension": ".cpp",
   "mimetype": "text/x-c++src",
   "name": "c++",
   "version": "-std=c++17"
  }
 },
 "nbformat": 4,
 "nbformat_minor": 2
}
