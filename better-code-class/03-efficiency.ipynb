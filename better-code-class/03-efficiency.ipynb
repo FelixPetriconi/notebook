{
 "cells": [
  {
   "cell_type": "code",
   "execution_count": 1,
   "metadata": {
    "execution": {
     "iopub.execute_input": "2020-12-28T02:32:35.546659Z",
     "iopub.status.busy": "2020-12-28T02:32:35.544637Z",
     "iopub.status.idle": "2020-12-28T02:32:35.587993Z",
     "shell.execute_reply": "2020-12-28T02:32:35.587134Z"
    },
    "slideshow": {
     "slide_type": "skip"
    }
   },
   "outputs": [],
   "source": [
    "#include \"../common.hpp\"\n",
    "\n",
    "namespace bcc { }\n",
    "using namespace bcc;"
   ]
  },
  {
   "cell_type": "markdown",
   "metadata": {
    "toc-hr-collapsed": false
   },
   "source": [
    "# Efficiency & Expressiveness"
   ]
  },
  {
   "cell_type": "markdown",
   "metadata": {
    "slideshow": {
     "slide_type": "slide"
    },
    "toc-hr-collapsed": false
   },
   "source": [
    "## Recap"
   ]
  },
  {
   "cell_type": "markdown",
   "metadata": {
    "slideshow": {
     "slide_type": "slide"
    },
    "toc-hr-collapsed": false
   },
   "source": [
    "### Definition of _Type_ and _Regular_\n",
    "\n",
    "> A _type_ is a pattern for storing and modifying objects.\n",
    "\n",
    "<div></div>\n",
    "\n",
    "> There is a set of procedures whose inclusion in the computational basis of a type lets us place objects in data structures and use algorithms to _copy objects_ from one data structure to another. We call types having such a basis _regular_, since their use guarantees regularity of behavior and, therefore, interoperability."
   ]
  },
  {
   "cell_type": "markdown",
   "metadata": {
    "slideshow": {
     "slide_type": "slide"
    },
    "toc-hr-collapsed": false
   },
   "source": [
    "### Semantics and Complexity\n",
    "\n",
    "- Semantics of an operation are defined with axioms derived from the definition. i.e. we can define the semantics of equality as:\n",
    "\n",
    "\\begin{align}\n",
    "(\\forall a) a & = a. && \\text{(Reflexivity)} \\\\\n",
    "(\\forall a, b) a & = b \\implies b = a. && \\text{(Symmetry)} \\\\\n",
    "(\\forall a, b, c) a & = b \\wedge b = c \\implies a = c. && \\text {(Transitivity)} \\\\\n",
    "\\end{align}\n",
    "\n",
    "- This covers any equivalence relation\n",
    "- Two objects are _equal_ iff their two values represent the same entity\n",
    "\n",
    "- The expected complexity of an operation is an important attribute of the operation\n",
    "- i.e. The only thing that separates the concept of `ForwardIterator` and `RandomAccessIterator` is the complexity of advancing `n` steps"
   ]
  },
  {
   "cell_type": "markdown",
   "metadata": {
    "slideshow": {
     "slide_type": "slide"
    },
    "toc-hr-collapsed": false
   },
   "source": [
    "### Computational Basis and Computationally Complete\n",
    "> The _computational basis_ for a type is a finite set of procedures that enable the construction of any other procedure on the type\n",
    "\n",
    "- A type which does not implement a _computational basis_ is _incomplete_"
   ]
  },
  {
   "cell_type": "markdown",
   "metadata": {
    "slideshow": {
     "slide_type": "slide"
    },
    "toc-hr-collapsed": false
   },
   "source": [
    "### Equationally Complete\n",
    "- A type for which equality can be implemented as a non-friend (non-member) function is said to be _equationally complete_\n",
    "- A type which is both equationally and computationally complete can be copied without the use of the copy-constructor or assignment operator\n",
    "    - Equationally complete implies all the parts are readable\n",
    "    - Computationally complete implies all the values are obtainable\n",
    "    "
   ]
  },
  {
   "cell_type": "markdown",
   "metadata": {
    "slideshow": {
     "slide_type": "slide"
    },
    "toc-hr-collapsed": false
   },
   "source": [
    "### Whole/Part Relationship\n",
    "- An object is a _whole_, composed of its _parts_\n",
    "- A part is _local_ if it is stored directly in the object\n",
    "- A part is _remote_ if it is stored elsewhere (such as on the heap)"
   ]
  },
  {
   "cell_type": "markdown",
   "metadata": {
    "slideshow": {
     "slide_type": "slide"
    },
    "toc-hr-collapsed": false
   },
   "source": [
    "### Safety\n",
    "- Any operation which maintains the correspondence between an object and an entity it represents is _safe_\n",
    "- An operation which loses the correspondence is _unsafe_"
   ]
  },
  {
   "cell_type": "markdown",
   "metadata": {
    "slideshow": {
     "slide_type": "slide"
    },
    "toc-hr-collapsed": false
   },
   "source": [
    "### Canonical Type with and without Remote Parts"
   ]
  },
  {
   "cell_type": "code",
   "execution_count": 2,
   "metadata": {
    "execution": {
     "iopub.execute_input": "2020-12-28T02:32:35.592007Z",
     "iopub.status.busy": "2020-12-28T02:32:35.591342Z",
     "iopub.status.idle": "2020-12-28T02:32:35.601538Z",
     "shell.execute_reply": "2020-12-28T02:32:35.600906Z"
    },
    "slideshow": {
     "slide_type": "slide"
    }
   },
   "outputs": [],
   "source": [
    "namespace bcc {\n",
    "\n",
    "class simple_type {\n",
    "    int _members = 0;\n",
    "\n",
    "public:\n",
    "    simple_type() noexcept = default;                         // default-ctor\n",
    "\n",
    "    simple_type(const simple_type&) = default;                // copy-ctor\n",
    "    simple_type& operator=(const simple_type&) = default;     // copy-assign\n",
    "\n",
    "    simple_type(simple_type&&) noexcept = default;            // move-ctor\n",
    "    simple_type& operator=(simple_type&&) noexcept = default; // move_assign\n",
    "\n",
    "    friend bool operator==(const simple_type& a, const simple_type& b) {\n",
    "        return tie(a._members /*, ...*/) == tie(b._members /*, ...*/);\n",
    "    }\n",
    "    friend bool operator!=(const simple_type& a, const simple_type& b) {\n",
    "        return !(a == b);\n",
    "    }\n",
    "};\n",
    "\n",
    "} // namespace bcc"
   ]
  },
  {
   "cell_type": "code",
   "execution_count": 3,
   "metadata": {
    "execution": {
     "iopub.execute_input": "2020-12-28T02:32:35.604939Z",
     "iopub.status.busy": "2020-12-28T02:32:35.604083Z",
     "iopub.status.idle": "2020-12-28T02:32:35.620780Z",
     "shell.execute_reply": "2020-12-28T02:32:35.620018Z"
    },
    "slideshow": {
     "slide_type": "slide"
    }
   },
   "outputs": [],
   "source": [
    "namespace bcc {\n",
    "\n",
    "class pimpl_type {\n",
    "    class implementation;\n",
    "    struct deleter {\n",
    "        void operator()(implementation*) const;\n",
    "    };\n",
    "    unique_ptr<implementation, deleter> _remote;\n",
    "\n",
    "public:\n",
    "    pimpl_type() noexcept = default;                        // default-ctor\n",
    "    pimpl_type(const pimpl_type&);                          // copy-ctor\n",
    "    pimpl_type& operator=(const pimpl_type& a) {            // copy-assign\n",
    "        return *this = pimpl_type(a);\n",
    "    }\n",
    "    pimpl_type(pimpl_type&&) noexcept = default;            // move-ctor\n",
    "    pimpl_type& operator=(pimpl_type&&) noexcept = default; // move_assign\n",
    "    friend bool operator==(const pimpl_type&, const pimpl_type&);\n",
    "    friend bool operator!=(const pimpl_type& a, const pimpl_type& b) {\n",
    "        return !(a == b);\n",
    "    }\n",
    "};\n",
    "\n",
    "} // namespace bcc"
   ]
  },
  {
   "cell_type": "code",
   "execution_count": 4,
   "metadata": {
    "execution": {
     "iopub.execute_input": "2020-12-28T02:32:35.624324Z",
     "iopub.status.busy": "2020-12-28T02:32:35.623182Z",
     "iopub.status.idle": "2020-12-28T02:32:35.630073Z",
     "shell.execute_reply": "2020-12-28T02:32:35.629589Z"
    },
    "slideshow": {
     "slide_type": "slide"
    }
   },
   "outputs": [],
   "source": [
    "// cpp file\n",
    "namespace bcc {\n",
    "\n",
    "struct pimpl_type::implementation {\n",
    "    // a simple type...\n",
    "    int _members = 0;\n",
    "\n",
    "    friend bool operator==(const implementation& a, const implementation& b) {\n",
    "        return tie(a._members /*, ...*/) == tie(b._members /*, ...*/);\n",
    "    }\n",
    "};\n",
    "\n",
    "void pimpl_type::deleter::operator()(implementation* a) const { delete a; }\n",
    "\n",
    "pimpl_type::pimpl_type(const pimpl_type& a)\n",
    "    : _remote(new implementation(*a._remote)) {}\n",
    "\n",
    "bool operator==(const pimpl_type& a, const pimpl_type& b) {\n",
    "    return *a._remote == *b._remote;\n",
    "}\n",
    "\n",
    "} // namespace bcc"
   ]
  },
  {
   "cell_type": "markdown",
   "metadata": {
    "slideshow": {
     "slide_type": "slide"
    }
   },
   "source": [
    "- In both cases the default-dtor is used (not specified)\n",
    "- We will be covering polymorphic types and containers later in the course"
   ]
  },
  {
   "cell_type": "markdown",
   "metadata": {
    "jupyter": {
     "source_hidden": true
    },
    "slideshow": {
     "slide_type": "skip"
    },
    "toc-hr-collapsed": false
   },
   "source": [
    "## Prior Homework\n",
    "\n",
    "**Exercise** Look at the regular operations (copy, assignment, equality, default construction) for a type in the standard library, or a commonly used type within your project. Is the implementation correct? Complete? Efficient?"
   ]
  },
  {
   "cell_type": "markdown",
   "metadata": {
    "jupyter": {
     "source_hidden": true
    },
    "slideshow": {
     "slide_type": "skip"
    },
    "toc-hr-collapsed": false
   },
   "source": [
    "## Prior Homework\n",
    "\n",
    "**Exercise:** Look at the regular operations (copy, assignment, equality, default construction) for ZString (or a commonly used type within your project). Is the implementation correct? Complete? Efficient?"
   ]
  },
  {
   "cell_type": "markdown",
   "metadata": {
    "jupyter": {
     "source_hidden": true
    },
    "slideshow": {
     "slide_type": "skip"
    },
    "toc-hr-collapsed": false
   },
   "source": [
    "`ZString` operations:\n",
    "- default-ctor: Should be declared `noexcept` but will not throw\n",
    "```cpp\n",
    "    ZString();\n",
    "```\n",
    "- copy-ctor: Logical copy by incrementing reference count to immutable string, should be declared `noexcept`.\n",
    "```cpp\n",
    "    ZString(const ZString &x);\n",
    "```\n",
    "- copy-assign: Handles self assignment, requires locking (spin-lock). Complex logic. Benchmark against a copy/move implementation? Returns void?\n",
    "```cpp\n",
    "    void operator=(const ZString &x);\n",
    "```\n",
    "- move-ctor: Should be declared `noexcept` but will not throw, expensive operation to atomic increment a reference count on `TheOneTrueEmptyZByteRun`, guarantees moved from `ZString` is empty string.\n",
    "```cpp\n",
    "    ZString(ZString&& x);\n",
    "```"
   ]
  },
  {
   "cell_type": "markdown",
   "metadata": {
    "jupyter": {
     "source_hidden": true
    },
    "slideshow": {
     "slide_type": "skip"
    },
    "toc-hr-collapsed": false
   },
   "source": [
    "- move-assign: Implemented as swap(). Does not guarantee moved from `ZString` is empty.\n",
    "```cpp\n",
    "    ZString& operator=(ZString&& x) noexcept;\n",
    "```\n",
    "- equality: Representational (not value) equality. Should be declared as non-member function.\n",
    "```cpp\n",
    "    bool operator == (const ZString &x) const;\n",
    "```\n",
    "\n",
    "Observation: `fDefaultRun` is hardly used except for test cases and to propagate `fCharacterRun`. Is it needed?\n",
    "\n",
    "Discussion: How can we incrementally improve ZString?"
   ]
  },
  {
   "cell_type": "markdown",
   "metadata": {
    "slideshow": {
     "slide_type": "slide"
    },
    "toc-hr-collapsed": false
   },
   "source": [
    "## What Should Be Part of The Public Interface On A Type?\n",
    "\n",
    "- In general we want the minimum number of public calls with private access to provide a type which is:\n",
    "    - Computationally Complete\n",
    "    - Equationally Complete\n",
    "    \n",
    "- Other operations should be implemented in terms of those"
   ]
  },
  {
   "cell_type": "markdown",
   "metadata": {
    "slideshow": {
     "slide_type": "slide"
    },
    "toc-hr-collapsed": false
   },
   "source": [
    "Example:"
   ]
  },
  {
   "cell_type": "code",
   "execution_count": 5,
   "metadata": {
    "execution": {
     "iopub.execute_input": "2020-12-28T02:32:35.633215Z",
     "iopub.status.busy": "2020-12-28T02:32:35.632599Z",
     "iopub.status.idle": "2020-12-28T02:32:35.634858Z",
     "shell.execute_reply": "2020-12-28T02:32:35.634351Z"
    },
    "slideshow": {
     "slide_type": "-"
    }
   },
   "outputs": [],
   "source": [
    "namespace bcc {\n",
    "\n",
    "class number {\n",
    "    unsigned int _data = 0;\n",
    "\n",
    "public:\n",
    "    // default standard operations\n",
    "    number& operator++() {\n",
    "        ++_data;\n",
    "        return *this;\n",
    "    }\n",
    "    friend unsigned int operator-(const number& a, const number& b) {\n",
    "        return a._data - b._data;\n",
    "    }\n",
    "};\n",
    "\n",
    "} // namespace bcc"
   ]
  },
  {
   "cell_type": "markdown",
   "metadata": {
    "slideshow": {
     "slide_type": "slide"
    }
   },
   "source": [
    "- `number` is computationally and equationally complete"
   ]
  },
  {
   "cell_type": "code",
   "execution_count": 6,
   "metadata": {
    "execution": {
     "iopub.execute_input": "2020-12-28T02:32:35.637514Z",
     "iopub.status.busy": "2020-12-28T02:32:35.636745Z",
     "iopub.status.idle": "2020-12-28T02:32:35.639130Z",
     "shell.execute_reply": "2020-12-28T02:32:35.638655Z"
    },
    "slideshow": {
     "slide_type": "-"
    }
   },
   "outputs": [],
   "source": [
    "namespace bcc {\n",
    "\n",
    "bool operator==(const number& a, const number& b) {\n",
    "    return (a - b) == 0;\n",
    "}\n",
    "\n",
    "} // namespace bcc"
   ]
  },
  {
   "cell_type": "markdown",
   "metadata": {
    "slideshow": {
     "slide_type": "slide"
    }
   },
   "source": [
    "- Being correct and complete is not enough:"
   ]
  },
  {
   "cell_type": "code",
   "execution_count": 7,
   "metadata": {
    "execution": {
     "iopub.execute_input": "2020-12-28T02:32:35.642328Z",
     "iopub.status.busy": "2020-12-28T02:32:35.641649Z",
     "iopub.status.idle": "2020-12-28T02:32:35.648240Z",
     "shell.execute_reply": "2020-12-28T02:32:35.647726Z"
    },
    "slideshow": {
     "slide_type": "fragment"
    }
   },
   "outputs": [
    {
     "name": "stdout",
     "output_type": "stream",
     "text": [
      "3\n"
     ]
    }
   ],
   "source": [
    "{\n",
    "// construct the value 3\n",
    "number a; ++a; ++a; ++a;\n",
    "\n",
    "// print it\n",
    "cout << (a - number()) << endl;\n",
    "}"
   ]
  },
  {
   "cell_type": "markdown",
   "metadata": {
    "slideshow": {
     "slide_type": "slide"
    },
    "toc-hr-collapsed": false
   },
   "source": [
    "## Efficient Basis\n",
    "\n",
    "- An operation is _efficient_ if there is no way to implement it to use fewer resources:\n",
    "    - time\n",
    "    - space\n",
    "    - energy\n",
    "    \n",
    "- Unless otherwise specified, we will use efficiency to mean _time efficiency_\n",
    "    - But in practice, where not all three can be achieved the trade-offs should be considered\n",
    "\n",
    "- A type has an _efficient basis_ if any additional operations can be implemented efficiently in terms of the basis operations"
   ]
  },
  {
   "cell_type": "markdown",
   "metadata": {
    "slideshow": {
     "slide_type": "slide"
    },
    "toc-hr-collapsed": false
   },
   "source": [
    "- Making all data members public ensures an efficient basis, but may be unsafe\n",
    "- In fact, we can prove that some operations cannot be implemented both efficiently and safely\n",
    "- The canonical example is in-situ sort, although it is true of any in-situ permutation\n",
    "    - This is why functional languages do not allow direct in-situ permutations\n",
    "\n",
    "- In C++, explicit `move` is both unsafe and inefficient\n",
    "    - It is less safe than copy\n",
    "    - But more efficient than copy\n",
    "    \n",
    "- Strive to make operations safe _and_ efficient\n",
    "- Only sacrifice safety for efficiency with good (measurable) reason"
   ]
  },
  {
   "cell_type": "markdown",
   "metadata": {
    "slideshow": {
     "slide_type": "slide"
    },
    "toc-hr-collapsed": false
   },
   "source": [
    "## Expressive Basis\n",
    "\n",
    "> A basis is _expressive_ iff it allows compact and convenient definitions of procedures on the type.\n",
    "\n",
    "For example:"
   ]
  },
  {
   "cell_type": "code",
   "execution_count": 8,
   "metadata": {
    "execution": {
     "iopub.execute_input": "2020-12-28T02:32:35.651652Z",
     "iopub.status.busy": "2020-12-28T02:32:35.650699Z",
     "iopub.status.idle": "2020-12-28T02:32:35.654990Z",
     "shell.execute_reply": "2020-12-28T02:32:35.654535Z"
    },
    "slideshow": {
     "slide_type": "fragment"
    }
   },
   "outputs": [],
   "source": [
    "{\n",
    "// construct the value 3\n",
    "number a; ++a; ++a; ++a;\n",
    "}"
   ]
  },
  {
   "cell_type": "markdown",
   "metadata": {
    "slideshow": {
     "slide_type": "slide"
    }
   },
   "source": [
    "is not as expressive as:"
   ]
  },
  {
   "cell_type": "code",
   "execution_count": 9,
   "metadata": {
    "execution": {
     "iopub.execute_input": "2020-12-28T02:32:35.657977Z",
     "iopub.status.busy": "2020-12-28T02:32:35.657148Z",
     "iopub.status.idle": "2020-12-28T02:32:35.660606Z",
     "shell.execute_reply": "2020-12-28T02:32:35.659796Z"
    },
    "slideshow": {
     "slide_type": "fragment"
    }
   },
   "outputs": [],
   "source": [
    "{\n",
    "int a = 3;\n",
    "}"
   ]
  },
  {
   "cell_type": "markdown",
   "metadata": {
    "slideshow": {
     "slide_type": "slide"
    }
   },
   "source": [
    "- Especially for common operators you should provide operations in meaningful groups:\n",
    "- If your provide `operator==()` (and you should), also provide `!=`\n",
    "- If you provide `operator<()`, _natural total order_, you should provide all comparison operators\n",
    "- Negation and addition implies subtraction\n",
    "- etc."
   ]
  },
  {
   "cell_type": "markdown",
   "metadata": {
    "slideshow": {
     "slide_type": "slide"
    },
    "toc-hr-collapsed": false
   },
   "source": [
    "## (Revisited) What Should Be Part of The Public Interface On A Type?\n",
    "\n",
    "- In general we want the **minimum** number of public calls with private access to provide a type which is:\n",
    "    - Computationally Complete\n",
    "    - Equationally Complete\n",
    "    - Efficient\n",
    "    - Safe\n",
    "    - Operations required to be part of the class interface by the language (i.e., you cannot implement a stand alone assignment operator)\n",
    "    \n",
    "- Other operations, including operations that are part of the expressive basis, should be implemented in terms of those operations\n",
    "- This still leaves a fair amount up to the designer to choose how to balance safety and efficiency and what _expressive_ means in the context of the type"
   ]
  },
  {
   "cell_type": "markdown",
   "metadata": {
    "jupyter": {
     "source_hidden": true
    },
    "slideshow": {
     "slide_type": "skip"
    }
   },
   "source": [
    "**Exercise:** Look at the API and implementation for ZString (or a commonly used class in your own project). What does a ZString represent? What would be a good set of basis operations? What operations would be better implemented externally? Are there operations that should be removed?"
   ]
  }
 ],
 "metadata": {
  "kernelspec": {
   "display_name": "C++17",
   "language": "C++17",
   "name": "xcpp17"
  },
  "language_info": {
   "codemirror_mode": "text/x-c++src",
   "file_extension": ".cpp",
   "mimetype": "text/x-c++src",
   "name": "c++",
   "version": "17"
  }
 },
 "nbformat": 4,
 "nbformat_minor": 4
}
