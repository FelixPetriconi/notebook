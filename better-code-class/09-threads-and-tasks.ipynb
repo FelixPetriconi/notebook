{
 "cells": [
  {
   "cell_type": "markdown",
   "metadata": {
    "slideshow": {
     "slide_type": "skip"
    },
    "toc": true
   },
   "source": [
    "<h1>Table of Contents<span class=\"tocSkip\"></span></h1>\n",
    "<div class=\"toc\" style=\"margin-top: 1em;\"><ul class=\"toc-item\"><li><span><a href=\"#Threads\" data-toc-modified-id=\"Threads-1\"><span class=\"toc-item-num\">1&nbsp;&nbsp;</span>Threads</a></span><ul class=\"toc-item\"><li><span><a href=\"#Why-Threads?\" data-toc-modified-id=\"Why-Threads?-1.1\"><span class=\"toc-item-num\">1.1&nbsp;&nbsp;</span>Why Threads?</a></span></li></ul></li><li><span><a href=\"#Tasks\" data-toc-modified-id=\"Tasks-2\"><span class=\"toc-item-num\">2&nbsp;&nbsp;</span>Tasks</a></span></li></ul></div>"
   ]
  },
  {
   "cell_type": "markdown",
   "metadata": {
    "slideshow": {
     "slide_type": "slide"
    }
   },
   "source": [
    "# Threads\n",
    "\n",
    "- Execution context consisting of a stack and processor state running in parallel, or concurrent, to other threads\n",
    "    - When referring to threads we are referring to _preemptive threads_ which can be scheduled at the instruction level by the OS"
   ]
  },
  {
   "cell_type": "markdown",
   "metadata": {
    "slideshow": {
     "slide_type": "slide"
    }
   },
   "source": [
    "## Why Threads?\n",
    "\n",
    "- Interactivity and Responsiveness: _Concurrency_, doing multiple things at once\n",
    "    - save in the background\n",
    "- Performance: _Parallelism_, fully utilizing the hardware to perform tasks faster\n",
    "    - Photoshop _bottlenecks_, image processing routines\n",
    "    \n",
    "Threads are one foundational mechanism that can assist with each goal\n",
    "\n",
    "- There are other mechanisms as well:\n",
    "    - concurrency and parallelism\n",
    "        - OS processes\n",
    "    - parallelism\n",
    "        - vectorization (SIMD)\n",
    "        - GPU and coprocessors\n",
    "    - concurrency\n",
    "        - fibers (cooperative threads, _stack-full_ coroutines)\n",
    "        - coroutines (_stack-less_)\n",
    "        - callbacks\n",
    "        - continuations\n",
    "        - channels\n",
    "\n",
    "- concurrency mechanisms can be combined with parallel mechanisms, especially threads, to reduce cost of concurrency through threads alone"
   ]
  },
  {
   "cell_type": "markdown",
   "metadata": {
    "slideshow": {
     "slide_type": "slide"
    }
   },
   "source": [
    "![Unlocking Performance](img/machine-mips.png)"
   ]
  },
  {
   "cell_type": "markdown",
   "metadata": {},
   "source": [
    "# Tasks\n",
    "\n",
    "- In a concurrent system a \"task\" is a unit of work"
   ]
  },
  {
   "cell_type": "code",
   "execution_count": null,
   "metadata": {},
   "outputs": [],
   "source": []
  }
 ],
 "metadata": {
  "celltoolbar": "Slideshow",
  "kernelspec": {
   "display_name": "C++14",
   "language": "C++14",
   "name": "xeus-cling-cpp14"
  },
  "language_info": {
   "codemirror_mode": "text/x-c++src",
   "file_extension": ".cpp",
   "mimetype": "text/x-c++src",
   "name": "c++",
   "version": "14"
  },
  "toc": {
   "nav_menu": {},
   "number_sections": true,
   "sideBar": true,
   "skip_h1_title": false,
   "toc_cell": true,
   "toc_position": {},
   "toc_section_display": "block",
   "toc_window_display": false
  }
 },
 "nbformat": 4,
 "nbformat_minor": 2
}
