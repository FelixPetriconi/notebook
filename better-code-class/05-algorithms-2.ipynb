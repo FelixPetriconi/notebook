{
 "cells": [
  {
   "cell_type": "markdown",
   "metadata": {},
   "source": [
    "# Algorithms (pt. 2)\n",
    "\n"
   ]
  },
  {
   "cell_type": "markdown",
   "metadata": {
    "jupyter": {
     "source_hidden": true
    },
    "slideshow": {
     "slide_type": "skip"
    }
   },
   "source": [
    "**Exercise:** Review list of standard algorithms.\n",
    "\n",
    "**Exercise:** Find a _raw loop_ in the ZString implementation. Claim it on the wiki https://git.corp.adobe.com/better-code/class/wiki/class-04-registration. Improve the code, create a pull-request, and assign me as the reviewer. The PR should include a http://quick-bench.com/ benchmark of the relevant code for comparison."
   ]
  },
  {
   "cell_type": "code",
   "execution_count": 1,
   "metadata": {
    "execution": {
     "iopub.execute_input": "2020-12-28T02:32:40.783673Z",
     "iopub.status.busy": "2020-12-28T02:32:40.782802Z",
     "iopub.status.idle": "2020-12-28T02:32:40.789621Z",
     "shell.execute_reply": "2020-12-28T02:32:40.788619Z"
    },
    "jupyter": {
     "source_hidden": true
    },
    "slideshow": {
     "slide_type": "skip"
    }
   },
   "outputs": [],
   "source": [
    "#include <algorithm>\n",
    "#include <cstdint>\n",
    "#include <iostream>\n",
    "#include <iterator>\n",
    "\n",
    "using namespace std;"
   ]
  },
  {
   "cell_type": "code",
   "execution_count": 2,
   "metadata": {
    "execution": {
     "iopub.execute_input": "2020-12-28T02:32:40.793592Z",
     "iopub.status.busy": "2020-12-28T02:32:40.792559Z",
     "iopub.status.idle": "2020-12-28T02:32:40.827796Z",
     "shell.execute_reply": "2020-12-28T02:32:40.826898Z"
    },
    "jupyter": {
     "source_hidden": true
    },
    "slideshow": {
     "slide_type": "skip"
    }
   },
   "outputs": [],
   "source": [
    "namespace {\n",
    "\n",
    "struct ZString {\n",
    "    void DataAndLength(const char16_t*& data, uint32_t& length) const {\n",
    "        static const char16_t r[] = u\"Unicode String© with : replacements\";\n",
    "        data = &r[0];\n",
    "        length = size(r);\n",
    "    }\n",
    "\n",
    "    auto range() const {\n",
    "        static const char16_t r[] = u\"Unicode String© with : replacements\";\n",
    "        return make_pair(begin(r), end(r));\n",
    "    }\n",
    "\n",
    "    void ReplaceCharacters(const char16_t* badChars,\n",
    "                           const char16_t* replacementChars,\n",
    "                           uint32_t numChars);\n",
    "};\n",
    "\n",
    "struct ARawZString {\n",
    "    unique_ptr<char16_t[]> _data;\n",
    "\n",
    "    ARawZString(uint32_t n) : _data(new char16_t[n]) {}\n",
    "    char16_t* get() const { return _data.get(); }\n",
    "    char16_t& operator[](size_t n) { return _data[n]; }\n",
    "};\n",
    "\n",
    "void EquateToUnicodeString(ZString&, const char16_t* p, size_t n) {\n",
    "    copy_n(p, n, ostream_iterator<char>(cout, \"\"));\n",
    "    cout << endl;\n",
    "}\n",
    "\n",
    "} // namespace"
   ]
  },
  {
   "cell_type": "code",
   "execution_count": 3,
   "metadata": {
    "execution": {
     "iopub.execute_input": "2020-12-28T02:32:40.830803Z",
     "iopub.status.busy": "2020-12-28T02:32:40.829992Z",
     "iopub.status.idle": "2020-12-28T02:32:40.833630Z",
     "shell.execute_reply": "2020-12-28T02:32:40.832860Z"
    },
    "jupyter": {
     "source_hidden": true
    },
    "slideshow": {
     "slide_type": "skip"
    }
   },
   "outputs": [],
   "source": [
    "void ZString::ReplaceCharacters(const char16_t* badChars,\n",
    "                                const char16_t* replacementChars,\n",
    "                                uint32_t numChars) {\n",
    "    const char16_t* myData = nullptr;\n",
    "    uint32_t myLength = 0;\n",
    "    DataAndLength(myData, myLength);\n",
    "\n",
    "    bool hasBadCharacters = false;\n",
    "    {\n",
    "        for (uint32_t i = 0; i < myLength; ++i) {\n",
    "            for (uint32_t j = 0; j < numChars; ++j) {\n",
    "                if (myData[i] == badChars[j]) {\n",
    "                    hasBadCharacters = true;\n",
    "                    break;\n",
    "                }\n",
    "            }\n",
    "\n",
    "            if (hasBadCharacters) break;\n",
    "        }\n",
    "    }\n",
    "\n",
    "    if (hasBadCharacters) {\n",
    "        uint32_t destLength = myLength;\n",
    "        ARawZString destData(destLength);\n",
    "\n",
    "        for (uint32_t i = 0; i < myLength; ++i) {\n",
    "            destData[i] = myData[i];\n",
    "\n",
    "            for (uint32_t j = 0; j < numChars; ++j) {\n",
    "                if (myData[i] == badChars[j]) {\n",
    "                    destData[i] = replacementChars[j];\n",
    "                    break;\n",
    "                }\n",
    "            }\n",
    "        }\n",
    "\n",
    "        EquateToUnicodeString(*this, destData.get(), destLength);\n",
    "    }\n",
    "}"
   ]
  },
  {
   "cell_type": "code",
   "execution_count": 4,
   "metadata": {
    "execution": {
     "iopub.execute_input": "2020-12-28T02:32:40.836401Z",
     "iopub.status.busy": "2020-12-28T02:32:40.835744Z",
     "iopub.status.idle": "2020-12-28T02:32:40.837001Z",
     "shell.execute_reply": "2020-12-28T02:32:40.837716Z"
    },
    "jupyter": {
     "source_hidden": true
    },
    "slideshow": {
     "slide_type": "skip"
    }
   },
   "outputs": [],
   "source": [
    ".undo 1"
   ]
  },
  {
   "cell_type": "code",
   "execution_count": 5,
   "metadata": {
    "execution": {
     "iopub.execute_input": "2020-12-28T02:32:40.840414Z",
     "iopub.status.busy": "2020-12-28T02:32:40.839640Z",
     "iopub.status.idle": "2020-12-28T02:32:40.845552Z",
     "shell.execute_reply": "2020-12-28T02:32:40.844851Z"
    },
    "jupyter": {
     "source_hidden": true
    },
    "slideshow": {
     "slide_type": "skip"
    }
   },
   "outputs": [],
   "source": [
    "void ZString::ReplaceCharacters(const char16_t* badChars,\n",
    "                                const char16_t* replacementChars,\n",
    "                                uint32_t numChars) {\n",
    "    const char16_t* myData = nullptr;\n",
    "    uint32_t myLength = 0;\n",
    "    DataAndLength(myData, myLength);\n",
    "\n",
    "    auto l = myData + myLength;\n",
    "    bool hasBadCharacters = any_of(myData, l, [&](auto c) {\n",
    "        auto l = badChars + numChars;\n",
    "        return find(badChars, l, c) != l; // NOTE: Won't scale\n",
    "    });\n",
    "\n",
    "    if (hasBadCharacters) {\n",
    "        uint32_t destLength = myLength;\n",
    "        ARawZString destData(destLength);\n",
    "\n",
    "        transform(myData, l, destData.get(), [&](auto c) {\n",
    "            auto l = badChars + numChars;\n",
    "            auto p = find(badChars, l, c);\n",
    "            if (p != l) return replacementChars[p - badChars];\n",
    "            return c;\n",
    "        });\n",
    "\n",
    "        EquateToUnicodeString(*this, destData.get(), destLength);\n",
    "    }\n",
    "}"
   ]
  },
  {
   "cell_type": "code",
   "execution_count": 6,
   "metadata": {
    "execution": {
     "iopub.execute_input": "2020-12-28T02:32:40.848951Z",
     "iopub.status.busy": "2020-12-28T02:32:40.848046Z",
     "iopub.status.idle": "2020-12-28T02:32:40.849805Z",
     "shell.execute_reply": "2020-12-28T02:32:40.850790Z"
    },
    "jupyter": {
     "source_hidden": true
    },
    "slideshow": {
     "slide_type": "skip"
    }
   },
   "outputs": [],
   "source": [
    ".undo 1"
   ]
  },
  {
   "cell_type": "code",
   "execution_count": 7,
   "metadata": {
    "execution": {
     "iopub.execute_input": "2020-12-28T02:32:40.854354Z",
     "iopub.status.busy": "2020-12-28T02:32:40.853218Z",
     "iopub.status.idle": "2020-12-28T02:32:40.866118Z",
     "shell.execute_reply": "2020-12-28T02:32:40.865445Z"
    },
    "jupyter": {
     "source_hidden": true
    },
    "slideshow": {
     "slide_type": "skip"
    }
   },
   "outputs": [],
   "source": [
    "void ZString::ReplaceCharacters(const char16_t* badChars,\n",
    "                                const char16_t* replacementChars,\n",
    "                                uint32_t numChars) {\n",
    "\n",
    "    auto fb = badChars, lb = badChars + numChars;\n",
    "\n",
    "    auto [f, l] = range();\n",
    "\n",
    "    auto p = find_if(f, l, [&](auto c) {\n",
    "        return find(fb, lb, c) != lb; // NOTE: Won't scale\n",
    "    });\n",
    "\n",
    "    if (p == l) return;\n",
    "\n",
    "    u16string result;\n",
    "    result.reserve(l - f);\n",
    "    result.append(f, p);\n",
    "\n",
    "    transform(p, l, back_inserter(result), [&](auto c) {\n",
    "        auto p = find(fb, lb, c);\n",
    "        if (p == lb) return c;\n",
    "        return replacementChars[p - fb];\n",
    "    });\n",
    "\n",
    "    EquateToUnicodeString(*this, result.data(), result.size());\n",
    "}\n"
   ]
  },
  {
   "cell_type": "code",
   "execution_count": 8,
   "metadata": {
    "collapsed": true,
    "execution": {
     "iopub.execute_input": "2020-12-28T02:32:40.869683Z",
     "iopub.status.busy": "2020-12-28T02:32:40.868805Z",
     "iopub.status.idle": "2020-12-28T02:32:40.927007Z",
     "shell.execute_reply": "2020-12-28T02:32:40.926295Z"
    },
    "jupyter": {
     "outputs_hidden": true,
     "source_hidden": true
    },
    "slideshow": {
     "slide_type": "skip"
    }
   },
   "outputs": [
    {
     "name": "stdout",
     "output_type": "stream",
     "text": [
      "Unicode Stringc with / replacements\u0000\n"
     ]
    }
   ],
   "source": [
    "{\n",
    "    ZString example;\n",
    "    example.ReplaceCharacters(u\":©\", u\"/c\", 2);\n",
    "}"
   ]
  },
  {
   "cell_type": "markdown",
   "metadata": {
    "slideshow": {
     "slide_type": "slide"
    }
   },
   "source": [
    "## More advanced algorithms\n",
    "\n",
    "### Sorting\n",
    "\n",
    "- `sort()`\n",
    "- `stable_sort()`"
   ]
  },
  {
   "cell_type": "markdown",
   "metadata": {
    "slideshow": {
     "slide_type": "slide"
    }
   },
   "source": [
    "### Algorithms requiring a sorted sequence\n",
    "\n",
    "- `lower_bound()`\n",
    "- `upper_bound()`\n",
    "- `equal_range()`\n",
    "- `merge()`\n",
    "- `inplace_merge()`\n",
    "- `includes()`\n",
    "- `set_difference()`\n",
    "- `set_intersection()`\n",
    "- `set_symmetric_difference()`\n",
    "- `set_union()`"
   ]
  },
  {
   "cell_type": "markdown",
   "metadata": {
    "slideshow": {
     "slide_type": "slide"
    }
   },
   "source": [
    "## New Algorithms (C++11 - 20)\n",
    "\n",
    "## Projection Functions\n",
    "\n",
    "## Position Based Algorithms\n",
    "  - All non-modifying sequence operations taking a predicate\n",
    "  \n",
    "## Strict Weak Order\n",
    "\n",
    "## Iterator hierarchy (and why you probably shouldn't care)\n",
    "\n",
    "## Writing a custom algorithm\n",
    "- what to return\n",
    "\n",
    "## Composition vs. multi-pass\n",
    "\n",
    "## Generators vs input iterator\n",
    "\n",
    "## Output iterators vs sink functions"
   ]
  },
  {
   "cell_type": "code",
   "execution_count": 9,
   "metadata": {},
   "outputs": [],
   "source": []
  }
 ],
 "metadata": {
  "kernelspec": {
   "display_name": "C++17",
   "language": "C++17",
   "name": "xcpp17"
  },
  "language_info": {
   "codemirror_mode": "text/x-c++src",
   "file_extension": ".cpp",
   "mimetype": "text/x-c++src",
   "name": "c++",
   "version": "17"
  }
 },
 "nbformat": 4,
 "nbformat_minor": 4
}
