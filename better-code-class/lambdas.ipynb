{
 "cells": [
  {
   "cell_type": "code",
   "execution_count": 1,
   "metadata": {},
   "outputs": [],
   "source": [
    "#include <iostream>\n",
    "\n",
    "using namespace std;"
   ]
  },
  {
   "cell_type": "markdown",
   "metadata": {},
   "source": [
    "# lambdas\n",
    "\n",
    "Lambda are a syntax to construct a _function object_.\n",
    "\n",
    "## review - function objects\n",
    "\n",
    "- Consider a simple `struct` or `class` with an `invoke` member function"
   ]
  },
  {
   "cell_type": "code",
   "execution_count": 2,
   "metadata": {},
   "outputs": [],
   "source": [
    "struct add_n_simple {\n",
    "    int _n;\n",
    "    \n",
    "    int invoke(int x) const { return _n + x; }\n",
    "};"
   ]
  },
  {
   "cell_type": "markdown",
   "metadata": {},
   "source": [
    "- `add_n_simple` can be used as a function which adds `n` to any value passed to invoke"
   ]
  },
  {
   "cell_type": "code",
   "execution_count": 3,
   "metadata": {},
   "outputs": [
    {
     "name": "stdout",
     "output_type": "stream",
     "text": [
      "15\n"
     ]
    }
   ],
   "source": [
    "add_n_simple add_s{5};\n",
    "cout << add_s.invoke(10) << \"\\n\";"
   ]
  },
  {
   "cell_type": "markdown",
   "metadata": {},
   "source": [
    "- We can make invocation more natural by providing a user-defined function call operator, `operator()`, instead of `invoke`\n",
    "- This is known as a _function object type_"
   ]
  },
  {
   "cell_type": "code",
   "execution_count": 4,
   "metadata": {},
   "outputs": [],
   "source": [
    "struct add_n_function {\n",
    "    int _n;\n",
    "        \n",
    "    int operator()(int x) const { return _n + x; }\n",
    "};"
   ]
  },
  {
   "cell_type": "markdown",
   "metadata": {},
   "source": [
    "- Invocation now uses function calling syntax"
   ]
  },
  {
   "cell_type": "code",
   "execution_count": 5,
   "metadata": {},
   "outputs": [
    {
     "name": "stdout",
     "output_type": "stream",
     "text": [
      "15\n"
     ]
    }
   ],
   "source": [
    "add_n_function add_f{5};\n",
    "cout << add_f(10) << \"\\n\";"
   ]
  },
  {
   "cell_type": "markdown",
   "metadata": {},
   "source": [
    "### anatomy of a function object\n",
    "\n",
    "- _closure type_\n",
    "```cpp\n",
    "struct add_n_function {\n",
    "```\n",
    "- _captures_\n",
    "```cpp\n",
    "    int _n;\n",
    "```\n",
    "- _function call operator_\n",
    "```cpp\n",
    "    int operator()(int x) const { return _n + x; }\n",
    "```\n",
    "- _closure_\n",
    "```cpp\n",
    "add_n_function add_f{5};\n",
    "```"
   ]
  },
  {
   "cell_type": "markdown",
   "metadata": {},
   "source": [
    "## lambda expression\n",
    "\n",
    "- A lambda expression is a prvalue of a unique unnamed class type, the _closure type_"
   ]
  },
  {
   "cell_type": "code",
   "execution_count": 6,
   "metadata": {},
   "outputs": [
    {
     "name": "stdout",
     "output_type": "stream",
     "text": [
      "15\n"
     ]
    }
   ],
   "source": [
    "{\n",
    "    \n",
    "auto add_n_lambda = [_n = 5](int x) -> int { return _n + x; };\n",
    "cout << add_n_lambda(10) << \"\\n\";\n",
    "    \n",
    "}"
   ]
  },
  {
   "cell_type": "markdown",
   "metadata": {},
   "source": [
    "### anatomy of a lambda expression\n",
    "\n",
    "- _closure type_\n",
    "```cpp\n",
    "    decltype(add_n_lambda)\n",
    "```\n",
    "- _captures_\n",
    "```cpp\n",
    "    [_n = 5]\n",
    "```\n",
    "- _function call operator_\n",
    "```cpp\n",
    "    (int x) -> int { return _n + x; }\n",
    "```\n",
    "- _closure_\n",
    "```cpp\n",
    "    add_n_lambda\n",
    "```"
   ]
  },
  {
   "cell_type": "code",
   "execution_count": 7,
   "metadata": {},
   "outputs": [],
   "source": []
  },
  {
   "cell_type": "code",
   "execution_count": 8,
   "metadata": {},
   "outputs": [],
   "source": []
  }
 ],
 "metadata": {
  "kernelspec": {
   "display_name": "xeus C++14",
   "language": "",
   "name": "xeus-cling-cpp14"
  },
  "language_info": {
   "codemirror_mode": "text/x-c++src",
   "file_extension": ".cpp",
   "mimetype": "text/x-c++src",
   "name": "c++",
   "version": ""
  }
 },
 "nbformat": 4,
 "nbformat_minor": 2
}
