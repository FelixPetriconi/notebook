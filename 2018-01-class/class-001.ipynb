{
 "cells": [
  {
   "cell_type": "markdown",
   "metadata": {},
   "source": [
    "## RValue References\n",
    "\n",
    "An rvalue is an unnamed temporary. Using the syntax `T&&` you can specify that an argument must be an rvalue.\n"
   ]
  },
  {
   "cell_type": "code",
   "execution_count": 1,
   "metadata": {},
   "outputs": [],
   "source": [
    "#include <string>\n",
    "#include <iostream>\n",
    "#include <cstdlib>\n",
    "#include <cxxabi.h>\n",
    "#include <type_traits>\n",
    "\n",
    "using namespace std;\n",
    "using namespace std::string_literals;"
   ]
  },
  {
   "cell_type": "code",
   "execution_count": 2,
   "metadata": {},
   "outputs": [],
   "source": [
    "string demangle(const char* x) {\n",
    "    int status = 0;\n",
    "    char* str = abi::__cxa_demangle( x, nullptr, nullptr, &status);\n",
    "    string result(str);\n",
    "    free(str);\n",
    "    return result;\n",
    "}"
   ]
  },
  {
   "cell_type": "code",
   "execution_count": 3,
   "metadata": {},
   "outputs": [],
   "source": [
    "void f(string&& x) { cout << x << endl; }"
   ]
  },
  {
   "cell_type": "code",
   "execution_count": 4,
   "metadata": {},
   "outputs": [
    {
     "name": "stdout",
     "output_type": "stream",
     "text": [
      "Hello\n"
     ]
    }
   ],
   "source": [
    "string x;\n",
    "f(\"Hello\"s);"
   ]
  },
  {
   "cell_type": "code",
   "execution_count": 5,
   "metadata": {},
   "outputs": [],
   "source": [
    "void g(string&& x) { cout << is_rvalue_reference<decltype(x)>::value << endl; }"
   ]
  },
  {
   "cell_type": "code",
   "execution_count": 6,
   "metadata": {},
   "outputs": [
    {
     "name": "stdout",
     "output_type": "stream",
     "text": [
      "1\n"
     ]
    }
   ],
   "source": [
    "g(\"Hello\"s);"
   ]
  },
  {
   "cell_type": "code",
   "execution_count": 7,
   "metadata": {},
   "outputs": [],
   "source": [
    "void g(const string& x) { cout << demangle(typeid(decltype(x)).name()) << endl; }"
   ]
  },
  {
   "cell_type": "code",
   "execution_count": 8,
   "metadata": {},
   "outputs": [
    {
     "name": "stdout",
     "output_type": "stream",
     "text": [
      "std::__1::basic_string<char, std::__1::char_traits<char>, std::__1::allocator<char> >\n"
     ]
    }
   ],
   "source": [
    "string y;\n",
    "g(y);"
   ]
  },
  {
   "cell_type": "code",
   "execution_count": 9,
   "metadata": {},
   "outputs": [
    {
     "name": "stdout",
     "output_type": "stream",
     "text": [
      "std::__1::basic_string<char, std::__1::char_traits<char>, std::__1::allocator<char> >\n"
     ]
    }
   ],
   "source": [
    "cout << demangle(typeid(string&).name()) << endl;"
   ]
  },
  {
   "cell_type": "code",
   "execution_count": null,
   "metadata": {},
   "outputs": [],
   "source": []
  },
  {
   "cell_type": "code",
   "execution_count": 10,
   "metadata": {},
   "outputs": [
    {
     "name": "stdout",
     "output_type": "stream",
     "text": [
      "(const bool) false\n"
     ]
    }
   ],
   "source": [
    "is_rvalue_reference<decltype(x)>::value"
   ]
  },
  {
   "cell_type": "code",
   "execution_count": 4,
   "metadata": {},
   "outputs": [
    {
     "name": "stderr",
     "output_type": "stream",
     "text": [
      "\u001b[1minput_line_11:2:2: \u001b[0m\u001b[0;1;31merror: \u001b[0m\u001b[1muse of undeclared identifier 'x'\u001b[0m\n",
      " x\n",
      "\u001b[0;1;32m ^\n",
      "\u001b[0m"
     ]
    }
   ],
   "source": [
    "x"
   ]
  },
  {
   "cell_type": "code",
   "execution_count": null,
   "metadata": {},
   "outputs": [],
   "source": []
  }
 ],
 "metadata": {
  "kernelspec": {
   "display_name": "xeus C++14",
   "language": "",
   "name": "xeus-cling-cpp14"
  },
  "language_info": {
   "codemirror_mode": "text/x-c++src",
   "file_extension": ".cpp",
   "mimetype": "text/x-c++src",
   "name": "c++",
   "version": ""
  }
 },
 "nbformat": 4,
 "nbformat_minor": 2
}
