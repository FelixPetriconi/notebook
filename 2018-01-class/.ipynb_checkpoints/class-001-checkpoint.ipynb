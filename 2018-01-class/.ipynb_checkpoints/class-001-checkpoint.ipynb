{
 "cells": [
  {
   "cell_type": "code",
   "execution_count": 1,
   "metadata": {
    "scrolled": false,
    "slideshow": {
     "slide_type": "skip"
    }
   },
   "outputs": [],
   "source": [
    "#include \"../common.hpp\"\n",
    "\n",
    "using namespace std;\n",
    "using namespace std::string_literals;"
   ]
  },
  {
   "cell_type": "markdown",
   "metadata": {
    "slideshow": {
     "slide_type": "slide"
    }
   },
   "source": [
    "## RValue References\n",
    "\n",
    "- _rvalue_ (right hand value) is an unnamed temporary\n",
    "- `T&&` is used to denote a reference that can only bind to a temporary"
   ]
  },
  {
   "cell_type": "code",
   "execution_count": 2,
   "metadata": {
    "slideshow": {
     "slide_type": "fragment"
    }
   },
   "outputs": [
    {
     "name": "stderr",
     "output_type": "stream",
     "text": [
      "\u001b[1minput_line_9:3:10: \u001b[0m\u001b[0;1;31merror: \u001b[0m\u001b[1mrvalue reference to type 'basic_string<...>' cannot bind to lvalue of type\n",
      "      'basic_string<...>'\u001b[0m\n",
      "string&& ref = str;\n",
      "\u001b[0;1;32m         ^     ~~~\n",
      "\u001b[0m"
     ]
    }
   ],
   "source": [
    "string str = \"Hello\"s;\n",
    "string&& ref = str;"
   ]
  },
  {
   "cell_type": "code",
   "execution_count": 3,
   "metadata": {
    "slideshow": {
     "slide_type": "fragment"
    }
   },
   "outputs": [],
   "source": [
    "string&& ref = \"Hello\"s;"
   ]
  },
  {
   "cell_type": "markdown",
   "metadata": {
    "slideshow": {
     "slide_type": "slide"
    }
   },
   "source": [
    "- A temporary value is safe to _consume_\n",
    "- Useful to avoid copies\n",
    "- A constructor taking the class type by rvalue reference is known as a _move constructor_\n",
    "    - Similar to a copy constructor but it consumes it's argument"
   ]
  },
  {
   "cell_type": "code",
   "execution_count": 4,
   "metadata": {
    "slideshow": {
     "slide_type": "fragment"
    }
   },
   "outputs": [],
   "source": [
    "class movable {\n",
    "    int* _some_data;\n",
    "public:\n",
    "    movable(movable&& x) noexcept : _some_data{x._some_data} // consume x\n",
    "    { x._some_data = nullptr; } // leave x destructible\n",
    "    \n",
    "    //...\n",
    "};"
   ]
  },
  {
   "cell_type": "markdown",
   "metadata": {
    "slideshow": {
     "slide_type": "slide"
    }
   },
   "source": [
    "### Return Value Optimization\n",
    "- _Return value optimization_ (RVO) avoids a copy (or move) on return by constructing the result in place\n",
    "- RVO applies to _local named values_ and rvalue results\n",
    "- Allowed optimziation since C++03, required by C++17"
   ]
  },
  {
   "cell_type": "code",
   "execution_count": 5,
   "metadata": {
    "slideshow": {
     "slide_type": "fragment"
    }
   },
   "outputs": [
    {
     "name": "stdout",
     "output_type": "stream",
     "text": [
      "annotate ctor\n"
     ]
    }
   ],
   "source": [
    "annotate f() {\n",
    "    annotate x;\n",
    "    return x;\n",
    "}\n",
    "\n",
    "annotate y = f();"
   ]
  },
  {
   "cell_type": "markdown",
   "metadata": {
    "slideshow": {
     "slide_type": "slide"
    }
   },
   "source": [
    "- Arguments to functions are in the caller scope\n",
    "- RVO applies to passing an argument by value"
   ]
  },
  {
   "cell_type": "code",
   "execution_count": 6,
   "metadata": {
    "slideshow": {
     "slide_type": "fragment"
    }
   },
   "outputs": [
    {
     "name": "stdout",
     "output_type": "stream",
     "text": [
      "annotate ctor\n",
      "annotate dtor\n"
     ]
    }
   ],
   "source": [
    "void g(annotate x) { }\n",
    "g(f());"
   ]
  },
  {
   "cell_type": "markdown",
   "metadata": {
    "slideshow": {
     "slide_type": "slide"
    }
   },
   "source": [
    "- RVO does not apply to returning value argument\n",
    "- C++11 defines returning a value argument as a _move_ operation"
   ]
  },
  {
   "cell_type": "code",
   "execution_count": 9,
   "metadata": {
    "slideshow": {
     "slide_type": "fragment"
    }
   },
   "outputs": [
    {
     "name": "stdout",
     "output_type": "stream",
     "text": [
      "annotate ctor\n",
      "annotate move-ctor\n",
      "annotate dtor\n"
     ]
    }
   ],
   "source": [
    "annotate h(annotate x) {\n",
    "    return x;\n",
    "}\n",
    "\n",
    "annotate z = h(f());"
   ]
  },
  {
   "cell_type": "markdown",
   "metadata": {
    "slideshow": {
     "slide_type": "slide"
    }
   },
   "source": [
    "### Using RValue Refs and RVO to Avoid Copies\n",
    "#### Make Classes Movable\n",
    "- Provide a move constructor and move assignment operator\n",
    "    - Compiler will provide them implicitely if\n",
    "        - there are no user declared copy constructors, copy assignment operators, or destructors\n",
    "        - all non-static data members and base classes are movable\n",
    "    - To ensure you have then, declare them `= default`\n",
    "    - Move constructor and move assignment should be declared `noexcept`"
   ]
  },
  {
   "cell_type": "code",
   "execution_count": null,
   "metadata": {},
   "outputs": [],
   "source": []
  }
 ],
 "metadata": {
  "celltoolbar": "Slideshow",
  "kernelspec": {
   "display_name": "xeus C++14",
   "language": "",
   "name": "xeus-cling-cpp14"
  },
  "language_info": {
   "codemirror_mode": "text/x-c++src",
   "file_extension": ".cpp",
   "mimetype": "text/x-c++src",
   "name": "c++",
   "version": ""
  }
 },
 "nbformat": 4,
 "nbformat_minor": 2
}
