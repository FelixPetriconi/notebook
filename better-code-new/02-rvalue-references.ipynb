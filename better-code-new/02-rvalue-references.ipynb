{
 "cells": [
  {
   "cell_type": "code",
   "execution_count": 1,
   "metadata": {
    "execution": {
     "iopub.execute_input": "2020-12-28T02:33:09.225614Z",
     "iopub.status.busy": "2020-12-28T02:33:09.224408Z",
     "iopub.status.idle": "2020-12-28T02:33:09.269878Z",
     "shell.execute_reply": "2020-12-28T02:33:09.269032Z"
    },
    "slideshow": {
     "slide_type": "skip"
    }
   },
   "outputs": [],
   "source": [
    "#include \"../common.hpp\"\n",
    "\n",
    "using namespace std;\n",
    "using namespace std::string_literals;"
   ]
  },
  {
   "cell_type": "markdown",
   "metadata": {
    "slideshow": {
     "slide_type": "slide"
    }
   },
   "source": [
    "## RValue References\n",
    "\n",
    "- [_rvalue_](http://en.cppreference.com/w/cpp/language/value_category) (right hand value) is an unnamed temporary\n",
    "- `T&&` is used to denote an [_rvalue reference_](http://en.cppreference.com/w/cpp/language/reference) a reference that can only bind to a temporary"
   ]
  },
  {
   "cell_type": "markdown",
   "metadata": {
    "slideshow": {
     "slide_type": "fragment"
    }
   },
   "source": [
    "```cpp\n",
    "string str = \"Hello\"s;\n",
    "string&& ref = str;\n",
    "```\n",
    "---\n",
    "```cpp\n",
    "input_line_10:3:10: error: rvalue reference to type 'basic_string<...>' cannot bind to lvalue of type 'basic_string<...>'\n",
    "string&& ref = str;\n",
    "         ^     ~~~\n",
    "```"
   ]
  },
  {
   "cell_type": "code",
   "execution_count": 2,
   "metadata": {
    "execution": {
     "iopub.execute_input": "2020-12-28T02:33:09.273688Z",
     "iopub.status.busy": "2020-12-28T02:33:09.272577Z",
     "iopub.status.idle": "2020-12-28T02:33:09.278631Z",
     "shell.execute_reply": "2020-12-28T02:33:09.277811Z"
    },
    "slideshow": {
     "slide_type": "fragment"
    }
   },
   "outputs": [],
   "source": [
    "string&& ref = \"Hello\"s;"
   ]
  },
  {
   "cell_type": "markdown",
   "metadata": {
    "slideshow": {
     "slide_type": "slide"
    }
   },
   "source": [
    "- A temporary value is safe to _consume_\n",
    "- Useful to avoid copies\n",
    "- A constructor taking the class type by rvalue reference is known as a _move constructor_\n",
    "    - Similar to a copy constructor but it consumes it's argument"
   ]
  },
  {
   "cell_type": "code",
   "execution_count": 3,
   "metadata": {
    "execution": {
     "iopub.execute_input": "2020-12-28T02:33:09.281725Z",
     "iopub.status.busy": "2020-12-28T02:33:09.280840Z",
     "iopub.status.idle": "2020-12-28T02:33:09.283970Z",
     "shell.execute_reply": "2020-12-28T02:33:09.283312Z"
    },
    "slideshow": {
     "slide_type": "fragment"
    }
   },
   "outputs": [],
   "source": [
    "class movable {\n",
    "    int* _some_data;\n",
    "public:\n",
    "    movable(movable&& x) noexcept : _some_data{x._some_data} // consume x\n",
    "    { x._some_data = nullptr; } // leave x destructible\n",
    "    \n",
    "    //...\n",
    "};"
   ]
  },
  {
   "cell_type": "markdown",
   "metadata": {
    "slideshow": {
     "slide_type": "slide"
    }
   },
   "source": [
    "### Return Value Optimization\n",
    "- _Return value optimization_ (RVO) or [_copy elision_](http://en.cppreference.com/w/cpp/language/copy_elision) avoids a copy (or move) on return by constructing the result in place\n",
    "- RVO applies to _local named values_ and rvalue results\n",
    "- Allowed optimziation since C++03, required by C++17"
   ]
  },
  {
   "cell_type": "code",
   "execution_count": 4,
   "metadata": {
    "execution": {
     "iopub.execute_input": "2020-12-28T02:33:09.287433Z",
     "iopub.status.busy": "2020-12-28T02:33:09.286721Z",
     "iopub.status.idle": "2020-12-28T02:33:09.293673Z",
     "shell.execute_reply": "2020-12-28T02:33:09.294494Z"
    },
    "slideshow": {
     "slide_type": "fragment"
    }
   },
   "outputs": [
    {
     "name": "stdout",
     "output_type": "stream",
     "text": [
      "annotate ctor\n"
     ]
    }
   ],
   "source": [
    "annotate f() {\n",
    "    annotate x;\n",
    "    return x;\n",
    "}\n",
    "\n",
    "annotate y = f();"
   ]
  },
  {
   "cell_type": "markdown",
   "metadata": {
    "slideshow": {
     "slide_type": "slide"
    }
   },
   "source": [
    "- Arguments to functions are in the caller scope\n",
    "- RVO applies to passing an argument by value"
   ]
  },
  {
   "cell_type": "code",
   "execution_count": 5,
   "metadata": {
    "execution": {
     "iopub.execute_input": "2020-12-28T02:33:09.297278Z",
     "iopub.status.busy": "2020-12-28T02:33:09.296408Z",
     "iopub.status.idle": "2020-12-28T02:33:09.302737Z",
     "shell.execute_reply": "2020-12-28T02:33:09.303460Z"
    },
    "slideshow": {
     "slide_type": "fragment"
    }
   },
   "outputs": [
    {
     "name": "stdout",
     "output_type": "stream",
     "text": [
      "annotate ctor\n",
      "annotate dtor\n"
     ]
    }
   ],
   "source": [
    "void g(annotate x) { }\n",
    "g(f());"
   ]
  },
  {
   "cell_type": "markdown",
   "metadata": {
    "slideshow": {
     "slide_type": "slide"
    }
   },
   "source": [
    "- RVO does not apply to returning value argument\n",
    "- C++11 defines returning a value argument as a _move_ operation"
   ]
  },
  {
   "cell_type": "code",
   "execution_count": 6,
   "metadata": {
    "execution": {
     "iopub.execute_input": "2020-12-28T02:33:09.306532Z",
     "iopub.status.busy": "2020-12-28T02:33:09.305772Z",
     "iopub.status.idle": "2020-12-28T02:33:09.313904Z",
     "shell.execute_reply": "2020-12-28T02:33:09.314574Z"
    },
    "slideshow": {
     "slide_type": "fragment"
    }
   },
   "outputs": [
    {
     "name": "stdout",
     "output_type": "stream",
     "text": [
      "annotate ctor\n",
      "annotate move-ctor\n",
      "annotate dtor\n"
     ]
    }
   ],
   "source": [
    "annotate h(annotate x) {\n",
    "    return x;\n",
    "}\n",
    "\n",
    "annotate z = h(f());"
   ]
  },
  {
   "cell_type": "markdown",
   "metadata": {
    "slideshow": {
     "slide_type": "slide"
    }
   },
   "source": [
    "### Using RValue Refs and RVO to Avoid Copies\n",
    "#### Make Classes Movable\n",
    "- Provide a move constructor and move assignment operator\n",
    "    - Compiler will provide them implicitely if\n",
    "        - there are no user declared copy constructors, copy assignment operators, or destructors\n",
    "        - all non-static data members and base classes are movable\n",
    "    - To ensure you have them, declare them `= default`\n",
    "    - Move constructor and move assignment should be declared `noexcept`\n",
    "    - Post-condition of moved from object is _partially formed_ & can alias rhs for move assignment\n",
    "    - Otherwise can assume no aliasing"
   ]
  },
  {
   "cell_type": "markdown",
   "metadata": {
    "slideshow": {
     "slide_type": "slide"
    }
   },
   "source": [
    "Example:"
   ]
  },
  {
   "cell_type": "code",
   "execution_count": 7,
   "metadata": {
    "execution": {
     "iopub.execute_input": "2020-12-28T02:33:09.317883Z",
     "iopub.status.busy": "2020-12-28T02:33:09.316929Z",
     "iopub.status.idle": "2020-12-28T02:33:09.320305Z",
     "shell.execute_reply": "2020-12-28T02:33:09.319590Z"
    },
    "slideshow": {
     "slide_type": "-"
    }
   },
   "outputs": [],
   "source": [
    "class example_01 {\n",
    "    int* _data;\n",
    "public:\n",
    "    explicit example_01(int x) : _data(new int(x)) { }\n",
    "    ~example_01() { delete _data; }\n",
    "    \n",
    "    example_01(const example_01&) = delete;\n",
    "    example_01& operator=(const example_01&) = delete;\n",
    "    \n",
    "    example_01(example_01&& x) noexcept : _data(x._data) { x._data = nullptr; }\n",
    "    example_01& operator=(example_01&& x) noexcept {\n",
    "        delete _data;\n",
    "        _data = x._data;\n",
    "        x._data = nullptr;\n",
    "        return *this;\n",
    "    }\n",
    "    \n",
    "    explicit operator int () { return *_data; }\n",
    "};"
   ]
  },
  {
   "cell_type": "code",
   "execution_count": 8,
   "metadata": {
    "execution": {
     "iopub.execute_input": "2020-12-28T02:33:09.322974Z",
     "iopub.status.busy": "2020-12-28T02:33:09.322336Z",
     "iopub.status.idle": "2020-12-28T02:33:09.338109Z",
     "shell.execute_reply": "2020-12-28T02:33:09.337579Z"
    },
    "slideshow": {
     "slide_type": "slide"
    }
   },
   "outputs": [],
   "source": [
    "class example_02 {\n",
    "    unique_ptr<int> _data;\n",
    "public:\n",
    "    explicit example_02(int x) : _data(make_unique<int>(x)) { }\n",
    "    // implicit dtor\n",
    "    \n",
    "    // implicit deleted copy-ctor and copy-assignment\n",
    "    \n",
    "    /*\n",
    "        move-ctor and move-assignment would be provided by default, but declaring\n",
    "        them ensures they are provided and correct.\n",
    "    */\n",
    "    example_02(example_02&&) noexcept = default;\n",
    "    example_02& operator=(example_02&&) noexcept = default;\n",
    "    \n",
    "    explicit operator int () { return *_data; }\n",
    "};"
   ]
  },
  {
   "cell_type": "markdown",
   "metadata": {
    "slideshow": {
     "slide_type": "slide"
    }
   },
   "source": [
    "#### The Self Swap Problem\n",
    "What is the post condition of:"
   ]
  },
  {
   "cell_type": "code",
   "execution_count": 9,
   "metadata": {
    "execution": {
     "iopub.execute_input": "2020-12-28T02:33:09.341159Z",
     "iopub.status.busy": "2020-12-28T02:33:09.340153Z",
     "iopub.status.idle": "2020-12-28T02:33:09.352354Z",
     "shell.execute_reply": "2020-12-28T02:33:09.351583Z"
    },
    "slideshow": {
     "slide_type": "-"
    }
   },
   "outputs": [],
   "source": [
    "string s = \"Hello World!\";\n",
    "swap(s, s);"
   ]
  },
  {
   "cell_type": "code",
   "execution_count": 10,
   "metadata": {
    "execution": {
     "iopub.execute_input": "2020-12-28T02:33:09.355348Z",
     "iopub.status.busy": "2020-12-28T02:33:09.354372Z",
     "iopub.status.idle": "2020-12-28T02:33:09.359506Z",
     "shell.execute_reply": "2020-12-28T02:33:09.360190Z"
    },
    "slideshow": {
     "slide_type": "fragment"
    }
   },
   "outputs": [
    {
     "name": "stdout",
     "output_type": "stream",
     "text": [
      "Hello World!\n"
     ]
    }
   ],
   "source": [
    "cout << s << endl;"
   ]
  },
  {
   "cell_type": "markdown",
   "metadata": {
    "slideshow": {
     "slide_type": "slide"
    }
   },
   "source": [
    "`std::swap()` is defined as:\n",
    "```cpp\n",
    "template <class T>\n",
    "void swap(T& a, T& b) {\n",
    "    T tmp = move(a);\n",
    "    a = move(b); // if a and b alias, then b has been moved from\n",
    "    b = move(tmp);\n",
    "}\n",
    "```"
   ]
  },
  {
   "cell_type": "markdown",
   "metadata": {
    "slideshow": {
     "slide_type": "slide"
    }
   },
   "source": [
    "```cpp\n",
    "    example_01& operator=(example_01&& x) noexcept {\n",
    "        delete _data;\n",
    "        _data = x._data;\n",
    "        x._data = nullptr;\n",
    "        return *this;\n",
    "    }\n",
    "```\n",
    "\n",
    "Is this okay?"
   ]
  },
  {
   "cell_type": "code",
   "execution_count": 11,
   "metadata": {
    "execution": {
     "iopub.execute_input": "2020-12-28T02:33:09.363370Z",
     "iopub.status.busy": "2020-12-28T02:33:09.362333Z",
     "iopub.status.idle": "2020-12-28T02:33:09.371158Z",
     "shell.execute_reply": "2020-12-28T02:33:09.370531Z"
    },
    "slideshow": {
     "slide_type": "fragment"
    }
   },
   "outputs": [],
   "source": [
    "example_01 e1(42);\n",
    "swap(e1, e1);"
   ]
  },
  {
   "cell_type": "code",
   "execution_count": 12,
   "metadata": {
    "execution": {
     "iopub.execute_input": "2020-12-28T02:33:09.373967Z",
     "iopub.status.busy": "2020-12-28T02:33:09.373074Z",
     "iopub.status.idle": "2020-12-28T02:33:09.381863Z",
     "shell.execute_reply": "2020-12-28T02:33:09.381370Z"
    },
    "slideshow": {
     "slide_type": "fragment"
    }
   },
   "outputs": [
    {
     "name": "stdout",
     "output_type": "stream",
     "text": [
      "42\n"
     ]
    }
   ],
   "source": [
    "cout << static_cast<int>(e1) << endl;"
   ]
  },
  {
   "cell_type": "markdown",
   "metadata": {
    "slideshow": {
     "slide_type": "notes"
    }
   },
   "source": [
    "Class Break - resume here 2018-02-07"
   ]
  },
  {
   "cell_type": "markdown",
   "metadata": {
    "slideshow": {
     "slide_type": "slide"
    }
   },
   "source": [
    "#### Use Return Values, Not Out Arguments\n",
    "\n",
    "- Out-arguments defeat RVO"
   ]
  },
  {
   "cell_type": "code",
   "execution_count": 13,
   "metadata": {
    "execution": {
     "iopub.execute_input": "2020-12-28T02:33:09.389431Z",
     "iopub.status.busy": "2020-12-28T02:33:09.384431Z",
     "iopub.status.idle": "2020-12-28T02:33:09.393924Z",
     "shell.execute_reply": "2020-12-28T02:33:09.394804Z"
    },
    "slideshow": {
     "slide_type": "fragment"
    }
   },
   "outputs": [
    {
     "name": "stdout",
     "output_type": "stream",
     "text": [
      "annotate ctor\n",
      "annotate ctor\n",
      "annotate assign\n",
      "annotate dtor\n"
     ]
    }
   ],
   "source": [
    "void output_01(annotate& out) {\n",
    "    annotate tmp;\n",
    "    // fill in tmp\n",
    "    out = tmp;\n",
    "}\n",
    "\n",
    "annotate a1;\n",
    "output_01(a1);"
   ]
  },
  {
   "cell_type": "code",
   "execution_count": 14,
   "metadata": {
    "execution": {
     "iopub.execute_input": "2020-12-28T02:33:09.398346Z",
     "iopub.status.busy": "2020-12-28T02:33:09.397443Z",
     "iopub.status.idle": "2020-12-28T02:33:09.406898Z",
     "shell.execute_reply": "2020-12-28T02:33:09.406403Z"
    },
    "scrolled": true,
    "slideshow": {
     "slide_type": "slide"
    }
   },
   "outputs": [
    {
     "name": "stdout",
     "output_type": "stream",
     "text": [
      "annotate ctor\n"
     ]
    }
   ],
   "source": [
    "annotate output_02() {\n",
    "    annotate tmp;\n",
    "    // fill in tmp\n",
    "    return tmp;\n",
    "}\n",
    "\n",
    "annotate a2 = output_02();"
   ]
  },
  {
   "cell_type": "markdown",
   "metadata": {
    "slideshow": {
     "slide_type": "slide"
    }
   },
   "source": [
    "##### Further Reading\n",
    "\n",
    "[Stop Using _Out_ Arguments](http://stlab.cc/tips/stop-using-out-arguments.html)"
   ]
  },
  {
   "cell_type": "markdown",
   "metadata": {
    "slideshow": {
     "slide_type": "slide"
    }
   },
   "source": [
    "#### Pass _sink_ arguments by value and return, or swap or move into place\n",
    "\n",
    "- A _sink argument_ is an argument whose value is returned or stored\n",
    "- Most constructor arguments are sink arguments\n",
    "- The argument to assignment is a sink argument"
   ]
  },
  {
   "cell_type": "code",
   "execution_count": 15,
   "metadata": {
    "execution": {
     "iopub.execute_input": "2020-12-28T02:33:09.409759Z",
     "iopub.status.busy": "2020-12-28T02:33:09.409063Z",
     "iopub.status.idle": "2020-12-28T02:33:09.415948Z",
     "shell.execute_reply": "2020-12-28T02:33:09.415098Z"
    },
    "slideshow": {
     "slide_type": "slide"
    }
   },
   "outputs": [],
   "source": [
    "string append(string str, const char* suffix) {\n",
    "    str += suffix;\n",
    "    return str;\n",
    "}"
   ]
  },
  {
   "cell_type": "code",
   "execution_count": 16,
   "metadata": {
    "execution": {
     "iopub.execute_input": "2020-12-28T02:33:09.418840Z",
     "iopub.status.busy": "2020-12-28T02:33:09.418331Z",
     "iopub.status.idle": "2020-12-28T02:33:09.430667Z",
     "shell.execute_reply": "2020-12-28T02:33:09.431367Z"
    },
    "slideshow": {
     "slide_type": "fragment"
    }
   },
   "outputs": [
    {
     "name": "stdout",
     "output_type": "stream",
     "text": [
      "annotate ctor\n",
      "annotate move-ctor\n",
      "annotate dtor\n"
     ]
    }
   ],
   "source": [
    "annotate append(annotate str) {\n",
    "    // modify str\n",
    "    return str;\n",
    "}\n",
    "\n",
    "auto str = append(annotate());"
   ]
  },
  {
   "cell_type": "code",
   "execution_count": 17,
   "metadata": {
    "execution": {
     "iopub.execute_input": "2020-12-28T02:33:09.439367Z",
     "iopub.status.busy": "2020-12-28T02:33:09.438486Z",
     "iopub.status.idle": "2020-12-28T02:33:09.443546Z",
     "shell.execute_reply": "2020-12-28T02:33:09.444126Z"
    },
    "slideshow": {
     "slide_type": "slide"
    }
   },
   "outputs": [
    {
     "name": "stdout",
     "output_type": "stream",
     "text": [
      "annotate ctor\n",
      "annotate move-ctor\n",
      "annotate dtor\n"
     ]
    }
   ],
   "source": [
    "class example_03 {\n",
    "    annotate _member;\n",
    "public:\n",
    "    explicit example_03(annotate data) : _member(move(data)) { }\n",
    "};\n",
    "\n",
    "example_03 e_03{annotate()};"
   ]
  },
  {
   "cell_type": "markdown",
   "metadata": {
    "slideshow": {
     "slide_type": "fragment"
    }
   },
   "source": [
    "`std::move()` is a cast to an rvalue reference."
   ]
  },
  {
   "cell_type": "code",
   "execution_count": 18,
   "metadata": {
    "execution": {
     "iopub.execute_input": "2020-12-28T02:33:09.447340Z",
     "iopub.status.busy": "2020-12-28T02:33:09.446573Z",
     "iopub.status.idle": "2020-12-28T02:33:09.449412Z",
     "shell.execute_reply": "2020-12-28T02:33:09.448625Z"
    },
    "slideshow": {
     "slide_type": "slide"
    }
   },
   "outputs": [],
   "source": [
    "class example_04 {\n",
    "    annotate* _member;\n",
    "public:\n",
    "    example_04() : _member(new annotate()) { }\n",
    "    ~example_04() { delete _member; }\n",
    "    \n",
    "    example_04(const example_04& x) : _member(new annotate(*x._member)) { }\n",
    "    example_04(example_04&& x) : _member(x._member) { x._member = nullptr; }\n",
    "    \n",
    "    // this assignment handles both move and copy\n",
    "    example_04& operator=(example_04 x) noexcept {\n",
    "        delete _member;\n",
    "        _member = x._member;\n",
    "        x._member = nullptr;\n",
    "        return *this; }\n",
    "};"
   ]
  },
  {
   "cell_type": "code",
   "execution_count": 19,
   "metadata": {
    "execution": {
     "iopub.execute_input": "2020-12-28T02:33:09.452595Z",
     "iopub.status.busy": "2020-12-28T02:33:09.452010Z",
     "iopub.status.idle": "2020-12-28T02:33:09.459351Z",
     "shell.execute_reply": "2020-12-28T02:33:09.459988Z"
    },
    "slideshow": {
     "slide_type": "slide"
    }
   },
   "outputs": [
    {
     "name": "stdout",
     "output_type": "stream",
     "text": [
      "annotate ctor\n",
      "annotate ctor\n"
     ]
    }
   ],
   "source": [
    "example_04 e41;\n",
    "example_04 e42;"
   ]
  },
  {
   "cell_type": "code",
   "execution_count": 20,
   "metadata": {
    "execution": {
     "iopub.execute_input": "2020-12-28T02:33:09.463873Z",
     "iopub.status.busy": "2020-12-28T02:33:09.463302Z",
     "iopub.status.idle": "2020-12-28T02:33:10.110472Z",
     "shell.execute_reply": "2020-12-28T02:33:10.109480Z"
    },
    "slideshow": {
     "slide_type": "fragment"
    }
   },
   "outputs": [
    {
     "name": "stdout",
     "output_type": "stream",
     "text": [
      "annotate copy-ctor\n",
      "annotate dtor\n"
     ]
    },
    {
     "data": {
      "text/plain": [
       "@0x7f96b8e7b088"
      ]
     },
     "execution_count": 20,
     "metadata": {},
     "output_type": "execute_result"
    }
   ],
   "source": [
    "e41 = e42; // copy"
   ]
  },
  {
   "cell_type": "code",
   "execution_count": 21,
   "metadata": {
    "execution": {
     "iopub.execute_input": "2020-12-28T02:33:10.113969Z",
     "iopub.status.busy": "2020-12-28T02:33:10.112796Z",
     "iopub.status.idle": "2020-12-28T02:33:10.127699Z",
     "shell.execute_reply": "2020-12-28T02:33:10.126846Z"
    },
    "slideshow": {
     "slide_type": "fragment"
    }
   },
   "outputs": [
    {
     "name": "stdout",
     "output_type": "stream",
     "text": [
      "annotate dtor\n"
     ]
    }
   ],
   "source": [
    "e41 = move(e42);"
   ]
  },
  {
   "cell_type": "markdown",
   "metadata": {
    "slideshow": {
     "slide_type": "slide"
    }
   },
   "source": [
    "##### Advantages to by-value assignment\n",
    "\n",
    "- Single implementation for copy and move assignment\n",
    "- Transactional (strong exception guarantee) for copy assignment\n",
    "- Handles self-copy (and usually self-move in moved from case)\n",
    "\n",
    "##### Disadvantages\n",
    "\n",
    "- Potential, significant, performance loss on copy assignment\n",
    "    - [Howard Hinnant - _Everything You Ever Wanted To Know About Move Semantics_](https://www.youtube.com/watch?v=vLinb2fgkHk)"
   ]
  },
  {
   "cell_type": "markdown",
   "metadata": {
    "slideshow": {
     "slide_type": "slide"
    }
   },
   "source": [
    "#### Rvalue Member Functions\n",
    "\n",
    "- `this` is a hidden argument to a member function\n",
    "- `*this` may be an rvalue"
   ]
  },
  {
   "cell_type": "code",
   "execution_count": 22,
   "metadata": {
    "execution": {
     "iopub.execute_input": "2020-12-28T02:33:10.131071Z",
     "iopub.status.busy": "2020-12-28T02:33:10.130442Z",
     "iopub.status.idle": "2020-12-28T02:33:10.144043Z",
     "shell.execute_reply": "2020-12-28T02:33:10.141581Z"
    },
    "slideshow": {
     "slide_type": "fragment"
    }
   },
   "outputs": [
    {
     "name": "stdout",
     "output_type": "stream",
     "text": [
      "annotate ctor\n",
      "annotate copy-ctor\n",
      "annotate dtor\n"
     ]
    }
   ],
   "source": [
    "class example_05 {\n",
    "    annotate _name;\n",
    "public:\n",
    "    const annotate& name() const { return _name; }\n",
    "};\n",
    "\n",
    "auto name_01 = example_05().name();"
   ]
  },
  {
   "cell_type": "code",
   "execution_count": 23,
   "metadata": {
    "execution": {
     "iopub.execute_input": "2020-12-28T02:33:10.147356Z",
     "iopub.status.busy": "2020-12-28T02:33:10.146436Z",
     "iopub.status.idle": "2020-12-28T02:33:10.160432Z",
     "shell.execute_reply": "2020-12-28T02:33:10.161504Z"
    },
    "slideshow": {
     "slide_type": "slide"
    }
   },
   "outputs": [
    {
     "name": "stdout",
     "output_type": "stream",
     "text": [
      "annotate ctor\n",
      "annotate move-ctor\n",
      "annotate dtor\n"
     ]
    }
   ],
   "source": [
    "class example_06 {\n",
    "    annotate _name;\n",
    "public:\n",
    "    const annotate& name() const& { return _name; }\n",
    "    annotate name() && { return move(_name); }\n",
    "};\n",
    "\n",
    "auto name_02 = example_06().name();"
   ]
  },
  {
   "cell_type": "markdown",
   "metadata": {
    "slideshow": {
     "slide_type": "slide"
    }
   },
   "source": [
    "#### Forward Declare Argument and Result Type\n",
    "\n",
    "- You can use pointer or reference to an incomplete type in an interface"
   ]
  },
  {
   "cell_type": "markdown",
   "metadata": {
    "slideshow": {
     "slide_type": "fragment"
    }
   },
   "source": [
    "- You can also use an incomplete type as a value argument and result type"
   ]
  },
  {
   "cell_type": "code",
   "execution_count": 24,
   "metadata": {
    "execution": {
     "iopub.execute_input": "2020-12-28T02:33:10.165252Z",
     "iopub.status.busy": "2020-12-28T02:33:10.164413Z",
     "iopub.status.idle": "2020-12-28T02:33:10.167941Z",
     "shell.execute_reply": "2020-12-28T02:33:10.166944Z"
    },
    "slideshow": {
     "slide_type": "fragment"
    }
   },
   "outputs": [],
   "source": [
    "class example_07; // forward declaration\n",
    "\n",
    "const example_07& function_01(const example_07&); // You know this works"
   ]
  },
  {
   "cell_type": "code",
   "execution_count": 25,
   "metadata": {
    "execution": {
     "iopub.execute_input": "2020-12-28T02:33:10.171682Z",
     "iopub.status.busy": "2020-12-28T02:33:10.170799Z",
     "iopub.status.idle": "2020-12-28T02:33:10.172766Z",
     "shell.execute_reply": "2020-12-28T02:33:10.173764Z"
    },
    "slideshow": {
     "slide_type": "fragment"
    }
   },
   "outputs": [],
   "source": [
    "example_07 function_02(example_07); // This works also!"
   ]
  },
  {
   "cell_type": "markdown",
   "metadata": {
    "slideshow": {
     "slide_type": "slide"
    }
   },
   "source": [
    "### Issue\n",
    "\n",
    "- Assigning an expression to a temporary can impose a performance penalty"
   ]
  },
  {
   "cell_type": "code",
   "execution_count": 26,
   "metadata": {
    "execution": {
     "iopub.execute_input": "2020-12-28T02:33:10.177744Z",
     "iopub.status.busy": "2020-12-28T02:33:10.176435Z",
     "iopub.status.idle": "2020-12-28T02:33:10.189478Z",
     "shell.execute_reply": "2020-12-28T02:33:10.188802Z"
    },
    "slideshow": {
     "slide_type": "skip"
    }
   },
   "outputs": [
    {
     "name": "stdout",
     "output_type": "stream",
     "text": [
      "annotate ctor\n"
     ]
    }
   ],
   "source": [
    "annotate g1(annotate x) { return x; }\n",
    "annotate x;"
   ]
  },
  {
   "cell_type": "code",
   "execution_count": 27,
   "metadata": {
    "execution": {
     "iopub.execute_input": "2020-12-28T02:33:10.192569Z",
     "iopub.status.busy": "2020-12-28T02:33:10.191861Z",
     "iopub.status.idle": "2020-12-28T02:33:10.202185Z",
     "shell.execute_reply": "2020-12-28T02:33:10.202960Z"
    },
    "slideshow": {
     "slide_type": "fragment"
    }
   },
   "outputs": [
    {
     "name": "stdout",
     "output_type": "stream",
     "text": [
      "annotate ctor\n",
      "annotate move-ctor\n",
      "annotate dtor\n"
     ]
    }
   ],
   "source": [
    "auto v1 = g1(f());"
   ]
  },
  {
   "cell_type": "code",
   "execution_count": 28,
   "metadata": {
    "execution": {
     "iopub.execute_input": "2020-12-28T02:33:10.206432Z",
     "iopub.status.busy": "2020-12-28T02:33:10.205707Z",
     "iopub.status.idle": "2020-12-28T02:33:10.216588Z",
     "shell.execute_reply": "2020-12-28T02:33:10.217361Z"
    },
    "slideshow": {
     "slide_type": "fragment"
    }
   },
   "outputs": [
    {
     "name": "stdout",
     "output_type": "stream",
     "text": [
      "annotate ctor\n",
      "annotate copy-ctor\n",
      "annotate move-ctor\n",
      "annotate dtor\n"
     ]
    }
   ],
   "source": [
    "auto tmp2 = f();\n",
    "auto v2 = g1(tmp2);"
   ]
  },
  {
   "cell_type": "code",
   "execution_count": 29,
   "metadata": {
    "execution": {
     "iopub.execute_input": "2020-12-28T02:33:10.221333Z",
     "iopub.status.busy": "2020-12-28T02:33:10.220612Z",
     "iopub.status.idle": "2020-12-28T02:33:10.231314Z",
     "shell.execute_reply": "2020-12-28T02:33:10.232069Z"
    },
    "scrolled": true,
    "slideshow": {
     "slide_type": "slide"
    }
   },
   "outputs": [
    {
     "name": "stdout",
     "output_type": "stream",
     "text": [
      "annotate ctor\n",
      "annotate move-ctor\n",
      "annotate move-ctor\n",
      "annotate dtor\n"
     ]
    }
   ],
   "source": [
    "auto tmp3 = f();\n",
    "auto v3 = g1(move(tmp3));"
   ]
  },
  {
   "cell_type": "markdown",
   "metadata": {
    "slideshow": {
     "slide_type": "slide"
    }
   },
   "source": [
    "### Summary Recommendations\n",
    "\n",
    "- Make classes movable\n",
    "- Use return values, not out arguments\n",
    "- Pass sink arguments by value and move into place or return\n",
    "- Forward declare argument and result types"
   ]
  },
  {
   "cell_type": "markdown",
   "metadata": {
    "slideshow": {
     "slide_type": "slide"
    }
   },
   "source": [
    "### Homework\n",
    "\n",
    "- Apply one or more of the recommendations to code in your product\n",
    "- Measure the results:\n",
    "    - Runtime performance of an optimized build\n",
    "    - (and/or) Binary size of an optimized build\n",
    "    - (and/or) Compile time of a debug build\n",
    "    - (and/or) Resulting source line count delta (indicator of readability)\n",
    "- Report the results on the class wiki: [git.corp.adobe.com/better-code/class/wiki](git.corp.adobe.com/better-code/class/wiki)"
   ]
  },
  {
   "cell_type": "code",
   "execution_count": 30,
   "metadata": {},
   "outputs": [],
   "source": []
  }
 ],
 "metadata": {
  "celltoolbar": "Slideshow",
  "kernelspec": {
   "display_name": "C++17",
   "language": "C++17",
   "name": "xcpp17"
  },
  "language_info": {
   "codemirror_mode": "text/x-c++src",
   "file_extension": ".cpp",
   "mimetype": "text/x-c++src",
   "name": "c++",
   "version": "17"
  },
  "toc": {
   "nav_menu": {},
   "number_sections": true,
   "sideBar": true,
   "skip_h1_title": false,
   "title_cell": "Table of Contents",
   "title_sidebar": "Contents",
   "toc_cell": false,
   "toc_position": {},
   "toc_section_display": true,
   "toc_window_display": false
  }
 },
 "nbformat": 4,
 "nbformat_minor": 4
}
