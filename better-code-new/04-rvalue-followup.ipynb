{
 "cells": [
  {
   "cell_type": "markdown",
   "metadata": {
    "slideshow": {
     "slide_type": "slide"
    }
   },
   "source": [
    "# The Cost of Copy\n",
    "\n",
    "![performance-move](img/performance-move.png)\n",
    "\n",
    "<div style=\"text-align:center\">\n",
    "    <a style=\"text-align:center\" href=\"http://quick-bench.com/0wIVJCnNL8z7oRGL7SpR24d2ytQ\">Cost of Copy</a>\n",
    "</div>\n"
   ]
  },
  {
   "cell_type": "markdown",
   "metadata": {
    "slideshow": {
     "slide_type": "slide"
    }
   },
   "source": [
    "- To find the places where copy-ctor and copy-assignment are called, mark them deprecated\n",
    "    - Along with setting breakpoints"
   ]
  },
  {
   "cell_type": "code",
   "execution_count": 1,
   "metadata": {
    "execution": {
     "iopub.execute_input": "2020-12-28T04:10:12.605586Z",
     "iopub.status.busy": "2020-12-28T04:10:12.604747Z",
     "iopub.status.idle": "2020-12-28T04:10:12.606396Z",
     "shell.execute_reply": "2020-12-28T04:10:12.607331Z"
    },
    "slideshow": {
     "slide_type": "fragment"
    }
   },
   "outputs": [],
   "source": [
    "class example {\n",
    "public:\n",
    "    example() = default;\n",
    "    [[deprecated]] example(const example&) = default;\n",
    "    example(example&&) noexcept = default;\n",
    "    [[deprecated]] example& operator=(const example&) = default;\n",
    "    example& operator=(example&&) noexcept = default;\n",
    "};"
   ]
  },
  {
   "cell_type": "code",
   "execution_count": 2,
   "metadata": {
    "execution": {
     "iopub.execute_input": "2020-12-28T04:10:12.611544Z",
     "iopub.status.busy": "2020-12-28T04:10:12.610504Z",
     "iopub.status.idle": "2020-12-28T04:10:12.668149Z",
     "shell.execute_reply": "2020-12-28T04:10:12.668861Z"
    },
    "slideshow": {
     "slide_type": "slide"
    }
   },
   "outputs": [
    {
     "name": "stderr",
     "output_type": "stream",
     "text": [
      "\u001b[1minput_line_8:3:13: \u001b[0m\u001b[0;1;35mwarning: \u001b[0m\u001b[1m'example' is deprecated [-Wdeprecated-declarations]\u001b[0m\n",
      "example y = x;\n",
      "\u001b[0;1;32m            ^\n",
      "\u001b[0m\u001b[1minput_line_7:4:7: \u001b[0m\u001b[0;1;30mnote: \u001b[0m'example' has been explicitly marked deprecated here\u001b[0m\n",
      "    [[deprecated]] example(const example&) = default;\n",
      "\u001b[0;1;32m      ^\n",
      "\u001b[0m"
     ]
    }
   ],
   "source": [
    "example x;\n",
    "example y = x;"
   ]
  },
  {
   "cell_type": "markdown",
   "metadata": {
    "slideshow": {
     "slide_type": "slide"
    }
   },
   "source": [
    "## Copy Location and Pass By Value\n",
    "\n",
    "- When passing an lvalue as a by value argument, the copy occurs at the call site\n",
    "- For non-inline functions this may cause binary bloat\n",
    "    - Can use pass-by rvalue and lvalue reference for such cases"
   ]
  },
  {
   "cell_type": "code",
   "execution_count": 3,
   "metadata": {
    "execution": {
     "iopub.execute_input": "2020-12-28T04:10:12.672360Z",
     "iopub.status.busy": "2020-12-28T04:10:12.671413Z",
     "iopub.status.idle": "2020-12-28T04:10:12.674852Z",
     "shell.execute_reply": "2020-12-28T04:10:12.674080Z"
    },
    "slideshow": {
     "slide_type": "fragment"
    }
   },
   "outputs": [],
   "source": [
    "class sink {\n",
    "    example _m;\n",
    "public:\n",
    "    void set(example e) { _m = std::move(e); }\n",
    "};"
   ]
  },
  {
   "cell_type": "code",
   "execution_count": 4,
   "metadata": {
    "execution": {
     "iopub.execute_input": "2020-12-28T04:10:12.678894Z",
     "iopub.status.busy": "2020-12-28T04:10:12.677981Z",
     "iopub.status.idle": "2020-12-28T04:10:12.727794Z",
     "shell.execute_reply": "2020-12-28T04:10:12.728355Z"
    },
    "slideshow": {
     "slide_type": "slide"
    }
   },
   "outputs": [
    {
     "name": "stderr",
     "output_type": "stream",
     "text": [
      "\u001b[1minput_line_10:3:7: \u001b[0m\u001b[0;1;35mwarning: \u001b[0m\u001b[1m'example' is deprecated [-Wdeprecated-declarations]\u001b[0m\n",
      "s.set(x);\n",
      "\u001b[0;1;32m      ^\n",
      "\u001b[0m\u001b[1minput_line_7:4:7: \u001b[0m\u001b[0;1;30mnote: \u001b[0m'example' has been explicitly marked deprecated here\u001b[0m\n",
      "    [[deprecated]] example(const example&) = default;\n",
      "\u001b[0;1;32m      ^\n",
      "\u001b[0m"
     ]
    }
   ],
   "source": [
    "sink s;\n",
    "s.set(x);"
   ]
  },
  {
   "cell_type": "code",
   "execution_count": 5,
   "metadata": {
    "execution": {
     "iopub.execute_input": "2020-12-28T04:10:12.731260Z",
     "iopub.status.busy": "2020-12-28T04:10:12.730588Z",
     "iopub.status.idle": "2020-12-28T04:10:12.731890Z",
     "shell.execute_reply": "2020-12-28T04:10:12.732507Z"
    },
    "slideshow": {
     "slide_type": "skip"
    }
   },
   "outputs": [],
   "source": [
    ".undo 2"
   ]
  },
  {
   "cell_type": "code",
   "execution_count": 6,
   "metadata": {
    "execution": {
     "iopub.execute_input": "2020-12-28T04:10:12.735471Z",
     "iopub.status.busy": "2020-12-28T04:10:12.734885Z",
     "iopub.status.idle": "2020-12-28T04:10:12.785187Z",
     "shell.execute_reply": "2020-12-28T04:10:12.785865Z"
    },
    "slideshow": {
     "slide_type": "slide"
    }
   },
   "outputs": [
    {
     "name": "stderr",
     "output_type": "stream",
     "text": [
      "\u001b[1minput_line_11:4:37: \u001b[0m\u001b[0;1;35mwarning: \u001b[0m\u001b[1m'operator=' is deprecated [-Wdeprecated-declarations]\u001b[0m\n",
      "    void set(const example& e) { _m = e; }\n",
      "\u001b[0;1;32m                                    ^\n",
      "\u001b[0m\u001b[1minput_line_7:6:7: \u001b[0m\u001b[0;1;30mnote: \u001b[0m'operator=' has been explicitly marked deprecated here\u001b[0m\n",
      "    [[deprecated]] example& operator=(const example&) = default;\n",
      "\u001b[0;1;32m      ^\n",
      "\u001b[0m"
     ]
    }
   ],
   "source": [
    "class sink {\n",
    "    example _m;\n",
    "public:\n",
    "    void set(const example& e) { _m = e; }\n",
    "    void set(example&& e) { _m = std::move(e); }\n",
    "};"
   ]
  },
  {
   "cell_type": "code",
   "execution_count": 7,
   "metadata": {
    "execution": {
     "iopub.execute_input": "2020-12-28T04:10:12.789431Z",
     "iopub.status.busy": "2020-12-28T04:10:12.788502Z",
     "iopub.status.idle": "2020-12-28T04:10:12.794312Z",
     "shell.execute_reply": "2020-12-28T04:10:12.793350Z"
    },
    "slideshow": {
     "slide_type": "fragment"
    }
   },
   "outputs": [],
   "source": [
    "sink s;\n",
    "s.set(x);"
   ]
  }
 ],
 "metadata": {
  "celltoolbar": "Slideshow",
  "kernelspec": {
   "display_name": "C++17",
   "language": "C++17",
   "name": "xcpp17"
  },
  "language_info": {
   "codemirror_mode": "text/x-c++src",
   "file_extension": ".cpp",
   "mimetype": "text/x-c++src",
   "name": "c++",
   "version": "17"
  },
  "toc": {
   "nav_menu": {},
   "number_sections": true,
   "sideBar": true,
   "skip_h1_title": false,
   "title_cell": "Table of Contents",
   "title_sidebar": "Contents",
   "toc_cell": false,
   "toc_position": {},
   "toc_section_display": true,
   "toc_window_display": false
  }
 },
 "nbformat": 4,
 "nbformat_minor": 4
}
