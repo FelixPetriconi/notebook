{
 "cells": [
  {
   "cell_type": "code",
   "execution_count": 1,
   "metadata": {
    "slideshow": {
     "slide_type": "skip"
    }
   },
   "outputs": [],
   "source": [
    "#include <future>\n",
    "#include <iostream>\n",
    "#include <memory>\n",
    "#include <string>\n",
    "\n",
    "using namespace std;\n",
    "\n",
    "{ cout << boolalpha; }"
   ]
  },
  {
   "cell_type": "code",
   "execution_count": 2,
   "metadata": {
    "run_control": {
     "marked": true
    },
    "slideshow": {
     "slide_type": "skip"
    }
   },
   "outputs": [],
   "source": [
    "namespace bcc {\n",
    "\n",
    "class task {\n",
    "    struct concept {\n",
    "        virtual ~concept() {}\n",
    "        virtual void invoke() = 0;\n",
    "    };\n",
    "\n",
    "    template <class F>\n",
    "    struct model final : concept {\n",
    "        F _f;\n",
    "        model(F f) : _f(move(f)) {}\n",
    "        void invoke() override { _f(); }\n",
    "    };\n",
    "\n",
    "    std::unique_ptr<concept> _self;\n",
    "\n",
    "public:\n",
    "    task() = default;\n",
    "\n",
    "    template <class F>\n",
    "    task(F f) : _self(make_unique<model<F>>(move(f))) {}\n",
    "\n",
    "    void operator()() { _self->invoke(); }\n",
    "};\n",
    "\n",
    "} // namespace bcc"
   ]
  },
  {
   "cell_type": "code",
   "execution_count": 3,
   "metadata": {
    "slideshow": {
     "slide_type": "skip"
    }
   },
   "outputs": [],
   "source": [
    "namespace bcc {\n",
    "\n",
    "class sequential_process {\n",
    "    mutex _mutex;\n",
    "    condition_variable _condition;\n",
    "    deque<task> _queue;\n",
    "    bool _done = false;\n",
    "\n",
    "    void run_loop() {\n",
    "        while (true) {\n",
    "            task work;\n",
    "            {\n",
    "                unique_lock<mutex> lock(_mutex);\n",
    "\n",
    "                while (_queue.empty() && !_done) {\n",
    "                    _condition.wait(lock);\n",
    "                }\n",
    "\n",
    "                if (_queue.empty()) return;\n",
    "\n",
    "                work = move(_queue.front());\n",
    "                _queue.pop_front();\n",
    "            }\n",
    "            work();\n",
    "        }\n",
    "    }\n",
    "\n",
    "    thread _thread{[this] { run_loop(); }};\n",
    "\n",
    "public:\n",
    "    ~sequential_process() {\n",
    "        {\n",
    "            lock_guard<mutex> lock(_mutex);\n",
    "            _done = true;\n",
    "        }\n",
    "        _condition.notify_one();\n",
    "        _thread.join();\n",
    "    }\n",
    "    void async(task f) {\n",
    "        {\n",
    "            lock_guard<mutex> lock(_mutex);\n",
    "            _queue.push_back(move(f));\n",
    "        }\n",
    "        _condition.notify_one();\n",
    "    }\n",
    "};\n",
    "    \n",
    "template <class F> // F models R()\n",
    "auto async_packaged(sequential_process& process, F&& f) {\n",
    "    using result_t = std::result_of_t<std::decay_t<F>()>;\n",
    "    \n",
    "    packaged_task<result_t()> task{std::forward<F>(f)};\n",
    "    auto result = task.get_future();\n",
    "    \n",
    "    process.async(move(task));\n",
    "    \n",
    "    return result;\n",
    "}\n",
    "    \n",
    "} // namespace bcc\n",
    "\n",
    "using namespace bcc;"
   ]
  },
  {
   "cell_type": "markdown",
   "metadata": {
    "slideshow": {
     "slide_type": "slide"
    }
   },
   "source": [
    "# Concurrent Code & Object Lifetimes"
   ]
  },
  {
   "cell_type": "markdown",
   "metadata": {
    "slideshow": {
     "slide_type": "fragment"
    }
   },
   "source": [
    "- Mutable, _conditionally thread safe_, objects may only be accessed from one execution context at a time\n",
    "    - Such objects can be safely moved, or copied, between execution contexts"
   ]
  },
  {
   "cell_type": "code",
   "execution_count": 4,
   "metadata": {
    "slideshow": {
     "slide_type": "fragment"
    }
   },
   "outputs": [
    {
     "name": "stderr",
     "output_type": "stream",
     "text": [
      "IncrementalExecutor::executeFunction: symbol '__emutls_v._ZSt11__once_call' unresolved while linking [cling interface function]!\n",
      "IncrementalExecutor::executeFunction: symbol '__emutls_v._ZSt15__once_callable' unresolved while linking [cling interface function]!\n"
     ]
    }
   ],
   "source": [
    "{\n",
    "    int x = 42;\n",
    "    auto r = async([_x = x]() mutable { // copy object to new context\n",
    "        _x += 5;\n",
    "        return _x;\n",
    "    });\n",
    "\n",
    "    cout << x << endl;\n",
    "    cout << r.get() << endl;\n",
    "}"
   ]
  },
  {
   "cell_type": "code",
   "execution_count": 5,
   "metadata": {
    "slideshow": {
     "slide_type": "slide"
    }
   },
   "outputs": [
    {
     "name": "stderr",
     "output_type": "stream",
     "text": [
      "IncrementalExecutor::executeFunction: symbol '__emutls_v._ZSt11__once_call' unresolved while linking [cling interface function]!\n",
      "IncrementalExecutor::executeFunction: symbol '__emutls_v._ZSt15__once_callable' unresolved while linking [cling interface function]!\n"
     ]
    }
   ],
   "source": [
    "{\n",
    "    auto p = make_unique<int>(42);\n",
    "    auto r = async([_p = move(p)]() mutable { // move object to new context\n",
    "        *_p += 5;\n",
    "        return move(_p);\n",
    "    }); \n",
    "\n",
    "    cout << static_cast<bool>(p) << endl;\n",
    "    cout << *r.get() << endl;\n",
    "}"
   ]
  },
  {
   "cell_type": "markdown",
   "metadata": {
    "slideshow": {
     "slide_type": "slide"
    }
   },
   "source": [
    "- `const` objects are assumed to be thread safe, and can safely be shared by more than one context\n",
    "    - Care must be taken if you have _mutable_ members"
   ]
  },
  {
   "cell_type": "code",
   "execution_count": 6,
   "metadata": {
    "slideshow": {
     "slide_type": "fragment"
    }
   },
   "outputs": [
    {
     "name": "stderr",
     "output_type": "stream",
     "text": [
      "IncrementalExecutor::executeFunction: symbol '__emutls_v._ZSt11__once_call' unresolved while linking [cling interface function]!\n",
      "IncrementalExecutor::executeFunction: symbol '__emutls_v._ZSt15__once_callable' unresolved while linking [cling interface function]!\n"
     ]
    }
   ],
   "source": [
    "{\n",
    "    auto p = make_shared<const string>(\"Hello World!\");\n",
    "    auto r = async([_p = p] { return _p; }); // share object between contexts\n",
    "\n",
    "    cout << *p << endl;\n",
    "    cout << *r.get() << endl;\n",
    "}"
   ]
  },
  {
   "cell_type": "markdown",
   "metadata": {
    "slideshow": {
     "slide_type": "slide"
    }
   },
   "source": [
    "- Futures allow us to associate a result with a particular task\n",
    "    - Sometimes it is useful to have the result still owned by another context\n",
    "    - `std::weak_ptr<>` is one way to track the lifetime without taking ownership"
   ]
  },
  {
   "cell_type": "code",
   "execution_count": 7,
   "metadata": {
    "slideshow": {
     "slide_type": "slide"
    }
   },
   "outputs": [
    {
     "name": "stderr",
     "output_type": "stream",
     "text": [
      "IncrementalExecutor::executeFunction: symbol '__emutls_v._ZSt11__once_call' unresolved while linking [cling interface function]!\n",
      "IncrementalExecutor::executeFunction: symbol '__emutls_v._ZSt15__once_callable' unresolved while linking [cling interface function]!\n"
     ]
    }
   ],
   "source": [
    "{\n",
    "    struct photoshop {\n",
    "        shared_ptr<string> _document = make_shared<string>(\"best.jpg\");\n",
    "\n",
    "        sequential_process _process;\n",
    "    } ps;\n",
    "\n",
    "    weak_ptr<string> doc_token =\n",
    "        async_packaged(ps._process, [&] { return weak_ptr<string>(ps._document); })\n",
    "            .get();\n",
    "\n",
    "    // ps._process.async([&]{ ps._document = make_shared<string>(\"better.png\"); });\n",
    "\n",
    "    ps._process.async([&] {\n",
    "        if (auto p = doc_token.lock()) *p = \"renamed.jpg\";\n",
    "    });\n",
    "\n",
    "    ps._process.async([&] { cout << *ps._document << endl; });\n",
    "}"
   ]
  },
  {
   "cell_type": "code",
   "execution_count": 8,
   "metadata": {
    "slideshow": {
     "slide_type": "slide"
    }
   },
   "outputs": [
    {
     "name": "stderr",
     "output_type": "stream",
     "text": [
      "IncrementalExecutor::executeFunction: symbol '__emutls_v._ZSt11__once_call' unresolved while linking [cling interface function]!\n",
      "IncrementalExecutor::executeFunction: symbol '__emutls_v._ZSt15__once_callable' unresolved while linking [cling interface function]!\n"
     ]
    }
   ],
   "source": [
    "{\n",
    "    struct photoshop {\n",
    "        shared_ptr<string> _document = make_shared<string>(\"best.jpg\");\n",
    "\n",
    "        sequential_process _process;\n",
    "    } ps;\n",
    "\n",
    "    weak_ptr<string> doc_token =\n",
    "        async_packaged(ps._process, [&] { return weak_ptr<string>(ps._document); })\n",
    "            .get();\n",
    "\n",
    "    ps._process.async([&] { ps._document = make_shared<string>(\"better.png\"); });\n",
    "\n",
    "    ps._process.async([&] {\n",
    "        if (auto p = doc_token.lock()) *p = \"renamed.jpg\";\n",
    "    });\n",
    "\n",
    "    ps._process.async([&] { cout << *ps._document << endl; });\n",
    "}"
   ]
  },
  {
   "cell_type": "markdown",
   "metadata": {
    "slideshow": {
     "slide_type": "slide"
    }
   },
   "source": [
    "- `std::weak_ptr<>` also has the advantage that it will not create a retain loop\n",
    "- Makes it more clear that the operation doesn't own the object\n",
    "- `apollo` has a `track` library that can be used to track object lifetimes which are not owned by `std::shared_ptr<>`\n",
    "- `apollo::track(T)` will return a weak pointer type when T is\n",
    "    - `std::shared_ptr<>`\n",
    "    - A pointer to an object derived from `std::enabled_shared_from_this<>`\n",
    "    - An Objective C/C++ `__strong` pointer\n",
    "    - A pointer to an object derived from `apollo::enable_track<>`"
   ]
  },
  {
   "cell_type": "markdown",
   "metadata": {
    "slideshow": {
     "slide_type": "fragment"
    }
   },
   "source": [
    "- Weak pointer type are also useful to avoid retain loops with delegates"
   ]
  },
  {
   "cell_type": "code",
   "execution_count": 9,
   "metadata": {},
   "outputs": [],
   "source": []
  }
 ],
 "metadata": {
  "kernelspec": {
   "display_name": "C++17",
   "language": "C++17",
   "name": "xeus-cling-cpp17"
  },
  "language_info": {
   "codemirror_mode": "text/x-c++src",
   "file_extension": ".cpp",
   "mimetype": "text/x-c++src",
   "name": "c++",
   "version": "-std=c++17"
  }
 },
 "nbformat": 4,
 "nbformat_minor": 2
}
