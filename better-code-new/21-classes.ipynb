{
 "cells": [
  {
   "cell_type": "code",
   "execution_count": 1,
   "metadata": {
    "execution": {
     "iopub.execute_input": "2020-12-27T20:59:39.040420Z",
     "iopub.status.busy": "2020-12-27T20:59:39.039820Z",
     "iopub.status.idle": "2020-12-27T20:59:39.041867Z",
     "shell.execute_reply": "2020-12-27T20:59:39.041372Z"
    },
    "slideshow": {
     "slide_type": "skip"
    }
   },
   "outputs": [],
   "source": [
    "#include <string>\n",
    "#include <iostream>\n",
    "#include <tuple>\n",
    "\n",
    "using namespace std;"
   ]
  },
  {
   "cell_type": "markdown",
   "metadata": {
    "slideshow": {
     "slide_type": "slide"
    }
   },
   "source": [
    "# Classes"
   ]
  },
  {
   "cell_type": "markdown",
   "metadata": {
    "slideshow": {
     "slide_type": "slide"
    }
   },
   "source": [
    "## `final`\n",
    "- `final` specifier can be used on a class to disallow derived classes"
   ]
  },
  {
   "cell_type": "code",
   "execution_count": 2,
   "metadata": {
    "execution": {
     "iopub.execute_input": "2020-12-27T20:59:39.043999Z",
     "iopub.status.busy": "2020-12-27T20:59:39.043551Z",
     "iopub.status.idle": "2020-12-27T20:59:39.044442Z",
     "shell.execute_reply": "2020-12-27T20:59:39.044895Z"
    },
    "slideshow": {
     "slide_type": "fragment"
    }
   },
   "outputs": [],
   "source": [
    "class base {\n",
    "public:\n",
    "    virtual void member() = 0;\n",
    "};\n",
    "\n",
    "class derived final : public base {\n",
    "public:\n",
    "    void member() override;\n",
    "};"
   ]
  },
  {
   "cell_type": "markdown",
   "metadata": {
    "slideshow": {
     "slide_type": "slide"
    }
   },
   "source": [
    "```cpp\n",
    "class error : public derived { };\n",
    "```\n",
    "---\n",
    "```\n",
    "input_line_9:1:15: error: base 'derived' is marked 'final'\n",
    "class error : derived { };\n",
    "              ^\n",
    "input_line_8:6:8: note: 'derived' declared here\n",
    " class derived final : base {\n",
    "       ^       ~~~~~\n",
    "Interpreter Error: \n",
    "```"
   ]
  },
  {
   "cell_type": "markdown",
   "metadata": {
    "slideshow": {
     "slide_type": "slide"
    }
   },
   "source": [
    "- `final` specifier can also be used on a `virtual` function to specify further overrides are not permitted"
   ]
  },
  {
   "cell_type": "code",
   "execution_count": 3,
   "metadata": {
    "execution": {
     "iopub.execute_input": "2020-12-27T20:59:39.047452Z",
     "iopub.status.busy": "2020-12-27T20:59:39.046856Z",
     "iopub.status.idle": "2020-12-27T20:59:39.047913Z",
     "shell.execute_reply": "2020-12-27T20:59:39.048410Z"
    },
    "slideshow": {
     "slide_type": "fragment"
    }
   },
   "outputs": [],
   "source": [
    "class derived2 : public base {\n",
    "    void member() final;\n",
    "};"
   ]
  },
  {
   "cell_type": "markdown",
   "metadata": {
    "slideshow": {
     "slide_type": "fragment"
    }
   },
   "source": [
    "```cpp\n",
    "class error : public derived2 {\n",
    "    void member() override;\n",
    "};\n",
    "```\n",
    "---\n",
    "```\n",
    "input_line_13:3:10: error: declaration of 'method' overrides a 'final' function\n",
    "    void method() override;\n",
    "         ^\n",
    "input_line_11:2:10: note: overridden virtual function is here\n",
    "    void method() final;\n",
    "         ^\n",
    "```"
   ]
  },
  {
   "cell_type": "markdown",
   "metadata": {
    "slideshow": {
     "slide_type": "slide"
    }
   },
   "source": [
    "- `final` makes it clear to the reader that there are no derived classes or methods\n",
    "- More importantly, `final` makes it clear to the compiler, allowing devirtualization optimizations"
   ]
  },
  {
   "cell_type": "markdown",
   "metadata": {
    "slideshow": {
     "slide_type": "slide"
    }
   },
   "source": [
    "## `override`\n",
    "- `override` ensures that the function overrides a virtual member function\n",
    "    - Avoids potential mistakes and clarifies intent"
   ]
  },
  {
   "cell_type": "code",
   "execution_count": 4,
   "metadata": {
    "execution": {
     "iopub.execute_input": "2020-12-27T20:59:39.051206Z",
     "iopub.status.busy": "2020-12-27T20:59:39.050408Z",
     "iopub.status.idle": "2020-12-27T20:59:39.051879Z",
     "shell.execute_reply": "2020-12-27T20:59:39.052589Z"
    },
    "slideshow": {
     "slide_type": "fragment"
    }
   },
   "outputs": [],
   "source": [
    "class derived3 : public base {\n",
    "    void member() const; // no error or warning\n",
    "}"
   ]
  },
  {
   "cell_type": "code",
   "execution_count": 5,
   "metadata": {
    "execution": {
     "iopub.execute_input": "2020-12-27T20:59:39.055262Z",
     "iopub.status.busy": "2020-12-27T20:59:39.054504Z",
     "iopub.status.idle": "2020-12-27T20:59:39.056043Z",
     "shell.execute_reply": "2020-12-27T20:59:39.056728Z"
    },
    "slideshow": {
     "slide_type": "fragment"
    }
   },
   "outputs": [],
   "source": [
    "class derived4 : public base {\n",
    "    virtual void member() const; // no error or warning\n",
    "}"
   ]
  },
  {
   "cell_type": "markdown",
   "metadata": {
    "slideshow": {
     "slide_type": "slide"
    }
   },
   "source": [
    "```cpp\n",
    "class derived5 : public base {\n",
    "    void member() const override;\n",
    "}\n",
    "```\n",
    "---\n",
    "```\n",
    "input_line_16:2:25: error: only virtual member functions can be marked 'override'\n",
    "    void member() const override;\n",
    "                        ^~~~~~~~\n",
    "```"
   ]
  },
  {
   "cell_type": "markdown",
   "metadata": {
    "slideshow": {
     "slide_type": "slide"
    }
   },
   "source": [
    "## Construction\n",
    "- You can specify a default initializer for data members directly in the class definition"
   ]
  },
  {
   "cell_type": "code",
   "execution_count": 6,
   "metadata": {
    "execution": {
     "iopub.execute_input": "2020-12-27T20:59:39.059189Z",
     "iopub.status.busy": "2020-12-27T20:59:39.058620Z",
     "iopub.status.idle": "2020-12-27T20:59:39.062291Z",
     "shell.execute_reply": "2020-12-27T20:59:39.061448Z"
    },
    "slideshow": {
     "slide_type": "fragment"
    }
   },
   "outputs": [],
   "source": [
    "class example {\n",
    "    int _a = 42;\n",
    "    bool _b = false;\n",
    "    string _c = \"Hello World!\";\n",
    "\n",
    "public:\n",
    "    friend inline ostream& operator<<(ostream& out, const example& x) {\n",
    "       return out << \"(\" << x._a << \", \" << x._b << \", \" << x._c << \")\";\n",
    "    }\n",
    "};"
   ]
  },
  {
   "cell_type": "code",
   "execution_count": 7,
   "metadata": {
    "execution": {
     "iopub.execute_input": "2020-12-27T20:59:39.065353Z",
     "iopub.status.busy": "2020-12-27T20:59:39.064383Z",
     "iopub.status.idle": "2020-12-27T20:59:39.076035Z",
     "shell.execute_reply": "2020-12-27T20:59:39.075615Z"
    },
    "slideshow": {
     "slide_type": "slide"
    }
   },
   "outputs": [
    {
     "name": "stdout",
     "output_type": "stream",
     "text": [
      "(42, 0, Hello World!)\n"
     ]
    }
   ],
   "source": [
    "{\n",
    "example x;\n",
    "cout << x << endl;\n",
    "}"
   ]
  },
  {
   "cell_type": "markdown",
   "metadata": {
    "slideshow": {
     "slide_type": "slide"
    }
   },
   "source": [
    "- Any constructor can override a default initializer"
   ]
  },
  {
   "cell_type": "code",
   "execution_count": 8,
   "metadata": {
    "execution": {
     "iopub.execute_input": "2020-12-27T20:59:39.078130Z",
     "iopub.status.busy": "2020-12-27T20:59:39.077611Z",
     "iopub.status.idle": "2020-12-27T20:59:39.081075Z",
     "shell.execute_reply": "2020-12-27T20:59:39.080469Z"
    },
    "slideshow": {
     "slide_type": "fragment"
    }
   },
   "outputs": [],
   "source": [
    "class example2 {\n",
    "    int _a = 42;\n",
    "    bool _b = false;\n",
    "    string _c = \"Hello World!\";\n",
    "    \n",
    "public:\n",
    "    example2() = default;\n",
    "    example2(int a) : _a(a) { }\n",
    "    \n",
    "    friend inline ostream& operator<<(ostream& out, const example2& x) {\n",
    "       return out << \"(\" << x._a << \", \" << x._b << \", \" << x._c << \")\";\n",
    "    }\n",
    "};"
   ]
  },
  {
   "cell_type": "code",
   "execution_count": 9,
   "metadata": {
    "execution": {
     "iopub.execute_input": "2020-12-27T20:59:39.083713Z",
     "iopub.status.busy": "2020-12-27T20:59:39.083278Z",
     "iopub.status.idle": "2020-12-27T20:59:39.099853Z",
     "shell.execute_reply": "2020-12-27T20:59:39.098622Z"
    },
    "slideshow": {
     "slide_type": "slide"
    }
   },
   "outputs": [
    {
     "name": "stdout",
     "output_type": "stream",
     "text": [
      "(42, 0, Hello World!)\n",
      "(10, 0, Hello World!)\n"
     ]
    }
   ],
   "source": [
    "{\n",
    "    example2 x;\n",
    "    cout << x << endl;\n",
    "    example2 y(10);\n",
    "    cout << y << endl;\n",
    "}"
   ]
  },
  {
   "cell_type": "markdown",
   "metadata": {
    "slideshow": {
     "slide_type": "slide"
    }
   },
   "source": [
    "- Constructors can now delegate to other constructors"
   ]
  },
  {
   "cell_type": "code",
   "execution_count": 10,
   "metadata": {
    "execution": {
     "iopub.execute_input": "2020-12-27T20:59:39.101961Z",
     "iopub.status.busy": "2020-12-27T20:59:39.101523Z",
     "iopub.status.idle": "2020-12-27T20:59:39.104160Z",
     "shell.execute_reply": "2020-12-27T20:59:39.103665Z"
    },
    "slideshow": {
     "slide_type": "fragment"
    }
   },
   "outputs": [],
   "source": [
    "class example3 {\n",
    "    int _a = 42;\n",
    "    bool _b = false;\n",
    "    string _c = \"Hello World!\";\n",
    "    \n",
    "public:\n",
    "    example3(int a) : _a(a) { }\n",
    "    example3(double a) : example3(static_cast<int>(round(a))) { }\n",
    "    \n",
    "    friend inline ostream& operator<<(ostream& out, const example3& x) {\n",
    "       return out << \"(\" << x._a << \", \" << x._b << \", \" << x._c << \")\";\n",
    "    }\n",
    "};"
   ]
  },
  {
   "cell_type": "code",
   "execution_count": 11,
   "metadata": {
    "execution": {
     "iopub.execute_input": "2020-12-27T20:59:39.106304Z",
     "iopub.status.busy": "2020-12-27T20:59:39.105685Z",
     "iopub.status.idle": "2020-12-27T20:59:39.116490Z",
     "shell.execute_reply": "2020-12-27T20:59:39.116939Z"
    },
    "slideshow": {
     "slide_type": "slide"
    }
   },
   "outputs": [
    {
     "name": "stdout",
     "output_type": "stream",
     "text": [
      "(43, 0, Hello World!)\n"
     ]
    }
   ],
   "source": [
    "{\n",
    "    example3 x(42.8);\n",
    "    cout << x << endl;\n",
    "}"
   ]
  },
  {
   "cell_type": "markdown",
   "metadata": {
    "slideshow": {
     "slide_type": "slide"
    }
   },
   "source": [
    "- Constructors can now be inherited"
   ]
  },
  {
   "cell_type": "code",
   "execution_count": 12,
   "metadata": {
    "execution": {
     "iopub.execute_input": "2020-12-27T20:59:39.119071Z",
     "iopub.status.busy": "2020-12-27T20:59:39.118574Z",
     "iopub.status.idle": "2020-12-27T20:59:39.119528Z",
     "shell.execute_reply": "2020-12-27T20:59:39.119961Z"
    },
    "slideshow": {
     "slide_type": "fragment"
    }
   },
   "outputs": [],
   "source": [
    "class example4 : public example3 {\n",
    "public:\n",
    "    string _d = \"New Member\";\n",
    "    \n",
    "    using example3::example3;\n",
    "};"
   ]
  },
  {
   "cell_type": "code",
   "execution_count": 13,
   "metadata": {
    "execution": {
     "iopub.execute_input": "2020-12-27T20:59:39.121958Z",
     "iopub.status.busy": "2020-12-27T20:59:39.121521Z",
     "iopub.status.idle": "2020-12-27T20:59:39.134670Z",
     "shell.execute_reply": "2020-12-27T20:59:39.133701Z"
    },
    "slideshow": {
     "slide_type": "fragment"
    }
   },
   "outputs": [
    {
     "name": "stdout",
     "output_type": "stream",
     "text": [
      "(43, 0, Hello World!)\n",
      "New Member\n"
     ]
    }
   ],
   "source": [
    "{\n",
    "    example4 x(42.8);\n",
    "    cout << x << endl;\n",
    "    cout << x._d << endl;\n",
    "}"
   ]
  },
  {
   "cell_type": "markdown",
   "metadata": {
    "slideshow": {
     "slide_type": "slide"
    }
   },
   "source": [
    "- Inheriting constructors is \"all or nothing\"\n",
    "    - However, you can replace an inherited constructor"
   ]
  },
  {
   "cell_type": "code",
   "execution_count": 14,
   "metadata": {
    "execution": {
     "iopub.execute_input": "2020-12-27T20:59:39.136939Z",
     "iopub.status.busy": "2020-12-27T20:59:39.136452Z",
     "iopub.status.idle": "2020-12-27T20:59:39.137450Z",
     "shell.execute_reply": "2020-12-27T20:59:39.137908Z"
    },
    "slideshow": {
     "slide_type": "fragment"
    }
   },
   "outputs": [],
   "source": [
    "class example5 : public example3 {\n",
    "public:    \n",
    "    using example3::example3;\n",
    "    example5(int a) : example3(a + 1) { }\n",
    "};"
   ]
  },
  {
   "cell_type": "code",
   "execution_count": 15,
   "metadata": {
    "execution": {
     "iopub.execute_input": "2020-12-27T20:59:39.139824Z",
     "iopub.status.busy": "2020-12-27T20:59:39.139398Z",
     "iopub.status.idle": "2020-12-27T20:59:39.151454Z",
     "shell.execute_reply": "2020-12-27T20:59:39.150316Z"
    },
    "slideshow": {
     "slide_type": "fragment"
    }
   },
   "outputs": [
    {
     "name": "stdout",
     "output_type": "stream",
     "text": [
      "(11, 0, Hello World!)\n"
     ]
    }
   ],
   "source": [
    "{\n",
    "    example5 x(10);\n",
    "    cout << x << endl;\n",
    "}"
   ]
  },
  {
   "cell_type": "markdown",
   "metadata": {
    "slideshow": {
     "slide_type": "slide"
    }
   },
   "source": [
    "- Or delete an inherited constructor"
   ]
  },
  {
   "cell_type": "code",
   "execution_count": 16,
   "metadata": {
    "execution": {
     "iopub.execute_input": "2020-12-27T20:59:39.153510Z",
     "iopub.status.busy": "2020-12-27T20:59:39.152993Z",
     "iopub.status.idle": "2020-12-27T20:59:39.153922Z",
     "shell.execute_reply": "2020-12-27T20:59:39.154418Z"
    },
    "slideshow": {
     "slide_type": "fragment"
    }
   },
   "outputs": [],
   "source": [
    "class example6 : public example3 {\n",
    "public:    \n",
    "    using example3::example3;\n",
    "    example6(int a) = delete;\n",
    "};"
   ]
  },
  {
   "cell_type": "markdown",
   "metadata": {
    "slideshow": {
     "slide_type": "fragment"
    }
   },
   "source": [
    "```cpp\n",
    "{\n",
    "    example6 x(10);\n",
    "    cout << x << endl;\n",
    "}\n",
    "```\n",
    "---\n",
    "```\n",
    "input_line_27:3:14: error: call to deleted constructor of 'example6'\n",
    "    example6 x(10);\n",
    "             ^ ~~\n",
    "input_line_26:4:5: note: 'example6' has been explicitly marked deleted here\n",
    "    example6(int a) = delete;\n",
    "    ^\n",
    "```"
   ]
  },
  {
   "cell_type": "markdown",
   "metadata": {
    "slideshow": {
     "slide_type": "slide"
    }
   },
   "source": [
    "## `static` member variables\n",
    "### Review\n",
    "- non-const static members must be defined at namespace scope"
   ]
  },
  {
   "cell_type": "code",
   "execution_count": 17,
   "metadata": {
    "execution": {
     "iopub.execute_input": "2020-12-27T20:59:39.156758Z",
     "iopub.status.busy": "2020-12-27T20:59:39.156287Z",
     "iopub.status.idle": "2020-12-27T20:59:39.157201Z",
     "shell.execute_reply": "2020-12-27T20:59:39.157649Z"
    },
    "slideshow": {
     "slide_type": "fragment"
    }
   },
   "outputs": [],
   "source": [
    "namespace bcc {\n",
    "    \n",
    "struct example7 {\n",
    "    static int x; // declaration\n",
    "};\n",
    "\n",
    "int example7::x = 5; // definition (don't put in a header!)\n",
    "\n",
    "}"
   ]
  },
  {
   "cell_type": "markdown",
   "metadata": {
    "slideshow": {
     "slide_type": "slide"
    }
   },
   "source": [
    "- `const static` members may be initialized directly in the class\n",
    "    - No definition is required unless [odr-used](http://en.cppreference.com/w/cpp/language/definition#ODR-use)"
   ]
  },
  {
   "cell_type": "code",
   "execution_count": 18,
   "metadata": {
    "execution": {
     "iopub.execute_input": "2020-12-27T20:59:39.159743Z",
     "iopub.status.busy": "2020-12-27T20:59:39.159220Z",
     "iopub.status.idle": "2020-12-27T20:59:39.163130Z",
     "shell.execute_reply": "2020-12-27T20:59:39.162536Z"
    },
    "slideshow": {
     "slide_type": "fragment"
    }
   },
   "outputs": [
    {
     "name": "stdout",
     "output_type": "stream",
     "text": [
      "42\n"
     ]
    }
   ],
   "source": [
    "struct example8 {\n",
    "    const static int x = 42;\n",
    "};\n",
    "\n",
    "(void)(cout << example8::x << endl); // not an odr-use"
   ]
  },
  {
   "cell_type": "markdown",
   "metadata": {
    "slideshow": {
     "slide_type": "slide"
    }
   },
   "source": [
    "### New\n",
    "- `static` members may be declared `inline` _(C++17)_ and `constexpr`\n",
    "    - `inline static` members do not require a definition at namespace scope"
   ]
  },
  {
   "cell_type": "code",
   "execution_count": 19,
   "metadata": {
    "execution": {
     "iopub.execute_input": "2020-12-27T20:59:39.165863Z",
     "iopub.status.busy": "2020-12-27T20:59:39.165275Z",
     "iopub.status.idle": "2020-12-27T20:59:39.167830Z",
     "shell.execute_reply": "2020-12-27T20:59:39.167421Z"
    },
    "slideshow": {
     "slide_type": "fragment"
    }
   },
   "outputs": [],
   "source": [
    "struct example9 {\n",
    "    inline static int x = 42;\n",
    "};\n",
    "\n",
    "example9::x = 56;"
   ]
  },
  {
   "cell_type": "markdown",
   "metadata": {
    "slideshow": {
     "slide_type": "slide"
    }
   },
   "source": [
    "- `constexpr static` members, like const static members, only require a namespace scope definition if odr-used _(until C++17)_"
   ]
  },
  {
   "cell_type": "code",
   "execution_count": 20,
   "metadata": {
    "execution": {
     "iopub.execute_input": "2020-12-27T20:59:39.169916Z",
     "iopub.status.busy": "2020-12-27T20:59:39.169484Z",
     "iopub.status.idle": "2020-12-27T20:59:39.172800Z",
     "shell.execute_reply": "2020-12-27T20:59:39.171799Z"
    },
    "slideshow": {
     "slide_type": "fragment"
    }
   },
   "outputs": [
    {
     "name": "stdout",
     "output_type": "stream",
     "text": [
      "42\n"
     ]
    }
   ],
   "source": [
    "struct example10 {\n",
    "    constexpr static int x = 42;\n",
    "};\n",
    "\n",
    "(void)(cout << example10::x << endl); // not an odr-use"
   ]
  },
  {
   "cell_type": "markdown",
   "metadata": {
    "slideshow": {
     "slide_type": "slide"
    }
   },
   "source": [
    "- Since C++17, `constexpr` implies `inline` for `static` member variables\n",
    "    - No definition is required even for an ODR use"
   ]
  },
  {
   "cell_type": "code",
   "execution_count": 21,
   "metadata": {
    "execution": {
     "iopub.execute_input": "2020-12-27T20:59:39.175059Z",
     "iopub.status.busy": "2020-12-27T20:59:39.174413Z",
     "iopub.status.idle": "2020-12-27T20:59:39.178343Z",
     "shell.execute_reply": "2020-12-27T20:59:39.177120Z"
    },
    "slideshow": {
     "slide_type": "fragment"
    }
   },
   "outputs": [
    {
     "name": "stdout",
     "output_type": "stream",
     "text": [
      "0x7f4b53b5f000\n"
     ]
    }
   ],
   "source": [
    "(void)(cout << &example10::x << endl); // an odr-use"
   ]
  },
  {
   "cell_type": "markdown",
   "metadata": {
    "slideshow": {
     "slide_type": "slide"
    }
   },
   "source": [
    "## Recommendations\n",
    "- If you must use public inheritance\n",
    "    - Use `final` and `override` as appropriate\n",
    "- Use member initialization, delegating, and inheriting constructors to simplify class definitions\n",
    "- Follow the recommendations for `static` variables for `static` member variables"
   ]
  },
  {
   "cell_type": "markdown",
   "metadata": {
    "slideshow": {
     "slide_type": "slide"
    }
   },
   "source": [
    "## Homework\n",
    "- Find code which does a cast to a derived class then makes virtual function calls\n",
    "    - Mark the derived class as `final`\n",
    "    - Inspect assembly before and after to see if the compiler is able to devirtualize the calls"
   ]
  },
  {
   "cell_type": "code",
   "execution_count": 22,
   "metadata": {},
   "outputs": [],
   "source": []
  }
 ],
 "metadata": {
  "kernelspec": {
   "display_name": "C++17",
   "language": "C++17",
   "name": "xcpp17"
  },
  "language_info": {
   "codemirror_mode": "text/x-c++src",
   "file_extension": ".cpp",
   "mimetype": "text/x-c++src",
   "name": "c++",
   "version": "17"
  }
 },
 "nbformat": 4,
 "nbformat_minor": 4
}
