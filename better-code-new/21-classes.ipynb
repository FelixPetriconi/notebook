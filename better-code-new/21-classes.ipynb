{
 "cells": [
  {
   "cell_type": "code",
   "execution_count": 1,
   "metadata": {
    "execution": {
     "iopub.execute_input": "2020-12-28T04:11:18.666837Z",
     "iopub.status.busy": "2020-12-28T04:11:18.666045Z",
     "iopub.status.idle": "2020-12-28T04:11:18.672337Z",
     "shell.execute_reply": "2020-12-28T04:11:18.671219Z"
    },
    "slideshow": {
     "slide_type": "skip"
    }
   },
   "outputs": [],
   "source": [
    "#include <string>\n",
    "#include <iostream>\n",
    "#include <tuple>\n",
    "\n",
    "using namespace std;"
   ]
  },
  {
   "cell_type": "markdown",
   "metadata": {
    "slideshow": {
     "slide_type": "slide"
    }
   },
   "source": [
    "# Classes"
   ]
  },
  {
   "cell_type": "markdown",
   "metadata": {
    "slideshow": {
     "slide_type": "slide"
    }
   },
   "source": [
    "## `final`\n",
    "- `final` specifier can be used on a class to disallow derived classes"
   ]
  },
  {
   "cell_type": "code",
   "execution_count": 2,
   "metadata": {
    "execution": {
     "iopub.execute_input": "2020-12-28T04:11:18.677781Z",
     "iopub.status.busy": "2020-12-28T04:11:18.676340Z",
     "iopub.status.idle": "2020-12-28T04:11:18.678815Z",
     "shell.execute_reply": "2020-12-28T04:11:18.679739Z"
    },
    "slideshow": {
     "slide_type": "fragment"
    }
   },
   "outputs": [],
   "source": [
    "class base {\n",
    "public:\n",
    "    virtual void member() = 0;\n",
    "};\n",
    "\n",
    "class derived final : public base {\n",
    "public:\n",
    "    void member() override;\n",
    "};"
   ]
  },
  {
   "cell_type": "markdown",
   "metadata": {
    "slideshow": {
     "slide_type": "slide"
    }
   },
   "source": [
    "```cpp\n",
    "class error : public derived { };\n",
    "```\n",
    "---\n",
    "```\n",
    "input_line_9:1:15: error: base 'derived' is marked 'final'\n",
    "class error : derived { };\n",
    "              ^\n",
    "input_line_8:6:8: note: 'derived' declared here\n",
    " class derived final : base {\n",
    "       ^       ~~~~~\n",
    "Interpreter Error: \n",
    "```"
   ]
  },
  {
   "cell_type": "markdown",
   "metadata": {
    "slideshow": {
     "slide_type": "slide"
    }
   },
   "source": [
    "- `final` specifier can also be used on a `virtual` function to specify further overrides are not permitted"
   ]
  },
  {
   "cell_type": "code",
   "execution_count": 3,
   "metadata": {
    "execution": {
     "iopub.execute_input": "2020-12-28T04:11:18.683429Z",
     "iopub.status.busy": "2020-12-28T04:11:18.682598Z",
     "iopub.status.idle": "2020-12-28T04:11:18.685680Z",
     "shell.execute_reply": "2020-12-28T04:11:18.684903Z"
    },
    "slideshow": {
     "slide_type": "fragment"
    }
   },
   "outputs": [],
   "source": [
    "class derived2 : public base {\n",
    "    void member() final;\n",
    "};"
   ]
  },
  {
   "cell_type": "markdown",
   "metadata": {
    "slideshow": {
     "slide_type": "fragment"
    }
   },
   "source": [
    "```cpp\n",
    "class error : public derived2 {\n",
    "    void member() override;\n",
    "};\n",
    "```\n",
    "---\n",
    "```\n",
    "input_line_13:3:10: error: declaration of 'method' overrides a 'final' function\n",
    "    void method() override;\n",
    "         ^\n",
    "input_line_11:2:10: note: overridden virtual function is here\n",
    "    void method() final;\n",
    "         ^\n",
    "```"
   ]
  },
  {
   "cell_type": "markdown",
   "metadata": {
    "slideshow": {
     "slide_type": "slide"
    }
   },
   "source": [
    "- `final` makes it clear to the reader that there are no derived classes or methods\n",
    "- More importantly, `final` makes it clear to the compiler, allowing devirtualization optimizations"
   ]
  },
  {
   "cell_type": "markdown",
   "metadata": {
    "slideshow": {
     "slide_type": "slide"
    }
   },
   "source": [
    "## `override`\n",
    "- `override` ensures that the function overrides a virtual member function\n",
    "    - Avoids potential mistakes and clarifies intent"
   ]
  },
  {
   "cell_type": "code",
   "execution_count": 4,
   "metadata": {
    "execution": {
     "iopub.execute_input": "2020-12-28T04:11:18.689760Z",
     "iopub.status.busy": "2020-12-28T04:11:18.688722Z",
     "iopub.status.idle": "2020-12-28T04:11:18.692500Z",
     "shell.execute_reply": "2020-12-28T04:11:18.691387Z"
    },
    "slideshow": {
     "slide_type": "fragment"
    }
   },
   "outputs": [],
   "source": [
    "class derived3 : public base {\n",
    "    void member() const; // no error or warning\n",
    "}"
   ]
  },
  {
   "cell_type": "code",
   "execution_count": 5,
   "metadata": {
    "execution": {
     "iopub.execute_input": "2020-12-28T04:11:18.695871Z",
     "iopub.status.busy": "2020-12-28T04:11:18.695173Z",
     "iopub.status.idle": "2020-12-28T04:11:18.698133Z",
     "shell.execute_reply": "2020-12-28T04:11:18.697384Z"
    },
    "slideshow": {
     "slide_type": "fragment"
    }
   },
   "outputs": [],
   "source": [
    "class derived4 : public base {\n",
    "    virtual void member() const; // no error or warning\n",
    "}"
   ]
  },
  {
   "cell_type": "markdown",
   "metadata": {
    "slideshow": {
     "slide_type": "slide"
    }
   },
   "source": [
    "```cpp\n",
    "class derived5 : public base {\n",
    "    void member() const override;\n",
    "}\n",
    "```\n",
    "---\n",
    "```\n",
    "input_line_16:2:25: error: only virtual member functions can be marked 'override'\n",
    "    void member() const override;\n",
    "                        ^~~~~~~~\n",
    "```"
   ]
  },
  {
   "cell_type": "markdown",
   "metadata": {
    "slideshow": {
     "slide_type": "slide"
    }
   },
   "source": [
    "## Construction\n",
    "- You can specify a default initializer for data members directly in the class definition"
   ]
  },
  {
   "cell_type": "code",
   "execution_count": 6,
   "metadata": {
    "execution": {
     "iopub.execute_input": "2020-12-28T04:11:18.701697Z",
     "iopub.status.busy": "2020-12-28T04:11:18.700815Z",
     "iopub.status.idle": "2020-12-28T04:11:18.707026Z",
     "shell.execute_reply": "2020-12-28T04:11:18.706356Z"
    },
    "slideshow": {
     "slide_type": "fragment"
    }
   },
   "outputs": [],
   "source": [
    "class example {\n",
    "    int _a = 42;\n",
    "    bool _b = false;\n",
    "    string _c = \"Hello World!\";\n",
    "\n",
    "public:\n",
    "    friend inline ostream& operator<<(ostream& out, const example& x) {\n",
    "       return out << \"(\" << x._a << \", \" << x._b << \", \" << x._c << \")\";\n",
    "    }\n",
    "};"
   ]
  },
  {
   "cell_type": "code",
   "execution_count": 7,
   "metadata": {
    "execution": {
     "iopub.execute_input": "2020-12-28T04:11:18.710424Z",
     "iopub.status.busy": "2020-12-28T04:11:18.709535Z",
     "iopub.status.idle": "2020-12-28T04:11:18.728564Z",
     "shell.execute_reply": "2020-12-28T04:11:18.727818Z"
    },
    "slideshow": {
     "slide_type": "slide"
    }
   },
   "outputs": [
    {
     "name": "stdout",
     "output_type": "stream",
     "text": [
      "(42, 0, Hello World!)\n"
     ]
    }
   ],
   "source": [
    "{\n",
    "example x;\n",
    "cout << x << endl;\n",
    "}"
   ]
  },
  {
   "cell_type": "markdown",
   "metadata": {
    "slideshow": {
     "slide_type": "slide"
    }
   },
   "source": [
    "- Any constructor can override a default initializer"
   ]
  },
  {
   "cell_type": "code",
   "execution_count": 8,
   "metadata": {
    "execution": {
     "iopub.execute_input": "2020-12-28T04:11:18.731917Z",
     "iopub.status.busy": "2020-12-28T04:11:18.731144Z",
     "iopub.status.idle": "2020-12-28T04:11:18.736652Z",
     "shell.execute_reply": "2020-12-28T04:11:18.735671Z"
    },
    "slideshow": {
     "slide_type": "fragment"
    }
   },
   "outputs": [],
   "source": [
    "class example2 {\n",
    "    int _a = 42;\n",
    "    bool _b = false;\n",
    "    string _c = \"Hello World!\";\n",
    "    \n",
    "public:\n",
    "    example2() = default;\n",
    "    example2(int a) : _a(a) { }\n",
    "    \n",
    "    friend inline ostream& operator<<(ostream& out, const example2& x) {\n",
    "       return out << \"(\" << x._a << \", \" << x._b << \", \" << x._c << \")\";\n",
    "    }\n",
    "};"
   ]
  },
  {
   "cell_type": "code",
   "execution_count": 9,
   "metadata": {
    "execution": {
     "iopub.execute_input": "2020-12-28T04:11:18.739455Z",
     "iopub.status.busy": "2020-12-28T04:11:18.738681Z",
     "iopub.status.idle": "2020-12-28T04:11:18.759123Z",
     "shell.execute_reply": "2020-12-28T04:11:18.759686Z"
    },
    "slideshow": {
     "slide_type": "slide"
    }
   },
   "outputs": [
    {
     "name": "stdout",
     "output_type": "stream",
     "text": [
      "(42, 0, Hello World!)\n",
      "(10, 0, Hello World!)\n"
     ]
    }
   ],
   "source": [
    "{\n",
    "    example2 x;\n",
    "    cout << x << endl;\n",
    "    example2 y(10);\n",
    "    cout << y << endl;\n",
    "}"
   ]
  },
  {
   "cell_type": "markdown",
   "metadata": {
    "slideshow": {
     "slide_type": "slide"
    }
   },
   "source": [
    "- Constructors can now delegate to other constructors"
   ]
  },
  {
   "cell_type": "code",
   "execution_count": 10,
   "metadata": {
    "execution": {
     "iopub.execute_input": "2020-12-28T04:11:18.762615Z",
     "iopub.status.busy": "2020-12-28T04:11:18.761848Z",
     "iopub.status.idle": "2020-12-28T04:11:18.767539Z",
     "shell.execute_reply": "2020-12-28T04:11:18.766947Z"
    },
    "slideshow": {
     "slide_type": "fragment"
    }
   },
   "outputs": [],
   "source": [
    "class example3 {\n",
    "    int _a = 42;\n",
    "    bool _b = false;\n",
    "    string _c = \"Hello World!\";\n",
    "    \n",
    "public:\n",
    "    example3(int a) : _a(a) { }\n",
    "    example3(double a) : example3(static_cast<int>(round(a))) { }\n",
    "    \n",
    "    friend inline ostream& operator<<(ostream& out, const example3& x) {\n",
    "       return out << \"(\" << x._a << \", \" << x._b << \", \" << x._c << \")\";\n",
    "    }\n",
    "};"
   ]
  },
  {
   "cell_type": "code",
   "execution_count": 11,
   "metadata": {
    "execution": {
     "iopub.execute_input": "2020-12-28T04:11:18.771138Z",
     "iopub.status.busy": "2020-12-28T04:11:18.770115Z",
     "iopub.status.idle": "2020-12-28T04:11:18.786916Z",
     "shell.execute_reply": "2020-12-28T04:11:18.786210Z"
    },
    "slideshow": {
     "slide_type": "slide"
    }
   },
   "outputs": [
    {
     "name": "stdout",
     "output_type": "stream",
     "text": [
      "(43, 0, Hello World!)\n"
     ]
    }
   ],
   "source": [
    "{\n",
    "    example3 x(42.8);\n",
    "    cout << x << endl;\n",
    "}"
   ]
  },
  {
   "cell_type": "markdown",
   "metadata": {
    "slideshow": {
     "slide_type": "slide"
    }
   },
   "source": [
    "- Constructors can now be inherited"
   ]
  },
  {
   "cell_type": "code",
   "execution_count": 12,
   "metadata": {
    "execution": {
     "iopub.execute_input": "2020-12-28T04:11:18.791834Z",
     "iopub.status.busy": "2020-12-28T04:11:18.791194Z",
     "iopub.status.idle": "2020-12-28T04:11:18.793872Z",
     "shell.execute_reply": "2020-12-28T04:11:18.793385Z"
    },
    "slideshow": {
     "slide_type": "fragment"
    }
   },
   "outputs": [],
   "source": [
    "class example4 : public example3 {\n",
    "public:\n",
    "    string _d = \"New Member\";\n",
    "    \n",
    "    using example3::example3;\n",
    "};"
   ]
  },
  {
   "cell_type": "code",
   "execution_count": 13,
   "metadata": {
    "execution": {
     "iopub.execute_input": "2020-12-28T04:11:18.797315Z",
     "iopub.status.busy": "2020-12-28T04:11:18.796596Z",
     "iopub.status.idle": "2020-12-28T04:11:18.816707Z",
     "shell.execute_reply": "2020-12-28T04:11:18.815162Z"
    },
    "slideshow": {
     "slide_type": "fragment"
    }
   },
   "outputs": [
    {
     "name": "stdout",
     "output_type": "stream",
     "text": [
      "(43, 0, Hello World!)\n",
      "New Member\n"
     ]
    }
   ],
   "source": [
    "{\n",
    "    example4 x(42.8);\n",
    "    cout << x << endl;\n",
    "    cout << x._d << endl;\n",
    "}"
   ]
  },
  {
   "cell_type": "markdown",
   "metadata": {
    "slideshow": {
     "slide_type": "slide"
    }
   },
   "source": [
    "- Inheriting constructors is \"all or nothing\"\n",
    "    - However, you can replace an inherited constructor"
   ]
  },
  {
   "cell_type": "code",
   "execution_count": 14,
   "metadata": {
    "execution": {
     "iopub.execute_input": "2020-12-28T04:11:18.821241Z",
     "iopub.status.busy": "2020-12-28T04:11:18.819709Z",
     "iopub.status.idle": "2020-12-28T04:11:18.824702Z",
     "shell.execute_reply": "2020-12-28T04:11:18.823444Z"
    },
    "slideshow": {
     "slide_type": "fragment"
    }
   },
   "outputs": [],
   "source": [
    "class example5 : public example3 {\n",
    "public:    \n",
    "    using example3::example3;\n",
    "    example5(int a) : example3(a + 1) { }\n",
    "};"
   ]
  },
  {
   "cell_type": "code",
   "execution_count": 15,
   "metadata": {
    "execution": {
     "iopub.execute_input": "2020-12-28T04:11:18.828672Z",
     "iopub.status.busy": "2020-12-28T04:11:18.828010Z",
     "iopub.status.idle": "2020-12-28T04:11:18.848950Z",
     "shell.execute_reply": "2020-12-28T04:11:18.850102Z"
    },
    "slideshow": {
     "slide_type": "fragment"
    }
   },
   "outputs": [
    {
     "name": "stdout",
     "output_type": "stream",
     "text": [
      "(11, 0, Hello World!)\n"
     ]
    }
   ],
   "source": [
    "{\n",
    "    example5 x(10);\n",
    "    cout << x << endl;\n",
    "}"
   ]
  },
  {
   "cell_type": "markdown",
   "metadata": {
    "slideshow": {
     "slide_type": "slide"
    }
   },
   "source": [
    "- Or delete an inherited constructor"
   ]
  },
  {
   "cell_type": "code",
   "execution_count": 16,
   "metadata": {
    "execution": {
     "iopub.execute_input": "2020-12-28T04:11:18.852996Z",
     "iopub.status.busy": "2020-12-28T04:11:18.852240Z",
     "iopub.status.idle": "2020-12-28T04:11:18.856905Z",
     "shell.execute_reply": "2020-12-28T04:11:18.855301Z"
    },
    "slideshow": {
     "slide_type": "fragment"
    }
   },
   "outputs": [],
   "source": [
    "class example6 : public example3 {\n",
    "public:    \n",
    "    using example3::example3;\n",
    "    example6(int a) = delete;\n",
    "};"
   ]
  },
  {
   "cell_type": "markdown",
   "metadata": {
    "slideshow": {
     "slide_type": "fragment"
    }
   },
   "source": [
    "```cpp\n",
    "{\n",
    "    example6 x(10);\n",
    "    cout << x << endl;\n",
    "}\n",
    "```\n",
    "---\n",
    "```\n",
    "input_line_27:3:14: error: call to deleted constructor of 'example6'\n",
    "    example6 x(10);\n",
    "             ^ ~~\n",
    "input_line_26:4:5: note: 'example6' has been explicitly marked deleted here\n",
    "    example6(int a) = delete;\n",
    "    ^\n",
    "```"
   ]
  },
  {
   "cell_type": "markdown",
   "metadata": {
    "slideshow": {
     "slide_type": "slide"
    }
   },
   "source": [
    "## `static` member variables\n",
    "### Review\n",
    "- non-const static members must be defined at namespace scope"
   ]
  },
  {
   "cell_type": "code",
   "execution_count": 17,
   "metadata": {
    "execution": {
     "iopub.execute_input": "2020-12-28T04:11:18.860722Z",
     "iopub.status.busy": "2020-12-28T04:11:18.859919Z",
     "iopub.status.idle": "2020-12-28T04:11:18.862903Z",
     "shell.execute_reply": "2020-12-28T04:11:18.862228Z"
    },
    "slideshow": {
     "slide_type": "fragment"
    }
   },
   "outputs": [],
   "source": [
    "namespace bcc {\n",
    "    \n",
    "struct example7 {\n",
    "    static int x; // declaration\n",
    "};\n",
    "\n",
    "int example7::x = 5; // definition (don't put in a header!)\n",
    "\n",
    "}"
   ]
  },
  {
   "cell_type": "markdown",
   "metadata": {
    "slideshow": {
     "slide_type": "slide"
    }
   },
   "source": [
    "- `const static` members may be initialized directly in the class\n",
    "    - No definition is required unless [odr-used](http://en.cppreference.com/w/cpp/language/definition#ODR-use)"
   ]
  },
  {
   "cell_type": "code",
   "execution_count": 18,
   "metadata": {
    "execution": {
     "iopub.execute_input": "2020-12-28T04:11:18.865662Z",
     "iopub.status.busy": "2020-12-28T04:11:18.864991Z",
     "iopub.status.idle": "2020-12-28T04:11:18.871923Z",
     "shell.execute_reply": "2020-12-28T04:11:18.873103Z"
    },
    "slideshow": {
     "slide_type": "fragment"
    }
   },
   "outputs": [
    {
     "name": "stdout",
     "output_type": "stream",
     "text": [
      "42\n"
     ]
    }
   ],
   "source": [
    "struct example8 {\n",
    "    const static int x = 42;\n",
    "};\n",
    "\n",
    "(void)(cout << example8::x << endl); // not an odr-use"
   ]
  },
  {
   "cell_type": "markdown",
   "metadata": {
    "slideshow": {
     "slide_type": "slide"
    }
   },
   "source": [
    "### New\n",
    "- `static` members may be declared `inline` _(C++17)_ and `constexpr`\n",
    "    - `inline static` members do not require a definition at namespace scope"
   ]
  },
  {
   "cell_type": "code",
   "execution_count": 19,
   "metadata": {
    "execution": {
     "iopub.execute_input": "2020-12-28T04:11:18.876222Z",
     "iopub.status.busy": "2020-12-28T04:11:18.875467Z",
     "iopub.status.idle": "2020-12-28T04:11:18.880873Z",
     "shell.execute_reply": "2020-12-28T04:11:18.880092Z"
    },
    "slideshow": {
     "slide_type": "fragment"
    }
   },
   "outputs": [],
   "source": [
    "struct example9 {\n",
    "    inline static int x = 42;\n",
    "};\n",
    "\n",
    "example9::x = 56;"
   ]
  },
  {
   "cell_type": "markdown",
   "metadata": {
    "slideshow": {
     "slide_type": "slide"
    }
   },
   "source": [
    "- `constexpr static` members, like const static members, only require a namespace scope definition if odr-used _(until C++17)_"
   ]
  },
  {
   "cell_type": "code",
   "execution_count": 20,
   "metadata": {
    "execution": {
     "iopub.execute_input": "2020-12-28T04:11:18.883880Z",
     "iopub.status.busy": "2020-12-28T04:11:18.883189Z",
     "iopub.status.idle": "2020-12-28T04:11:18.889603Z",
     "shell.execute_reply": "2020-12-28T04:11:18.890521Z"
    },
    "slideshow": {
     "slide_type": "fragment"
    }
   },
   "outputs": [
    {
     "name": "stdout",
     "output_type": "stream",
     "text": [
      "42\n"
     ]
    }
   ],
   "source": [
    "struct example10 {\n",
    "    constexpr static int x = 42;\n",
    "};\n",
    "\n",
    "(void)(cout << example10::x << endl); // not an odr-use"
   ]
  },
  {
   "cell_type": "markdown",
   "metadata": {
    "slideshow": {
     "slide_type": "slide"
    }
   },
   "source": [
    "- Since C++17, `constexpr` implies `inline` for `static` member variables\n",
    "    - No definition is required even for an ODR use"
   ]
  },
  {
   "cell_type": "code",
   "execution_count": 21,
   "metadata": {
    "execution": {
     "iopub.execute_input": "2020-12-28T04:11:18.893694Z",
     "iopub.status.busy": "2020-12-28T04:11:18.892964Z",
     "iopub.status.idle": "2020-12-28T04:11:18.899345Z",
     "shell.execute_reply": "2020-12-28T04:11:18.900156Z"
    },
    "slideshow": {
     "slide_type": "fragment"
    }
   },
   "outputs": [
    {
     "name": "stdout",
     "output_type": "stream",
     "text": [
      "0x7fcc562c1000\n"
     ]
    }
   ],
   "source": [
    "(void)(cout << &example10::x << endl); // an odr-use"
   ]
  },
  {
   "cell_type": "markdown",
   "metadata": {
    "slideshow": {
     "slide_type": "slide"
    }
   },
   "source": [
    "## Recommendations\n",
    "- If you must use public inheritance\n",
    "    - Use `final` and `override` as appropriate\n",
    "- Use member initialization, delegating, and inheriting constructors to simplify class definitions\n",
    "- Follow the recommendations for `static` variables for `static` member variables"
   ]
  },
  {
   "cell_type": "markdown",
   "metadata": {
    "slideshow": {
     "slide_type": "slide"
    }
   },
   "source": [
    "## Homework\n",
    "- Find code which does a cast to a derived class then makes virtual function calls\n",
    "    - Mark the derived class as `final`\n",
    "    - Inspect assembly before and after to see if the compiler is able to devirtualize the calls"
   ]
  },
  {
   "cell_type": "code",
   "execution_count": 22,
   "metadata": {},
   "outputs": [],
   "source": []
  }
 ],
 "metadata": {
  "kernelspec": {
   "display_name": "C++17",
   "language": "C++17",
   "name": "xcpp17"
  },
  "language_info": {
   "codemirror_mode": "text/x-c++src",
   "file_extension": ".cpp",
   "mimetype": "text/x-c++src",
   "name": "c++",
   "version": "17"
  }
 },
 "nbformat": 4,
 "nbformat_minor": 4
}
