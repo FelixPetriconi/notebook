{
 "cells": [
  {
   "cell_type": "code",
   "execution_count": 1,
   "metadata": {
    "execution": {
     "iopub.execute_input": "2020-12-28T02:34:13.295549Z",
     "iopub.status.busy": "2020-12-28T02:34:13.294683Z",
     "iopub.status.idle": "2020-12-28T02:34:13.300766Z",
     "shell.execute_reply": "2020-12-28T02:34:13.299755Z"
    },
    "slideshow": {
     "slide_type": "skip"
    }
   },
   "outputs": [],
   "source": [
    "#include <string>\n",
    "#include <iostream>\n",
    "#include <tuple>\n",
    "\n",
    "using namespace std;"
   ]
  },
  {
   "cell_type": "markdown",
   "metadata": {
    "slideshow": {
     "slide_type": "slide"
    }
   },
   "source": [
    "# Classes"
   ]
  },
  {
   "cell_type": "markdown",
   "metadata": {
    "slideshow": {
     "slide_type": "slide"
    }
   },
   "source": [
    "## `final`\n",
    "- `final` specifier can be used on a class to disallow derived classes"
   ]
  },
  {
   "cell_type": "code",
   "execution_count": 2,
   "metadata": {
    "execution": {
     "iopub.execute_input": "2020-12-28T02:34:13.304943Z",
     "iopub.status.busy": "2020-12-28T02:34:13.304110Z",
     "iopub.status.idle": "2020-12-28T02:34:13.306776Z",
     "shell.execute_reply": "2020-12-28T02:34:13.305886Z"
    },
    "slideshow": {
     "slide_type": "fragment"
    }
   },
   "outputs": [],
   "source": [
    "class base {\n",
    "public:\n",
    "    virtual void member() = 0;\n",
    "};\n",
    "\n",
    "class derived final : public base {\n",
    "public:\n",
    "    void member() override;\n",
    "};"
   ]
  },
  {
   "cell_type": "markdown",
   "metadata": {
    "slideshow": {
     "slide_type": "slide"
    }
   },
   "source": [
    "```cpp\n",
    "class error : public derived { };\n",
    "```\n",
    "---\n",
    "```\n",
    "input_line_9:1:15: error: base 'derived' is marked 'final'\n",
    "class error : derived { };\n",
    "              ^\n",
    "input_line_8:6:8: note: 'derived' declared here\n",
    " class derived final : base {\n",
    "       ^       ~~~~~\n",
    "Interpreter Error: \n",
    "```"
   ]
  },
  {
   "cell_type": "markdown",
   "metadata": {
    "slideshow": {
     "slide_type": "slide"
    }
   },
   "source": [
    "- `final` specifier can also be used on a `virtual` function to specify further overrides are not permitted"
   ]
  },
  {
   "cell_type": "code",
   "execution_count": 3,
   "metadata": {
    "execution": {
     "iopub.execute_input": "2020-12-28T02:34:13.310260Z",
     "iopub.status.busy": "2020-12-28T02:34:13.309378Z",
     "iopub.status.idle": "2020-12-28T02:34:13.311067Z",
     "shell.execute_reply": "2020-12-28T02:34:13.311774Z"
    },
    "slideshow": {
     "slide_type": "fragment"
    }
   },
   "outputs": [],
   "source": [
    "class derived2 : public base {\n",
    "    void member() final;\n",
    "};"
   ]
  },
  {
   "cell_type": "markdown",
   "metadata": {
    "slideshow": {
     "slide_type": "fragment"
    }
   },
   "source": [
    "```cpp\n",
    "class error : public derived2 {\n",
    "    void member() override;\n",
    "};\n",
    "```\n",
    "---\n",
    "```\n",
    "input_line_13:3:10: error: declaration of 'method' overrides a 'final' function\n",
    "    void method() override;\n",
    "         ^\n",
    "input_line_11:2:10: note: overridden virtual function is here\n",
    "    void method() final;\n",
    "         ^\n",
    "```"
   ]
  },
  {
   "cell_type": "markdown",
   "metadata": {
    "slideshow": {
     "slide_type": "slide"
    }
   },
   "source": [
    "- `final` makes it clear to the reader that there are no derived classes or methods\n",
    "- More importantly, `final` makes it clear to the compiler, allowing devirtualization optimizations"
   ]
  },
  {
   "cell_type": "markdown",
   "metadata": {
    "slideshow": {
     "slide_type": "slide"
    }
   },
   "source": [
    "## `override`\n",
    "- `override` ensures that the function overrides a virtual member function\n",
    "    - Avoids potential mistakes and clarifies intent"
   ]
  },
  {
   "cell_type": "code",
   "execution_count": 4,
   "metadata": {
    "execution": {
     "iopub.execute_input": "2020-12-28T02:34:13.315902Z",
     "iopub.status.busy": "2020-12-28T02:34:13.315068Z",
     "iopub.status.idle": "2020-12-28T02:34:13.316679Z",
     "shell.execute_reply": "2020-12-28T02:34:13.317534Z"
    },
    "slideshow": {
     "slide_type": "fragment"
    }
   },
   "outputs": [],
   "source": [
    "class derived3 : public base {\n",
    "    void member() const; // no error or warning\n",
    "}"
   ]
  },
  {
   "cell_type": "code",
   "execution_count": 5,
   "metadata": {
    "execution": {
     "iopub.execute_input": "2020-12-28T02:34:13.321190Z",
     "iopub.status.busy": "2020-12-28T02:34:13.320378Z",
     "iopub.status.idle": "2020-12-28T02:34:13.321808Z",
     "shell.execute_reply": "2020-12-28T02:34:13.322590Z"
    },
    "slideshow": {
     "slide_type": "fragment"
    }
   },
   "outputs": [],
   "source": [
    "class derived4 : public base {\n",
    "    virtual void member() const; // no error or warning\n",
    "}"
   ]
  },
  {
   "cell_type": "markdown",
   "metadata": {
    "slideshow": {
     "slide_type": "slide"
    }
   },
   "source": [
    "```cpp\n",
    "class derived5 : public base {\n",
    "    void member() const override;\n",
    "}\n",
    "```\n",
    "---\n",
    "```\n",
    "input_line_16:2:25: error: only virtual member functions can be marked 'override'\n",
    "    void member() const override;\n",
    "                        ^~~~~~~~\n",
    "```"
   ]
  },
  {
   "cell_type": "markdown",
   "metadata": {
    "slideshow": {
     "slide_type": "slide"
    }
   },
   "source": [
    "## Construction\n",
    "- You can specify a default initializer for data members directly in the class definition"
   ]
  },
  {
   "cell_type": "code",
   "execution_count": 6,
   "metadata": {
    "execution": {
     "iopub.execute_input": "2020-12-28T02:34:13.326169Z",
     "iopub.status.busy": "2020-12-28T02:34:13.325367Z",
     "iopub.status.idle": "2020-12-28T02:34:13.330322Z",
     "shell.execute_reply": "2020-12-28T02:34:13.329537Z"
    },
    "slideshow": {
     "slide_type": "fragment"
    }
   },
   "outputs": [],
   "source": [
    "class example {\n",
    "    int _a = 42;\n",
    "    bool _b = false;\n",
    "    string _c = \"Hello World!\";\n",
    "\n",
    "public:\n",
    "    friend inline ostream& operator<<(ostream& out, const example& x) {\n",
    "       return out << \"(\" << x._a << \", \" << x._b << \", \" << x._c << \")\";\n",
    "    }\n",
    "};"
   ]
  },
  {
   "cell_type": "code",
   "execution_count": 7,
   "metadata": {
    "execution": {
     "iopub.execute_input": "2020-12-28T02:34:13.333101Z",
     "iopub.status.busy": "2020-12-28T02:34:13.332313Z",
     "iopub.status.idle": "2020-12-28T02:34:13.349408Z",
     "shell.execute_reply": "2020-12-28T02:34:13.348726Z"
    },
    "slideshow": {
     "slide_type": "slide"
    }
   },
   "outputs": [
    {
     "name": "stdout",
     "output_type": "stream",
     "text": [
      "(42, 0, Hello World!)\n"
     ]
    }
   ],
   "source": [
    "{\n",
    "example x;\n",
    "cout << x << endl;\n",
    "}"
   ]
  },
  {
   "cell_type": "markdown",
   "metadata": {
    "slideshow": {
     "slide_type": "slide"
    }
   },
   "source": [
    "- Any constructor can override a default initializer"
   ]
  },
  {
   "cell_type": "code",
   "execution_count": 8,
   "metadata": {
    "execution": {
     "iopub.execute_input": "2020-12-28T02:34:13.353541Z",
     "iopub.status.busy": "2020-12-28T02:34:13.352583Z",
     "iopub.status.idle": "2020-12-28T02:34:13.357851Z",
     "shell.execute_reply": "2020-12-28T02:34:13.356484Z"
    },
    "slideshow": {
     "slide_type": "fragment"
    }
   },
   "outputs": [],
   "source": [
    "class example2 {\n",
    "    int _a = 42;\n",
    "    bool _b = false;\n",
    "    string _c = \"Hello World!\";\n",
    "    \n",
    "public:\n",
    "    example2() = default;\n",
    "    example2(int a) : _a(a) { }\n",
    "    \n",
    "    friend inline ostream& operator<<(ostream& out, const example2& x) {\n",
    "       return out << \"(\" << x._a << \", \" << x._b << \", \" << x._c << \")\";\n",
    "    }\n",
    "};"
   ]
  },
  {
   "cell_type": "code",
   "execution_count": 9,
   "metadata": {
    "execution": {
     "iopub.execute_input": "2020-12-28T02:34:13.361518Z",
     "iopub.status.busy": "2020-12-28T02:34:13.360788Z",
     "iopub.status.idle": "2020-12-28T02:34:13.379096Z",
     "shell.execute_reply": "2020-12-28T02:34:13.377756Z"
    },
    "slideshow": {
     "slide_type": "slide"
    }
   },
   "outputs": [
    {
     "name": "stdout",
     "output_type": "stream",
     "text": [
      "(42, 0, Hello World!)\n",
      "(10, 0, Hello World!)\n"
     ]
    }
   ],
   "source": [
    "{\n",
    "    example2 x;\n",
    "    cout << x << endl;\n",
    "    example2 y(10);\n",
    "    cout << y << endl;\n",
    "}"
   ]
  },
  {
   "cell_type": "markdown",
   "metadata": {
    "slideshow": {
     "slide_type": "slide"
    }
   },
   "source": [
    "- Constructors can now delegate to other constructors"
   ]
  },
  {
   "cell_type": "code",
   "execution_count": 10,
   "metadata": {
    "execution": {
     "iopub.execute_input": "2020-12-28T02:34:13.382406Z",
     "iopub.status.busy": "2020-12-28T02:34:13.381214Z",
     "iopub.status.idle": "2020-12-28T02:34:13.387624Z",
     "shell.execute_reply": "2020-12-28T02:34:13.386699Z"
    },
    "slideshow": {
     "slide_type": "fragment"
    }
   },
   "outputs": [],
   "source": [
    "class example3 {\n",
    "    int _a = 42;\n",
    "    bool _b = false;\n",
    "    string _c = \"Hello World!\";\n",
    "    \n",
    "public:\n",
    "    example3(int a) : _a(a) { }\n",
    "    example3(double a) : example3(static_cast<int>(round(a))) { }\n",
    "    \n",
    "    friend inline ostream& operator<<(ostream& out, const example3& x) {\n",
    "       return out << \"(\" << x._a << \", \" << x._b << \", \" << x._c << \")\";\n",
    "    }\n",
    "};"
   ]
  },
  {
   "cell_type": "code",
   "execution_count": 11,
   "metadata": {
    "execution": {
     "iopub.execute_input": "2020-12-28T02:34:13.391202Z",
     "iopub.status.busy": "2020-12-28T02:34:13.390286Z",
     "iopub.status.idle": "2020-12-28T02:34:13.404689Z",
     "shell.execute_reply": "2020-12-28T02:34:13.405380Z"
    },
    "slideshow": {
     "slide_type": "slide"
    }
   },
   "outputs": [
    {
     "name": "stdout",
     "output_type": "stream",
     "text": [
      "(43, 0, Hello World!)\n"
     ]
    }
   ],
   "source": [
    "{\n",
    "    example3 x(42.8);\n",
    "    cout << x << endl;\n",
    "}"
   ]
  },
  {
   "cell_type": "markdown",
   "metadata": {
    "slideshow": {
     "slide_type": "slide"
    }
   },
   "source": [
    "- Constructors can now be inherited"
   ]
  },
  {
   "cell_type": "code",
   "execution_count": 12,
   "metadata": {
    "execution": {
     "iopub.execute_input": "2020-12-28T02:34:13.409295Z",
     "iopub.status.busy": "2020-12-28T02:34:13.408495Z",
     "iopub.status.idle": "2020-12-28T02:34:13.410619Z",
     "shell.execute_reply": "2020-12-28T02:34:13.410177Z"
    },
    "slideshow": {
     "slide_type": "fragment"
    }
   },
   "outputs": [],
   "source": [
    "class example4 : public example3 {\n",
    "public:\n",
    "    string _d = \"New Member\";\n",
    "    \n",
    "    using example3::example3;\n",
    "};"
   ]
  },
  {
   "cell_type": "code",
   "execution_count": 13,
   "metadata": {
    "execution": {
     "iopub.execute_input": "2020-12-28T02:34:13.414739Z",
     "iopub.status.busy": "2020-12-28T02:34:13.413675Z",
     "iopub.status.idle": "2020-12-28T02:34:13.433644Z",
     "shell.execute_reply": "2020-12-28T02:34:13.432418Z"
    },
    "slideshow": {
     "slide_type": "fragment"
    }
   },
   "outputs": [
    {
     "name": "stdout",
     "output_type": "stream",
     "text": [
      "(43, 0, Hello World!)\n",
      "New Member\n"
     ]
    }
   ],
   "source": [
    "{\n",
    "    example4 x(42.8);\n",
    "    cout << x << endl;\n",
    "    cout << x._d << endl;\n",
    "}"
   ]
  },
  {
   "cell_type": "markdown",
   "metadata": {
    "slideshow": {
     "slide_type": "slide"
    }
   },
   "source": [
    "- Inheriting constructors is \"all or nothing\"\n",
    "    - However, you can replace an inherited constructor"
   ]
  },
  {
   "cell_type": "code",
   "execution_count": 14,
   "metadata": {
    "execution": {
     "iopub.execute_input": "2020-12-28T02:34:13.437296Z",
     "iopub.status.busy": "2020-12-28T02:34:13.436639Z",
     "iopub.status.idle": "2020-12-28T02:34:13.442310Z",
     "shell.execute_reply": "2020-12-28T02:34:13.441636Z"
    },
    "slideshow": {
     "slide_type": "fragment"
    }
   },
   "outputs": [],
   "source": [
    "class example5 : public example3 {\n",
    "public:    \n",
    "    using example3::example3;\n",
    "    example5(int a) : example3(a + 1) { }\n",
    "};"
   ]
  },
  {
   "cell_type": "code",
   "execution_count": 15,
   "metadata": {
    "execution": {
     "iopub.execute_input": "2020-12-28T02:34:13.445484Z",
     "iopub.status.busy": "2020-12-28T02:34:13.444844Z",
     "iopub.status.idle": "2020-12-28T02:34:13.463367Z",
     "shell.execute_reply": "2020-12-28T02:34:13.462746Z"
    },
    "slideshow": {
     "slide_type": "fragment"
    }
   },
   "outputs": [
    {
     "name": "stdout",
     "output_type": "stream",
     "text": [
      "(11, 0, Hello World!)\n"
     ]
    }
   ],
   "source": [
    "{\n",
    "    example5 x(10);\n",
    "    cout << x << endl;\n",
    "}"
   ]
  },
  {
   "cell_type": "markdown",
   "metadata": {
    "slideshow": {
     "slide_type": "slide"
    }
   },
   "source": [
    "- Or delete an inherited constructor"
   ]
  },
  {
   "cell_type": "code",
   "execution_count": 16,
   "metadata": {
    "execution": {
     "iopub.execute_input": "2020-12-28T02:34:13.467022Z",
     "iopub.status.busy": "2020-12-28T02:34:13.465836Z",
     "iopub.status.idle": "2020-12-28T02:34:13.472093Z",
     "shell.execute_reply": "2020-12-28T02:34:13.471376Z"
    },
    "slideshow": {
     "slide_type": "fragment"
    }
   },
   "outputs": [],
   "source": [
    "class example6 : public example3 {\n",
    "public:    \n",
    "    using example3::example3;\n",
    "    example6(int a) = delete;\n",
    "};"
   ]
  },
  {
   "cell_type": "markdown",
   "metadata": {
    "slideshow": {
     "slide_type": "fragment"
    }
   },
   "source": [
    "```cpp\n",
    "{\n",
    "    example6 x(10);\n",
    "    cout << x << endl;\n",
    "}\n",
    "```\n",
    "---\n",
    "```\n",
    "input_line_27:3:14: error: call to deleted constructor of 'example6'\n",
    "    example6 x(10);\n",
    "             ^ ~~\n",
    "input_line_26:4:5: note: 'example6' has been explicitly marked deleted here\n",
    "    example6(int a) = delete;\n",
    "    ^\n",
    "```"
   ]
  },
  {
   "cell_type": "markdown",
   "metadata": {
    "slideshow": {
     "slide_type": "slide"
    }
   },
   "source": [
    "## `static` member variables\n",
    "### Review\n",
    "- non-const static members must be defined at namespace scope"
   ]
  },
  {
   "cell_type": "code",
   "execution_count": 17,
   "metadata": {
    "execution": {
     "iopub.execute_input": "2020-12-28T02:34:13.475617Z",
     "iopub.status.busy": "2020-12-28T02:34:13.474352Z",
     "iopub.status.idle": "2020-12-28T02:34:13.476442Z",
     "shell.execute_reply": "2020-12-28T02:34:13.477115Z"
    },
    "slideshow": {
     "slide_type": "fragment"
    }
   },
   "outputs": [],
   "source": [
    "namespace bcc {\n",
    "    \n",
    "struct example7 {\n",
    "    static int x; // declaration\n",
    "};\n",
    "\n",
    "int example7::x = 5; // definition (don't put in a header!)\n",
    "\n",
    "}"
   ]
  },
  {
   "cell_type": "markdown",
   "metadata": {
    "slideshow": {
     "slide_type": "slide"
    }
   },
   "source": [
    "- `const static` members may be initialized directly in the class\n",
    "    - No definition is required unless [odr-used](http://en.cppreference.com/w/cpp/language/definition#ODR-use)"
   ]
  },
  {
   "cell_type": "code",
   "execution_count": 18,
   "metadata": {
    "execution": {
     "iopub.execute_input": "2020-12-28T02:34:13.479811Z",
     "iopub.status.busy": "2020-12-28T02:34:13.479154Z",
     "iopub.status.idle": "2020-12-28T02:34:13.492958Z",
     "shell.execute_reply": "2020-12-28T02:34:13.493619Z"
    },
    "slideshow": {
     "slide_type": "fragment"
    }
   },
   "outputs": [
    {
     "name": "stdout",
     "output_type": "stream",
     "text": [
      "42\n"
     ]
    }
   ],
   "source": [
    "struct example8 {\n",
    "    const static int x = 42;\n",
    "};\n",
    "\n",
    "(void)(cout << example8::x << endl); // not an odr-use"
   ]
  },
  {
   "cell_type": "markdown",
   "metadata": {
    "slideshow": {
     "slide_type": "slide"
    }
   },
   "source": [
    "### New\n",
    "- `static` members may be declared `inline` _(C++17)_ and `constexpr`\n",
    "    - `inline static` members do not require a definition at namespace scope"
   ]
  },
  {
   "cell_type": "code",
   "execution_count": 19,
   "metadata": {
    "execution": {
     "iopub.execute_input": "2020-12-28T02:34:13.496488Z",
     "iopub.status.busy": "2020-12-28T02:34:13.495738Z",
     "iopub.status.idle": "2020-12-28T02:34:13.504219Z",
     "shell.execute_reply": "2020-12-28T02:34:13.503519Z"
    },
    "slideshow": {
     "slide_type": "fragment"
    }
   },
   "outputs": [],
   "source": [
    "struct example9 {\n",
    "    inline static int x = 42;\n",
    "};\n",
    "\n",
    "example9::x = 56;"
   ]
  },
  {
   "cell_type": "markdown",
   "metadata": {
    "slideshow": {
     "slide_type": "slide"
    }
   },
   "source": [
    "- `constexpr static` members, like const static members, only require a namespace scope definition if odr-used _(until C++17)_"
   ]
  },
  {
   "cell_type": "code",
   "execution_count": 20,
   "metadata": {
    "execution": {
     "iopub.execute_input": "2020-12-28T02:34:13.506937Z",
     "iopub.status.busy": "2020-12-28T02:34:13.506218Z",
     "iopub.status.idle": "2020-12-28T02:34:13.511539Z",
     "shell.execute_reply": "2020-12-28T02:34:13.510767Z"
    },
    "slideshow": {
     "slide_type": "fragment"
    }
   },
   "outputs": [
    {
     "name": "stdout",
     "output_type": "stream",
     "text": [
      "42\n"
     ]
    }
   ],
   "source": [
    "struct example10 {\n",
    "    constexpr static int x = 42;\n",
    "};\n",
    "\n",
    "(void)(cout << example10::x << endl); // not an odr-use"
   ]
  },
  {
   "cell_type": "markdown",
   "metadata": {
    "slideshow": {
     "slide_type": "slide"
    }
   },
   "source": [
    "- Since C++17, `constexpr` implies `inline` for `static` member variables\n",
    "    - No definition is required even for an ODR use"
   ]
  },
  {
   "cell_type": "code",
   "execution_count": 21,
   "metadata": {
    "execution": {
     "iopub.execute_input": "2020-12-28T02:34:13.516744Z",
     "iopub.status.busy": "2020-12-28T02:34:13.514491Z",
     "iopub.status.idle": "2020-12-28T02:34:13.530595Z",
     "shell.execute_reply": "2020-12-28T02:34:13.530133Z"
    },
    "slideshow": {
     "slide_type": "fragment"
    }
   },
   "outputs": [
    {
     "name": "stdout",
     "output_type": "stream",
     "text": [
      "0x7ffbe432d000\n"
     ]
    }
   ],
   "source": [
    "(void)(cout << &example10::x << endl); // an odr-use"
   ]
  },
  {
   "cell_type": "markdown",
   "metadata": {
    "slideshow": {
     "slide_type": "slide"
    }
   },
   "source": [
    "## Recommendations\n",
    "- If you must use public inheritance\n",
    "    - Use `final` and `override` as appropriate\n",
    "- Use member initialization, delegating, and inheriting constructors to simplify class definitions\n",
    "- Follow the recommendations for `static` variables for `static` member variables"
   ]
  },
  {
   "cell_type": "markdown",
   "metadata": {
    "slideshow": {
     "slide_type": "slide"
    }
   },
   "source": [
    "## Homework\n",
    "- Find code which does a cast to a derived class then makes virtual function calls\n",
    "    - Mark the derived class as `final`\n",
    "    - Inspect assembly before and after to see if the compiler is able to devirtualize the calls"
   ]
  },
  {
   "cell_type": "code",
   "execution_count": 22,
   "metadata": {},
   "outputs": [],
   "source": []
  }
 ],
 "metadata": {
  "kernelspec": {
   "display_name": "C++17",
   "language": "C++17",
   "name": "xcpp17"
  },
  "language_info": {
   "codemirror_mode": "text/x-c++src",
   "file_extension": ".cpp",
   "mimetype": "text/x-c++src",
   "name": "c++",
   "version": "17"
  }
 },
 "nbformat": 4,
 "nbformat_minor": 4
}
