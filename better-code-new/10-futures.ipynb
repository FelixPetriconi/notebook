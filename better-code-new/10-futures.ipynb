{
 "cells": [
  {
   "cell_type": "markdown",
   "metadata": {
    "slideshow": {
     "slide_type": "skip"
    },
    "toc": true
   },
   "source": [
    "<h1>Table of Contents<span class=\"tocSkip\"></span></h1>\n",
    "<div class=\"toc\"><ul class=\"toc-item\"><li><span><a href=\"#Futures\" data-toc-modified-id=\"Futures-1\"><span class=\"toc-item-num\">1&nbsp;&nbsp;</span>Futures</a></span><ul class=\"toc-item\"><li><span><a href=\"#Callbacks\" data-toc-modified-id=\"Callbacks-1.1\"><span class=\"toc-item-num\">1.1&nbsp;&nbsp;</span>Callbacks</a></span></li><li><span><a href=\"#std::future&lt;&gt;\" data-toc-modified-id=\"std::future<>-1.2\"><span class=\"toc-item-num\">1.2&nbsp;&nbsp;</span><code>std::future&lt;&gt;</code></a></span></li></ul></li></ul></div>"
   ]
  },
  {
   "cell_type": "code",
   "execution_count": 1,
   "metadata": {
    "execution": {
     "iopub.execute_input": "2020-12-28T04:10:30.751585Z",
     "iopub.status.busy": "2020-12-28T04:10:30.750851Z",
     "iopub.status.idle": "2020-12-28T04:10:30.994849Z",
     "shell.execute_reply": "2020-12-28T04:10:30.994047Z"
    },
    "slideshow": {
     "slide_type": "skip"
    }
   },
   "outputs": [],
   "source": [
    "#include <condition_variable>\n",
    "#include <deque>\n",
    "#include <functional>\n",
    "#include <future>\n",
    "#include <iostream>\n",
    "#include <mutex>\n",
    "#include <string>\n",
    "#include <thread>\n",
    "#include <unordered_set>\n",
    "\n",
    "using namespace std;"
   ]
  },
  {
   "cell_type": "code",
   "execution_count": 2,
   "metadata": {
    "execution": {
     "iopub.execute_input": "2020-12-28T04:10:30.998332Z",
     "iopub.status.busy": "2020-12-28T04:10:30.997791Z",
     "iopub.status.idle": "2020-12-28T04:10:31.045187Z",
     "shell.execute_reply": "2020-12-28T04:10:31.044450Z"
    },
    "slideshow": {
     "slide_type": "skip"
    }
   },
   "outputs": [],
   "source": [
    "namespace bcc {\n",
    "\n",
    "class sequential_process {\n",
    "    using task = function<void()>;\n",
    "\n",
    "    mutex _mutex;\n",
    "    condition_variable _condition;\n",
    "    deque<task> _queue;\n",
    "    bool _done = false;\n",
    "\n",
    "    void run_loop();\n",
    "\n",
    "    thread _thread{[this] { run_loop(); }};\n",
    "\n",
    "public:\n",
    "    ~sequential_process();\n",
    "    void async(task f);\n",
    "};\n",
    "    \n",
    "sequential_process::~sequential_process() {\n",
    "    {\n",
    "        lock_guard<mutex> lock(_mutex);\n",
    "        _done = true;\n",
    "    }\n",
    "    _condition.notify_one();\n",
    "    _thread.join();\n",
    "}\n",
    "\n",
    "void sequential_process::async(task f) {\n",
    "    {\n",
    "        lock_guard<mutex> lock(_mutex);\n",
    "        _queue.push_back(move(f));\n",
    "    }\n",
    "    _condition.notify_one();\n",
    "}\n",
    "\n",
    "void sequential_process::run_loop() {\n",
    "    while (true) {\n",
    "        task work;\n",
    "        {\n",
    "            unique_lock<mutex> lock(_mutex);\n",
    "\n",
    "            while (_queue.empty() && !_done) {\n",
    "                _condition.wait(lock);\n",
    "            }\n",
    "\n",
    "            if (_queue.empty()) return;\n",
    "\n",
    "            work = move(_queue.front());\n",
    "            _queue.pop_front();\n",
    "        }\n",
    "        work();\n",
    "    }\n",
    "}\n",
    "    \n",
    "} // namespace bcc\n",
    "\n",
    "using namespace bcc;"
   ]
  },
  {
   "cell_type": "markdown",
   "metadata": {
    "slideshow": {
     "slide_type": "notes"
    }
   },
   "source": [
    "- Everything about parallelism and concurrency boils down to:\n",
    "    - How to handle function results\n",
    "    - How to decrease overhead of context switch"
   ]
  },
  {
   "cell_type": "markdown",
   "metadata": {
    "slideshow": {
     "slide_type": "slide"
    }
   },
   "source": [
    "# Futures\n",
    "\n",
    "- Homework from last class, rewrite `interned_string` as a sequential process"
   ]
  },
  {
   "cell_type": "code",
   "execution_count": 3,
   "metadata": {
    "execution": {
     "iopub.execute_input": "2020-12-28T04:10:31.048825Z",
     "iopub.status.busy": "2020-12-28T04:10:31.048070Z",
     "iopub.status.idle": "2020-12-28T04:10:31.081798Z",
     "shell.execute_reply": "2020-12-28T04:10:31.081014Z"
    },
    "slideshow": {
     "slide_type": "slide"
    }
   },
   "outputs": [],
   "source": [
    "namespace v0 {\n",
    "\n",
    "class interned_string {\n",
    "    struct shared_pool {\n",
    "        mutex _mutex;\n",
    "        unordered_set<string> _pool;\n",
    "\n",
    "        const string* insert(const string& a) {\n",
    "            lock_guard<mutex> lock(_mutex);\n",
    "            return &*_pool.insert(a).first;\n",
    "        }\n",
    "    };\n",
    "\n",
    "    static auto pool() -> shared_pool& {\n",
    "        static shared_pool result;\n",
    "        return result;\n",
    "    }\n",
    "\n",
    "    const std::string* _string;\n",
    "\n",
    "public:\n",
    "    interned_string(const string& a) : _string(pool().insert(a)) {}\n",
    "    const string& str() const { return *_string; }\n",
    "};\n",
    "\n",
    "} // namespace v0"
   ]
  },
  {
   "cell_type": "markdown",
   "metadata": {
    "slideshow": {
     "slide_type": "slide"
    }
   },
   "source": [
    "- How do we return a value from a sequential process?"
   ]
  },
  {
   "cell_type": "markdown",
   "metadata": {
    "slideshow": {
     "slide_type": "fragment"
    }
   },
   "source": [
    "```cpp\n",
    "struct shared_pool {\n",
    "    unordered_set<string> _pool;\n",
    "    sequential_process _process;\n",
    "\n",
    "    const string* insert(const string& a) {\n",
    "        _process.async([&, _a = a]{\n",
    "            _pool.insert(a).first;\n",
    "        });\n",
    "\n",
    "        return ???;\n",
    "    }\n",
    "};\n",
    "```"
   ]
  },
  {
   "cell_type": "markdown",
   "metadata": {
    "slideshow": {
     "slide_type": "slide"
    }
   },
   "source": [
    "## Callbacks\n",
    "\n",
    "- One common method is to pass a callback which is called with the result instead of returning it"
   ]
  },
  {
   "cell_type": "code",
   "execution_count": 4,
   "metadata": {
    "execution": {
     "iopub.execute_input": "2020-12-28T04:10:31.084594Z",
     "iopub.status.busy": "2020-12-28T04:10:31.084002Z",
     "iopub.status.idle": "2020-12-28T04:10:31.088183Z",
     "shell.execute_reply": "2020-12-28T04:10:31.087525Z"
    },
    "slideshow": {
     "slide_type": "fragment"
    }
   },
   "outputs": [],
   "source": [
    "struct shared_pool {\n",
    "    unordered_set<string> _pool;\n",
    "    sequential_process _process;\n",
    "\n",
    "    template <class F> // F models void(const string*)\n",
    "    void insert(string a, F&& f) {\n",
    "        _process.async([this, _a = move(a), _f = forward<F>(f)]{\n",
    "            _f(&*_pool.insert(_a).first);\n",
    "        });\n",
    "    }\n",
    "};"
   ]
  },
  {
   "cell_type": "markdown",
   "metadata": {
    "slideshow": {
     "slide_type": "slide"
    }
   },
   "source": [
    "- But what do we pass to the callback when constructing our `interned_string`?"
   ]
  },
  {
   "cell_type": "markdown",
   "metadata": {
    "slideshow": {
     "slide_type": "fragment"
    }
   },
   "source": [
    "```cpp\n",
    "class interned_string {\n",
    "    // struct shared_pool\n",
    "\n",
    "    static auto pool() -> shared_pool& {\n",
    "        static shared_pool result;\n",
    "        return result;\n",
    "    }\n",
    "\n",
    "    const std::string* _string;\n",
    "public:\n",
    "    interned_string(const string& a) : _string(pool().insert(a, ???)) {}\n",
    "    const string& str() const { return *_string; }\n",
    "};\n",
    "```"
   ]
  },
  {
   "cell_type": "markdown",
   "metadata": {
    "slideshow": {
     "slide_type": "slide"
    }
   },
   "source": [
    "- The construction of the `interned_string` becomes asynchronous..."
   ]
  },
  {
   "cell_type": "code",
   "execution_count": 5,
   "metadata": {
    "execution": {
     "iopub.execute_input": "2020-12-28T04:10:31.092318Z",
     "iopub.status.busy": "2020-12-28T04:10:31.091821Z",
     "iopub.status.idle": "2020-12-28T04:10:31.094745Z",
     "shell.execute_reply": "2020-12-28T04:10:31.093965Z"
    },
    "slideshow": {
     "slide_type": "fragment"
    }
   },
   "outputs": [],
   "source": [
    "namespace v1 {\n",
    "\n",
    "class interned_string {\n",
    "    // struct shared_pool\n",
    "\n",
    "    static auto pool() -> shared_pool& {\n",
    "        static shared_pool result;\n",
    "        return result;\n",
    "    }\n",
    "\n",
    "    const std::string* _string;\n",
    "\n",
    "    interned_string(const string* s) : _string(s) {}\n",
    "\n",
    "public:\n",
    "    template <class F> // F models void(interned_string)\n",
    "    static void make(string a, F&& f) {\n",
    "        pool().insert(move(a), [_f = forward<F>(f)](const string* s) {\n",
    "            _f(interned_string(s));\n",
    "        });\n",
    "    }\n",
    "    const string& str() const { return *_string; }\n",
    "};\n",
    "\n",
    "} // namespace v1"
   ]
  },
  {
   "cell_type": "markdown",
   "metadata": {
    "slideshow": {
     "slide_type": "slide"
    }
   },
   "source": [
    "- And so on..."
   ]
  },
  {
   "cell_type": "code",
   "execution_count": 6,
   "metadata": {
    "execution": {
     "iopub.execute_input": "2020-12-28T04:10:31.097708Z",
     "iopub.status.busy": "2020-12-28T04:10:31.096867Z",
     "iopub.status.idle": "2020-12-28T04:10:32.268919Z",
     "shell.execute_reply": "2020-12-28T04:10:32.267708Z"
    },
    "slideshow": {
     "slide_type": "fragment"
    }
   },
   "outputs": [
    {
     "name": "stdout",
     "output_type": "stream",
     "text": [
      "Hello World\n"
     ]
    }
   ],
   "source": [
    "{\n",
    "    using namespace v1;\n",
    "\n",
    "    interned_string::make(\n",
    "        \"Hello World\"s, [](const interned_string& s) { cout << s.str() << endl; });\n",
    "\n",
    "    this_thread::sleep_for(1s);\n",
    "}"
   ]
  },
  {
   "cell_type": "markdown",
   "metadata": {
    "slideshow": {
     "slide_type": "fragment"
    }
   },
   "source": [
    "- To properly rejoin another serial context we need\n",
    "    - A block call\n",
    "    - Queue the result back to the serial context\n",
    "    - A continuation"
   ]
  },
  {
   "cell_type": "markdown",
   "metadata": {
    "slideshow": {
     "slide_type": "slide"
    }
   },
   "source": [
    "- Pros of callbacks:\n",
    "    - Fast, no synchronization required\n",
    "    - Easy to understand\n",
    "- Cons\n",
    "    - Requires code be transformed into functional form\n",
    "    - You must know where a value is going before invocation\n",
    "    - Challenging to make exception safe\n",
    "    - Code is executed as part of the server context, slowing the server"
   ]
  },
  {
   "cell_type": "markdown",
   "metadata": {
    "slideshow": {
     "slide_type": "slide"
    }
   },
   "source": [
    "## `std::future<>`\n",
    "\n",
    "- `std::future<>` is a mechanism to separate a task result, from a task\n",
    "    - After the task is executed, the task result is available from the `future`\n",
    "    - If the task throws an exception, the exception is available from the `future`\n",
    "- Most other languages call these \"promises\"\n",
    "    - C++ uses `promise` for the sending side of a `future` which is associated with some task"
   ]
  },
  {
   "cell_type": "markdown",
   "metadata": {
    "slideshow": {
     "slide_type": "slide"
    }
   },
   "source": [
    "```\n",
    "{\n",
    "packaged_task<int()> task([]{\n",
    "    cout << \"executing...\\n\";\n",
    "    return 42;\n",
    "});\n",
    "\n",
    "future<int> result = task.get_future();\n",
    "\n",
    "cout << \"begin\\n\";\n",
    "\n",
    "task(); // execute the task\n",
    "\n",
    "cout << \"answer: \" << result.get() << '\\n';\n",
    "}\n",
    "```"
   ]
  },
  {
   "cell_type": "markdown",
   "metadata": {
    "slideshow": {
     "slide_type": "slide"
    }
   },
   "source": [
    "```cpp\n",
    "{\n",
    "packaged_task<int()> task([]{\n",
    "    cout << \"executing...\\n\";\n",
    "    throw \"failure\"s;\n",
    "    return 42;\n",
    "});\n",
    "\n",
    "future<int> result = task.get_future();\n",
    "\n",
    "cout << \"begin\\n\";\n",
    "\n",
    "task(); // execute the task\n",
    "\n",
    "try {\n",
    "   cout << \"answer: \" << result.get() << '\\n';\n",
    "} catch (const string& error) {\n",
    "    cout << \"error: \" << error << '\\n';\n",
    "}\n",
    "}\n",
    "```"
   ]
  },
  {
   "cell_type": "markdown",
   "metadata": {
    "slideshow": {
     "slide_type": "slide"
    }
   },
   "source": [
    "- In C++14 there are 3 ways to optain a `future`\n",
    "    - from `std::promise`\n",
    "    - from `std::packaged_task`\n",
    "    - from `std::async`\n",
    "- `std::async` allows for a _launch policy_ which can be async, deferred, or either\n",
    "    - `future` from `std::async` with `std::launch::async`\n",
    "        - _wait_ on destruction until the future is ready\n",
    "    - `future` from `std::async` with `std::launch::deferred`\n",
    "        - _execute_ the task on a call to `future::get()`\n",
    "        - _cancel_ the associated task, and free the resources on destruction\n",
    "- Otherwise futures will\n",
    "    - _wait_ on get\n",
    "    - _detach_ on destruction\n",
    "- There is no way to achieve the behaviors of a `future` returned from `async()` using a `promise`"
   ]
  },
  {
   "cell_type": "markdown",
   "metadata": {
    "slideshow": {
     "slide_type": "slide"
    }
   },
   "source": [
    "- Recall the `sequential_process::async()`"
   ]
  },
  {
   "cell_type": "markdown",
   "metadata": {
    "slideshow": {
     "slide_type": "fragment"
    }
   },
   "source": [
    "```cpp\n",
    "void sequential_process::async(task f);\n",
    "```"
   ]
  },
  {
   "cell_type": "markdown",
   "metadata": {
    "slideshow": {
     "slide_type": "slide"
    }
   },
   "source": [
    "- We can wrap the invocation of `async()` and pass a `packaged_task`"
   ]
  },
  {
   "cell_type": "code",
   "execution_count": 7,
   "metadata": {
    "execution": {
     "iopub.execute_input": "2020-12-28T04:10:32.274725Z",
     "iopub.status.busy": "2020-12-28T04:10:32.273659Z",
     "iopub.status.idle": "2020-12-28T04:10:32.277316Z",
     "shell.execute_reply": "2020-12-28T04:10:32.276302Z"
    },
    "slideshow": {
     "slide_type": "fragment"
    }
   },
   "outputs": [],
   "source": [
    "template <class F> // F models R()\n",
    "auto async_packaged(sequential_process& process, F&& f) {\n",
    "    using result_t = std::result_of_t<std::decay_t<F>()>;\n",
    "    \n",
    "    packaged_task<result_t()> task{std::forward<F>(f)};\n",
    "    auto result = task.get_future();\n",
    "    \n",
    "    process.async(move(task));\n",
    "    \n",
    "    return result;\n",
    "}"
   ]
  },
  {
   "cell_type": "markdown",
   "metadata": {
    "slideshow": {
     "slide_type": "slide"
    }
   },
   "source": [
    "```cpp\n",
    "{\n",
    "sequential_process process;\n",
    "\n",
    "auto future = async_packaged(process, []{ return \"Hello World!\"s; });\n",
    "    \n",
    "cout << future.get() << endl;\n",
    "}\n",
    "```"
   ]
  },
  {
   "cell_type": "markdown",
   "metadata": {
    "slideshow": {
     "slide_type": "fragment"
    }
   },
   "source": [
    "```\n",
    "In file included from input_line_5:1:\n",
    "In file included from /Users/sean-parent/miniconda3/envs/sean-parent-notebook/include/xeus/xinterpreter.hpp:12:\n",
    "In file included from /Users/sean-parent/miniconda3/envs/sean-parent-notebook/include/c++/v1/functional:487:\n",
    "/Users/sean-parent/miniconda3/envs/sean-parent-notebook/include/c++/v1/memory:2056:9: error: call to deleted constructor of 'std::__1::packaged_task<std::__1::basic_string<char> ()>'\n",
    "      : __value_(_VSTD::forward<_Args>(_VSTD::get<_Indexes>(__args))...) {}\n",
    "        ^        ~~~~~~~~~~~~~~~~~~~~~~~~~~~~~~~~~~~~~~~~~~~~~~~~~~~\n",
    "/Users/sean-parent/miniconda3/envs/sean-parent-notebook/include/c++/v1/memory:2151:9: note: in instantiation of function template specialization 'std::__1::__compressed_pair_elem<std::__1::packaged_task<std::__1::basic_string<char>\n",
    "      ()>, 0, false>::__compressed_pair_elem<const std::__1::packaged_task<std::__1::basic_string<char> ()> &, 0>' requested here\n",
    "      : _Base1(__pc, _VSTD::move(__first_args),\n",
    "        ^\n",
    "/Users/sean-parent/miniconda3/envs/sean-parent-notebook/include/c++/v1/functional:1501:11: note: in instantiation of function template specialization 'std::__1::__compressed_pair<std::__1::packaged_task<std::__1::basic_string<char> ()>,\n",
    "      std::__1::allocator<std::__1::packaged_task<std::__1::basic_string<char> ()> > >::__compressed_pair<const\n",
    "      std::__1::packaged_task<std::__1::basic_string<char> ()> &, std::__1::allocator<std::__1::packaged_task<std::__1::basic_string<char> ()>\n",
    "      > &&>' requested here\n",
    "        : __f_(piecewise_construct, _VSTD::forward_as_tuple(__f),\n",
    "          ^\n",
    "/Users/sean-parent/miniconda3/envs/sean-parent-notebook/include/c++/v1/functional:1528:26: note: in instantiation of member function 'std::__1::__function::__func<std::__1::packaged_task<std::__1::basic_string<char> ()>,\n",
    "      std::__1::allocator<std::__1::packaged_task<std::__1::basic_string<char> ()> >, void ()>::__func' requested here\n",
    "    ::new (__hold.get()) __func(__f_.first(), _Alloc(__a));\n",
    "                         ^\n",
    "/Users/sean-parent/miniconda3/envs/sean-parent-notebook/include/c++/v1/functional:1491:14: note: in instantiation of member function 'std::__1::__function::__func<std::__1::packaged_task<std::__1::basic_string<char> ()>,\n",
    "      std::__1::allocator<std::__1::packaged_task<std::__1::basic_string<char> ()> >, void ()>::__clone' requested here\n",
    "    explicit __func(_Fp&& __f)\n",
    "             ^\n",
    "/Users/sean-parent/miniconda3/envs/sean-parent-notebook/include/c++/v1/functional:1770:42: note: in instantiation of member function 'std::__1::__function::__func<std::__1::packaged_task<std::__1::basic_string<char> ()>,\n",
    "      std::__1::allocator<std::__1::packaged_task<std::__1::basic_string<char> ()> >, void ()>::__func' requested here\n",
    "            __f_ = ::new((void*)&__buf_) _FF(_VSTD::move(__f));\n",
    "                                         ^\n",
    "input_line_13:8:19: note: in instantiation of function template specialization 'std::__1::function<void\n",
    "      ()>::function<std::__1::packaged_task<std::__1::basic_string<char> ()>, void>' requested here\n",
    "    process.async(move(task));\n",
    "                  ^\n",
    "/Users/sean-parent/miniconda3/envs/sean-parent-notebook/include/c++/v1/future:2047:5: note: 'packaged_task' has been explicitly marked deleted here\n",
    "    packaged_task(const packaged_task&) = delete;\n",
    "    ^\n",
    "In file included from input_line_5:1:\n",
    "In file included from /Users/sean-parent/miniconda3/envs/sean-parent-notebook/include/xeus/xinterpreter.hpp:12:\n",
    "In file included from /Users/sean-parent/miniconda3/envs/sean-parent-notebook/include/c++/v1/functional:487:\n",
    "/Users/sean-parent/miniconda3/envs/sean-parent-notebook/include/c++/v1/memory:2151:9: error: no matching constructor for initialization of '__compressed_pair_elem<std::__1::packaged_task<std::__1::basic_string<char> ()>, 0>'\n",
    "      : _Base1(__pc, _VSTD::move(__first_args),\n",
    "        ^      ~~~~~~~~~~~~~~~~~~~~~~~~~~~~~~~~\n",
    "/Users/sean-parent/miniconda3/envs/sean-parent-notebook/include/c++/v1/functional:1496:11: note: in instantiation of function template specialization 'std::__1::__compressed_pair<std::__1::packaged_task<std::__1::basic_string<char> ()>,\n",
    "      std::__1::allocator<std::__1::packaged_task<std::__1::basic_string<char> ()> > >::__compressed_pair<const\n",
    "      std::__1::packaged_task<std::__1::basic_string<char> ()> &, const\n",
    "      std::__1::allocator<std::__1::packaged_task<std::__1::basic_string<char> ()> > &>' requested here\n",
    "        : __f_(piecewise_construct, _VSTD::forward_as_tuple(__f),\n",
    "          ^\n",
    "/Users/sean-parent/miniconda3/envs/sean-parent-notebook/include/c++/v1/functional:1536:17: note: in instantiation of member function 'std::__1::__function::__func<std::__1::packaged_task<std::__1::basic_string<char> ()>,\n",
    "      std::__1::allocator<std::__1::packaged_task<std::__1::basic_string<char> ()> >, void ()>::__func' requested here\n",
    "    ::new (__p) __func(__f_.first(), __f_.second());\n",
    "                ^\n",
    "/Users/sean-parent/miniconda3/envs/sean-parent-notebook/include/c++/v1/functional:1491:14: note: in instantiation of member function 'std::__1::__function::__func<std::__1::packaged_task<std::__1::basic_string<char> ()>,\n",
    "      std::__1::allocator<std::__1::packaged_task<std::__1::basic_string<char> ()> >, void ()>::__clone' requested here\n",
    "    explicit __func(_Fp&& __f)\n",
    "             ^\n",
    "/Users/sean-parent/miniconda3/envs/sean-parent-notebook/include/c++/v1/functional:1770:42: note: in instantiation of member function 'std::__1::__function::__func<std::__1::packaged_task<std::__1::basic_string<char> ()>,\n",
    "      std::__1::allocator<std::__1::packaged_task<std::__1::basic_string<char> ()> >, void ()>::__func' requested here\n",
    "            __f_ = ::new((void*)&__buf_) _FF(_VSTD::move(__f));\n",
    "                                         ^\n",
    "input_line_13:8:19: note: in instantiation of function template specialization 'std::__1::function<void\n",
    "      ()>::function<std::__1::packaged_task<std::__1::basic_string<char> ()>, void>' requested here\n",
    "    process.async(move(task));\n",
    "                  ^\n",
    "/Users/sean-parent/miniconda3/envs/sean-parent-notebook/include/c++/v1/memory:2054:3: note: candidate template ignored: substitution failure [with _Args = <const std::__1::packaged_task<std::__1::basic_string<char> ()> &>, _Indexes =\n",
    "      <0>]\n",
    "  __compressed_pair_elem(piecewise_construct_t, tuple<_Args...> __args,\n",
    "  ^\n",
    "/Users/sean-parent/miniconda3/envs/sean-parent-notebook/include/c++/v1/memory:2049:3: note: candidate constructor template not viable: requires single argument '__u', but 3 arguments were provided\n",
    "  __compressed_pair_elem(_Up&& __u)\n",
    "  ^\n",
    "/Users/sean-parent/miniconda3/envs/sean-parent-notebook/include/c++/v1/memory:2037:8: note: candidate constructor (the implicit copy constructor) not viable: requires 1 argument, but 3 were provided\n",
    "struct __compressed_pair_elem {\n",
    "       ^\n",
    "/Users/sean-parent/miniconda3/envs/sean-parent-notebook/include/c++/v1/memory:2037:8: note: candidate constructor (the implicit move constructor) not viable: requires 1 argument, but 3 were provided\n",
    "/Users/sean-parent/miniconda3/envs/sean-parent-notebook/include/c++/v1/memory:2043:13: note: candidate constructor not viable: requires 0 arguments, but 3 were provided\n",
    "  constexpr __compressed_pair_elem() : __value_() {}\n",
    "            ^\n",
    "```"
   ]
  },
  {
   "cell_type": "markdown",
   "metadata": {
    "slideshow": {
     "slide_type": "slide"
    }
   },
   "source": [
    "- The underlying issue is `function<>` (our task type) requires:\n",
    "    - A _Copyable_ type\n",
    "    - With a `const` function call operator\n",
    "\n",
    "- `packaged_task<>` is\n",
    "    - Not _Copyable_, only _Movable_\n",
    "    - Has a mutable function call operator"
   ]
  },
  {
   "cell_type": "markdown",
   "metadata": {
    "slideshow": {
     "slide_type": "fragment"
    }
   },
   "source": [
    "- We need a type similar `std::function<>` but for movable types with a mutable call operator\n",
    "    - For now we only need the signature `void()`"
   ]
  },
  {
   "cell_type": "markdown",
   "metadata": {
    "slideshow": {
     "slide_type": "skip"
    }
   },
   "source": [
    "[Part 2 - notebook](./11-futures-pt2.ipynb)"
   ]
  },
  {
   "cell_type": "markdown",
   "metadata": {
    "slideshow": {
     "slide_type": "slide"
    }
   },
   "source": [
    "[Part 2](./11-futures-pt2.slides.html)"
   ]
  }
 ],
 "metadata": {
  "celltoolbar": "Slideshow",
  "kernelspec": {
   "display_name": "C++17",
   "language": "C++17",
   "name": "xcpp17"
  },
  "language_info": {
   "codemirror_mode": "text/x-c++src",
   "file_extension": ".cpp",
   "mimetype": "text/x-c++src",
   "name": "c++",
   "version": "17"
  },
  "toc": {
   "nav_menu": {},
   "number_sections": true,
   "sideBar": true,
   "skip_h1_title": false,
   "title_cell": "Table of Contents",
   "title_sidebar": "Contents",
   "toc_cell": true,
   "toc_position": {},
   "toc_section_display": "block",
   "toc_window_display": false
  }
 },
 "nbformat": 4,
 "nbformat_minor": 4
}
