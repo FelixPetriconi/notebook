{
 "cells": [
  {
   "cell_type": "code",
   "execution_count": 1,
   "metadata": {
    "execution": {
     "iopub.execute_input": "2020-12-27T20:59:27.579042Z",
     "iopub.status.busy": "2020-12-27T20:59:27.578122Z",
     "iopub.status.idle": "2020-12-27T20:59:27.580662Z",
     "shell.execute_reply": "2020-12-27T20:59:27.580138Z"
    },
    "slideshow": {
     "slide_type": "skip"
    }
   },
   "outputs": [],
   "source": [
    "#include <iostream>\n",
    "#include <array>\n",
    "\n",
    "using namespace std;"
   ]
  },
  {
   "cell_type": "markdown",
   "metadata": {
    "slideshow": {
     "slide_type": "slide"
    }
   },
   "source": [
    "# `constexpr`\n",
    "`constexpr` specifier declares that it is possible to evaluate a function or variable at compile time. Such variables and functions can then be used inside a [constant expression](http://en.cppreference.com/w/cpp/language/constant_expression)."
   ]
  },
  {
   "cell_type": "markdown",
   "metadata": {
    "slideshow": {
     "slide_type": "slide"
    }
   },
   "source": [
    "## `constexpr` variables\n",
    "A variable declared `constexpr` is `const` (implied) and must be evaluated at compile time."
   ]
  },
  {
   "cell_type": "code",
   "execution_count": 2,
   "metadata": {
    "execution": {
     "iopub.execute_input": "2020-12-27T20:59:27.583093Z",
     "iopub.status.busy": "2020-12-27T20:59:27.582622Z",
     "iopub.status.idle": "2020-12-27T20:59:27.585068Z",
     "shell.execute_reply": "2020-12-27T20:59:27.584581Z"
    },
    "slideshow": {
     "slide_type": "fragment"
    }
   },
   "outputs": [],
   "source": [
    "const int r = rand();"
   ]
  },
  {
   "cell_type": "markdown",
   "metadata": {
    "slideshow": {
     "slide_type": "fragment"
    }
   },
   "source": [
    "```cpp\n",
    "constexpr int r = rand();\n",
    "```"
   ]
  },
  {
   "cell_type": "markdown",
   "metadata": {
    "slideshow": {
     "slide_type": "fragment"
    }
   },
   "source": [
    "```\n",
    "input_line_9:2:16: error: constexpr variable 'r' must be initialized by a constant expression\n",
    " constexpr int r = rand();\n",
    "               ^   ~~~~~~\n",
    "input_line_9:2:20: note: non-constexpr function 'rand' cannot be used in a constant expression\n",
    " constexpr int r = rand();\n",
    "                   ^\n",
    "```"
   ]
  },
  {
   "cell_type": "markdown",
   "metadata": {
    "slideshow": {
     "slide_type": "slide"
    }
   },
   "source": [
    "**Review:** `const` variables defined at `namespace` scope have [internal linkage](http://en.cppreference.com/w/cpp/language/language_linkage) by default. This allows them to be safely used in header files without an [ODR](http://en.cppreference.com/w/cpp/language/definition) violation. However, each compilation unit will have its own logical copy."
   ]
  },
  {
   "cell_type": "markdown",
   "metadata": {
    "slideshow": {
     "slide_type": "slide"
    }
   },
   "source": [
    "\n",
    "```cpp\n",
    "// header.hpp\n",
    "constexpr int variable = 42;\n",
    "```\n",
    "---\n",
    "```cpp\n",
    "// code.cpp\n",
    "#include \"header.hpp\"\n",
    "\n",
    "const void* local_address() {\n",
    "    return &variable;\n",
    "}\n",
    "```\n",
    "---\n",
    "```cpp\n",
    "// main.cpp\n",
    "#include \"header.hpp\"\n",
    "\n",
    "const void* local_address();\n",
    "\n",
    "int main() {\n",
    "    cout << &variable << endl;\n",
    "    cout << local_address() << endl;\n",
    "};\n",
    "```"
   ]
  },
  {
   "cell_type": "markdown",
   "metadata": {
    "slideshow": {
     "slide_type": "fragment"
    }
   },
   "source": [
    "```\n",
    "0x10004b6c8\n",
    "0x10004bd7c\n",
    "```"
   ]
  },
  {
   "cell_type": "markdown",
   "metadata": {
    "slideshow": {
     "slide_type": "slide"
    }
   },
   "source": [
    "C++17 adds [inline variables](http://en.cppreference.com/w/cpp/language/inline) which, at namespace scope, default to external linkage. This is what you likely want in your header files (_finally!_)."
   ]
  },
  {
   "cell_type": "markdown",
   "metadata": {
    "slideshow": {
     "slide_type": "slide"
    }
   },
   "source": [
    "\n",
    "```cpp\n",
    "// header.hpp\n",
    "inline constexpr int variable = 42;\n",
    "```\n",
    "---\n",
    "```cpp\n",
    "// code.cpp\n",
    "#include \"header.hpp\"\n",
    "\n",
    "const void* local_address() {\n",
    "    return &variable;\n",
    "}\n",
    "```\n",
    "---\n",
    "```cpp\n",
    "// main.cpp\n",
    "#include \"header.hpp\"\n",
    "\n",
    "const void* local_address();\n",
    "\n",
    "int main() {\n",
    "    cout << &variable << endl;\n",
    "    cout << local_address() << endl;\n",
    "};\n",
    "```"
   ]
  },
  {
   "cell_type": "markdown",
   "metadata": {
    "slideshow": {
     "slide_type": "fragment"
    }
   },
   "source": [
    "```\n",
    "0x10004b6c8\n",
    "0x10004b6c8\n",
    "```"
   ]
  },
  {
   "cell_type": "markdown",
   "metadata": {
    "slideshow": {
     "slide_type": "slide"
    }
   },
   "source": [
    "## `constexpr` functions\n",
    "A `constexpr` function is a function for which it is _possible_ to evaluate it at compile time provided appropriate function argument are provided.\n",
    "\n",
    "A `constexpr` function must satisfy the following requirements:\n",
    "* Not virtual\n",
    "* [Literal](http://en.cppreference.com/w/cpp/concept/LiteralType) return type\n",
    "* All arguments are literal types\n",
    "* $\\exists$ a set of arguments such that the function can be evaluated as a [core constant expression](http://en.cppreference.com/w/cpp/language/constant_expression#Core_constant_expressions)."
   ]
  },
  {
   "cell_type": "markdown",
   "metadata": {
    "slideshow": {
     "slide_type": "slide"
    }
   },
   "source": [
    "* Function body contains **any statement except**\n",
    "    * `asm`\n",
    "    * `goto`\n",
    "    * label (other than `case` and `default`)\n",
    "    * `try` block\n",
    "    * variable definition of non-literal type\n",
    "    * static or thread-local variable\n",
    "    * uninitialized variable"
   ]
  },
  {
   "cell_type": "markdown",
   "metadata": {
    "slideshow": {
     "slide_type": "slide"
    }
   },
   "source": [
    "Example:"
   ]
  },
  {
   "cell_type": "code",
   "execution_count": 3,
   "metadata": {
    "execution": {
     "iopub.execute_input": "2020-12-27T20:59:27.587922Z",
     "iopub.status.busy": "2020-12-27T20:59:27.587361Z",
     "iopub.status.idle": "2020-12-27T20:59:27.588420Z",
     "shell.execute_reply": "2020-12-27T20:59:27.588879Z"
    },
    "slideshow": {
     "slide_type": "fragment"
    }
   },
   "outputs": [],
   "source": [
    "constexpr uint64_t fnv64_hash_str(const char* p) {\n",
    "    uint64_t hash = UINT64_C(14695981039346656037);\n",
    "    while (*p) {\n",
    "        hash *= UINT64_C(1099511628211);\n",
    "        hash ^= *p;\n",
    "        ++p;\n",
    "    }\n",
    "    return hash;\n",
    "}"
   ]
  },
  {
   "cell_type": "code",
   "execution_count": 4,
   "metadata": {
    "execution": {
     "iopub.execute_input": "2020-12-27T20:59:27.591253Z",
     "iopub.status.busy": "2020-12-27T20:59:27.590503Z",
     "iopub.status.idle": "2020-12-27T20:59:27.591960Z",
     "shell.execute_reply": "2020-12-27T20:59:27.592438Z"
    },
    "slideshow": {
     "slide_type": "fragment"
    }
   },
   "outputs": [],
   "source": [
    "constexpr auto str_hash = fnv64_hash_str(\"Hello World!\");"
   ]
  },
  {
   "cell_type": "code",
   "execution_count": 5,
   "metadata": {
    "execution": {
     "iopub.execute_input": "2020-12-27T20:59:27.594518Z",
     "iopub.status.busy": "2020-12-27T20:59:27.593998Z",
     "iopub.status.idle": "2020-12-27T20:59:27.600972Z",
     "shell.execute_reply": "2020-12-27T20:59:27.600526Z"
    },
    "slideshow": {
     "slide_type": "fragment"
    }
   },
   "outputs": [
    {
     "name": "stdout",
     "output_type": "stream",
     "text": [
      "8e59dd02f68c387c\n"
     ]
    }
   ],
   "source": [
    "cout << hex << str_hash << endl;"
   ]
  },
  {
   "cell_type": "markdown",
   "metadata": {
    "slideshow": {
     "slide_type": "slide"
    }
   },
   "source": [
    "## `constexpr` constructor\n",
    "The definition of a literal type has been extended to include types with a `constexpr` constructor (though not all classes with a constexpr constructor are a literal type).\n",
    "\n",
    "A `constexpr` constructor must satisfy the requirements of a `constexpr` function and:\n",
    "* No virtual base classes\n",
    "* Every base class subobject and every non-static data member must be initialized\n",
    "* Every non-static member and base class initializer must be done with a `constexpr` constructor"
   ]
  },
  {
   "cell_type": "markdown",
   "metadata": {
    "slideshow": {
     "slide_type": "slide"
    }
   },
   "source": [
    "Example:"
   ]
  },
  {
   "cell_type": "code",
   "execution_count": 6,
   "metadata": {
    "execution": {
     "iopub.execute_input": "2020-12-27T20:59:27.603061Z",
     "iopub.status.busy": "2020-12-27T20:59:27.602544Z",
     "iopub.status.idle": "2020-12-27T20:59:27.603497Z",
     "shell.execute_reply": "2020-12-27T20:59:27.603952Z"
    },
    "slideshow": {
     "slide_type": "fragment"
    }
   },
   "outputs": [],
   "source": [
    "struct point {\n",
    "    int _width;\n",
    "    int _height;\n",
    "\n",
    "    constexpr point(int w, int h) : _width(w), _height(h) { }\n",
    "    \n",
    "    friend constexpr bool operator==(const point& a, const point& b) {\n",
    "        return (a._width == b._width) && (a._height == b._height);\n",
    "    }\n",
    "};"
   ]
  },
  {
   "cell_type": "code",
   "execution_count": 7,
   "metadata": {
    "execution": {
     "iopub.execute_input": "2020-12-27T20:59:27.606164Z",
     "iopub.status.busy": "2020-12-27T20:59:27.605672Z",
     "iopub.status.idle": "2020-12-27T20:59:27.606708Z",
     "shell.execute_reply": "2020-12-27T20:59:27.607141Z"
    },
    "slideshow": {
     "slide_type": "fragment"
    }
   },
   "outputs": [],
   "source": [
    "constexpr point origin = { 10, 10 };"
   ]
  },
  {
   "cell_type": "code",
   "execution_count": 8,
   "metadata": {
    "execution": {
     "iopub.execute_input": "2020-12-27T20:59:27.609438Z",
     "iopub.status.busy": "2020-12-27T20:59:27.608836Z",
     "iopub.status.idle": "2020-12-27T20:59:27.609886Z",
     "shell.execute_reply": "2020-12-27T20:59:27.610313Z"
    },
    "slideshow": {
     "slide_type": "fragment"
    }
   },
   "outputs": [],
   "source": [
    "static_assert(origin == point(10, 10), \"mismatch\");"
   ]
  },
  {
   "cell_type": "markdown",
   "metadata": {
    "slideshow": {
     "slide_type": "slide"
    }
   },
   "source": [
    "`std::pair`, `std::tuple`, and `std::array` may all be used as literal types. With `constexpr` functions, you can create and manipulate complex data structures at compile time. These classes have been extended in C++17 to allow more operations, including non-const operations."
   ]
  },
  {
   "cell_type": "code",
   "execution_count": 9,
   "metadata": {
    "execution": {
     "iopub.execute_input": "2020-12-27T20:59:27.612621Z",
     "iopub.status.busy": "2020-12-27T20:59:27.612017Z",
     "iopub.status.idle": "2020-12-27T20:59:27.613199Z",
     "shell.execute_reply": "2020-12-27T20:59:27.613708Z"
    },
    "slideshow": {
     "slide_type": "skip"
    }
   },
   "outputs": [],
   "source": [
    "template <class T, size_t N>\n",
    "struct carray {\n",
    "    T _data[N];\n",
    "\n",
    "    constexpr const T& operator[](size_t n) const { return _data[n]; }\n",
    "    constexpr T& operator[](size_t n) { return _data[n]; }\n",
    "};\n",
    "\n",
    "template <class T, size_t N>\n",
    "constexpr auto begin(const carray<T, N>& x) {\n",
    "    return &x._data[0];\n",
    "}\n",
    "\n",
    "template <class T, size_t N>\n",
    "constexpr auto end(const carray<T, N>& x) {\n",
    "    return &x._data[0] + N;\n",
    "}"
   ]
  },
  {
   "cell_type": "code",
   "execution_count": 10,
   "metadata": {
    "execution": {
     "iopub.execute_input": "2020-12-27T20:59:27.616341Z",
     "iopub.status.busy": "2020-12-27T20:59:27.615711Z",
     "iopub.status.idle": "2020-12-27T20:59:27.616773Z",
     "shell.execute_reply": "2020-12-27T20:59:27.617217Z"
    },
    "slideshow": {
     "slide_type": "slide"
    }
   },
   "outputs": [],
   "source": [
    "template <class T, size_t N, size_t M, class Comp>\n",
    "constexpr auto merge(const array<T, N>& a, const array<T, M>& b, Comp comp) {\n",
    "    array<T, N + M> result{0};\n",
    "    size_t i = 0, j = 0, k = 0;\n",
    "    while (j != N && k != M) {\n",
    "        if (comp(a[j], b[k])) {\n",
    "            result[i++] = a[j++];\n",
    "        } else {\n",
    "            result[i++] = b[k++];\n",
    "        }\n",
    "    }\n",
    "    while (j != N) {\n",
    "        result[i++] = a[j++];\n",
    "    }\n",
    "    while (k != M) {\n",
    "        result[i++] = b[k++];\n",
    "    }\n",
    "    return result;\n",
    "}"
   ]
  },
  {
   "cell_type": "code",
   "execution_count": 11,
   "metadata": {
    "execution": {
     "iopub.execute_input": "2020-12-27T20:59:27.619392Z",
     "iopub.status.busy": "2020-12-27T20:59:27.618783Z",
     "iopub.status.idle": "2020-12-27T20:59:27.619914Z",
     "shell.execute_reply": "2020-12-27T20:59:27.620356Z"
    },
    "slideshow": {
     "slide_type": "slide"
    }
   },
   "outputs": [],
   "source": [
    "constexpr bool strless(const char* a, const char* b) {\n",
    "    while (*a && (*a == *b)) {\n",
    "        ++a;\n",
    "        ++b;\n",
    "    }\n",
    "    return static_cast<unsigned char>(*a) < static_cast<unsigned char>(*b);\n",
    "}"
   ]
  },
  {
   "cell_type": "code",
   "execution_count": 12,
   "metadata": {
    "execution": {
     "iopub.execute_input": "2020-12-27T20:59:27.622367Z",
     "iopub.status.busy": "2020-12-27T20:59:27.621909Z",
     "iopub.status.idle": "2020-12-27T20:59:27.623339Z",
     "shell.execute_reply": "2020-12-27T20:59:27.622903Z"
    },
    "slideshow": {
     "slide_type": "slide"
    }
   },
   "outputs": [],
   "source": [
    "constexpr array<const char*, 3> a1 = {\n",
    "    \"Dave\",\n",
    "    \"Nick\",\n",
    "    \"Sean\"\n",
    "};\n",
    "\n",
    "constexpr array<const char*, 4> a2 = {\n",
    "    \"Emily\",\n",
    "    \"Olivia\",\n",
    "    \"Ryan\",\n",
    "    \"Seetha\"\n",
    "};"
   ]
  },
  {
   "cell_type": "code",
   "execution_count": 13,
   "metadata": {
    "execution": {
     "iopub.execute_input": "2020-12-27T20:59:27.625944Z",
     "iopub.status.busy": "2020-12-27T20:59:27.625278Z",
     "iopub.status.idle": "2020-12-27T20:59:27.627682Z",
     "shell.execute_reply": "2020-12-27T20:59:27.627169Z"
    },
    "slideshow": {
     "slide_type": "slide"
    }
   },
   "outputs": [],
   "source": [
    "constexpr auto result = merge(a1, a2, &strless);"
   ]
  },
  {
   "cell_type": "code",
   "execution_count": 14,
   "metadata": {
    "execution": {
     "iopub.execute_input": "2020-12-27T20:59:27.630217Z",
     "iopub.status.busy": "2020-12-27T20:59:27.629398Z",
     "iopub.status.idle": "2020-12-27T20:59:27.638021Z",
     "shell.execute_reply": "2020-12-27T20:59:27.638502Z"
    },
    "slideshow": {
     "slide_type": "fragment"
    }
   },
   "outputs": [
    {
     "name": "stdout",
     "output_type": "stream",
     "text": [
      "Dave\n",
      "Emily\n",
      "Nick\n",
      "Olivia\n",
      "Ryan\n",
      "Sean\n",
      "Seetha\n"
     ]
    }
   ],
   "source": [
    "for (const auto& e : result)\n",
    "    cout << e << endl;"
   ]
  },
  {
   "cell_type": "markdown",
   "metadata": {
    "slideshow": {
     "slide_type": "slide"
    }
   },
   "source": [
    "## `if constexpr` (C++17)\n",
    "A conditional of the form `if constexpr` is known as a _constexpr if_ statement. The predicate must be a constant expression. An unexecuted statement is discarded. If used in a template, the discarded path is not instanciated and _constexpr if_ is an alternative to [SFINAE](http://en.cppreference.com/w/cpp/language/sfinae) for some use cases."
   ]
  },
  {
   "cell_type": "code",
   "execution_count": 15,
   "metadata": {
    "execution": {
     "iopub.execute_input": "2020-12-27T20:59:27.640736Z",
     "iopub.status.busy": "2020-12-27T20:59:27.640206Z",
     "iopub.status.idle": "2020-12-27T20:59:27.641223Z",
     "shell.execute_reply": "2020-12-27T20:59:27.641676Z"
    },
    "slideshow": {
     "slide_type": "skip"
    }
   },
   "outputs": [],
   "source": [
    "template <class I, size_t N>\n",
    "struct span {\n",
    "    I _f;\n",
    "};\n",
    "\n",
    "template <class T, size_t N>\n",
    "constexpr auto make_span(const T (&x)[N]) {\n",
    "    return span<const T*, N>{begin(x)};\n",
    "}\n",
    "\n",
    "template <class I, size_t N>\n",
    "constexpr auto begin(const span<I, N>& x) {\n",
    "    return x._f;\n",
    "}\n",
    "\n",
    "template <class I, size_t N>\n",
    "constexpr auto end(const span<I, N>& x) {\n",
    "    return begin(x) + N;\n",
    "}"
   ]
  },
  {
   "cell_type": "code",
   "execution_count": 16,
   "metadata": {
    "execution": {
     "iopub.execute_input": "2020-12-27T20:59:27.643661Z",
     "iopub.status.busy": "2020-12-27T20:59:27.643080Z",
     "iopub.status.idle": "2020-12-27T20:59:27.644072Z",
     "shell.execute_reply": "2020-12-27T20:59:27.644646Z"
    },
    "slideshow": {
     "slide_type": "slide"
    }
   },
   "outputs": [],
   "source": [
    "// C++14 example\n",
    "\n",
    "template <class I, class Comp>\n",
    "constexpr auto merge_sort(const span<I, 1>& a, Comp comp) {\n",
    "    return array<typename iterator_traits<decltype(begin(a))>::value_type, 1>{*begin(a)};\n",
    "}\n",
    "\n",
    "template <class I, size_t N, class Comp>\n",
    "constexpr auto merge_sort(const span<I, N>& a, Comp comp) {\n",
    "    return merge(merge_sort(span<I, N / 2>{begin(a)}, comp),\n",
    "        merge_sort(span<I, N - N / 2>{begin(a) + N / 2}, comp), comp);\n",
    "}"
   ]
  },
  {
   "cell_type": "code",
   "execution_count": 17,
   "metadata": {
    "execution": {
     "iopub.execute_input": "2020-12-27T20:59:27.646743Z",
     "iopub.status.busy": "2020-12-27T20:59:27.646211Z",
     "iopub.status.idle": "2020-12-27T20:59:27.647287Z",
     "shell.execute_reply": "2020-12-27T20:59:27.647968Z"
    },
    "slideshow": {
     "slide_type": "skip"
    }
   },
   "outputs": [],
   "source": [
    ".undo 1"
   ]
  },
  {
   "cell_type": "code",
   "execution_count": 18,
   "metadata": {
    "execution": {
     "iopub.execute_input": "2020-12-27T20:59:27.650395Z",
     "iopub.status.busy": "2020-12-27T20:59:27.649802Z",
     "iopub.status.idle": "2020-12-27T20:59:27.650806Z",
     "shell.execute_reply": "2020-12-27T20:59:27.651279Z"
    },
    "slideshow": {
     "slide_type": "slide"
    }
   },
   "outputs": [],
   "source": [
    "// C++17 example\n",
    "\n",
    "template <class I, size_t N, class Comp>\n",
    "constexpr auto merge_sort(const span<I, N>& a, Comp comp) {\n",
    "    if constexpr (N == 1)\n",
    "        return array<typename iterator_traits<decltype(begin(a))>::value_type, 1>{\n",
    "            *begin(a)\n",
    "        };\n",
    "    else\n",
    "        return merge(merge_sort(span<I, N / 2>{begin(a)}, comp),\n",
    "                     merge_sort(span<I, N - N / 2>{begin(a) + N / 2}, comp), comp);\n",
    "}"
   ]
  },
  {
   "cell_type": "code",
   "execution_count": 19,
   "metadata": {
    "execution": {
     "iopub.execute_input": "2020-12-27T20:59:27.653464Z",
     "iopub.status.busy": "2020-12-27T20:59:27.652954Z",
     "iopub.status.idle": "2020-12-27T20:59:27.660381Z",
     "shell.execute_reply": "2020-12-27T20:59:27.659890Z"
    },
    "slideshow": {
     "slide_type": "slide"
    }
   },
   "outputs": [],
   "source": [
    "constexpr const char* names[]{\n",
    "    \"Carole\",  \"Cherelle\", \"Elene\",   \"Ahmad\",    \"Janae\", \"Stephenie\", \"Bill\",\n",
    "    \"Joannie\", \"Taylor\",   \"Sharice\", \"Myrtle\",   \"Dara\",  \"Manuel\",    \"Hayley\",\n",
    "    \"Odis\",    \"Otto\",     \"Goldie\",  \"Stepanie\", \"Nicky\", \"Ashley\"};\n",
    "\n",
    "constexpr auto sorted = merge_sort(make_span(names), strless);"
   ]
  },
  {
   "cell_type": "code",
   "execution_count": 20,
   "metadata": {
    "execution": {
     "iopub.execute_input": "2020-12-27T20:59:27.662725Z",
     "iopub.status.busy": "2020-12-27T20:59:27.662074Z",
     "iopub.status.idle": "2020-12-27T20:59:27.667730Z",
     "shell.execute_reply": "2020-12-27T20:59:27.666649Z"
    },
    "slideshow": {
     "slide_type": "fragment"
    }
   },
   "outputs": [
    {
     "name": "stdout",
     "output_type": "stream",
     "text": [
      "Ahmad Ashley Bill Carole Cherelle Dara Elene Goldie Hayley Janae Joannie Manuel Myrtle Nicky Odis Otto Sharice Stepanie Stephenie Taylor "
     ]
    }
   ],
   "source": [
    "for (const auto& e : sorted) cout << e << \" \";"
   ]
  },
  {
   "cell_type": "markdown",
   "metadata": {
    "slideshow": {
     "slide_type": "slide"
    }
   },
   "source": [
    "## `constexpr` lambda expressions (C++17)"
   ]
  },
  {
   "cell_type": "code",
   "execution_count": 21,
   "metadata": {
    "execution": {
     "iopub.execute_input": "2020-12-27T20:59:27.670303Z",
     "iopub.status.busy": "2020-12-27T20:59:27.669664Z",
     "iopub.status.idle": "2020-12-27T20:59:27.675456Z",
     "shell.execute_reply": "2020-12-27T20:59:27.674755Z"
    },
    "slideshow": {
     "slide_type": "fragment"
    }
   },
   "outputs": [],
   "source": [
    "constexpr auto rsorted =\n",
    "    merge_sort(make_span(names), [](auto a, auto b) { return strless(b, a); });"
   ]
  },
  {
   "cell_type": "code",
   "execution_count": 22,
   "metadata": {
    "execution": {
     "iopub.execute_input": "2020-12-27T20:59:27.677470Z",
     "iopub.status.busy": "2020-12-27T20:59:27.677038Z",
     "iopub.status.idle": "2020-12-27T20:59:27.682960Z",
     "shell.execute_reply": "2020-12-27T20:59:27.681584Z"
    },
    "slideshow": {
     "slide_type": "fragment"
    }
   },
   "outputs": [
    {
     "name": "stdout",
     "output_type": "stream",
     "text": [
      "Taylor Stephenie Stepanie Sharice Otto Odis Nicky Myrtle Manuel Joannie Janae Hayley Goldie Elene Dara Cherelle Carole Bill Ashley Ahmad "
     ]
    }
   ],
   "source": [
    "for (const auto& e : rsorted) cout << e << \" \";"
   ]
  },
  {
   "cell_type": "markdown",
   "metadata": {
    "slideshow": {
     "slide_type": "slide"
    }
   },
   "source": [
    "## What should be declared `constexpr`?\n",
    "The short answer is \"[all the things](https://www.youtube.com/watch?v=PJwd4JLYJJY).\""
   ]
  },
  {
   "cell_type": "markdown",
   "metadata": {
    "slideshow": {
     "slide_type": "fragment"
    }
   },
   "source": [
    "If a function can be made constexpr, without adding a performance penalty then make it constexpr."
   ]
  },
  {
   "cell_type": "markdown",
   "metadata": {
    "slideshow": {
     "slide_type": "fragment"
    }
   },
   "source": [
    "Be cautious about declaring variables that require complex calculations as `constexpr`."
   ]
  },
  {
   "cell_type": "markdown",
   "metadata": {
    "slideshow": {
     "slide_type": "fragment"
    }
   },
   "source": [
    "Constructs like ZStrings and ExpressViews explicitly made a trade-off of runtime performance to improve developer productivity. Such gains are easily wiped out by doing too much at compile time."
   ]
  },
  {
   "cell_type": "markdown",
   "metadata": {
    "slideshow": {
     "slide_type": "slide"
    }
   },
   "source": [
    "### Exercise\n",
    "Find something in your product that would be improved using `constexpr`, either by simplifying the code or by directly improving performance. Measure the results, including compile time impact, and write a summary of what you found."
   ]
  },
  {
   "cell_type": "code",
   "execution_count": 23,
   "metadata": {},
   "outputs": [],
   "source": []
  }
 ],
 "metadata": {
  "celltoolbar": "Slideshow",
  "kernelspec": {
   "display_name": "C++17",
   "language": "C++17",
   "name": "xcpp17"
  },
  "language_info": {
   "codemirror_mode": "text/x-c++src",
   "file_extension": ".cpp",
   "mimetype": "text/x-c++src",
   "name": "c++",
   "version": "17"
  },
  "toc": {
   "nav_menu": {},
   "number_sections": true,
   "sideBar": true,
   "skip_h1_title": false,
   "toc_cell": false,
   "toc_position": {},
   "toc_section_display": "block",
   "toc_window_display": false
  }
 },
 "nbformat": 4,
 "nbformat_minor": 4
}
