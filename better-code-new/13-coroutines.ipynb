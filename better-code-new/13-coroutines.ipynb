{
 "cells": [
  {
   "cell_type": "code",
   "execution_count": 1,
   "metadata": {
    "execution": {
     "iopub.execute_input": "2020-12-28T04:10:46.280108Z",
     "iopub.status.busy": "2020-12-28T04:10:46.279027Z",
     "iopub.status.idle": "2020-12-28T04:10:46.287063Z",
     "shell.execute_reply": "2020-12-28T04:10:46.285674Z"
    },
    "slideshow": {
     "slide_type": "skip"
    }
   },
   "outputs": [],
   "source": [
    "#include <memory>\n",
    "#include <iostream>\n",
    "\n",
    "using namespace std;"
   ]
  },
  {
   "cell_type": "markdown",
   "metadata": {
    "slideshow": {
     "slide_type": "slide"
    }
   },
   "source": [
    "# Coroutines"
   ]
  },
  {
   "cell_type": "markdown",
   "metadata": {
    "slideshow": {
     "slide_type": "fragment"
    }
   },
   "source": [
    "- A _coroutine_ in C++ refers to a stackless coroutine\n",
    "    - Sometimes called a _resumable function_\n",
    "    - Defined in the [_C++ Extensions for Coroutines_](http://www.open-std.org/jtc1/sc22/wg21/docs/papers/2018/n4736.pdf) Technical Specification\n",
    "    - Approved for C++20\n",
    "- Coroutines can halt execution\n",
    "    - _yielding_ a value (or void)\n",
    "    - or _awaiting_ a value (or event)\n",
    "- Once halted, a coroutine can be resumed, or destructed"
   ]
  },
  {
   "cell_type": "markdown",
   "metadata": {
    "slideshow": {
     "slide_type": "slide"
    }
   },
   "source": [
    "- Coroutine is any function which\n",
    "    - is not `main()`\n",
    "    - is not a constructor\n",
    "    - is not destructor\n",
    "    - result type is not `auto`\n",
    "    - contains a `co_return` statement\n",
    "    - a `co_await` expression\n",
    "    - a range based for loop with `co_await`\n",
    "    - a `co_yield` expression\n",
    "    - does not contain variable arguments (parameter packs are allowed)\n",
    "        - i.e. `printf(const char*, ...);` // not allowed"
   ]
  },
  {
   "cell_type": "markdown",
   "metadata": {
    "slideshow": {
     "slide_type": "slide"
    }
   },
   "source": [
    "## Anatomy of a Coroutine"
   ]
  },
  {
   "cell_type": "markdown",
   "metadata": {
    "slideshow": {
     "slide_type": "slide"
    }
   },
   "source": [
    "- A simple example\n",
    "\n",
    "```cpp\n",
    "generator my_coroutine() {\n",
    "    int n = 0;\n",
    "    while (true) {\n",
    "        co_yield n++;\n",
    "    }\n",
    "}\n",
    "\n",
    "int main() {\n",
    "    generator x = my_coroutine();\n",
    "    cout << x.get() << endl;\n",
    "    cout << x.get() << endl;\n",
    "    cout << x.get() << endl;\n",
    "}\n",
    "```\n",
    "```\n",
    "0\n",
    "1\n",
    "2\n",
    "Program ended with exit code: 0\n",
    "```"
   ]
  },
  {
   "cell_type": "markdown",
   "metadata": {
    "slideshow": {
     "slide_type": "slide"
    }
   },
   "source": [
    "- A coroutine is a function object with multiple entry points\n",
    "    - Manually written:"
   ]
  },
  {
   "cell_type": "code",
   "execution_count": 2,
   "metadata": {
    "execution": {
     "iopub.execute_input": "2020-12-28T04:10:46.293658Z",
     "iopub.status.busy": "2020-12-28T04:10:46.292793Z",
     "iopub.status.idle": "2020-12-28T04:10:46.294505Z",
     "shell.execute_reply": "2020-12-28T04:10:46.295207Z"
    },
    "slideshow": {
     "slide_type": "fragment"
    }
   },
   "outputs": [],
   "source": [
    "namespace v0 {\n",
    "\n",
    "struct my_coroutine_t {\n",
    "    // ...\n",
    "};\n",
    "\n",
    "} // namespace v0"
   ]
  },
  {
   "cell_type": "markdown",
   "metadata": {
    "slideshow": {
     "slide_type": "slide"
    }
   },
   "source": [
    "- Local variables and arguments are captured within the coroutine"
   ]
  },
  {
   "cell_type": "code",
   "execution_count": 3,
   "metadata": {
    "execution": {
     "iopub.execute_input": "2020-12-28T04:10:46.299989Z",
     "iopub.status.busy": "2020-12-28T04:10:46.299017Z",
     "iopub.status.idle": "2020-12-28T04:10:46.300784Z",
     "shell.execute_reply": "2020-12-28T04:10:46.301627Z"
    },
    "slideshow": {
     "slide_type": "fragment"
    }
   },
   "outputs": [],
   "source": [
    "namespace v1 {\n",
    "\n",
    "struct my_coroutine_t {\n",
    "    int n = 0;\n",
    "    // ...\n",
    "};\n",
    "\n",
    "} // namespace v1"
   ]
  },
  {
   "cell_type": "markdown",
   "metadata": {
    "slideshow": {
     "slide_type": "slide"
    }
   },
   "source": [
    "- On construction, a coroutine may either be suspended or start executing\n",
    "    - suspension is handled by setting a resume point and returning"
   ]
  },
  {
   "cell_type": "code",
   "execution_count": 4,
   "metadata": {
    "execution": {
     "iopub.execute_input": "2020-12-28T04:10:46.305476Z",
     "iopub.status.busy": "2020-12-28T04:10:46.304586Z",
     "iopub.status.idle": "2020-12-28T04:10:46.306364Z",
     "shell.execute_reply": "2020-12-28T04:10:46.307023Z"
    },
    "slideshow": {
     "slide_type": "fragment"
    }
   },
   "outputs": [],
   "source": [
    "namespace v2 {\n",
    "\n",
    "struct my_coroutine_t {\n",
    "    int n = 0;\n",
    "\n",
    "    void (my_coroutine_t::*_resume)();\n",
    "\n",
    "    my_coroutine_t() : _resume{&my_coroutine_t::state_01} {}\n",
    "\n",
    "    void resume() { (this->*_resume)(); }\n",
    "\n",
    "    void state_01(); //...\n",
    "};\n",
    "\n",
    "} // namespace v2"
   ]
  },
  {
   "cell_type": "markdown",
   "metadata": {
    "slideshow": {
     "slide_type": "slide"
    }
   },
   "source": [
    "- The resume location will execute to the first yield or await and then return\n",
    "    - yielding is handled by setting a _promise_"
   ]
  },
  {
   "cell_type": "code",
   "execution_count": 5,
   "metadata": {
    "execution": {
     "iopub.execute_input": "2020-12-28T04:10:46.310941Z",
     "iopub.status.busy": "2020-12-28T04:10:46.309752Z",
     "iopub.status.idle": "2020-12-28T04:10:46.313732Z",
     "shell.execute_reply": "2020-12-28T04:10:46.312803Z"
    },
    "slideshow": {
     "slide_type": "fragment"
    }
   },
   "outputs": [],
   "source": [
    "namespace {\n",
    "\n",
    "struct my_coroutine_t {\n",
    "    int n = 0;\n",
    "\n",
    "    void (my_coroutine_t::*_resume)();\n",
    "    int _promise;\n",
    "\n",
    "    my_coroutine_t() : _resume{&my_coroutine_t::state_01} {}\n",
    "\n",
    "    void resume() { (this->*_resume)(); }\n",
    "\n",
    "    void state_01() {\n",
    "        _promise = n++;                      // co_yield n++\n",
    "        _resume = &my_coroutine_t::state_01; // on resume, loop\n",
    "    }\n",
    "};\n",
    "\n",
    "} // namespace v3"
   ]
  },
  {
   "cell_type": "markdown",
   "metadata": {
    "slideshow": {
     "slide_type": "slide"
    }
   },
   "source": [
    "- Calling a coroutine allocates and constructs the coroutine and returns an object constructed with the _coroutine handle_"
   ]
  },
  {
   "cell_type": "code",
   "execution_count": 6,
   "metadata": {
    "execution": {
     "iopub.execute_input": "2020-12-28T04:10:46.316896Z",
     "iopub.status.busy": "2020-12-28T04:10:46.316070Z",
     "iopub.status.idle": "2020-12-28T04:10:46.346298Z",
     "shell.execute_reply": "2020-12-28T04:10:46.345492Z"
    },
    "slideshow": {
     "slide_type": "fragment"
    }
   },
   "outputs": [],
   "source": [
    "namespace v3 {\n",
    "\n",
    "using coroutine_handle = unique_ptr<my_coroutine_t>;\n",
    "\n",
    "struct generator {\n",
    "    coroutine_handle _handle;\n",
    "    generator(coroutine_handle h) : _handle(move(h)) {}\n",
    "    // ...\n",
    "};\n",
    "\n",
    "generator my_coroutine() { return generator(make_unique<my_coroutine_t>()); }\n",
    "\n",
    "} // namespace v3"
   ]
  },
  {
   "cell_type": "code",
   "execution_count": 7,
   "metadata": {
    "execution": {
     "iopub.execute_input": "2020-12-28T04:10:46.349687Z",
     "iopub.status.busy": "2020-12-28T04:10:46.348955Z",
     "iopub.status.idle": "2020-12-28T04:10:46.350307Z",
     "shell.execute_reply": "2020-12-28T04:10:46.350964Z"
    },
    "slideshow": {
     "slide_type": "skip"
    }
   },
   "outputs": [],
   "source": [
    "namespace v4 {\n",
    "\n",
    "using coroutine_handle = unique_ptr<my_coroutine_t>;\n",
    "\n",
    "} // namespace v3"
   ]
  },
  {
   "cell_type": "markdown",
   "metadata": {
    "slideshow": {
     "slide_type": "slide"
    }
   },
   "source": [
    "- The coroutine result type can be used to drive the coroutine"
   ]
  },
  {
   "cell_type": "code",
   "execution_count": 8,
   "metadata": {
    "execution": {
     "iopub.execute_input": "2020-12-28T04:10:46.354139Z",
     "iopub.status.busy": "2020-12-28T04:10:46.353527Z",
     "iopub.status.idle": "2020-12-28T04:10:46.356312Z",
     "shell.execute_reply": "2020-12-28T04:10:46.355562Z"
    },
    "slideshow": {
     "slide_type": "fragment"
    }
   },
   "outputs": [],
   "source": [
    "namespace v4 {\n",
    "\n",
    "struct generator {\n",
    "    coroutine_handle _handle;\n",
    "    generator(coroutine_handle h) : _handle(move(h)) {}\n",
    "\n",
    "    int get() {\n",
    "        _handle->resume();\n",
    "        return _handle->_promise;\n",
    "    }\n",
    "};\n",
    "\n",
    "} // namespace v3"
   ]
  },
  {
   "cell_type": "code",
   "execution_count": 9,
   "metadata": {
    "execution": {
     "iopub.execute_input": "2020-12-28T04:10:46.362920Z",
     "iopub.status.busy": "2020-12-28T04:10:46.358518Z",
     "iopub.status.idle": "2020-12-28T04:10:46.367014Z",
     "shell.execute_reply": "2020-12-28T04:10:46.365620Z"
    },
    "slideshow": {
     "slide_type": "skip"
    }
   },
   "outputs": [],
   "source": [
    "namespace v4 {\n",
    "\n",
    "generator my_coroutine() { return generator(make_unique<my_coroutine_t>()); }\n",
    "\n",
    "} // namespace v3"
   ]
  },
  {
   "cell_type": "code",
   "execution_count": 10,
   "metadata": {
    "execution": {
     "iopub.execute_input": "2020-12-28T04:10:46.372072Z",
     "iopub.status.busy": "2020-12-28T04:10:46.371331Z",
     "iopub.status.idle": "2020-12-28T04:10:46.372726Z",
     "shell.execute_reply": "2020-12-28T04:10:46.373341Z"
    },
    "slideshow": {
     "slide_type": "skip"
    }
   },
   "outputs": [],
   "source": [
    "using namespace v4;"
   ]
  },
  {
   "cell_type": "markdown",
   "metadata": {
    "slideshow": {
     "slide_type": "slide"
    }
   },
   "source": [
    "- Now we can use our coroutine"
   ]
  },
  {
   "cell_type": "code",
   "execution_count": 11,
   "metadata": {
    "execution": {
     "iopub.execute_input": "2020-12-28T04:10:46.376586Z",
     "iopub.status.busy": "2020-12-28T04:10:46.375712Z",
     "iopub.status.idle": "2020-12-28T04:10:46.412780Z",
     "shell.execute_reply": "2020-12-28T04:10:46.413576Z"
    },
    "slideshow": {
     "slide_type": "fragment"
    }
   },
   "outputs": [
    {
     "name": "stdout",
     "output_type": "stream",
     "text": [
      "0\n",
      "1\n",
      "2\n"
     ]
    }
   ],
   "source": [
    "generator x = my_coroutine();\n",
    "cout << x.get() << endl;\n",
    "cout << x.get() << endl;\n",
    "cout << x.get() << endl;"
   ]
  },
  {
   "cell_type": "markdown",
   "metadata": {
    "slideshow": {
     "slide_type": "slide"
    }
   },
   "source": [
    "- The `generator` type used for the C++TS version is declared as:"
   ]
  },
  {
   "cell_type": "markdown",
   "metadata": {
    "slideshow": {
     "slide_type": "fragment"
    }
   },
   "source": [
    "```\n",
    "struct generator {\n",
    "    struct promise_type;\n",
    "    using handle = coroutine_handle<promise_type>;\n",
    "\n",
    "    struct promise_type {\n",
    "        int current_value;\n",
    "\n",
    "        auto initial_suspend() { return suspend_always{}; }\n",
    "        auto final_suspend() { return suspend_always{}; }\n",
    "\n",
    "        void unhandled_exception() { terminate(); }\n",
    "        void return_void() {}\n",
    "        auto yield_value(int value) {\n",
    "            current_value = value;\n",
    "            return suspend_always{};\n",
    "        }\n",
    "        generator get_return_object() {\n",
    "            return generator{handle::from_promise(*this)};\n",
    "        }\n",
    "    };\n",
    "    handle _coro;\n",
    "\n",
    "    generator(handle h) : _coro(h) {}\n",
    "    generator(generator const&) = delete;\n",
    "    generator(generator&& rhs) : _coro(rhs._coro) { rhs._coro = nullptr; }\n",
    "    ~generator() {\n",
    "        if (_coro) _coro.destroy();\n",
    "    }\n",
    "\n",
    "    int get() {\n",
    "        _coro.resume();\n",
    "        return _coro.promise().current_value;\n",
    "    }\n",
    "};\n",
    "```"
   ]
  },
  {
   "cell_type": "markdown",
   "metadata": {
    "slideshow": {
     "slide_type": "slide"
    }
   },
   "source": [
    "## Await"
   ]
  },
  {
   "cell_type": "markdown",
   "metadata": {
    "slideshow": {
     "slide_type": "fragment"
    }
   },
   "source": [
    "- Besides _yielding_ values a coroutine can also _await_ a value\n",
    "    - a `co_await` expression will suspend the coroutine until resume is called after a value is available\n",
    "    - phrased another way, an awaiting coroutine is a _continuation_"
   ]
  },
  {
   "cell_type": "markdown",
   "metadata": {
    "slideshow": {
     "slide_type": "slide"
    }
   },
   "source": [
    "```cpp\n",
    "future<void> do_it(future<int> x) {\n",
    "    int result = co_await move(x);\n",
    "    cout << result << endl;\n",
    "    co_return;\n",
    "}\n",
    "\n",
    "auto done = do_it(async(default_executor, []{ return 42; }));\n",
    "done.then([]{ cout << \"done\" << endl; });\n",
    "```\n",
    "```\n",
    "42\n",
    "done\n",
    "```"
   ]
  },
  {
   "cell_type": "markdown",
   "metadata": {
    "slideshow": {
     "slide_type": "slide"
    }
   },
   "source": [
    "- Using C++ coroutines without a library is cumbersome\n",
    "    - They provide a tremendous amount of power for library writers\n",
    "    - Coroutines have many applications\n",
    "        - range algorithms\n",
    "        - concurrency and tasking\n",
    "        - generators and consumers\n",
    "        - state machines\n",
    "    - Lambdas can also be coroutines\n",
    "    - The hope is that we have some good, basic, library constructs for C++20\n",
    "    "
   ]
  },
  {
   "cell_type": "markdown",
   "metadata": {
    "slideshow": {
     "slide_type": "slide"
    }
   },
   "source": [
    "## Homework\n",
    "- Rewrite _sequential_process_ as a coroutine\n",
    "    - You may use C++TS coroutines\n",
    "    - But it is probably simpler to code the coroutine by hand\n",
    "    - Assume a single threaded system\n",
    "        - Don't worry about syncronization\n",
    "        - Bonus points for trying\n",
    "    - Use std::future<> for task results"
   ]
  },
  {
   "cell_type": "code",
   "execution_count": null,
   "metadata": {},
   "outputs": [],
   "source": []
  }
 ],
 "metadata": {
  "kernelspec": {
   "display_name": "C++17",
   "language": "C++17",
   "name": "xcpp17"
  },
  "language_info": {
   "codemirror_mode": "text/x-c++src",
   "file_extension": ".cpp",
   "mimetype": "text/x-c++src",
   "name": "c++",
   "version": "17"
  }
 },
 "nbformat": 4,
 "nbformat_minor": 4
}
