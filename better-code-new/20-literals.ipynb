{
 "cells": [
  {
   "cell_type": "code",
   "execution_count": 1,
   "metadata": {
    "execution": {
     "iopub.execute_input": "2020-12-27T20:59:34.940949Z",
     "iopub.status.busy": "2020-12-27T20:59:34.940448Z",
     "iopub.status.idle": "2020-12-27T20:59:34.942454Z",
     "shell.execute_reply": "2020-12-27T20:59:34.941967Z"
    },
    "slideshow": {
     "slide_type": "skip"
    }
   },
   "outputs": [],
   "source": [
    "#include <algorithm>\n",
    "#include <iostream>\n",
    "#include <string>\n",
    "#include <string_view>\n",
    "#include <cctype>\n",
    "\n",
    "using namespace std;"
   ]
  },
  {
   "cell_type": "markdown",
   "metadata": {
    "slideshow": {
     "slide_type": "slide"
    }
   },
   "source": [
    "# Literals"
   ]
  },
  {
   "cell_type": "markdown",
   "metadata": {
    "slideshow": {
     "slide_type": "slide"
    }
   },
   "source": [
    "## Review of C++ Literals\n",
    "- integer literals\n",
    "    - decimal (`1..9` prefix)\n",
    "    - octal (`0` prefix)\n",
    "    - hexadecimal (`0x` or `0X` prefix)\n",
    "    - maybe unsigned or long (`u` or `U` and/or `l` or `L` suffix respectively)\n",
    "- floating point literals\n",
    "    - digits with decimal (`.`) and/or exponent (`e` or `E`)\n",
    "    - maybe double (no suffix), float (`f` or `F` suffix), or long double (`l` or `L` suffix)"
   ]
  },
  {
   "cell_type": "markdown",
   "metadata": {
    "slideshow": {
     "slide_type": "slide"
    }
   },
   "source": [
    "- character literals\n",
    "    - `'c'` with `\\` [escape sequences](http://en.cppreference.com/w/cpp/language/escape) \n",
    "    - `L` prefix for `wchar_t`\n",
    "    - `'many'` type int, implementation defined\n",
    "    - Encoding is implementation defined\n",
    "- string literals\n",
    "    - `\"string\"` with `\\` [escape sequences](http://en.cppreference.com/w/cpp/language/escape)\n",
    "    - `L` prefix for `const wchar_t[]` (otherwise `const char[]`)\n",
    "    - Encoding is implementation defined\n",
    "    - `\\0` terminated (but may contain `\\0` characters)"
   ]
  },
  {
   "cell_type": "markdown",
   "metadata": {
    "slideshow": {
     "slide_type": "slide"
    }
   },
   "source": [
    "## Recent Additions\n",
    "- integer literals\n",
    "    - binary (`0b` prefix)\n",
    "    - long long ('ll' or 'LL' suffix)\n",
    "    - digit separator (`'` inserted between any digits; i.e. `1'000'000`)\n",
    "- floating point literals\n",
    "    - hexadecimal (`0x` or `0X` prefix, requires exponent after `p` or `P`)\n",
    "    - digit separator (`'` inserted between any digits; i.e. `1'000'000`)"
   ]
  },
  {
   "cell_type": "markdown",
   "metadata": {
    "slideshow": {
     "slide_type": "slide"
    }
   },
   "source": [
    "- character literals\n",
    "    - UTF-8 code point (`u8` prefix, must be Basic Latin code point)\n",
    "    - UCS-2 character (`u` prefix, `char16_t`)\n",
    "    - UCS-4 character (`U` prefix, `char32_t`)\n",
    "    - `char16_t` and `char32_t` are keywords (not typedefs) and name unique types\n",
    "- string literals\n",
    "    - UTF-8, UCS-2, and UCS-4 string literals\n",
    "    - Raw string literals (`R\"<delimiter>(` `<anything>` `)<delimiter>\"`)\n",
    "- escape sequences\n",
    "    - `\\u` arbitrary Unicode 4 digit hex value\n",
    "    - `\\U` arbitrary Unicode 8 digit hex value"
   ]
  },
  {
   "cell_type": "code",
   "execution_count": 2,
   "metadata": {
    "execution": {
     "iopub.execute_input": "2020-12-27T20:59:34.945300Z",
     "iopub.status.busy": "2020-12-27T20:59:34.944519Z",
     "iopub.status.idle": "2020-12-27T20:59:34.948916Z",
     "shell.execute_reply": "2020-12-27T20:59:34.949582Z"
    },
    "slideshow": {
     "slide_type": "fragment"
    }
   },
   "outputs": [
    {
     "name": "stdout",
     "output_type": "stream",
     "text": [
      "🚀\n"
     ]
    }
   ],
   "source": [
    "cout << u8\"\\U0001F680\" << endl;"
   ]
  },
  {
   "cell_type": "code",
   "execution_count": 3,
   "metadata": {
    "execution": {
     "iopub.execute_input": "2020-12-27T20:59:34.952409Z",
     "iopub.status.busy": "2020-12-27T20:59:34.951594Z",
     "iopub.status.idle": "2020-12-27T20:59:34.960227Z",
     "shell.execute_reply": "2020-12-27T20:59:34.959096Z"
    },
    "slideshow": {
     "slide_type": "slide"
    }
   },
   "outputs": [
    {
     "name": "stdout",
     "output_type": "stream",
     "text": [
      "f0 9f 9a 80 00 "
     ]
    }
   ],
   "source": [
    "ostream out(cout.rdbuf());\n",
    "out << setfill('0') << hex;\n",
    "\n",
    "for (auto c : u8\"\\U0001F680\") {\n",
    "    out << setw(2) <<  static_cast<int>(static_cast<uint8_t>(c)) << ' ';\n",
    "}"
   ]
  },
  {
   "cell_type": "code",
   "execution_count": 4,
   "metadata": {
    "execution": {
     "iopub.execute_input": "2020-12-27T20:59:34.962920Z",
     "iopub.status.busy": "2020-12-27T20:59:34.962043Z",
     "iopub.status.idle": "2020-12-27T20:59:34.966546Z",
     "shell.execute_reply": "2020-12-27T20:59:34.966004Z"
    },
    "slideshow": {
     "slide_type": "slide"
    }
   },
   "outputs": [
    {
     "name": "stdout",
     "output_type": "stream",
     "text": [
      "\n",
      "{\n",
      "    \"menu\": {\n",
      "        \"id\": 1,\n",
      "        \"value\": \"🚀\"\n",
      "    }\n",
      "}\n"
     ]
    }
   ],
   "source": [
    "cout << u8R\"json(\n",
    "\n",
    "{\n",
    "    \"menu\": {\n",
    "        \"id\": 1,\n",
    "        \"value\": \"🚀\"\n",
    "    }\n",
    "}\n",
    "\n",
    ")json\";"
   ]
  },
  {
   "cell_type": "markdown",
   "metadata": {
    "slideshow": {
     "slide_type": "slide"
    }
   },
   "source": [
    "## User-defined Literals\n",
    "- Define a literal suffix operator (which must begin with `_` (others reserved by the standard library).\n",
    "- Supports integer, floating point, character, and string literals"
   ]
  },
  {
   "cell_type": "code",
   "execution_count": 5,
   "metadata": {
    "execution": {
     "iopub.execute_input": "2020-12-27T20:59:34.968746Z",
     "iopub.status.busy": "2020-12-27T20:59:34.968277Z",
     "iopub.status.idle": "2020-12-27T20:59:34.970056Z",
     "shell.execute_reply": "2020-12-27T20:59:34.969600Z"
    },
    "slideshow": {
     "slide_type": "fragment"
    }
   },
   "outputs": [],
   "source": [
    "namespace bcc {\n",
    "    \n",
    "struct zstring {\n",
    "    string_view _path;\n",
    "    string_view _value;\n",
    "};\n",
    "\n",
    "// Workaround for non-cost string_view::find in libstdc++\n",
    "constexpr size_t find(const string_view& view, char c) {\n",
    "    size_t result = 0;\n",
    "    for (auto f = begin(view), l = end(view); f != l; ++f, ++result) {\n",
    "        if (*f == c) break;\n",
    "    }\n",
    "    return result;\n",
    "}\n",
    "\n",
    "constexpr zstring operator\"\"_z(const char* p, size_t n) {\n",
    "    string_view view(p, n);\n",
    "    auto pos = find(view, '=');\n",
    "    return { view.substr(0, pos), view.substr(pos + 1) };\n",
    "}\n",
    "\n",
    "} // namespace bcc"
   ]
  },
  {
   "cell_type": "code",
   "execution_count": 6,
   "metadata": {
    "execution": {
     "iopub.execute_input": "2020-12-27T20:59:34.971987Z",
     "iopub.status.busy": "2020-12-27T20:59:34.971560Z",
     "iopub.status.idle": "2020-12-27T20:59:34.977554Z",
     "shell.execute_reply": "2020-12-27T20:59:34.975948Z"
    },
    "slideshow": {
     "slide_type": "slide"
    }
   },
   "outputs": [
    {
     "name": "stdout",
     "output_type": "stream",
     "text": [
      "bcc/greeting\n",
      "Hello World!\n"
     ]
    }
   ],
   "source": [
    "{\n",
    "    using namespace bcc;\n",
    "\n",
    "    constexpr auto zstr = \"bcc/greeting=Hello World!\"_z;\n",
    "\n",
    "    cout << zstr._path << endl;\n",
    "    cout << zstr._value << endl;\n",
    "}"
   ]
  },
  {
   "cell_type": "code",
   "execution_count": 7,
   "metadata": {
    "execution": {
     "iopub.execute_input": "2020-12-27T20:59:34.980589Z",
     "iopub.status.busy": "2020-12-27T20:59:34.979771Z",
     "iopub.status.idle": "2020-12-27T20:59:34.981552Z",
     "shell.execute_reply": "2020-12-27T20:59:34.982405Z"
    },
    "slideshow": {
     "slide_type": "slide"
    }
   },
   "outputs": [],
   "source": [
    "namespace bcc {\n",
    "\n",
    "enum class layer_index: size_t {};\n",
    "\n",
    "constexpr layer_index operator\"\"_li(unsigned long long int n) {\n",
    "    return static_cast<layer_index>(n);\n",
    "}\n",
    "\n",
    "} // namespace bcc"
   ]
  },
  {
   "cell_type": "code",
   "execution_count": 8,
   "metadata": {
    "execution": {
     "iopub.execute_input": "2020-12-27T20:59:34.984926Z",
     "iopub.status.busy": "2020-12-27T20:59:34.984259Z",
     "iopub.status.idle": "2020-12-27T20:59:34.985718Z",
     "shell.execute_reply": "2020-12-27T20:59:34.986287Z"
    },
    "slideshow": {
     "slide_type": "fragment"
    }
   },
   "outputs": [],
   "source": [
    "{\n",
    "    using namespace bcc;\n",
    "\n",
    "    constexpr auto id = 4_li;\n",
    "}"
   ]
  },
  {
   "cell_type": "markdown",
   "metadata": {
    "slideshow": {
     "slide_type": "slide"
    }
   },
   "source": [
    "- The following argument lists are allowed:\n",
    "    - `(unsigned long long int)` - integer literal (can be in any integer format)\n",
    "    - `(long double)` - floating point literal\n",
    "    - `(char)`, `(wchar_t)`, `(char16_t)`, or `(char32_t)` - character literals\n",
    "    - `(const char*, size_t)` - string literal (`char` can be any character type)"
   ]
  },
  {
   "cell_type": "markdown",
   "metadata": {
    "slideshow": {
     "slide_type": "fragment"
    }
   },
   "source": [
    "- Plus one odd signature\n",
    "    - `(const char*)` - NTBS for source integer or floating point literal\n",
    "    - Useful for values exceeding the limits of the floating point or integer types"
   ]
  },
  {
   "cell_type": "code",
   "execution_count": 9,
   "metadata": {
    "execution": {
     "iopub.execute_input": "2020-12-27T20:59:34.988458Z",
     "iopub.status.busy": "2020-12-27T20:59:34.987953Z",
     "iopub.status.idle": "2020-12-27T20:59:34.989749Z",
     "shell.execute_reply": "2020-12-27T20:59:34.989278Z"
    },
    "slideshow": {
     "slide_type": "slide"
    }
   },
   "outputs": [],
   "source": [
    "namespace bcc {\n",
    "    void operator\"\"_print(const char* p) {\n",
    "        cout << p << endl;\n",
    "    }\n",
    "}"
   ]
  },
  {
   "cell_type": "code",
   "execution_count": 10,
   "metadata": {
    "execution": {
     "iopub.execute_input": "2020-12-27T20:59:34.991742Z",
     "iopub.status.busy": "2020-12-27T20:59:34.991311Z",
     "iopub.status.idle": "2020-12-27T20:59:34.994107Z",
     "shell.execute_reply": "2020-12-27T20:59:34.993122Z"
    },
    "slideshow": {
     "slide_type": "fragment"
    }
   },
   "outputs": [
    {
     "name": "stdout",
     "output_type": "stream",
     "text": [
      "3.14159265358979323846264338327950288419716939937510582097494459230781640628620899862803482534211706798214808651328230664709384460955058223172535940812848111745028410270193852110555964462294895493038196\n"
     ]
    }
   ],
   "source": [
    "{\n",
    "    using namespace bcc;\n",
    "    \n",
    "    3.14159265358979323846264338327950288419716939937510582097494459230781640628620899862803482534211706798214808651328230664709384460955058223172535940812848111745028410270193852110555964462294895493038196_print;\n",
    "}\n",
    "    "
   ]
  },
  {
   "cell_type": "markdown",
   "metadata": {
    "slideshow": {
     "slide_type": "slide"
    }
   },
   "source": [
    "- A user-defined literal does not need to be `constexpr`\n",
    "    - But the arguments are guaranteed to be core constant expressions"
   ]
  },
  {
   "cell_type": "markdown",
   "metadata": {
    "slideshow": {
     "slide_type": "slide"
    }
   },
   "source": [
    "- The following literals are defined by the standard:\n",
    "<table>\n",
    "    <tr>\n",
    "        <td><p align=\"left\">\n",
    "            <code>if</code><br>\n",
    "            <code>i</code><br>\n",
    "            <code>il</code>\n",
    "        </p></td>\n",
    "        <td><p align=\"left\">\n",
    "            A <code>std::complex</code> literal representing pure imaginary number\n",
    "        </p></td>\n",
    "    </tr>\n",
    "    <tr>\n",
    "        <td><p align=\"left\">\n",
    "            <code>h</code><br>\n",
    "            <code>min</code><br>\n",
    "            <code>s</code><br>\n",
    "            <code>ms</code><br>\n",
    "            <code>us</code><br>\n",
    "            <code>ns</code>\n",
    "        </p></td>\n",
    "        <td><p align=\"left\">\n",
    "            A <code>std::chrono::duration</code> literal\n",
    "        </p></td>\n",
    "    </tr>\n",
    "    <tr>\n",
    "        <td><p align=\"left\">\n",
    "            <code>s</code>\n",
    "        </p></td>\n",
    "        <td><p align=\"left\">\n",
    "            Converts a character array literal to <code>basic_string</code>\n",
    "        </p></td>\n",
    "    </tr>\n",
    "    <tr>\n",
    "        <td><p align=\"left\">\n",
    "            <code>sv</code>\n",
    "        </p></td>\n",
    "        <td><p align=\"left\">\n",
    "            Creates a string view of a character array literal (C++17)\n",
    "        </p></td>\n",
    "    </tr>\n",
    "</table>"
   ]
  },
  {
   "cell_type": "markdown",
   "metadata": {
    "slideshow": {
     "slide_type": "slide"
    }
   },
   "source": [
    "## Recommendations\n",
    "- When using strings, get in the habit of specifying `u8` encoding\n",
    "    - To interface with platform APIs and legacy code use `char16_t` or `char32_t` as approriate\n",
    "- Use raw strings for data with caution\n",
    "    - There is a severe penalty on iOS in terms of space for code binaries\n",
    "        - code is encrypted (for copy protection) then compressed\n",
    "        - data files are simply compressed\n",
    "        \n",
    "> The app binary listed below was 120.4 MB when you submitted it, but will be 166.7 MB once processed for the App Store. This exceeds the cellular network download size limit and would require your app to be downloaded over Wi-Fi:\n",
    "\n",
    "> App Name: Adobe Photoshop Express"
   ]
  },
  {
   "cell_type": "markdown",
   "metadata": {
    "slideshow": {
     "slide_type": "slide"
    }
   },
   "source": [
    "- Use user defined literals for _unit_ types (\"of\" types)\n",
    "- Make user defined literals `constexpr` where possible\n",
    "    - Exploit the fact that you _know_ the arguments to the literal operator are compile-time literals"
   ]
  },
  {
   "cell_type": "markdown",
   "metadata": {
    "slideshow": {
     "slide_type": "slide"
    }
   },
   "source": [
    "## Homework\n",
    "- Find a place to apply one of the recommendations in your code base\n",
    "    - Discuss with your team to avoid overlapping work\n",
    "- These are useful tools be relatively limited in their scope"
   ]
  },
  {
   "cell_type": "code",
   "execution_count": 11,
   "metadata": {},
   "outputs": [],
   "source": []
  }
 ],
 "metadata": {
  "kernelspec": {
   "display_name": "C++17",
   "language": "C++17",
   "name": "xcpp17"
  },
  "language_info": {
   "codemirror_mode": "text/x-c++src",
   "file_extension": ".cpp",
   "mimetype": "text/x-c++src",
   "name": "c++",
   "version": "17"
  }
 },
 "nbformat": 4,
 "nbformat_minor": 4
}
