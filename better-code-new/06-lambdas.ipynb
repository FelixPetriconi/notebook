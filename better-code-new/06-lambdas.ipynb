{
 "cells": [
  {
   "cell_type": "markdown",
   "metadata": {
    "slideshow": {
     "slide_type": "skip"
    },
    "toc": true
   },
   "source": [
    "<h1>Table of Contents<span class=\"tocSkip\"></span></h1>\n",
    "<div class=\"toc\"><ul class=\"toc-item\"><li><span><a href=\"#lambdas\" data-toc-modified-id=\"lambdas-1\"><span class=\"toc-item-num\">1&nbsp;&nbsp;</span>lambdas</a></span><ul class=\"toc-item\"><li><span><a href=\"#review---function-objects\" data-toc-modified-id=\"review---function-objects-1.1\"><span class=\"toc-item-num\">1.1&nbsp;&nbsp;</span>review - function objects</a></span><ul class=\"toc-item\"><li><span><a href=\"#anatomy-of-a-function-object\" data-toc-modified-id=\"anatomy-of-a-function-object-1.1.1\"><span class=\"toc-item-num\">1.1.1&nbsp;&nbsp;</span>anatomy of a function object</a></span></li></ul></li><li><span><a href=\"#lambda-expression\" data-toc-modified-id=\"lambda-expression-1.2\"><span class=\"toc-item-num\">1.2&nbsp;&nbsp;</span>lambda expression</a></span><ul class=\"toc-item\"><li><span><a href=\"#anatomy-of-a-lambda-expression\" data-toc-modified-id=\"anatomy-of-a-lambda-expression-1.2.1\"><span class=\"toc-item-num\">1.2.1&nbsp;&nbsp;</span>anatomy of a lambda expression</a></span></li><li><span><a href=\"#captures\" data-toc-modified-id=\"captures-1.2.2\"><span class=\"toc-item-num\">1.2.2&nbsp;&nbsp;</span>captures</a></span></li><li><span><a href=\"#function-call-operator\" data-toc-modified-id=\"function-call-operator-1.2.3\"><span class=\"toc-item-num\">1.2.3&nbsp;&nbsp;</span>function call operator</a></span></li><li><span><a href=\"#storing-lambdas\" data-toc-modified-id=\"storing-lambdas-1.2.4\"><span class=\"toc-item-num\">1.2.4&nbsp;&nbsp;</span>storing lambdas</a></span><ul class=\"toc-item\"><li><span><a href=\"#limitations-of-std::function\" data-toc-modified-id=\"limitations-of-std::function-1.2.4.1\"><span class=\"toc-item-num\">1.2.4.1&nbsp;&nbsp;</span>limitations of std::function</a></span></li><li><span><a href=\"#limitations-of-lambdas\" data-toc-modified-id=\"limitations-of-lambdas-1.2.4.2\"><span class=\"toc-item-num\">1.2.4.2&nbsp;&nbsp;</span>limitations of lambdas</a></span></li></ul></li></ul></li><li><span><a href=\"#recommendations\" data-toc-modified-id=\"recommendations-1.3\"><span class=\"toc-item-num\">1.3&nbsp;&nbsp;</span>recommendations</a></span></li><li><span><a href=\"#homework\" data-toc-modified-id=\"homework-1.4\"><span class=\"toc-item-num\">1.4&nbsp;&nbsp;</span>homework</a></span></li></ul></li></ul></div>"
   ]
  },
  {
   "cell_type": "code",
   "execution_count": 1,
   "metadata": {
    "slideshow": {
     "slide_type": "skip"
    }
   },
   "outputs": [],
   "source": [
    "#include <iostream>\n",
    "\n",
    "using namespace std;"
   ]
  },
  {
   "cell_type": "markdown",
   "metadata": {
    "slideshow": {
     "slide_type": "slide"
    }
   },
   "source": [
    "# lambdas\n",
    "\n",
    "Lambda are a syntax to construct a _function object_.\n",
    "\n",
    "## review - function objects\n",
    "\n",
    "- Consider a simple `struct` or `class` with an `invoke` member function"
   ]
  },
  {
   "cell_type": "code",
   "execution_count": 2,
   "metadata": {
    "slideshow": {
     "slide_type": "fragment"
    }
   },
   "outputs": [],
   "source": [
    "struct add_n_simple {\n",
    "    int _n;\n",
    "    \n",
    "    int invoke(int x) const { return _n + x; }\n",
    "};"
   ]
  },
  {
   "cell_type": "markdown",
   "metadata": {
    "slideshow": {
     "slide_type": "slide"
    }
   },
   "source": [
    "- `add_n_simple` can be used as a function which adds `n` to any value passed to invoke"
   ]
  },
  {
   "cell_type": "code",
   "execution_count": 3,
   "metadata": {
    "slideshow": {
     "slide_type": "fragment"
    }
   },
   "outputs": [
    {
     "name": "stdout",
     "output_type": "stream",
     "text": [
      "15\n"
     ]
    }
   ],
   "source": [
    "add_n_simple add_s{5};\n",
    "cout << add_s.invoke(10) << \"\\n\";"
   ]
  },
  {
   "cell_type": "markdown",
   "metadata": {
    "slideshow": {
     "slide_type": "slide"
    }
   },
   "source": [
    "- We can make invocation more natural by providing a user-defined function call operator, `operator()`, instead of `invoke`\n",
    "- This is known as a _function object type_"
   ]
  },
  {
   "cell_type": "code",
   "execution_count": 4,
   "metadata": {
    "slideshow": {
     "slide_type": "fragment"
    }
   },
   "outputs": [],
   "source": [
    "struct add_n_function {\n",
    "    int _n;\n",
    "        \n",
    "    int operator()(int x) const { return _n + x; }\n",
    "};"
   ]
  },
  {
   "cell_type": "markdown",
   "metadata": {
    "slideshow": {
     "slide_type": "fragment"
    }
   },
   "source": [
    "- Invocation now uses function calling syntax"
   ]
  },
  {
   "cell_type": "code",
   "execution_count": 5,
   "metadata": {
    "slideshow": {
     "slide_type": "fragment"
    }
   },
   "outputs": [
    {
     "name": "stdout",
     "output_type": "stream",
     "text": [
      "15\n"
     ]
    }
   ],
   "source": [
    "add_n_function add_f{5};\n",
    "cout << add_f(10) << \"\\n\";"
   ]
  },
  {
   "cell_type": "markdown",
   "metadata": {
    "slideshow": {
     "slide_type": "slide"
    }
   },
   "source": [
    "### anatomy of a function object\n",
    "\n",
    "- _closure type_\n",
    "```cpp\n",
    "struct add_n_function {\n",
    "```\n",
    "- _captures_\n",
    "```cpp\n",
    "    int _n;\n",
    "```\n",
    "- _function call operator_\n",
    "```cpp\n",
    "    int operator()(int x) const { return _n + x; }\n",
    "```\n",
    "- _closure_\n",
    "```cpp\n",
    "add_n_function add_f{5};\n",
    "```"
   ]
  },
  {
   "cell_type": "markdown",
   "metadata": {
    "slideshow": {
     "slide_type": "slide"
    }
   },
   "source": [
    "## lambda expression\n",
    "\n",
    "- A lambda expression is a prvalue, _closure_, of a unique unnamed class type, the _closure type_"
   ]
  },
  {
   "cell_type": "code",
   "execution_count": 6,
   "metadata": {
    "slideshow": {
     "slide_type": "fragment"
    }
   },
   "outputs": [
    {
     "name": "stdout",
     "output_type": "stream",
     "text": [
      "15\n"
     ]
    }
   ],
   "source": [
    "{\n",
    "    \n",
    "auto add_n_lambda = [_n = 5](int x) -> int { return _n + x; };\n",
    "cout << add_n_lambda(10) << \"\\n\";\n",
    "    \n",
    "}"
   ]
  },
  {
   "cell_type": "markdown",
   "metadata": {
    "slideshow": {
     "slide_type": "slide"
    }
   },
   "source": [
    "### anatomy of a lambda expression\n",
    "\n",
    "- _closure type_\n",
    "```cpp\n",
    "    decltype(add_n_lambda)\n",
    "```\n",
    "- _captures_\n",
    "```cpp\n",
    "    [_n = 5]\n",
    "```\n",
    "- _function call operator_\n",
    "```cpp\n",
    "    (int x) -> int { return _n + x; }\n",
    "```\n",
    "- _closure_\n",
    "```cpp\n",
    "    add_n_lambda\n",
    "```"
   ]
  },
  {
   "cell_type": "markdown",
   "metadata": {
    "slideshow": {
     "slide_type": "slide"
    }
   },
   "source": [
    "- The argument list and result type are optional\n",
    "    - missing return type is `auto` (not `void`)"
   ]
  },
  {
   "cell_type": "code",
   "execution_count": 7,
   "metadata": {
    "slideshow": {
     "slide_type": "fragment"
    }
   },
   "outputs": [
    {
     "name": "stdout",
     "output_type": "stream",
     "text": [
      "42\n"
     ]
    }
   ],
   "source": [
    "{\n",
    "\n",
    "int n = 42;\n",
    "auto return_n = [n]{ return n; };\n",
    "cout << return_n() << '\\n';\n",
    "\n",
    "}"
   ]
  },
  {
   "cell_type": "markdown",
   "metadata": {
    "slideshow": {
     "slide_type": "slide"
    }
   },
   "source": [
    "### captures\n",
    "\n",
    "- capture types are deduced\n",
    "- `[]` no capture, convertible to function pointer\n",
    "- `[=]` capture-default any referenced local variable by value (copy)\n",
    "- `[&]` capture-default any referenced local variable by reference\n",
    "- `[x]` captures x by value\n",
    "- `[&x]` captures x by referece\n",
    "- `[_x = expression]` capture `_x` as the value of expression\n",
    "- `[=, &x, _x = expression]` defaults can be miexed with other captures\n",
    "\n",
    "\n",
    "- captured values are fixed when lambda is created, not at invocation"
   ]
  },
  {
   "cell_type": "code",
   "execution_count": 8,
   "metadata": {
    "slideshow": {
     "slide_type": "slide"
    }
   },
   "outputs": [
    {
     "name": "stdout",
     "output_type": "stream",
     "text": [
      "30\n",
      "30\n",
      "30\n",
      "x:200\n",
      "y:30\n"
     ]
    }
   ],
   "source": [
    "{\n",
    "int x = 10;\n",
    "int y = 20;\n",
    "auto ex1 = [=]{ return x + y; };\n",
    "auto ex2 = [&]{ x *= y; };\n",
    "auto ex3 = [x, y]{ return x + y; };\n",
    "auto ex4 = [x, &y]{ y += x; };\n",
    "auto ex5 = [_x = ex1()]{ return _x; };\n",
    "    \n",
    "cout << ex1() << '\\n';\n",
    "ex2();\n",
    "cout << ex3() << '\\n';\n",
    "ex4();\n",
    "cout << ex5() << '\\n';\n",
    "cout << \"x:\" << x << '\\n';\n",
    "cout << \"y:\" << y << '\\n';\n",
    "}"
   ]
  },
  {
   "cell_type": "markdown",
   "metadata": {
    "slideshow": {
     "slide_type": "slide"
    }
   },
   "source": [
    "- `[this]` captures current object by reference\n",
    "- `[*this]` captures current object by-value (C++17)\n",
    "- `[args...]` capture pack expansion by value\n",
    "- `[&args...]` capture pack expansion by reference"
   ]
  },
  {
   "cell_type": "markdown",
   "metadata": {
    "slideshow": {
     "slide_type": "slide"
    }
   },
   "source": [
    "### function call operator\n",
    "\n",
    "- Arguments can be declared `auto` to create a _generic lambda_\n",
    "- Function can be declared mutable (default is const)\n",
    "- Functions can be _variadic_ using `auto...`\n",
    "- Function can be declared noexcept"
   ]
  },
  {
   "cell_type": "raw",
   "metadata": {
    "slideshow": {
     "slide_type": "slide"
    }
   },
   "source": [
    "- Generic function object"
   ]
  },
  {
   "cell_type": "code",
   "execution_count": 9,
   "metadata": {},
   "outputs": [],
   "source": [
    "struct add_t {\n",
    "    template <class T, class U>\n",
    "    auto operator()(T x, U y) const {\n",
    "        return x + y;\n",
    "    }\n",
    "};"
   ]
  },
  {
   "cell_type": "code",
   "execution_count": 10,
   "metadata": {
    "slideshow": {
     "slide_type": "fragment"
    }
   },
   "outputs": [
    {
     "name": "stdout",
     "output_type": "stream",
     "text": [
      "15.3\n"
     ]
    }
   ],
   "source": [
    "{\n",
    "    add_t add;\n",
    "\n",
    "    cout << add(5, 10.3) << '\\n';\n",
    "}"
   ]
  },
  {
   "cell_type": "markdown",
   "metadata": {
    "slideshow": {
     "slide_type": "slide"
    }
   },
   "source": [
    "- Generic lambda"
   ]
  },
  {
   "cell_type": "code",
   "execution_count": 11,
   "metadata": {
    "slideshow": {
     "slide_type": "fragment"
    }
   },
   "outputs": [
    {
     "name": "stdout",
     "output_type": "stream",
     "text": [
      "15.3\n"
     ]
    }
   ],
   "source": [
    "{\n",
    "    auto add = [](auto x, auto y) { return x + y; };\n",
    "\n",
    "    cout << add(5, 10.3) << '\\n';\n",
    "}"
   ]
  },
  {
   "cell_type": "markdown",
   "metadata": {
    "slideshow": {
     "slide_type": "fragment"
    }
   },
   "source": [
    "- `auto&&` is a forwarding-reference"
   ]
  },
  {
   "cell_type": "markdown",
   "metadata": {
    "slideshow": {
     "slide_type": "slide"
    }
   },
   "source": [
    "- mutable function object"
   ]
  },
  {
   "cell_type": "code",
   "execution_count": 12,
   "metadata": {
    "slideshow": {
     "slide_type": "fragment"
    }
   },
   "outputs": [],
   "source": [
    "struct accumulate_t {\n",
    "    int _value;\n",
    "    \n",
    "    int operator()(int x) {\n",
    "        _value += x;\n",
    "        return _value;\n",
    "    }\n",
    "};"
   ]
  },
  {
   "cell_type": "code",
   "execution_count": 13,
   "metadata": {
    "slideshow": {
     "slide_type": "fragment"
    }
   },
   "outputs": [
    {
     "name": "stdout",
     "output_type": "stream",
     "text": [
      "15\n",
      "18\n"
     ]
    }
   ],
   "source": [
    "{\n",
    "accumulate_t accumulate{5};\n",
    "\n",
    "cout << accumulate(10) << '\\n';\n",
    "cout << accumulate(3) << '\\n';\n",
    "}"
   ]
  },
  {
   "cell_type": "markdown",
   "metadata": {
    "slideshow": {
     "slide_type": "slide"
    }
   },
   "source": [
    "- mutable lambda"
   ]
  },
  {
   "cell_type": "code",
   "execution_count": 14,
   "metadata": {
    "slideshow": {
     "slide_type": "fragment"
    }
   },
   "outputs": [
    {
     "name": "stdout",
     "output_type": "stream",
     "text": [
      "15\n",
      "18\n"
     ]
    }
   ],
   "source": [
    "{\n",
    "\n",
    "auto accumulate = [_value = 5](int x) mutable {\n",
    "    _value += x;\n",
    "    return _value;\n",
    "};\n",
    "\n",
    "cout << accumulate(10) << '\\n';\n",
    "cout << accumulate(3) << '\\n';\n",
    "    \n",
    "}"
   ]
  },
  {
   "cell_type": "markdown",
   "metadata": {
    "slideshow": {
     "slide_type": "slide"
    }
   },
   "source": [
    "- variadic function object"
   ]
  },
  {
   "cell_type": "code",
   "execution_count": 15,
   "metadata": {
    "slideshow": {
     "slide_type": "fragment"
    }
   },
   "outputs": [],
   "source": [
    "struct print_all_t {\n",
    "    template <class... Args>\n",
    "    void operator()(const Args&... args) const {\n",
    "        (void)initializer_list<int>{((cout << args << '\\n'),0)...};\n",
    "    }\n",
    "};"
   ]
  },
  {
   "cell_type": "code",
   "execution_count": 16,
   "metadata": {
    "scrolled": true,
    "slideshow": {
     "slide_type": "fragment"
    }
   },
   "outputs": [
    {
     "name": "stdout",
     "output_type": "stream",
     "text": [
      "1\n",
      "10.5\n",
      "Hello!\n"
     ]
    }
   ],
   "source": [
    "{\n",
    "    print_all_t print_all;\n",
    "\n",
    "    print_all(1, 10.5, \"Hello!\");\n",
    "}"
   ]
  },
  {
   "cell_type": "markdown",
   "metadata": {
    "slideshow": {
     "slide_type": "slide"
    }
   },
   "source": [
    "- variadic lambda"
   ]
  },
  {
   "cell_type": "code",
   "execution_count": 17,
   "metadata": {
    "slideshow": {
     "slide_type": "fragment"
    }
   },
   "outputs": [
    {
     "name": "stdout",
     "output_type": "stream",
     "text": [
      "1\n",
      "10.5\n",
      "Hello!\n"
     ]
    }
   ],
   "source": [
    "{\n",
    "    auto print_all = [](const auto&... args) {\n",
    "        (void)initializer_list<int>{((cout << args << '\\n'), 0)...};\n",
    "    };\n",
    "\n",
    "    print_all(1, 10.5, \"Hello!\");\n",
    "}"
   ]
  },
  {
   "cell_type": "markdown",
   "metadata": {
    "slideshow": {
     "slide_type": "slide"
    }
   },
   "source": [
    "### storing lambdas\n",
    "\n",
    "- `std::function<>` can hold any callable object with a matching signature"
   ]
  },
  {
   "cell_type": "code",
   "execution_count": 18,
   "metadata": {
    "slideshow": {
     "slide_type": "fragment"
    }
   },
   "outputs": [],
   "source": [
    "struct lambda_member {\n",
    "    size_t _count = 0;\n",
    "    \n",
    "    function<void(const string&)> _lambda = [_n = _count](const auto& x) {\n",
    "        for(auto n = _n; n != 0; --n) cout << x << '\\n';\n",
    "    };\n",
    "};"
   ]
  },
  {
   "cell_type": "code",
   "execution_count": 19,
   "metadata": {
    "slideshow": {
     "slide_type": "fragment"
    }
   },
   "outputs": [
    {
     "name": "stdout",
     "output_type": "stream",
     "text": [
      "Hello\n",
      "Hello\n",
      "Hello\n",
      "Hello\n"
     ]
    }
   ],
   "source": [
    "lambda_member object{4};\n",
    "\n",
    "object._lambda(\"Hello\");"
   ]
  },
  {
   "cell_type": "markdown",
   "metadata": {
    "slideshow": {
     "slide_type": "slide"
    }
   },
   "source": [
    "- you can assign a new lambda to a `function`"
   ]
  },
  {
   "cell_type": "code",
   "execution_count": 20,
   "metadata": {
    "slideshow": {
     "slide_type": "fragment"
    }
   },
   "outputs": [
    {
     "name": "stdout",
     "output_type": "stream",
     "text": [
      "I heard you the first time, World!\n"
     ]
    }
   ],
   "source": [
    "object._lambda = [](const auto& x) {\n",
    "    cout << \"I heard you the first time, \" << x << '\\n';\n",
    "};\n",
    "\n",
    "object._lambda(\"World!\");"
   ]
  },
  {
   "cell_type": "markdown",
   "metadata": {
    "slideshow": {
     "slide_type": "slide"
    }
   },
   "source": [
    "#### limitations of std::function\n",
    "\n",
    "- incurs virtual function call overhead and heap allocation for larger objects\n",
    "- does not maintain generic or variatic lambdas\n",
    "- does not support mutable lambdas\n",
    "    - we will develop a solution for this later in the course"
   ]
  },
  {
   "cell_type": "markdown",
   "metadata": {
    "slideshow": {
     "slide_type": "slide"
    }
   },
   "source": [
    "#### limitations of lambdas\n",
    "\n",
    "- lambdas in C++14 can replace all use cases of std::bind(), except moving or forwarding a pack expansion"
   ]
  },
  {
   "cell_type": "code",
   "execution_count": 21,
   "metadata": {
    "slideshow": {
     "slide_type": "fragment"
    }
   },
   "outputs": [],
   "source": [
    "template <class F, class... Args>\n",
    "auto bind_once(F&& f, Args&& ...args) {\n",
    "    return bind([_f = forward<F>(f)](auto& ...args) mutable {\n",
    "        return move(_f)(move(args)...);\n",
    "    }, forward<Args>(args)...);\n",
    "}\n",
    "\n",
    "unique_ptr<int> sink(unique_ptr<int>&& x) { return move(x); }"
   ]
  },
  {
   "cell_type": "code",
   "execution_count": 22,
   "metadata": {
    "scrolled": true,
    "slideshow": {
     "slide_type": "fragment"
    }
   },
   "outputs": [
    {
     "name": "stdout",
     "output_type": "stream",
     "text": [
      "42\n"
     ]
    }
   ],
   "source": [
    "auto bound = bind_once(sink, make_unique<int>(42));\n",
    "\n",
    "cout << *bound() << '\\n';"
   ]
  },
  {
   "cell_type": "markdown",
   "metadata": {
    "slideshow": {
     "slide_type": "slide"
    }
   },
   "source": [
    "- There is a proposal to [allow pack expansion in lambda init-capture](http://www.open-std.org/jtc1/sc22/wg21/docs/papers/2017/p0780r1.html)\n",
    "- This would allow `bind_once()` to be expressed as:\n",
    "```cpp\n",
    "template <class F, class... Args>\n",
    "auto bind_once(F&& f, Args&& ...args) {\n",
    "    return [_f = forward<F>(f), _args = forward<Args>(args)...] () mutable {\n",
    "        return move(_f)(move(_args)...);\n",
    "    };\n",
    "}\n",
    "```"
   ]
  },
  {
   "cell_type": "markdown",
   "metadata": {
    "slideshow": {
     "slide_type": "slide"
    }
   },
   "source": [
    "## recommendations\n",
    "\n",
    "- Lambda expressions are syntactic sugar - don't let them frighten you\n",
    "- Naming things, in general, is good. Don't start turning everything into an unnamed type\n",
    "- Lambdas are useful when\n",
    "    - the function object would not be reused elsewhere\n",
    "    - the lambda expression is short\n",
    "    - the lambda expression is bound to, and executed within, the current context (reference captures)\n",
    "    - the lambda expression represents a _continuation_ of the current function in a different execution context\n"
   ]
  },
  {
   "cell_type": "markdown",
   "metadata": {
    "slideshow": {
     "slide_type": "slide"
    }
   },
   "source": [
    "## homework\n",
    "\n",
    "- Find a place in your current project for a function is passed to and standard algorithm or container\n",
    "    - If your current project doesn't use standard algorithms, find a place to use one!\n",
    "- Replace it with a lambda expression\n",
    "- Report the example and your thoughts on the [wiki](git.corp.adobe.com/better-code/class/wiki)\n",
    "\n",
    "- An example...\n",
    "```cpp\n",
    "// Find first position, p, in v, where *p < x\n",
    "auto p = find_if(begin(v), end(v), [&](const auto& a){ return a < x; });\n",
    "```\n",
    "\n"
   ]
  }
 ],
 "metadata": {
  "celltoolbar": "Slideshow",
  "kernelspec": {
   "display_name": "C++17",
   "language": "C++17",
   "name": "xeus-cling-cpp17"
  },
  "language_info": {
   "codemirror_mode": "text/x-c++src",
   "file_extension": ".cpp",
   "mimetype": "text/x-c++src",
   "name": "c++",
   "version": "17"
  },
  "toc": {
   "nav_menu": {},
   "number_sections": true,
   "sideBar": true,
   "skip_h1_title": false,
   "title_cell": "Table of Contents",
   "title_sidebar": "Contents",
   "toc_cell": true,
   "toc_position": {},
   "toc_section_display": true,
   "toc_window_display": false
  }
 },
 "nbformat": 4,
 "nbformat_minor": 2
}
