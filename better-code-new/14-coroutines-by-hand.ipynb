{
 "cells": [
  {
   "cell_type": "code",
   "execution_count": 1,
   "metadata": {
    "execution": {
     "iopub.execute_input": "2020-12-27T20:59:09.816769Z",
     "iopub.status.busy": "2020-12-27T20:59:09.816289Z",
     "iopub.status.idle": "2020-12-27T20:59:09.817184Z",
     "shell.execute_reply": "2020-12-27T20:59:09.817664Z"
    },
    "slideshow": {
     "slide_type": "skip"
    }
   },
   "outputs": [],
   "source": [
    ".I ../stlab/libraries"
   ]
  },
  {
   "cell_type": "markdown",
   "metadata": {
    "slideshow": {
     "slide_type": "slide"
    }
   },
   "source": [
    "# Coroutines By Hand\n",
    "\n",
    "* Implement sequential process as a coroutine"
   ]
  },
  {
   "cell_type": "code",
   "execution_count": 2,
   "metadata": {
    "execution": {
     "iopub.execute_input": "2020-12-27T20:59:09.819816Z",
     "iopub.status.busy": "2020-12-27T20:59:09.819290Z",
     "iopub.status.idle": "2020-12-27T20:59:10.174013Z",
     "shell.execute_reply": "2020-12-27T20:59:10.173520Z"
    },
    "slideshow": {
     "slide_type": "skip"
    }
   },
   "outputs": [],
   "source": [
    "#include <mutex>\n",
    "#include <string>\n",
    "#include <unordered_set>\n",
    "#include <functional>\n",
    "#include <condition_variable>\n",
    "#include <deque>\n",
    "#include <thread>\n",
    "#include <iostream>\n",
    "\n",
    "#define STLAB_DISABLE_FUTURE_COROUTINES 1\n",
    "#include <stlab/concurrency/future.hpp>\n",
    "#include <stlab/concurrency/immediate_executor.hpp>\n",
    "#include <stlab/concurrency/default_executor.hpp>\n",
    "#include <stlab/concurrency/utility.hpp>"
   ]
  },
  {
   "cell_type": "code",
   "execution_count": 3,
   "metadata": {
    "execution": {
     "iopub.execute_input": "2020-12-27T20:59:10.176544Z",
     "iopub.status.busy": "2020-12-27T20:59:10.175718Z",
     "iopub.status.idle": "2020-12-27T20:59:10.176962Z",
     "shell.execute_reply": "2020-12-27T20:59:10.177445Z"
    },
    "slideshow": {
     "slide_type": "skip"
    }
   },
   "outputs": [],
   "source": [
    "using namespace std;"
   ]
  },
  {
   "cell_type": "code",
   "execution_count": 4,
   "metadata": {
    "execution": {
     "iopub.execute_input": "2020-12-27T20:59:10.180253Z",
     "iopub.status.busy": "2020-12-27T20:59:10.179467Z",
     "iopub.status.idle": "2020-12-27T20:59:10.190176Z",
     "shell.execute_reply": "2020-12-27T20:59:10.189695Z"
    },
    "run_control": {
     "marked": true
    },
    "slideshow": {
     "slide_type": "skip"
    }
   },
   "outputs": [],
   "source": [
    "class task {\n",
    "    struct concept {\n",
    "        virtual ~concept() {}\n",
    "        virtual void invoke() = 0;\n",
    "    };\n",
    "\n",
    "    template <class F>\n",
    "    struct model final : concept {\n",
    "        F _f;\n",
    "        model(F f) : _f(move(f)) {}\n",
    "        void invoke() override { _f(); }\n",
    "    };\n",
    "    unique_ptr<concept> _self;\n",
    "\n",
    "public:\n",
    "    task() = default;\n",
    "\n",
    "    template <class F> // F model void()\n",
    "    task(F f) : _self(make_unique<model<F>>(move(f))) {}\n",
    "\n",
    "    void operator()() { _self->invoke(); }\n",
    "};"
   ]
  },
  {
   "cell_type": "markdown",
   "metadata": {
    "slideshow": {
     "slide_type": "slide"
    }
   },
   "source": [
    "## Recall `sequential_process` implementation"
   ]
  },
  {
   "cell_type": "code",
   "execution_count": 5,
   "metadata": {
    "execution": {
     "iopub.execute_input": "2020-12-27T20:59:10.192319Z",
     "iopub.status.busy": "2020-12-27T20:59:10.191869Z",
     "iopub.status.idle": "2020-12-27T20:59:10.207202Z",
     "shell.execute_reply": "2020-12-27T20:59:10.206710Z"
    },
    "slideshow": {
     "slide_type": "fragment"
    }
   },
   "outputs": [],
   "source": [
    "namespace bcc {\n",
    "\n",
    "class sequential_process {\n",
    "    mutex _mutex;\n",
    "    condition_variable _condition;\n",
    "    deque<task> _queue;\n",
    "    bool _done = false;\n",
    "\n",
    "    void run_loop();\n",
    "\n",
    "    thread _thread{[this] { run_loop(); }};\n",
    "\n",
    "public:\n",
    "    ~sequential_process();\n",
    "    void async(task);\n",
    "};\n",
    "\n",
    "} // namespace bcc"
   ]
  },
  {
   "cell_type": "markdown",
   "metadata": {
    "slideshow": {
     "slide_type": "slide"
    }
   },
   "source": [
    "- The logical structure of our coroutine will be:\n",
    "\n",
    "```cpp\n",
    "class sequential_process {\n",
    "    awaitable_queue<task> _queue;\n",
    "    co_task<void> _running;\n",
    "\n",
    "public:\n",
    "    sequential_process() {\n",
    "        _running = [&]() {\n",
    "            while (true) {\n",
    "                (co_await _queue.pop())();\n",
    "            }\n",
    "        }\n",
    "    }\n",
    "    void async(task f) { _queue.push(move(f)); }\n",
    "};\n",
    "```"
   ]
  },
  {
   "cell_type": "markdown",
   "metadata": {
    "slideshow": {
     "slide_type": "slide"
    }
   },
   "source": [
    "- **Tip: When desinging code, sketch the code in an ideal form**\n",
    "- Without building the infrustructure for `awaitable_queue<>` and `co_task<>`\n",
    "    - We can build the same logical structure directly in `seqential_process`\n",
    "- Build concrete solutions before complex abstractions"
   ]
  },
  {
   "cell_type": "markdown",
   "metadata": {
    "slideshow": {
     "slide_type": "slide"
    }
   },
   "source": [
    "- As a coroutine we no longer need:\n",
    "    - `_thread`\n",
    "    - `_condition`\n",
    "    - `_done` flag\n",
    "    - `run_loop()`\n",
    "    - `join()` on destuction\n",
    "- We will need\n",
    "    - `_running` flag\n",
    "    - `resume()`"
   ]
  },
  {
   "cell_type": "code",
   "execution_count": 6,
   "metadata": {
    "execution": {
     "iopub.execute_input": "2020-12-27T20:59:10.209554Z",
     "iopub.status.busy": "2020-12-27T20:59:10.208986Z",
     "iopub.status.idle": "2020-12-27T20:59:10.209966Z",
     "shell.execute_reply": "2020-12-27T20:59:10.210404Z"
    },
    "slideshow": {
     "slide_type": "slide"
    }
   },
   "outputs": [],
   "source": [
    "namespace bcc2 {\n",
    "\n",
    "class sequential_process {\n",
    "    mutex _mutex;\n",
    "    bool _running = false;\n",
    "    deque<task> _queue;\n",
    "\n",
    "    void resume();\n",
    "\n",
    "public:\n",
    "    void async(task);\n",
    "};\n",
    "\n",
    "} // namespace bcc2"
   ]
  },
  {
   "cell_type": "code",
   "execution_count": 7,
   "metadata": {
    "execution": {
     "iopub.execute_input": "2020-12-27T20:59:10.212703Z",
     "iopub.status.busy": "2020-12-27T20:59:10.212082Z",
     "iopub.status.idle": "2020-12-27T20:59:10.239047Z",
     "shell.execute_reply": "2020-12-27T20:59:10.238499Z"
    },
    "slideshow": {
     "slide_type": "skip"
    }
   },
   "outputs": [],
   "source": [
    "namespace bcc {\n",
    "       \n",
    "sequential_process::~sequential_process() {\n",
    "    {\n",
    "        lock_guard<mutex> lock(_mutex);\n",
    "        _done = true;\n",
    "    }\n",
    "    _condition.notify_one();\n",
    "    _thread.join();\n",
    "}\n",
    "\n",
    "void sequential_process::run_loop() {\n",
    "    while (true) {\n",
    "        task work;\n",
    "        {\n",
    "            unique_lock<mutex> lock(_mutex);\n",
    "\n",
    "            while (_queue.empty() && !_done) {\n",
    "                _condition.wait(lock);\n",
    "            }\n",
    "\n",
    "            if (_queue.empty()) return;\n",
    "\n",
    "            work = move(_queue.front());\n",
    "            _queue.pop_front();\n",
    "        }\n",
    "        work();\n",
    "    }\n",
    "}\n",
    "    \n",
    "void sequential_process::async(task f) {\n",
    "    {\n",
    "        lock_guard<mutex> lock(_mutex);\n",
    "        _queue.push_back(move(f));\n",
    "    }\n",
    "    _condition.notify_one();\n",
    "}\n",
    "    \n",
    "} // namespace bcc"
   ]
  },
  {
   "cell_type": "markdown",
   "metadata": {
    "slideshow": {
     "slide_type": "slide"
    }
   },
   "source": [
    "- `resume()` is the body of our coroutine:\n",
    "```cpp\n",
    "while (true) {\n",
    "    (co_await _queue.pop())();\n",
    "}\n",
    "```"
   ]
  },
  {
   "cell_type": "code",
   "execution_count": 8,
   "metadata": {
    "execution": {
     "iopub.execute_input": "2020-12-27T20:59:10.241493Z",
     "iopub.status.busy": "2020-12-27T20:59:10.240967Z",
     "iopub.status.idle": "2020-12-27T20:59:10.247675Z",
     "shell.execute_reply": "2020-12-27T20:59:10.246833Z"
    },
    "slideshow": {
     "slide_type": "slide"
    }
   },
   "outputs": [],
   "source": [
    "namespace bcc2 {\n",
    "\n",
    "void sequential_process::resume() {\n",
    "    task work;\n",
    "    while (true) {\n",
    "        {\n",
    "            unique_lock<mutex> lock(_mutex);\n",
    "\n",
    "            if (_queue.empty()) {\n",
    "                _running = false;\n",
    "                return;\n",
    "            }\n",
    "            work = move(_queue.front());\n",
    "            _queue.pop_front();\n",
    "        }\n",
    "        work();\n",
    "    }\n",
    "}\n",
    "\n",
    "} // namespace bcc2"
   ]
  },
  {
   "cell_type": "markdown",
   "metadata": {
    "slideshow": {
     "slide_type": "slide"
    }
   },
   "source": [
    "- `async()` does a push and `resume()` if not running"
   ]
  },
  {
   "cell_type": "code",
   "execution_count": 9,
   "metadata": {
    "execution": {
     "iopub.execute_input": "2020-12-27T20:59:10.250486Z",
     "iopub.status.busy": "2020-12-27T20:59:10.249990Z",
     "iopub.status.idle": "2020-12-27T20:59:10.258333Z",
     "shell.execute_reply": "2020-12-27T20:59:10.257839Z"
    },
    "slideshow": {
     "slide_type": "fragment"
    }
   },
   "outputs": [],
   "source": [
    "namespace bcc2 {\n",
    "\n",
    "void sequential_process::async(task f) {\n",
    "    bool running = true;\n",
    "    {\n",
    "        lock_guard<mutex> lock(_mutex);\n",
    "        _queue.push_back(move(f));\n",
    "        swap(running, _running);\n",
    "    }\n",
    "    if (!running) resume();\n",
    "}\n",
    "\n",
    "} // namespace bcc2"
   ]
  },
  {
   "cell_type": "code",
   "execution_count": 10,
   "metadata": {
    "execution": {
     "iopub.execute_input": "2020-12-27T20:59:10.260587Z",
     "iopub.status.busy": "2020-12-27T20:59:10.260015Z",
     "iopub.status.idle": "2020-12-27T20:59:10.261269Z",
     "shell.execute_reply": "2020-12-27T20:59:10.261740Z"
    },
    "slideshow": {
     "slide_type": "skip"
    }
   },
   "outputs": [],
   "source": [
    "using namespace bcc2;"
   ]
  },
  {
   "cell_type": "markdown",
   "metadata": {
    "slideshow": {
     "slide_type": "slide"
    }
   },
   "source": [
    "- `async_packaged()`, `shared_pool`, and `interned_string` are unmodified"
   ]
  },
  {
   "cell_type": "code",
   "execution_count": 11,
   "metadata": {
    "execution": {
     "iopub.execute_input": "2020-12-27T20:59:10.264172Z",
     "iopub.status.busy": "2020-12-27T20:59:10.263624Z",
     "iopub.status.idle": "2020-12-27T20:59:10.264754Z",
     "shell.execute_reply": "2020-12-27T20:59:10.265526Z"
    },
    "slideshow": {
     "slide_type": "fragment"
    }
   },
   "outputs": [],
   "source": [
    "namespace {\n",
    "\n",
    "template <class F> // F models R()\n",
    "auto async_packaged(sequential_process& process, F&& f) {\n",
    "    using result_t = std::result_of_t<std::decay_t<F>()>;\n",
    "\n",
    "    auto task_future = stlab::package<result_t()>(stlab::immediate_executor,\n",
    "                                                  std::forward<F>(f));\n",
    "\n",
    "    process.async(move(task_future.first));\n",
    "\n",
    "    return move(task_future.second);\n",
    "}\n",
    "    \n",
    "} // namespace"
   ]
  },
  {
   "cell_type": "code",
   "execution_count": 12,
   "metadata": {
    "execution": {
     "iopub.execute_input": "2020-12-27T20:59:10.267817Z",
     "iopub.status.busy": "2020-12-27T20:59:10.267309Z",
     "iopub.status.idle": "2020-12-27T20:59:10.348986Z",
     "shell.execute_reply": "2020-12-27T20:59:10.348353Z"
    },
    "slideshow": {
     "slide_type": "slide"
    }
   },
   "outputs": [],
   "source": [
    "namespace {\n",
    "    \n",
    "struct shared_pool {\n",
    "    unordered_set<string> _pool;\n",
    "    sequential_process _process;\n",
    "\n",
    "    auto insert(string a) -> stlab::future<const string*> {\n",
    "        return async_packaged(\n",
    "            _process, [this, _a = move(a)]() mutable {\n",
    "                return &*_pool.insert(move(_a)).first;\n",
    "            });\n",
    "    }\n",
    "};\n",
    "    \n",
    "} // namespace"
   ]
  },
  {
   "cell_type": "code",
   "execution_count": 13,
   "metadata": {
    "execution": {
     "iopub.execute_input": "2020-12-27T20:59:10.351620Z",
     "iopub.status.busy": "2020-12-27T20:59:10.350898Z",
     "iopub.status.idle": "2020-12-27T20:59:10.409578Z",
     "shell.execute_reply": "2020-12-27T20:59:10.409111Z"
    },
    "slideshow": {
     "slide_type": "slide"
    }
   },
   "outputs": [],
   "source": [
    "namespace {\n",
    "\n",
    "class interned_string {\n",
    "    static auto pool() -> shared_pool& {\n",
    "        static shared_pool result;\n",
    "        return result;\n",
    "    }\n",
    "\n",
    "    stlab::future<const string*> _string;\n",
    "\n",
    "public:\n",
    "    interned_string(string a) : _string(pool().insert(move(a))) {}\n",
    "\n",
    "    auto str() const -> stlab::future<reference_wrapper<const string>> {\n",
    "        return _string.then([](const string* p) { return cref(*p); });\n",
    "    }\n",
    "};\n",
    "    \n",
    "} // namespace"
   ]
  },
  {
   "cell_type": "markdown",
   "metadata": {
    "slideshow": {
     "slide_type": "slide"
    }
   },
   "source": [
    "- And is used exactly the same way"
   ]
  },
  {
   "cell_type": "code",
   "execution_count": 14,
   "metadata": {
    "execution": {
     "iopub.execute_input": "2020-12-27T20:59:10.411929Z",
     "iopub.status.busy": "2020-12-27T20:59:10.411373Z",
     "iopub.status.idle": "2020-12-27T20:59:10.991045Z",
     "shell.execute_reply": "2020-12-27T20:59:10.990535Z"
    },
    "slideshow": {
     "slide_type": "fragment"
    }
   },
   "outputs": [
    {
     "name": "stdout",
     "output_type": "stream",
     "text": [
      "Hello World!\n"
     ]
    }
   ],
   "source": [
    "{\n",
    "    interned_string s(\"Hello World!\"s);\n",
    "\n",
    "    auto done = s.str().then([](const string& s) { cout << s << '\\n'; });\n",
    "\n",
    "    blocking_get(done);\n",
    "}"
   ]
  },
  {
   "cell_type": "markdown",
   "metadata": {
    "slideshow": {
     "slide_type": "slide"
    }
   },
   "source": [
    "- Advantages to the coroutine implementation\n",
    "    - No seperate thread overhead\n",
    "    - No overhead for waiting on condition variable\n",
    "    - No blocking\n",
    "    - Possible to implement with lock-free queue\n",
    "    - `resume()` need not be executed _inline_\n",
    "        - It could be queued to a _thread pool_\n",
    "        - Requires some managment of _object liftimes_"
   ]
  },
  {
   "cell_type": "markdown",
   "metadata": {
    "slideshow": {
     "slide_type": "fragment"
    }
   },
   "source": [
    "- Disadvantages\n",
    "    - _inline_ execution may _live lock_"
   ]
  },
  {
   "cell_type": "markdown",
   "metadata": {
    "slideshow": {
     "slide_type": "slide"
    }
   },
   "source": [
    "```cpp\n",
    "void sequential_process::async(task f) {\n",
    "    bool running = true;\n",
    "    {\n",
    "        lock_guard<mutex> lock(_mutex);\n",
    "        _queue.push_back(move(f));\n",
    "        swap(running, _running);\n",
    "    }\n",
    "    if (!running) async([this]{ resume(); }); // WHAAATTT this???\n",
    "}\n",
    "```"
   ]
  },
  {
   "cell_type": "code",
   "execution_count": null,
   "metadata": {},
   "outputs": [],
   "source": []
  }
 ],
 "metadata": {
  "kernelspec": {
   "display_name": "C++17",
   "language": "C++17",
   "name": "xcpp17"
  },
  "language_info": {
   "codemirror_mode": "text/x-c++src",
   "file_extension": ".cpp",
   "mimetype": "text/x-c++src",
   "name": "c++",
   "version": "17"
  }
 },
 "nbformat": 4,
 "nbformat_minor": 4
}
