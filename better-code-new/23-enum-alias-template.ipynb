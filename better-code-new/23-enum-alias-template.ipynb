{
 "cells": [
  {
   "cell_type": "code",
   "execution_count": 1,
   "metadata": {
    "execution": {
     "iopub.execute_input": "2020-12-27T20:59:46.306364Z",
     "iopub.status.busy": "2020-12-27T20:59:46.305354Z",
     "iopub.status.idle": "2020-12-27T20:59:46.307255Z",
     "shell.execute_reply": "2020-12-27T20:59:46.308196Z"
    },
    "slideshow": {
     "slide_type": "skip"
    }
   },
   "outputs": [],
   "source": [
    "#include <iostream>\n",
    "\n",
    "using namespace std;"
   ]
  },
  {
   "cell_type": "markdown",
   "metadata": {
    "slideshow": {
     "slide_type": "slide"
    }
   },
   "source": [
    "## Recap - Parameter Pack Fold Expressions"
   ]
  },
  {
   "cell_type": "markdown",
   "metadata": {
    "slideshow": {
     "slide_type": "fragment"
    }
   },
   "source": [
    "- Jared Wyles posted in slack that he was starting to use structs with bools instead of bit flags\n",
    "    - One reason is to allow the use of structured bindings\n",
    "    - However, this quickly runs into a scaling issue"
   ]
  },
  {
   "cell_type": "code",
   "execution_count": 2,
   "metadata": {
    "execution": {
     "iopub.execute_input": "2020-12-27T20:59:46.311107Z",
     "iopub.status.busy": "2020-12-27T20:59:46.310316Z",
     "iopub.status.idle": "2020-12-27T20:59:46.311814Z",
     "shell.execute_reply": "2020-12-27T20:59:46.312811Z"
    },
    "slideshow": {
     "slide_type": "fragment"
    }
   },
   "outputs": [],
   "source": [
    "struct merge_layer_flags_t {\n",
    "    bool use_interior_opacity = false;\n",
    "    bool use_master_opacity = false;\n",
    "    bool use_sheet_mask = false;\n",
    "    bool use_user_mask = false;\n",
    "    bool use_vector_mask = false;\n",
    "    bool use_content_mask = false;\n",
    "    bool use_source_ranges = false;\n",
    "    bool use_destination_ranges = false;\n",
    "    bool use_filter_mask = false;\n",
    "};"
   ]
  },
  {
   "cell_type": "code",
   "execution_count": 3,
   "metadata": {
    "execution": {
     "iopub.execute_input": "2020-12-27T20:59:46.316301Z",
     "iopub.status.busy": "2020-12-27T20:59:46.314875Z",
     "iopub.status.idle": "2020-12-27T20:59:46.323752Z",
     "shell.execute_reply": "2020-12-27T20:59:46.323315Z"
    },
    "slideshow": {
     "slide_type": "slide"
    }
   },
   "outputs": [
    {
     "name": "stdout",
     "output_type": "stream",
     "text": [
      "0, 0, 0, 1, 0, 1, 0, 0, 0\n"
     ]
    }
   ],
   "source": [
    "{\n",
    "    merge_layer_flags_t flags;\n",
    "\n",
    "    flags.use_user_mask = true;\n",
    "    flags.use_content_mask = true;\n",
    "\n",
    "    auto [io, mo, sm, um, vm, cm, sr, dr, fm] = flags;\n",
    "    \n",
    "    cout << io << \", \" << mo << \", \" << sm << \", \" << um << \", \" << vm << \", \" << cm\n",
    "         << \", \" << sr << \", \" << dr << \", \" << fm << endl;\n",
    "}"
   ]
  },
  {
   "cell_type": "markdown",
   "metadata": {
    "slideshow": {
     "slide_type": "slide"
    }
   },
   "source": [
    "- Could we use an `enum` and use structured bindings to unpack into `bool`s?"
   ]
  },
  {
   "cell_type": "code",
   "execution_count": 4,
   "metadata": {
    "execution": {
     "iopub.execute_input": "2020-12-27T20:59:46.328666Z",
     "iopub.status.busy": "2020-12-27T20:59:46.327502Z",
     "iopub.status.idle": "2020-12-27T20:59:46.329287Z",
     "shell.execute_reply": "2020-12-27T20:59:46.328082Z"
    },
    "slideshow": {
     "slide_type": "fragment"
    }
   },
   "outputs": [],
   "source": [
    "enum merge_layer_flags {\n",
    "    use_interior_opacity = 1 << 0,\n",
    "    use_master_opacity = 1 << 1,\n",
    "    use_sheet_mask = 1 << 2,\n",
    "    use_user_mask = 1 << 3,\n",
    "    use_vector_mask = 1 << 4,\n",
    "    use_content_mask = 1 << 5,\n",
    "    use_source_ranges = 1 << 6,\n",
    "    use_destination_ranges = 1 << 7,\n",
    "    use_filter_mask = 1 << 8\n",
    "};"
   ]
  },
  {
   "cell_type": "code",
   "execution_count": 5,
   "metadata": {
    "execution": {
     "iopub.execute_input": "2020-12-27T20:59:46.332071Z",
     "iopub.status.busy": "2020-12-27T20:59:46.331131Z",
     "iopub.status.idle": "2020-12-27T20:59:46.332653Z",
     "shell.execute_reply": "2020-12-27T20:59:46.333274Z"
    },
    "slideshow": {
     "slide_type": "slide"
    }
   },
   "outputs": [],
   "source": [
    "template <auto... I, class T>\n",
    "constexpr auto extract_bits_a(T x) {\n",
    "    return tuple{static_cast<bool>(x & I)...};\n",
    "}"
   ]
  },
  {
   "cell_type": "code",
   "execution_count": 6,
   "metadata": {
    "execution": {
     "iopub.execute_input": "2020-12-27T20:59:46.335501Z",
     "iopub.status.busy": "2020-12-27T20:59:46.335010Z",
     "iopub.status.idle": "2020-12-27T20:59:46.339517Z",
     "shell.execute_reply": "2020-12-27T20:59:46.339025Z"
    },
    "slideshow": {
     "slide_type": "skip"
    }
   },
   "outputs": [],
   "source": [
    "// skip\n",
    "cout << boolalpha;"
   ]
  },
  {
   "cell_type": "code",
   "execution_count": 7,
   "metadata": {
    "execution": {
     "iopub.execute_input": "2020-12-27T20:59:46.341667Z",
     "iopub.status.busy": "2020-12-27T20:59:46.341095Z",
     "iopub.status.idle": "2020-12-27T20:59:46.367750Z",
     "shell.execute_reply": "2020-12-27T20:59:46.368232Z"
    },
    "slideshow": {
     "slide_type": "fragment"
    }
   },
   "outputs": [
    {
     "name": "stdout",
     "output_type": "stream",
     "text": [
      "false, true, true\n"
     ]
    }
   ],
   "source": [
    "{\n",
    "    merge_layer_flags flags =\n",
    "        static_cast<merge_layer_flags>(use_user_mask | use_content_mask);\n",
    "\n",
    "    auto [vm, um, cm] =\n",
    "        extract_bits_a<use_vector_mask, use_user_mask, use_content_mask>(flags);\n",
    "\n",
    "    cout << vm << \", \" << um << \", \" << cm << endl;\n",
    "}"
   ]
  },
  {
   "cell_type": "markdown",
   "metadata": {
    "slideshow": {
     "slide_type": "slide"
    }
   },
   "source": [
    "- This is potentially error prone"
   ]
  },
  {
   "cell_type": "code",
   "execution_count": 8,
   "metadata": {
    "execution": {
     "iopub.execute_input": "2020-12-27T20:59:46.371287Z",
     "iopub.status.busy": "2020-12-27T20:59:46.370485Z",
     "iopub.status.idle": "2020-12-27T20:59:46.378434Z",
     "shell.execute_reply": "2020-12-27T20:59:46.377814Z"
    },
    "slideshow": {
     "slide_type": "fragment"
    }
   },
   "outputs": [
    {
     "name": "stdout",
     "output_type": "stream",
     "text": [
      "true\n"
     ]
    }
   ],
   "source": [
    "{\n",
    "    auto [x] = extract_bits_a<3>(7);\n",
    "    cout << x << endl;\n",
    "}"
   ]
  },
  {
   "cell_type": "markdown",
   "metadata": {
    "slideshow": {
     "slide_type": "slide"
    }
   },
   "source": [
    "- Was the intent to extract the third bit?\n",
    "    - Lower two bits?"
   ]
  },
  {
   "cell_type": "markdown",
   "metadata": {
    "slideshow": {
     "slide_type": "slide"
    }
   },
   "source": [
    "- `ispow2()` is a C++20 function but we can implement it"
   ]
  },
  {
   "cell_type": "code",
   "execution_count": 9,
   "metadata": {
    "execution": {
     "iopub.execute_input": "2020-12-27T20:59:46.381277Z",
     "iopub.status.busy": "2020-12-27T20:59:46.380541Z",
     "iopub.status.idle": "2020-12-27T20:59:46.381808Z",
     "shell.execute_reply": "2020-12-27T20:59:46.382805Z"
    },
    "slideshow": {
     "slide_type": "fragment"
    }
   },
   "outputs": [],
   "source": [
    "template <class T>\n",
    "constexpr bool ispow2(T x) {\n",
    "    return (x != 0) && !(x & (x - 1));\n",
    "}"
   ]
  },
  {
   "cell_type": "code",
   "execution_count": 10,
   "metadata": {
    "execution": {
     "iopub.execute_input": "2020-12-27T20:59:46.385790Z",
     "iopub.status.busy": "2020-12-27T20:59:46.384837Z",
     "iopub.status.idle": "2020-12-27T20:59:46.892871Z",
     "shell.execute_reply": "2020-12-27T20:59:46.891443Z"
    },
    "slideshow": {
     "slide_type": "fragment"
    }
   },
   "outputs": [
    {
     "data": {
      "text/plain": [
       "false"
      ]
     },
     "execution_count": 10,
     "metadata": {},
     "output_type": "execute_result"
    }
   ],
   "source": [
    "ispow2(3)"
   ]
  },
  {
   "cell_type": "code",
   "execution_count": 11,
   "metadata": {
    "execution": {
     "iopub.execute_input": "2020-12-27T20:59:46.895104Z",
     "iopub.status.busy": "2020-12-27T20:59:46.894467Z",
     "iopub.status.idle": "2020-12-27T20:59:47.252196Z",
     "shell.execute_reply": "2020-12-27T20:59:47.251046Z"
    },
    "slideshow": {
     "slide_type": "fragment"
    }
   },
   "outputs": [
    {
     "data": {
      "text/plain": [
       "true"
      ]
     },
     "execution_count": 11,
     "metadata": {},
     "output_type": "execute_result"
    }
   ],
   "source": [
    "ispow2(4)"
   ]
  },
  {
   "cell_type": "markdown",
   "metadata": {
    "slideshow": {
     "slide_type": "slide"
    }
   },
   "source": [
    "- Using a fold expression in a static assert, we can check for valid mask bits"
   ]
  },
  {
   "cell_type": "code",
   "execution_count": 12,
   "metadata": {
    "execution": {
     "iopub.execute_input": "2020-12-27T20:59:47.254255Z",
     "iopub.status.busy": "2020-12-27T20:59:47.253722Z",
     "iopub.status.idle": "2020-12-27T20:59:47.254678Z",
     "shell.execute_reply": "2020-12-27T20:59:47.255241Z"
    },
    "slideshow": {
     "slide_type": "fragment"
    }
   },
   "outputs": [],
   "source": [
    "template <auto... I, class T>\n",
    "constexpr auto extract_bits(T x) {\n",
    "    static_assert((ispow2(I) && ...));\n",
    "    return tuple{static_cast<bool>(x & I)...};\n",
    "}"
   ]
  },
  {
   "cell_type": "markdown",
   "metadata": {
    "slideshow": {
     "slide_type": "slide"
    }
   },
   "source": [
    "```cpp\n",
    "{\n",
    "    auto [x] = extract_bits<3>(7);\n",
    "    cout << x << endl;\n",
    "}\n",
    "```\n",
    "```\n",
    "input_line_22:3:5: error: static_assert failed\n",
    "    static_assert((ispow2(I) && ...));\n",
    "    ^              ~~~~~~~~~~~~~~~~\n",
    "input_line_25:3:16: note: in instantiation of function template specialization 'extract_bits<3, int>'\n",
    "      requested here\n",
    "    auto [x] = extract_bits<3>(7);\n",
    "               ^\n",
    "```"
   ]
  },
  {
   "cell_type": "code",
   "execution_count": 13,
   "metadata": {
    "execution": {
     "iopub.execute_input": "2020-12-27T20:59:47.257383Z",
     "iopub.status.busy": "2020-12-27T20:59:47.256888Z",
     "iopub.status.idle": "2020-12-27T20:59:47.264186Z",
     "shell.execute_reply": "2020-12-27T20:59:47.264919Z"
    },
    "slideshow": {
     "slide_type": "fragment"
    }
   },
   "outputs": [
    {
     "name": "stdout",
     "output_type": "stream",
     "text": [
      "true\n"
     ]
    }
   ],
   "source": [
    "{\n",
    "    auto [x] = extract_bits<4>(7);\n",
    "    cout << x << endl;\n",
    "}"
   ]
  },
  {
   "cell_type": "markdown",
   "metadata": {
    "slideshow": {
     "slide_type": "slide"
    }
   },
   "source": [
    "## Scoped enumerations and underlying types\n",
    "\n",
    "- A scoped enumeration, `enum class` or `enum struct`, provides a strongly typed enumeration"
   ]
  },
  {
   "cell_type": "code",
   "execution_count": 14,
   "metadata": {
    "execution": {
     "iopub.execute_input": "2020-12-27T20:59:47.267490Z",
     "iopub.status.busy": "2020-12-27T20:59:47.266871Z",
     "iopub.status.idle": "2020-12-27T20:59:47.267891Z",
     "shell.execute_reply": "2020-12-27T20:59:47.268330Z"
    },
    "slideshow": {
     "slide_type": "fragment"
    }
   },
   "outputs": [],
   "source": [
    "enum class choice { none, some, all };\n",
    "enum bad_choice { none, some, all };"
   ]
  },
  {
   "cell_type": "markdown",
   "metadata": {
    "slideshow": {
     "slide_type": "slide"
    }
   },
   "source": [
    "- An scoped enumeration defines it's own scope for names (similar to an `enum` declared within a class)"
   ]
  },
  {
   "cell_type": "code",
   "execution_count": 15,
   "metadata": {
    "execution": {
     "iopub.execute_input": "2020-12-27T20:59:47.270524Z",
     "iopub.status.busy": "2020-12-27T20:59:47.270023Z",
     "iopub.status.idle": "2020-12-27T20:59:47.271860Z",
     "shell.execute_reply": "2020-12-27T20:59:47.271392Z"
    },
    "slideshow": {
     "slide_type": "fragment"
    }
   },
   "outputs": [],
   "source": [
    "{\n",
    "    auto pick = choice::some;\n",
    "    auto bad_pick = some;\n",
    "}"
   ]
  },
  {
   "cell_type": "markdown",
   "metadata": {
    "slideshow": {
     "slide_type": "slide"
    }
   },
   "source": [
    "- A scoped enumeration is not implicitly convertible to an integer"
   ]
  },
  {
   "cell_type": "markdown",
   "metadata": {
    "slideshow": {
     "slide_type": "fragment"
    }
   },
   "source": [
    "```cpp\n",
    "{\n",
    "    int bad_pick = some;\n",
    "    int pick = choice::some;\n",
    "}\n",
    "```\n",
    "```\n",
    "input_line_30:4:9: error: cannot initialize a variable of type 'int' with an rvalue of type 'choice'\n",
    "    int pick = choice::some;\n",
    "        ^      ~~~~~~~~~~~~\n",
    "```"
   ]
  },
  {
   "cell_type": "markdown",
   "metadata": {
    "slideshow": {
     "slide_type": "slide"
    }
   },
   "source": [
    "- However, lack of implicit conversion can make bit fields difficult to use"
   ]
  },
  {
   "cell_type": "code",
   "execution_count": 16,
   "metadata": {
    "execution": {
     "iopub.execute_input": "2020-12-27T20:59:47.274065Z",
     "iopub.status.busy": "2020-12-27T20:59:47.273635Z",
     "iopub.status.idle": "2020-12-27T20:59:47.274532Z",
     "shell.execute_reply": "2020-12-27T20:59:47.274957Z"
    },
    "slideshow": {
     "slide_type": "fragment"
    }
   },
   "outputs": [],
   "source": [
    "enum class merge_layer {\n",
    "    use_interior_opacity = 1 << 0,\n",
    "    use_master_opacity = 1 << 1,\n",
    "    use_sheet_mask = 1 << 2,\n",
    "    use_user_mask = 1 << 3,\n",
    "    use_vector_mask = 1 << 4,\n",
    "    use_content_mask = 1 << 5,\n",
    "    use_source_ranges = 1 << 6,\n",
    "    use_destination_ranges = 1 << 7,\n",
    "    use_filter_mask = 1 << 8\n",
    "};"
   ]
  },
  {
   "cell_type": "markdown",
   "metadata": {
    "slideshow": {
     "slide_type": "slide"
    }
   },
   "source": [
    "```cpp\n",
    "{\n",
    "    auto flags = merge_layer::use_sheet_mask | merge_layer::use_vector_mask;\n",
    "}\n",
    "```"
   ]
  },
  {
   "cell_type": "markdown",
   "metadata": {
    "slideshow": {
     "slide_type": "fragment"
    }
   },
   "source": [
    "```\n",
    "input_line_27:3:46: error: invalid operands to binary expression ('merge_layer' and 'merge_layer')\n",
    "    auto flags = merge_layer::use_sheet_mask | merge_layer::use_vector_mask;\n",
    "                 ~~~~~~~~~~~~~~~~~~~~~~~~~~~ ^ ~~~~~~~~~~~~~~~~~~~~~~~~~~~~\n",
    "/Users/sean-parent/miniconda3/envs/notebook/include/c++/v1/bitset:1059:1: note: candidate template ignored: could not match 'bitset<_Size>' against 'merge_layer'\n",
    "operator|(const bitset<_Size>& __x, const bitset<_Size>& __y) _NOEXCEPT\n",
    "^\n",
    "/Users/sean-parent/miniconda3/envs/notebook/include/c++/v1/valarray:4049:1: note: candidate template ignored: substitution failure [with _Expr1 = merge_layer, _Expr2\n",
    "      = merge_layer]: no type named 'value_type' in 'merge_layer'\n",
    "operator|(const _Expr1& __x, const _Expr2& __y)\n",
    "^\n",
    "/Users/sean-parent/miniconda3/envs/notebook/include/c++/v1/valarray:4064:1: note: candidate template ignored: substitution failure [with _Expr = merge_layer]: no type\n",
    "      named 'value_type' in 'merge_layer'\n",
    "operator|(const _Expr& __x, const typename _Expr::value_type& __y)\n",
    "^\n",
    "/Users/sean-parent/miniconda3/envs/notebook/include/c++/v1/valarray:4080:1: note: candidate template ignored: substitution failure [with _Expr = merge_layer]: no type\n",
    "      named 'value_type' in 'merge_layer'\n",
    "operator|(const typename _Expr::value_type& __x, const _Expr& __y)\n",
    "^\n",
    "```"
   ]
  },
  {
   "cell_type": "markdown",
   "metadata": {
    "slideshow": {
     "slide_type": "slide"
    }
   },
   "source": [
    "- `std::underlying_type_t<>` can be used to determine the type underlying any `enum` type"
   ]
  },
  {
   "cell_type": "code",
   "execution_count": 17,
   "metadata": {
    "execution": {
     "iopub.execute_input": "2020-12-27T20:59:47.277205Z",
     "iopub.status.busy": "2020-12-27T20:59:47.276763Z",
     "iopub.status.idle": "2020-12-27T20:59:47.278791Z",
     "shell.execute_reply": "2020-12-27T20:59:47.278186Z"
    },
    "slideshow": {
     "slide_type": "fragment"
    }
   },
   "outputs": [],
   "source": [
    "{\n",
    "    using underlying = underlying_type_t<merge_layer>;\n",
    "\n",
    "    auto flags = static_cast<merge_layer>(\n",
    "        static_cast<underlying>(merge_layer::use_sheet_mask) |\n",
    "        static_cast<underlying>(merge_layer::use_vector_mask));\n",
    "}"
   ]
  },
  {
   "cell_type": "markdown",
   "metadata": {
    "slideshow": {
     "slide_type": "slide"
    }
   },
   "source": [
    "- Adobe source libraries contains `<adobe/enum_ops.hpp>` which allows you to enable bitwise ops"
   ]
  },
  {
   "cell_type": "code",
   "execution_count": 18,
   "metadata": {
    "execution": {
     "iopub.execute_input": "2020-12-27T20:59:47.281820Z",
     "iopub.status.busy": "2020-12-27T20:59:47.281220Z",
     "iopub.status.idle": "2020-12-27T20:59:47.282229Z",
     "shell.execute_reply": "2020-12-27T20:59:47.282691Z"
    },
    "slideshow": {
     "slide_type": "skip"
    }
   },
   "outputs": [],
   "source": [
    "// skip\n",
    "namespace {\n",
    "merge_layer operator|(merge_layer a, merge_layer b) {\n",
    "    using underlying = underlying_type_t<merge_layer>;\n",
    "    \n",
    "    return static_cast<merge_layer>(static_cast<underlying>(a) |\n",
    "                                    static_cast<underlying>(b));\n",
    "}\n",
    "    \n",
    "template <merge_layer... I>\n",
    "constexpr auto extract_bits(merge_layer x) {\n",
    "    using underlying = underlying_type_t<merge_layer>;\n",
    "    return tuple{static_cast<bool>(static_cast<underlying>(x) & static_cast<underlying>(I))...};\n",
    "}\n",
    "\n",
    "\n",
    "} // namespace"
   ]
  },
  {
   "cell_type": "code",
   "execution_count": 19,
   "metadata": {
    "execution": {
     "iopub.execute_input": "2020-12-27T20:59:47.284623Z",
     "iopub.status.busy": "2020-12-27T20:59:47.284148Z",
     "iopub.status.idle": "2020-12-27T20:59:47.291861Z",
     "shell.execute_reply": "2020-12-27T20:59:47.291419Z"
    },
    "slideshow": {
     "slide_type": "fragment"
    }
   },
   "outputs": [
    {
     "name": "stdout",
     "output_type": "stream",
     "text": [
      "true\n"
     ]
    }
   ],
   "source": [
    "auto stlab_enable_bitmask_enum(merge_layer) -> std::true_type;\n",
    "\n",
    "{\n",
    "    auto flags = merge_layer::use_sheet_mask | merge_layer::use_vector_mask;\n",
    "    \n",
    "    auto [x] = extract_bits<merge_layer::use_sheet_mask>(flags);\n",
    "    cout << x << endl;\n",
    "}"
   ]
  },
  {
   "cell_type": "markdown",
   "metadata": {
    "slideshow": {
     "slide_type": "slide"
    }
   },
   "source": [
    "- You can specify the underlying type for any `enum` type"
   ]
  },
  {
   "cell_type": "code",
   "execution_count": 20,
   "metadata": {
    "execution": {
     "iopub.execute_input": "2020-12-27T20:59:47.293877Z",
     "iopub.status.busy": "2020-12-27T20:59:47.293385Z",
     "iopub.status.idle": "2020-12-27T20:59:47.294280Z",
     "shell.execute_reply": "2020-12-27T20:59:47.294966Z"
    },
    "slideshow": {
     "slide_type": "fragment"
    }
   },
   "outputs": [],
   "source": [
    "enum class small_choice : std::int16_t {\n",
    "    none, some, all\n",
    "};"
   ]
  },
  {
   "cell_type": "code",
   "execution_count": 21,
   "metadata": {
    "execution": {
     "iopub.execute_input": "2020-12-27T20:59:47.297671Z",
     "iopub.status.busy": "2020-12-27T20:59:47.296897Z",
     "iopub.status.idle": "2020-12-27T20:59:47.300903Z",
     "shell.execute_reply": "2020-12-27T20:59:47.301361Z"
    },
    "slideshow": {
     "slide_type": "fragment"
    }
   },
   "outputs": [
    {
     "name": "stdout",
     "output_type": "stream",
     "text": [
      "2\n"
     ]
    }
   ],
   "source": [
    "{\n",
    "    cout << sizeof(small_choice) << endl;\n",
    "}"
   ]
  },
  {
   "cell_type": "code",
   "execution_count": 22,
   "metadata": {
    "execution": {
     "iopub.execute_input": "2020-12-27T20:59:47.303428Z",
     "iopub.status.busy": "2020-12-27T20:59:47.302943Z",
     "iopub.status.idle": "2020-12-27T20:59:47.304124Z",
     "shell.execute_reply": "2020-12-27T20:59:47.304639Z"
    },
    "slideshow": {
     "slide_type": "slide"
    }
   },
   "outputs": [],
   "source": [
    "enum very_small : std::uint8_t {\n",
    "    success, error\n",
    "};"
   ]
  },
  {
   "cell_type": "code",
   "execution_count": 23,
   "metadata": {
    "execution": {
     "iopub.execute_input": "2020-12-27T20:59:47.306855Z",
     "iopub.status.busy": "2020-12-27T20:59:47.306309Z",
     "iopub.status.idle": "2020-12-27T20:59:47.309699Z",
     "shell.execute_reply": "2020-12-27T20:59:47.309226Z"
    },
    "slideshow": {
     "slide_type": "fragment"
    }
   },
   "outputs": [
    {
     "name": "stdout",
     "output_type": "stream",
     "text": [
      "1\n"
     ]
    }
   ],
   "source": [
    "{\n",
    "    cout << sizeof(very_small) << endl;\n",
    "}"
   ]
  },
  {
   "cell_type": "markdown",
   "metadata": {
    "slideshow": {
     "slide_type": "slide"
    }
   },
   "source": [
    "- The underlying type of a scoped enumeration if not specified is `int`\n",
    "- The underlying type of a unscoped enumeration if not specified is implementation defined\n",
    "    - Large enough to hold all enumerator values\n",
    "    - Not larger than `int` unless an enumerator value cannot fit into an `int`\n",
    "    - If empty, treated as if it had a single enumerator with value `0`"
   ]
  },
  {
   "cell_type": "markdown",
   "metadata": {
    "slideshow": {
     "slide_type": "slide"
    }
   },
   "source": [
    "### Recommendations\n",
    "- Replace unscoped enumerations with scoped enumerations\n",
    "    - Don't specify the underlying type without cause\n",
    "\n",
    "- Use the `<adobe/enum_ops.hpp>` (which may become `<stlab/enum_ops.hpp>` soon) for\n",
    "    - Types that represent a arithmetic type\n",
    "    - Types that represent bit fields"
   ]
  },
  {
   "cell_type": "markdown",
   "metadata": {
    "slideshow": {
     "slide_type": "slide"
    }
   },
   "source": [
    "### Homework\n",
    "- Replace an unscoped enumeration with a scoped enumeration in your project\n",
    "    - Did it improve the appearance of the code or clutter it?\n",
    "    - Did it catch any errors?"
   ]
  },
  {
   "cell_type": "markdown",
   "metadata": {
    "slideshow": {
     "slide_type": "slide"
    }
   },
   "source": [
    "## Type Aliases\n",
    "- A _type alias_ is a new syntax for `typedef` declarations"
   ]
  },
  {
   "cell_type": "code",
   "execution_count": 24,
   "metadata": {
    "execution": {
     "iopub.execute_input": "2020-12-27T20:59:47.312064Z",
     "iopub.status.busy": "2020-12-27T20:59:47.311503Z",
     "iopub.status.idle": "2020-12-27T20:59:47.312580Z",
     "shell.execute_reply": "2020-12-27T20:59:47.313174Z"
    },
    "slideshow": {
     "slide_type": "fragment"
    }
   },
   "outputs": [],
   "source": [
    "typedef int some_type;"
   ]
  },
  {
   "cell_type": "code",
   "execution_count": 25,
   "metadata": {
    "execution": {
     "iopub.execute_input": "2020-12-27T20:59:47.316095Z",
     "iopub.status.busy": "2020-12-27T20:59:47.315218Z",
     "iopub.status.idle": "2020-12-27T20:59:47.316526Z",
     "shell.execute_reply": "2020-12-27T20:59:47.316974Z"
    },
    "slideshow": {
     "slide_type": "skip"
    }
   },
   "outputs": [],
   "source": [
    ".undo 1"
   ]
  },
  {
   "cell_type": "code",
   "execution_count": 26,
   "metadata": {
    "execution": {
     "iopub.execute_input": "2020-12-27T20:59:47.319004Z",
     "iopub.status.busy": "2020-12-27T20:59:47.318576Z",
     "iopub.status.idle": "2020-12-27T20:59:47.319415Z",
     "shell.execute_reply": "2020-12-27T20:59:47.320105Z"
    },
    "slideshow": {
     "slide_type": "fragment"
    }
   },
   "outputs": [],
   "source": [
    "using some_type = int;"
   ]
  },
  {
   "cell_type": "markdown",
   "metadata": {
    "slideshow": {
     "slide_type": "slide"
    }
   },
   "source": [
    "- The new syntax makes complex aliases easier to read and write"
   ]
  },
  {
   "cell_type": "code",
   "execution_count": 27,
   "metadata": {
    "execution": {
     "iopub.execute_input": "2020-12-27T20:59:47.322203Z",
     "iopub.status.busy": "2020-12-27T20:59:47.321772Z",
     "iopub.status.idle": "2020-12-27T20:59:47.322631Z",
     "shell.execute_reply": "2020-12-27T20:59:47.323058Z"
    },
    "slideshow": {
     "slide_type": "fragment"
    }
   },
   "outputs": [],
   "source": [
    "typedef int (*some_func)(int);"
   ]
  },
  {
   "cell_type": "code",
   "execution_count": 28,
   "metadata": {
    "execution": {
     "iopub.execute_input": "2020-12-27T20:59:47.325041Z",
     "iopub.status.busy": "2020-12-27T20:59:47.324545Z",
     "iopub.status.idle": "2020-12-27T20:59:47.325461Z",
     "shell.execute_reply": "2020-12-27T20:59:47.325979Z"
    },
    "slideshow": {
     "slide_type": "skip"
    }
   },
   "outputs": [],
   "source": [
    ".undo 1"
   ]
  },
  {
   "cell_type": "code",
   "execution_count": 29,
   "metadata": {
    "execution": {
     "iopub.execute_input": "2020-12-27T20:59:47.328219Z",
     "iopub.status.busy": "2020-12-27T20:59:47.327613Z",
     "iopub.status.idle": "2020-12-27T20:59:47.328666Z",
     "shell.execute_reply": "2020-12-27T20:59:47.329104Z"
    },
    "slideshow": {
     "slide_type": "fragment"
    }
   },
   "outputs": [],
   "source": [
    "using some_func = int (*)(int);"
   ]
  },
  {
   "cell_type": "code",
   "execution_count": 30,
   "metadata": {
    "execution": {
     "iopub.execute_input": "2020-12-27T20:59:47.331483Z",
     "iopub.status.busy": "2020-12-27T20:59:47.330912Z",
     "iopub.status.idle": "2020-12-27T20:59:47.332191Z",
     "shell.execute_reply": "2020-12-27T20:59:47.332678Z"
    },
    "slideshow": {
     "slide_type": "skip"
    }
   },
   "outputs": [],
   "source": [
    ".undo 1"
   ]
  },
  {
   "cell_type": "markdown",
   "metadata": {
    "slideshow": {
     "slide_type": "slide"
    }
   },
   "source": [
    "- Unlike `typedef`, a type alias can be declared as a template"
   ]
  },
  {
   "cell_type": "code",
   "execution_count": 31,
   "metadata": {
    "execution": {
     "iopub.execute_input": "2020-12-27T20:59:47.334959Z",
     "iopub.status.busy": "2020-12-27T20:59:47.334453Z",
     "iopub.status.idle": "2020-12-27T20:59:47.335584Z",
     "shell.execute_reply": "2020-12-27T20:59:47.336199Z"
    },
    "slideshow": {
     "slide_type": "fragment"
    }
   },
   "outputs": [],
   "source": [
    "template <class T>\n",
    "using some_func = T (*)(T);"
   ]
  },
  {
   "cell_type": "code",
   "execution_count": 32,
   "metadata": {
    "execution": {
     "iopub.execute_input": "2020-12-27T20:59:47.338303Z",
     "iopub.status.busy": "2020-12-27T20:59:47.337839Z",
     "iopub.status.idle": "2020-12-27T20:59:47.341916Z",
     "shell.execute_reply": "2020-12-27T20:59:47.341380Z"
    },
    "slideshow": {
     "slide_type": "fragment"
    }
   },
   "outputs": [
    {
     "name": "stdout",
     "output_type": "stream",
     "text": [
      "100"
     ]
    }
   ],
   "source": [
    "{\n",
    "    some_func<double> f = [](double x){ return x * x; };\n",
    "    \n",
    "    cout << f(10);\n",
    "}"
   ]
  },
  {
   "cell_type": "markdown",
   "metadata": {
    "slideshow": {
     "slide_type": "slide"
    }
   },
   "source": [
    "- A template type alias is useful to define an alias to a dependent type"
   ]
  },
  {
   "cell_type": "code",
   "execution_count": 33,
   "metadata": {
    "execution": {
     "iopub.execute_input": "2020-12-27T20:59:47.343914Z",
     "iopub.status.busy": "2020-12-27T20:59:47.343422Z",
     "iopub.status.idle": "2020-12-27T20:59:47.344321Z",
     "shell.execute_reply": "2020-12-27T20:59:47.344972Z"
    },
    "slideshow": {
     "slide_type": "fragment"
    }
   },
   "outputs": [],
   "source": [
    "template <class I>\n",
    "auto distance(I f, I l) -> typename iterator_traits<I>::difference_type;"
   ]
  },
  {
   "cell_type": "code",
   "execution_count": 34,
   "metadata": {
    "execution": {
     "iopub.execute_input": "2020-12-27T20:59:47.348088Z",
     "iopub.status.busy": "2020-12-27T20:59:47.347192Z",
     "iopub.status.idle": "2020-12-27T20:59:47.348708Z",
     "shell.execute_reply": "2020-12-27T20:59:47.349164Z"
    },
    "slideshow": {
     "slide_type": "skip"
    }
   },
   "outputs": [],
   "source": [
    ".undo 1"
   ]
  },
  {
   "cell_type": "code",
   "execution_count": 35,
   "metadata": {
    "execution": {
     "iopub.execute_input": "2020-12-27T20:59:47.351383Z",
     "iopub.status.busy": "2020-12-27T20:59:47.350936Z",
     "iopub.status.idle": "2020-12-27T20:59:47.351862Z",
     "shell.execute_reply": "2020-12-27T20:59:47.352291Z"
    },
    "slideshow": {
     "slide_type": "fragment"
    }
   },
   "outputs": [],
   "source": [
    "template <class I>\n",
    "using difference_t = typename iterator_traits<I>::difference_type;"
   ]
  },
  {
   "cell_type": "code",
   "execution_count": 36,
   "metadata": {
    "execution": {
     "iopub.execute_input": "2020-12-27T20:59:47.355015Z",
     "iopub.status.busy": "2020-12-27T20:59:47.354105Z",
     "iopub.status.idle": "2020-12-27T20:59:47.355792Z",
     "shell.execute_reply": "2020-12-27T20:59:47.356365Z"
    },
    "slideshow": {
     "slide_type": "fragment"
    }
   },
   "outputs": [],
   "source": [
    "template <class I>\n",
    "auto distance(I f, I l) -> difference_t<I>;"
   ]
  },
  {
   "cell_type": "markdown",
   "metadata": {
    "slideshow": {
     "slide_type": "slide"
    }
   },
   "source": [
    "### Recommendations\n",
    "- Prefer type aliases to typedefs\n",
    "- Use template type aliases as type functions to simplify complex type expressions"
   ]
  },
  {
   "cell_type": "markdown",
   "metadata": {
    "slideshow": {
     "slide_type": "slide"
    }
   },
   "source": [
    "### Homework\n",
    "- Replace some typedefs in your project with type aliases\n",
    "- Find an instance of `typename` used for a dependent type and replace it with template type alias\n",
    "    - **Hint** use the regular expression `[^,<] typename` to find an instance"
   ]
  },
  {
   "cell_type": "markdown",
   "metadata": {
    "slideshow": {
     "slide_type": "slide"
    }
   },
   "source": [
    "## Templates Variables\n",
    "- C++14 added template variables\n",
    "    - A non-const template variable will only have one instance across translation units\n",
    "        - i.e. implicitly `inline`\n",
    "    - However, a `const` (or `constexpr`) template variable is implicitly `static`, one instance per translation unit\n",
    "        - But can be declared `inline`"
   ]
  },
  {
   "cell_type": "code",
   "execution_count": 37,
   "metadata": {
    "execution": {
     "iopub.execute_input": "2020-12-27T20:59:47.358678Z",
     "iopub.status.busy": "2020-12-27T20:59:47.358226Z",
     "iopub.status.idle": "2020-12-27T20:59:47.359097Z",
     "shell.execute_reply": "2020-12-27T20:59:47.359592Z"
    },
    "slideshow": {
     "slide_type": "slide"
    }
   },
   "outputs": [],
   "source": [
    "namespace {\n",
    "    \n",
    "template <class T>\n",
    "inline constexpr T max_value = std::numeric_limits<T>::max();\n",
    "\n",
    "} // namespace"
   ]
  },
  {
   "cell_type": "code",
   "execution_count": 38,
   "metadata": {
    "execution": {
     "iopub.execute_input": "2020-12-27T20:59:47.361896Z",
     "iopub.status.busy": "2020-12-27T20:59:47.361177Z",
     "iopub.status.idle": "2020-12-27T20:59:47.365363Z",
     "shell.execute_reply": "2020-12-27T20:59:47.365830Z"
    },
    "slideshow": {
     "slide_type": "fragment"
    }
   },
   "outputs": [
    {
     "name": "stdout",
     "output_type": "stream",
     "text": [
      "2147483647\n"
     ]
    }
   ],
   "source": [
    "{\n",
    "    auto x = max_value<int>;\n",
    "    \n",
    "    cout << x << endl;\n",
    "}"
   ]
  },
  {
   "cell_type": "markdown",
   "metadata": {
    "slideshow": {
     "slide_type": "slide"
    }
   },
   "source": [
    "### Recommendations\n",
    "- There are minor advantages to template variables over template static members and template functions\n",
    "    - Use as needed (rarely)"
   ]
  },
  {
   "cell_type": "markdown",
   "metadata": {
    "slideshow": {
     "slide_type": "slide"
    }
   },
   "source": [
    "### Homework\n",
    "- None"
   ]
  },
  {
   "cell_type": "markdown",
   "metadata": {
    "slideshow": {
     "slide_type": "slide"
    }
   },
   "source": [
    "## Extern Templates\n",
    "- An explicit instantiation declaration of a template tell the compiler that an explicit instantiation definition exists in exactly one compilation unit"
   ]
  },
  {
   "cell_type": "code",
   "execution_count": 39,
   "metadata": {
    "execution": {
     "iopub.execute_input": "2020-12-27T20:59:47.368385Z",
     "iopub.status.busy": "2020-12-27T20:59:47.367773Z",
     "iopub.status.idle": "2020-12-27T20:59:47.368800Z",
     "shell.execute_reply": "2020-12-27T20:59:47.369224Z"
    },
    "slideshow": {
     "slide_type": "fragment"
    }
   },
   "outputs": [],
   "source": [
    "// header.hpp\n",
    "\n",
    "namespace library {\n",
    "    \n",
    "template <class T>\n",
    "class my_wizzy_type {\n",
    "    void member_function();\n",
    "    // ...\n",
    "};\n",
    "\n",
    "extern template class my_wizzy_type<int>;\n",
    "\n",
    "} // namespace library"
   ]
  },
  {
   "cell_type": "markdown",
   "metadata": {
    "slideshow": {
     "slide_type": "slide"
    }
   },
   "source": [
    "```cpp\n",
    "// code.cpp\n",
    "\n",
    "#include \"header.hpp\"\n",
    "```"
   ]
  },
  {
   "cell_type": "code",
   "execution_count": 40,
   "metadata": {
    "execution": {
     "iopub.execute_input": "2020-12-27T20:59:47.371649Z",
     "iopub.status.busy": "2020-12-27T20:59:47.371041Z",
     "iopub.status.idle": "2020-12-27T20:59:47.372063Z",
     "shell.execute_reply": "2020-12-27T20:59:47.372530Z"
    },
    "slideshow": {
     "slide_type": "-"
    }
   },
   "outputs": [],
   "source": [
    "namespace library {\n",
    "    \n",
    "template <class T>\n",
    "void my_wizzy_type<T>::member_function() {\n",
    "    //...\n",
    "}\n",
    "\n",
    "template class my_wizzy_type<int>;\n",
    "    \n",
    "} // namespace library"
   ]
  },
  {
   "cell_type": "markdown",
   "metadata": {
    "slideshow": {
     "slide_type": "slide"
    }
   },
   "source": [
    "### Recommendations\n",
    "- If you currently rely on hacks to force instantiation in a translation unit, at least use this as a supported mechanism\n",
    "- Potentially useful for controlling instantiation for DLLs\n",
    "    - But still prefer DLLs be avoided\n",
    "- May speed compilation times and allow more separation of interface from implementation\n",
    "    - Measure"
   ]
  },
  {
   "cell_type": "markdown",
   "metadata": {
    "slideshow": {
     "slide_type": "slide"
    }
   },
   "source": [
    "### Homework\n",
    "- None (unless you are currently doing this with a hack, in which case, fix it!)"
   ]
  },
  {
   "cell_type": "markdown",
   "metadata": {
    "slideshow": {
     "slide_type": "slide"
    }
   },
   "source": [
    "## Variadic Macros\n",
    "- C99 added variadic macros, picked up by C++ in C++11\n",
    "    - `__VA_ARGS__` holds argument list\n",
    "    - `__VA_OPT__(`<em>`content`</em>`)` can be used in the replacement (_C++20_)\n",
    "        - If `__VA_ARGS__` is not empty `__VA_OPT__(`<em>`content`</em>`)` is replaced with _`content`_\n",
    "        - Otherwise `__VA_OPT__(`<em>`content`</em>`)` expands to nothing"
   ]
  },
  {
   "cell_type": "code",
   "execution_count": 41,
   "metadata": {
    "execution": {
     "iopub.execute_input": "2020-12-27T20:59:47.374746Z",
     "iopub.status.busy": "2020-12-27T20:59:47.374319Z",
     "iopub.status.idle": "2020-12-27T20:59:47.375351Z",
     "shell.execute_reply": "2020-12-27T20:59:47.375787Z"
    },
    "slideshow": {
     "slide_type": "slide"
    }
   },
   "outputs": [],
   "source": [
    "#define ARRAY(...) \\\n",
    "    int array[] = { __VA_ARGS__ }"
   ]
  },
  {
   "cell_type": "code",
   "execution_count": 42,
   "metadata": {
    "execution": {
     "iopub.execute_input": "2020-12-27T20:59:47.377764Z",
     "iopub.status.busy": "2020-12-27T20:59:47.377331Z",
     "iopub.status.idle": "2020-12-27T20:59:47.382641Z",
     "shell.execute_reply": "2020-12-27T20:59:47.381188Z"
    },
    "slideshow": {
     "slide_type": "fragment"
    }
   },
   "outputs": [
    {
     "name": "stdout",
     "output_type": "stream",
     "text": [
      "5\n",
      "3\n"
     ]
    }
   ],
   "source": [
    "{\n",
    "    ARRAY(5, 3);\n",
    "    for (const auto& e : array) cout << e << endl;\n",
    "}"
   ]
  },
  {
   "cell_type": "markdown",
   "metadata": {
    "slideshow": {
     "slide_type": "slide"
    }
   },
   "source": [
    "- Stringizing `__VA_ARGS__` quotes the entire replacement"
   ]
  },
  {
   "cell_type": "code",
   "execution_count": 43,
   "metadata": {
    "execution": {
     "iopub.execute_input": "2020-12-27T20:59:47.384923Z",
     "iopub.status.busy": "2020-12-27T20:59:47.384448Z",
     "iopub.status.idle": "2020-12-27T20:59:47.385510Z",
     "shell.execute_reply": "2020-12-27T20:59:47.385978Z"
    },
    "slideshow": {
     "slide_type": "fragment"
    }
   },
   "outputs": [],
   "source": [
    "#define SHOW(...) \\\n",
    "    #__VA_ARGS__"
   ]
  },
  {
   "cell_type": "code",
   "execution_count": 44,
   "metadata": {
    "execution": {
     "iopub.execute_input": "2020-12-27T20:59:47.387996Z",
     "iopub.status.busy": "2020-12-27T20:59:47.387573Z",
     "iopub.status.idle": "2020-12-27T20:59:47.751735Z",
     "shell.execute_reply": "2020-12-27T20:59:47.750648Z"
    },
    "slideshow": {
     "slide_type": "fragment"
    }
   },
   "outputs": [
    {
     "data": {
      "text/plain": [
       "\"10, 42.5, x\""
      ]
     },
     "execution_count": 44,
     "metadata": {},
     "output_type": "execute_result"
    }
   ],
   "source": [
    "SHOW(10, 42.5, x)"
   ]
  },
  {
   "cell_type": "markdown",
   "metadata": {
    "slideshow": {
     "slide_type": "slide"
    }
   },
   "source": [
    "### Recommendations\n",
    "- Macros are still best avoided\n",
    "    - File this in your bag of tricks..."
   ]
  },
  {
   "cell_type": "markdown",
   "metadata": {
    "slideshow": {
     "slide_type": "slide"
    }
   },
   "source": [
    "### Homework\n",
    "- None"
   ]
  },
  {
   "cell_type": "markdown",
   "metadata": {
    "slideshow": {
     "slide_type": "slide"
    }
   },
   "source": [
    "## Another Detour\n",
    "- After break we are going to spend a few (4?) courses on testing theory and writing unit tests\n",
    "    - All white-box QE are invited and encouraged to attend\n",
    "        - Black-box QE may also find it interesting\n",
    "    - Very valuable for devs as well\n",
    "- This section came about after reviewing several candidates results of a take-home project to write a unit test for `std::vector<>`"
   ]
  },
  {
   "cell_type": "markdown",
   "metadata": {
    "slideshow": {
     "slide_type": "slide"
    }
   },
   "source": [
    "### Section Outline\n",
    "- Why test?\n",
    "- How is meaning ascribed to software?\n",
    "    - Axioms and Equational Reasoning\n",
    "- Design by Contract\n",
    "- Concepts and models\n",
    "- Quantifying, measuring, and testing performance\n",
    "- Requirements of the Basic Interface\n",
    "- What is not testable, and why"
   ]
  },
  {
   "cell_type": "markdown",
   "metadata": {
    "slideshow": {
     "slide_type": "fragment"
    }
   },
   "source": [
    "- My goal is everyone who attends (and does the homework) should be able to write an _A+_ unit test for `std::vector<>`"
   ]
  }
 ],
 "metadata": {
  "kernelspec": {
   "display_name": "C++17",
   "language": "C++17",
   "name": "xcpp17"
  },
  "language_info": {
   "codemirror_mode": "text/x-c++src",
   "file_extension": ".cpp",
   "mimetype": "text/x-c++src",
   "name": "c++",
   "version": "17"
  }
 },
 "nbformat": 4,
 "nbformat_minor": 4
}
