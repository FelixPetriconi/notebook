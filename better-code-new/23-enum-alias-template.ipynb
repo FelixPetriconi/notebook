{
 "cells": [
  {
   "cell_type": "code",
   "execution_count": 1,
   "metadata": {
    "execution": {
     "iopub.execute_input": "2020-12-28T04:11:25.810765Z",
     "iopub.status.busy": "2020-12-28T04:11:25.809616Z",
     "iopub.status.idle": "2020-12-28T04:11:25.818133Z",
     "shell.execute_reply": "2020-12-28T04:11:25.816257Z"
    },
    "slideshow": {
     "slide_type": "skip"
    }
   },
   "outputs": [],
   "source": [
    "#include <iostream>\n",
    "\n",
    "using namespace std;"
   ]
  },
  {
   "cell_type": "markdown",
   "metadata": {
    "slideshow": {
     "slide_type": "slide"
    }
   },
   "source": [
    "## Recap - Parameter Pack Fold Expressions"
   ]
  },
  {
   "cell_type": "markdown",
   "metadata": {
    "slideshow": {
     "slide_type": "fragment"
    }
   },
   "source": [
    "- Jared Wyles posted in slack that he was starting to use structs with bools instead of bit flags\n",
    "    - One reason is to allow the use of structured bindings\n",
    "    - However, this quickly runs into a scaling issue"
   ]
  },
  {
   "cell_type": "code",
   "execution_count": 2,
   "metadata": {
    "execution": {
     "iopub.execute_input": "2020-12-28T04:11:25.822919Z",
     "iopub.status.busy": "2020-12-28T04:11:25.821877Z",
     "iopub.status.idle": "2020-12-28T04:11:25.825249Z",
     "shell.execute_reply": "2020-12-28T04:11:25.824278Z"
    },
    "slideshow": {
     "slide_type": "fragment"
    }
   },
   "outputs": [],
   "source": [
    "struct merge_layer_flags_t {\n",
    "    bool use_interior_opacity = false;\n",
    "    bool use_master_opacity = false;\n",
    "    bool use_sheet_mask = false;\n",
    "    bool use_user_mask = false;\n",
    "    bool use_vector_mask = false;\n",
    "    bool use_content_mask = false;\n",
    "    bool use_source_ranges = false;\n",
    "    bool use_destination_ranges = false;\n",
    "    bool use_filter_mask = false;\n",
    "};"
   ]
  },
  {
   "cell_type": "code",
   "execution_count": 3,
   "metadata": {
    "execution": {
     "iopub.execute_input": "2020-12-28T04:11:25.829421Z",
     "iopub.status.busy": "2020-12-28T04:11:25.828385Z",
     "iopub.status.idle": "2020-12-28T04:11:25.844613Z",
     "shell.execute_reply": "2020-12-28T04:11:25.843734Z"
    },
    "slideshow": {
     "slide_type": "slide"
    }
   },
   "outputs": [
    {
     "name": "stdout",
     "output_type": "stream",
     "text": [
      "0, 0, 0, 1, 0, 1, 0, 0, 0\n"
     ]
    }
   ],
   "source": [
    "{\n",
    "    merge_layer_flags_t flags;\n",
    "\n",
    "    flags.use_user_mask = true;\n",
    "    flags.use_content_mask = true;\n",
    "\n",
    "    auto [io, mo, sm, um, vm, cm, sr, dr, fm] = flags;\n",
    "    \n",
    "    cout << io << \", \" << mo << \", \" << sm << \", \" << um << \", \" << vm << \", \" << cm\n",
    "         << \", \" << sr << \", \" << dr << \", \" << fm << endl;\n",
    "}"
   ]
  },
  {
   "cell_type": "markdown",
   "metadata": {
    "slideshow": {
     "slide_type": "slide"
    }
   },
   "source": [
    "- Could we use an `enum` and use structured bindings to unpack into `bool`s?"
   ]
  },
  {
   "cell_type": "code",
   "execution_count": 4,
   "metadata": {
    "execution": {
     "iopub.execute_input": "2020-12-28T04:11:25.849226Z",
     "iopub.status.busy": "2020-12-28T04:11:25.848198Z",
     "iopub.status.idle": "2020-12-28T04:11:25.851129Z",
     "shell.execute_reply": "2020-12-28T04:11:25.850211Z"
    },
    "slideshow": {
     "slide_type": "fragment"
    }
   },
   "outputs": [],
   "source": [
    "enum merge_layer_flags {\n",
    "    use_interior_opacity = 1 << 0,\n",
    "    use_master_opacity = 1 << 1,\n",
    "    use_sheet_mask = 1 << 2,\n",
    "    use_user_mask = 1 << 3,\n",
    "    use_vector_mask = 1 << 4,\n",
    "    use_content_mask = 1 << 5,\n",
    "    use_source_ranges = 1 << 6,\n",
    "    use_destination_ranges = 1 << 7,\n",
    "    use_filter_mask = 1 << 8\n",
    "};"
   ]
  },
  {
   "cell_type": "code",
   "execution_count": 5,
   "metadata": {
    "execution": {
     "iopub.execute_input": "2020-12-28T04:11:25.854179Z",
     "iopub.status.busy": "2020-12-28T04:11:25.853390Z",
     "iopub.status.idle": "2020-12-28T04:11:25.856224Z",
     "shell.execute_reply": "2020-12-28T04:11:25.855387Z"
    },
    "slideshow": {
     "slide_type": "slide"
    }
   },
   "outputs": [],
   "source": [
    "template <auto... I, class T>\n",
    "constexpr auto extract_bits_a(T x) {\n",
    "    return tuple{static_cast<bool>(x & I)...};\n",
    "}"
   ]
  },
  {
   "cell_type": "code",
   "execution_count": 6,
   "metadata": {
    "execution": {
     "iopub.execute_input": "2020-12-28T04:11:25.860431Z",
     "iopub.status.busy": "2020-12-28T04:11:25.859635Z",
     "iopub.status.idle": "2020-12-28T04:11:25.865485Z",
     "shell.execute_reply": "2020-12-28T04:11:25.864587Z"
    },
    "slideshow": {
     "slide_type": "skip"
    }
   },
   "outputs": [],
   "source": [
    "// skip\n",
    "cout << boolalpha;"
   ]
  },
  {
   "cell_type": "code",
   "execution_count": 7,
   "metadata": {
    "execution": {
     "iopub.execute_input": "2020-12-28T04:11:25.869364Z",
     "iopub.status.busy": "2020-12-28T04:11:25.868399Z",
     "iopub.status.idle": "2020-12-28T04:11:25.907570Z",
     "shell.execute_reply": "2020-12-28T04:11:25.906812Z"
    },
    "slideshow": {
     "slide_type": "fragment"
    }
   },
   "outputs": [
    {
     "name": "stdout",
     "output_type": "stream",
     "text": [
      "false, true, true\n"
     ]
    }
   ],
   "source": [
    "{\n",
    "    merge_layer_flags flags =\n",
    "        static_cast<merge_layer_flags>(use_user_mask | use_content_mask);\n",
    "\n",
    "    auto [vm, um, cm] =\n",
    "        extract_bits_a<use_vector_mask, use_user_mask, use_content_mask>(flags);\n",
    "\n",
    "    cout << vm << \", \" << um << \", \" << cm << endl;\n",
    "}"
   ]
  },
  {
   "cell_type": "markdown",
   "metadata": {
    "slideshow": {
     "slide_type": "slide"
    }
   },
   "source": [
    "- This is potentially error prone"
   ]
  },
  {
   "cell_type": "code",
   "execution_count": 8,
   "metadata": {
    "execution": {
     "iopub.execute_input": "2020-12-28T04:11:25.910673Z",
     "iopub.status.busy": "2020-12-28T04:11:25.909890Z",
     "iopub.status.idle": "2020-12-28T04:11:25.924583Z",
     "shell.execute_reply": "2020-12-28T04:11:25.923919Z"
    },
    "slideshow": {
     "slide_type": "fragment"
    }
   },
   "outputs": [
    {
     "name": "stdout",
     "output_type": "stream",
     "text": [
      "true\n"
     ]
    }
   ],
   "source": [
    "{\n",
    "    auto [x] = extract_bits_a<3>(7);\n",
    "    cout << x << endl;\n",
    "}"
   ]
  },
  {
   "cell_type": "markdown",
   "metadata": {
    "slideshow": {
     "slide_type": "slide"
    }
   },
   "source": [
    "- Was the intent to extract the third bit?\n",
    "    - Lower two bits?"
   ]
  },
  {
   "cell_type": "markdown",
   "metadata": {
    "slideshow": {
     "slide_type": "slide"
    }
   },
   "source": [
    "- `ispow2()` is a C++20 function but we can implement it"
   ]
  },
  {
   "cell_type": "code",
   "execution_count": 9,
   "metadata": {
    "execution": {
     "iopub.execute_input": "2020-12-28T04:11:25.928271Z",
     "iopub.status.busy": "2020-12-28T04:11:25.927559Z",
     "iopub.status.idle": "2020-12-28T04:11:25.929879Z",
     "shell.execute_reply": "2020-12-28T04:11:25.929167Z"
    },
    "slideshow": {
     "slide_type": "fragment"
    }
   },
   "outputs": [],
   "source": [
    "template <class T>\n",
    "constexpr bool ispow2(T x) {\n",
    "    return (x != 0) && !(x & (x - 1));\n",
    "}"
   ]
  },
  {
   "cell_type": "code",
   "execution_count": 10,
   "metadata": {
    "execution": {
     "iopub.execute_input": "2020-12-28T04:11:25.934127Z",
     "iopub.status.busy": "2020-12-28T04:11:25.932897Z",
     "iopub.status.idle": "2020-12-28T04:11:26.642371Z",
     "shell.execute_reply": "2020-12-28T04:11:26.641733Z"
    },
    "slideshow": {
     "slide_type": "fragment"
    }
   },
   "outputs": [
    {
     "data": {
      "text/plain": [
       "false"
      ]
     },
     "execution_count": 10,
     "metadata": {},
     "output_type": "execute_result"
    }
   ],
   "source": [
    "ispow2(3)"
   ]
  },
  {
   "cell_type": "code",
   "execution_count": 11,
   "metadata": {
    "execution": {
     "iopub.execute_input": "2020-12-28T04:11:26.645799Z",
     "iopub.status.busy": "2020-12-28T04:11:26.645207Z",
     "iopub.status.idle": "2020-12-28T04:11:27.130036Z",
     "shell.execute_reply": "2020-12-28T04:11:27.129407Z"
    },
    "slideshow": {
     "slide_type": "fragment"
    }
   },
   "outputs": [
    {
     "data": {
      "text/plain": [
       "true"
      ]
     },
     "execution_count": 11,
     "metadata": {},
     "output_type": "execute_result"
    }
   ],
   "source": [
    "ispow2(4)"
   ]
  },
  {
   "cell_type": "markdown",
   "metadata": {
    "slideshow": {
     "slide_type": "slide"
    }
   },
   "source": [
    "- Using a fold expression in a static assert, we can check for valid mask bits"
   ]
  },
  {
   "cell_type": "code",
   "execution_count": 12,
   "metadata": {
    "execution": {
     "iopub.execute_input": "2020-12-28T04:11:27.133650Z",
     "iopub.status.busy": "2020-12-28T04:11:27.132455Z",
     "iopub.status.idle": "2020-12-28T04:11:27.136242Z",
     "shell.execute_reply": "2020-12-28T04:11:27.135347Z"
    },
    "slideshow": {
     "slide_type": "fragment"
    }
   },
   "outputs": [],
   "source": [
    "template <auto... I, class T>\n",
    "constexpr auto extract_bits(T x) {\n",
    "    static_assert((ispow2(I) && ...));\n",
    "    return tuple{static_cast<bool>(x & I)...};\n",
    "}"
   ]
  },
  {
   "cell_type": "markdown",
   "metadata": {
    "slideshow": {
     "slide_type": "slide"
    }
   },
   "source": [
    "```cpp\n",
    "{\n",
    "    auto [x] = extract_bits<3>(7);\n",
    "    cout << x << endl;\n",
    "}\n",
    "```\n",
    "```\n",
    "input_line_22:3:5: error: static_assert failed\n",
    "    static_assert((ispow2(I) && ...));\n",
    "    ^              ~~~~~~~~~~~~~~~~\n",
    "input_line_25:3:16: note: in instantiation of function template specialization 'extract_bits<3, int>'\n",
    "      requested here\n",
    "    auto [x] = extract_bits<3>(7);\n",
    "               ^\n",
    "```"
   ]
  },
  {
   "cell_type": "code",
   "execution_count": 13,
   "metadata": {
    "execution": {
     "iopub.execute_input": "2020-12-28T04:11:27.139746Z",
     "iopub.status.busy": "2020-12-28T04:11:27.139122Z",
     "iopub.status.idle": "2020-12-28T04:11:27.150690Z",
     "shell.execute_reply": "2020-12-28T04:11:27.151379Z"
    },
    "slideshow": {
     "slide_type": "fragment"
    }
   },
   "outputs": [
    {
     "name": "stdout",
     "output_type": "stream",
     "text": [
      "true\n"
     ]
    }
   ],
   "source": [
    "{\n",
    "    auto [x] = extract_bits<4>(7);\n",
    "    cout << x << endl;\n",
    "}"
   ]
  },
  {
   "cell_type": "markdown",
   "metadata": {
    "slideshow": {
     "slide_type": "slide"
    }
   },
   "source": [
    "## Scoped enumerations and underlying types\n",
    "\n",
    "- A scoped enumeration, `enum class` or `enum struct`, provides a strongly typed enumeration"
   ]
  },
  {
   "cell_type": "code",
   "execution_count": 14,
   "metadata": {
    "execution": {
     "iopub.execute_input": "2020-12-28T04:11:27.155383Z",
     "iopub.status.busy": "2020-12-28T04:11:27.154269Z",
     "iopub.status.idle": "2020-12-28T04:11:27.157611Z",
     "shell.execute_reply": "2020-12-28T04:11:27.156397Z"
    },
    "slideshow": {
     "slide_type": "fragment"
    }
   },
   "outputs": [],
   "source": [
    "enum class choice { none, some, all };\n",
    "enum bad_choice { none, some, all };"
   ]
  },
  {
   "cell_type": "markdown",
   "metadata": {
    "slideshow": {
     "slide_type": "slide"
    }
   },
   "source": [
    "- An scoped enumeration defines it's own scope for names (similar to an `enum` declared within a class)"
   ]
  },
  {
   "cell_type": "code",
   "execution_count": 15,
   "metadata": {
    "execution": {
     "iopub.execute_input": "2020-12-28T04:11:27.161719Z",
     "iopub.status.busy": "2020-12-28T04:11:27.160495Z",
     "iopub.status.idle": "2020-12-28T04:11:27.164720Z",
     "shell.execute_reply": "2020-12-28T04:11:27.163889Z"
    },
    "slideshow": {
     "slide_type": "fragment"
    }
   },
   "outputs": [],
   "source": [
    "{\n",
    "    auto pick = choice::some;\n",
    "    auto bad_pick = some;\n",
    "}"
   ]
  },
  {
   "cell_type": "markdown",
   "metadata": {
    "slideshow": {
     "slide_type": "slide"
    }
   },
   "source": [
    "- A scoped enumeration is not implicitly convertible to an integer"
   ]
  },
  {
   "cell_type": "markdown",
   "metadata": {
    "slideshow": {
     "slide_type": "fragment"
    }
   },
   "source": [
    "```cpp\n",
    "{\n",
    "    int bad_pick = some;\n",
    "    int pick = choice::some;\n",
    "}\n",
    "```\n",
    "```\n",
    "input_line_30:4:9: error: cannot initialize a variable of type 'int' with an rvalue of type 'choice'\n",
    "    int pick = choice::some;\n",
    "        ^      ~~~~~~~~~~~~\n",
    "```"
   ]
  },
  {
   "cell_type": "markdown",
   "metadata": {
    "slideshow": {
     "slide_type": "slide"
    }
   },
   "source": [
    "- However, lack of implicit conversion can make bit fields difficult to use"
   ]
  },
  {
   "cell_type": "code",
   "execution_count": 16,
   "metadata": {
    "execution": {
     "iopub.execute_input": "2020-12-28T04:11:27.168587Z",
     "iopub.status.busy": "2020-12-28T04:11:27.167399Z",
     "iopub.status.idle": "2020-12-28T04:11:27.170331Z",
     "shell.execute_reply": "2020-12-28T04:11:27.169617Z"
    },
    "slideshow": {
     "slide_type": "fragment"
    }
   },
   "outputs": [],
   "source": [
    "enum class merge_layer {\n",
    "    use_interior_opacity = 1 << 0,\n",
    "    use_master_opacity = 1 << 1,\n",
    "    use_sheet_mask = 1 << 2,\n",
    "    use_user_mask = 1 << 3,\n",
    "    use_vector_mask = 1 << 4,\n",
    "    use_content_mask = 1 << 5,\n",
    "    use_source_ranges = 1 << 6,\n",
    "    use_destination_ranges = 1 << 7,\n",
    "    use_filter_mask = 1 << 8\n",
    "};"
   ]
  },
  {
   "cell_type": "markdown",
   "metadata": {
    "slideshow": {
     "slide_type": "slide"
    }
   },
   "source": [
    "```cpp\n",
    "{\n",
    "    auto flags = merge_layer::use_sheet_mask | merge_layer::use_vector_mask;\n",
    "}\n",
    "```"
   ]
  },
  {
   "cell_type": "markdown",
   "metadata": {
    "slideshow": {
     "slide_type": "fragment"
    }
   },
   "source": [
    "```\n",
    "input_line_27:3:46: error: invalid operands to binary expression ('merge_layer' and 'merge_layer')\n",
    "    auto flags = merge_layer::use_sheet_mask | merge_layer::use_vector_mask;\n",
    "                 ~~~~~~~~~~~~~~~~~~~~~~~~~~~ ^ ~~~~~~~~~~~~~~~~~~~~~~~~~~~~\n",
    "/Users/sean-parent/miniconda3/envs/notebook/include/c++/v1/bitset:1059:1: note: candidate template ignored: could not match 'bitset<_Size>' against 'merge_layer'\n",
    "operator|(const bitset<_Size>& __x, const bitset<_Size>& __y) _NOEXCEPT\n",
    "^\n",
    "/Users/sean-parent/miniconda3/envs/notebook/include/c++/v1/valarray:4049:1: note: candidate template ignored: substitution failure [with _Expr1 = merge_layer, _Expr2\n",
    "      = merge_layer]: no type named 'value_type' in 'merge_layer'\n",
    "operator|(const _Expr1& __x, const _Expr2& __y)\n",
    "^\n",
    "/Users/sean-parent/miniconda3/envs/notebook/include/c++/v1/valarray:4064:1: note: candidate template ignored: substitution failure [with _Expr = merge_layer]: no type\n",
    "      named 'value_type' in 'merge_layer'\n",
    "operator|(const _Expr& __x, const typename _Expr::value_type& __y)\n",
    "^\n",
    "/Users/sean-parent/miniconda3/envs/notebook/include/c++/v1/valarray:4080:1: note: candidate template ignored: substitution failure [with _Expr = merge_layer]: no type\n",
    "      named 'value_type' in 'merge_layer'\n",
    "operator|(const typename _Expr::value_type& __x, const _Expr& __y)\n",
    "^\n",
    "```"
   ]
  },
  {
   "cell_type": "markdown",
   "metadata": {
    "slideshow": {
     "slide_type": "slide"
    }
   },
   "source": [
    "- `std::underlying_type_t<>` can be used to determine the type underlying any `enum` type"
   ]
  },
  {
   "cell_type": "code",
   "execution_count": 17,
   "metadata": {
    "execution": {
     "iopub.execute_input": "2020-12-28T04:11:27.173599Z",
     "iopub.status.busy": "2020-12-28T04:11:27.172876Z",
     "iopub.status.idle": "2020-12-28T04:11:27.177105Z",
     "shell.execute_reply": "2020-12-28T04:11:27.176301Z"
    },
    "slideshow": {
     "slide_type": "fragment"
    }
   },
   "outputs": [],
   "source": [
    "{\n",
    "    using underlying = underlying_type_t<merge_layer>;\n",
    "\n",
    "    auto flags = static_cast<merge_layer>(\n",
    "        static_cast<underlying>(merge_layer::use_sheet_mask) |\n",
    "        static_cast<underlying>(merge_layer::use_vector_mask));\n",
    "}"
   ]
  },
  {
   "cell_type": "markdown",
   "metadata": {
    "slideshow": {
     "slide_type": "slide"
    }
   },
   "source": [
    "- Adobe source libraries contains `<adobe/enum_ops.hpp>` which allows you to enable bitwise ops"
   ]
  },
  {
   "cell_type": "code",
   "execution_count": 18,
   "metadata": {
    "execution": {
     "iopub.execute_input": "2020-12-28T04:11:27.180561Z",
     "iopub.status.busy": "2020-12-28T04:11:27.179492Z",
     "iopub.status.idle": "2020-12-28T04:11:27.183245Z",
     "shell.execute_reply": "2020-12-28T04:11:27.182311Z"
    },
    "slideshow": {
     "slide_type": "skip"
    }
   },
   "outputs": [],
   "source": [
    "// skip\n",
    "namespace {\n",
    "merge_layer operator|(merge_layer a, merge_layer b) {\n",
    "    using underlying = underlying_type_t<merge_layer>;\n",
    "    \n",
    "    return static_cast<merge_layer>(static_cast<underlying>(a) |\n",
    "                                    static_cast<underlying>(b));\n",
    "}\n",
    "    \n",
    "template <merge_layer... I>\n",
    "constexpr auto extract_bits(merge_layer x) {\n",
    "    using underlying = underlying_type_t<merge_layer>;\n",
    "    return tuple{static_cast<bool>(static_cast<underlying>(x) & static_cast<underlying>(I))...};\n",
    "}\n",
    "\n",
    "\n",
    "} // namespace"
   ]
  },
  {
   "cell_type": "code",
   "execution_count": 19,
   "metadata": {
    "execution": {
     "iopub.execute_input": "2020-12-28T04:11:27.186381Z",
     "iopub.status.busy": "2020-12-28T04:11:27.185178Z",
     "iopub.status.idle": "2020-12-28T04:11:27.198446Z",
     "shell.execute_reply": "2020-12-28T04:11:27.197873Z"
    },
    "slideshow": {
     "slide_type": "fragment"
    }
   },
   "outputs": [
    {
     "name": "stdout",
     "output_type": "stream",
     "text": [
      "true\n"
     ]
    }
   ],
   "source": [
    "auto stlab_enable_bitmask_enum(merge_layer) -> std::true_type;\n",
    "\n",
    "{\n",
    "    auto flags = merge_layer::use_sheet_mask | merge_layer::use_vector_mask;\n",
    "    \n",
    "    auto [x] = extract_bits<merge_layer::use_sheet_mask>(flags);\n",
    "    cout << x << endl;\n",
    "}"
   ]
  },
  {
   "cell_type": "markdown",
   "metadata": {
    "slideshow": {
     "slide_type": "slide"
    }
   },
   "source": [
    "- You can specify the underlying type for any `enum` type"
   ]
  },
  {
   "cell_type": "code",
   "execution_count": 20,
   "metadata": {
    "execution": {
     "iopub.execute_input": "2020-12-28T04:11:27.201776Z",
     "iopub.status.busy": "2020-12-28T04:11:27.200593Z",
     "iopub.status.idle": "2020-12-28T04:11:27.204219Z",
     "shell.execute_reply": "2020-12-28T04:11:27.203376Z"
    },
    "slideshow": {
     "slide_type": "fragment"
    }
   },
   "outputs": [],
   "source": [
    "enum class small_choice : std::int16_t {\n",
    "    none, some, all\n",
    "};"
   ]
  },
  {
   "cell_type": "code",
   "execution_count": 21,
   "metadata": {
    "execution": {
     "iopub.execute_input": "2020-12-28T04:11:27.207619Z",
     "iopub.status.busy": "2020-12-28T04:11:27.206723Z",
     "iopub.status.idle": "2020-12-28T04:11:27.212958Z",
     "shell.execute_reply": "2020-12-28T04:11:27.212303Z"
    },
    "slideshow": {
     "slide_type": "fragment"
    }
   },
   "outputs": [
    {
     "name": "stdout",
     "output_type": "stream",
     "text": [
      "2\n"
     ]
    }
   ],
   "source": [
    "{\n",
    "    cout << sizeof(small_choice) << endl;\n",
    "}"
   ]
  },
  {
   "cell_type": "code",
   "execution_count": 22,
   "metadata": {
    "execution": {
     "iopub.execute_input": "2020-12-28T04:11:27.216516Z",
     "iopub.status.busy": "2020-12-28T04:11:27.215614Z",
     "iopub.status.idle": "2020-12-28T04:11:27.218365Z",
     "shell.execute_reply": "2020-12-28T04:11:27.217594Z"
    },
    "slideshow": {
     "slide_type": "slide"
    }
   },
   "outputs": [],
   "source": [
    "enum very_small : std::uint8_t {\n",
    "    success, error\n",
    "};"
   ]
  },
  {
   "cell_type": "code",
   "execution_count": 23,
   "metadata": {
    "execution": {
     "iopub.execute_input": "2020-12-28T04:11:27.221342Z",
     "iopub.status.busy": "2020-12-28T04:11:27.220612Z",
     "iopub.status.idle": "2020-12-28T04:11:27.227215Z",
     "shell.execute_reply": "2020-12-28T04:11:27.226497Z"
    },
    "slideshow": {
     "slide_type": "fragment"
    }
   },
   "outputs": [
    {
     "name": "stdout",
     "output_type": "stream",
     "text": [
      "1\n"
     ]
    }
   ],
   "source": [
    "{\n",
    "    cout << sizeof(very_small) << endl;\n",
    "}"
   ]
  },
  {
   "cell_type": "markdown",
   "metadata": {
    "slideshow": {
     "slide_type": "slide"
    }
   },
   "source": [
    "- The underlying type of a scoped enumeration if not specified is `int`\n",
    "- The underlying type of a unscoped enumeration if not specified is implementation defined\n",
    "    - Large enough to hold all enumerator values\n",
    "    - Not larger than `int` unless an enumerator value cannot fit into an `int`\n",
    "    - If empty, treated as if it had a single enumerator with value `0`"
   ]
  },
  {
   "cell_type": "markdown",
   "metadata": {
    "slideshow": {
     "slide_type": "slide"
    }
   },
   "source": [
    "### Recommendations\n",
    "- Replace unscoped enumerations with scoped enumerations\n",
    "    - Don't specify the underlying type without cause\n",
    "\n",
    "- Use the `<adobe/enum_ops.hpp>` (which may become `<stlab/enum_ops.hpp>` soon) for\n",
    "    - Types that represent a arithmetic type\n",
    "    - Types that represent bit fields"
   ]
  },
  {
   "cell_type": "markdown",
   "metadata": {
    "slideshow": {
     "slide_type": "slide"
    }
   },
   "source": [
    "### Homework\n",
    "- Replace an unscoped enumeration with a scoped enumeration in your project\n",
    "    - Did it improve the appearance of the code or clutter it?\n",
    "    - Did it catch any errors?"
   ]
  },
  {
   "cell_type": "markdown",
   "metadata": {
    "slideshow": {
     "slide_type": "slide"
    }
   },
   "source": [
    "## Type Aliases\n",
    "- A _type alias_ is a new syntax for `typedef` declarations"
   ]
  },
  {
   "cell_type": "code",
   "execution_count": 24,
   "metadata": {
    "execution": {
     "iopub.execute_input": "2020-12-28T04:11:27.230592Z",
     "iopub.status.busy": "2020-12-28T04:11:27.229606Z",
     "iopub.status.idle": "2020-12-28T04:11:27.232735Z",
     "shell.execute_reply": "2020-12-28T04:11:27.231707Z"
    },
    "slideshow": {
     "slide_type": "fragment"
    }
   },
   "outputs": [],
   "source": [
    "typedef int some_type;"
   ]
  },
  {
   "cell_type": "code",
   "execution_count": 25,
   "metadata": {
    "execution": {
     "iopub.execute_input": "2020-12-28T04:11:27.235687Z",
     "iopub.status.busy": "2020-12-28T04:11:27.234671Z",
     "iopub.status.idle": "2020-12-28T04:11:27.236435Z",
     "shell.execute_reply": "2020-12-28T04:11:27.237457Z"
    },
    "slideshow": {
     "slide_type": "skip"
    }
   },
   "outputs": [],
   "source": [
    ".undo 1"
   ]
  },
  {
   "cell_type": "code",
   "execution_count": 26,
   "metadata": {
    "execution": {
     "iopub.execute_input": "2020-12-28T04:11:27.240744Z",
     "iopub.status.busy": "2020-12-28T04:11:27.239953Z",
     "iopub.status.idle": "2020-12-28T04:11:27.242397Z",
     "shell.execute_reply": "2020-12-28T04:11:27.241684Z"
    },
    "slideshow": {
     "slide_type": "fragment"
    }
   },
   "outputs": [],
   "source": [
    "using some_type = int;"
   ]
  },
  {
   "cell_type": "markdown",
   "metadata": {
    "slideshow": {
     "slide_type": "slide"
    }
   },
   "source": [
    "- The new syntax makes complex aliases easier to read and write"
   ]
  },
  {
   "cell_type": "code",
   "execution_count": 27,
   "metadata": {
    "execution": {
     "iopub.execute_input": "2020-12-28T04:11:27.245328Z",
     "iopub.status.busy": "2020-12-28T04:11:27.244569Z",
     "iopub.status.idle": "2020-12-28T04:11:27.247731Z",
     "shell.execute_reply": "2020-12-28T04:11:27.246502Z"
    },
    "slideshow": {
     "slide_type": "fragment"
    }
   },
   "outputs": [],
   "source": [
    "typedef int (*some_func)(int);"
   ]
  },
  {
   "cell_type": "code",
   "execution_count": 28,
   "metadata": {
    "execution": {
     "iopub.execute_input": "2020-12-28T04:11:27.250496Z",
     "iopub.status.busy": "2020-12-28T04:11:27.249812Z",
     "iopub.status.idle": "2020-12-28T04:11:27.251245Z",
     "shell.execute_reply": "2020-12-28T04:11:27.252171Z"
    },
    "slideshow": {
     "slide_type": "skip"
    }
   },
   "outputs": [],
   "source": [
    ".undo 1"
   ]
  },
  {
   "cell_type": "code",
   "execution_count": 29,
   "metadata": {
    "execution": {
     "iopub.execute_input": "2020-12-28T04:11:27.254958Z",
     "iopub.status.busy": "2020-12-28T04:11:27.254173Z",
     "iopub.status.idle": "2020-12-28T04:11:27.257141Z",
     "shell.execute_reply": "2020-12-28T04:11:27.256220Z"
    },
    "slideshow": {
     "slide_type": "fragment"
    }
   },
   "outputs": [],
   "source": [
    "using some_func = int (*)(int);"
   ]
  },
  {
   "cell_type": "code",
   "execution_count": 30,
   "metadata": {
    "execution": {
     "iopub.execute_input": "2020-12-28T04:11:27.259682Z",
     "iopub.status.busy": "2020-12-28T04:11:27.259110Z",
     "iopub.status.idle": "2020-12-28T04:11:27.260390Z",
     "shell.execute_reply": "2020-12-28T04:11:27.261251Z"
    },
    "slideshow": {
     "slide_type": "skip"
    }
   },
   "outputs": [],
   "source": [
    ".undo 1"
   ]
  },
  {
   "cell_type": "markdown",
   "metadata": {
    "slideshow": {
     "slide_type": "slide"
    }
   },
   "source": [
    "- Unlike `typedef`, a type alias can be declared as a template"
   ]
  },
  {
   "cell_type": "code",
   "execution_count": 31,
   "metadata": {
    "execution": {
     "iopub.execute_input": "2020-12-28T04:11:27.264213Z",
     "iopub.status.busy": "2020-12-28T04:11:27.263259Z",
     "iopub.status.idle": "2020-12-28T04:11:27.265963Z",
     "shell.execute_reply": "2020-12-28T04:11:27.265249Z"
    },
    "slideshow": {
     "slide_type": "fragment"
    }
   },
   "outputs": [],
   "source": [
    "template <class T>\n",
    "using some_func = T (*)(T);"
   ]
  },
  {
   "cell_type": "code",
   "execution_count": 32,
   "metadata": {
    "execution": {
     "iopub.execute_input": "2020-12-28T04:11:27.268694Z",
     "iopub.status.busy": "2020-12-28T04:11:27.267729Z",
     "iopub.status.idle": "2020-12-28T04:11:27.276683Z",
     "shell.execute_reply": "2020-12-28T04:11:27.275892Z"
    },
    "slideshow": {
     "slide_type": "fragment"
    }
   },
   "outputs": [
    {
     "name": "stdout",
     "output_type": "stream",
     "text": [
      "100"
     ]
    }
   ],
   "source": [
    "{\n",
    "    some_func<double> f = [](double x){ return x * x; };\n",
    "    \n",
    "    cout << f(10);\n",
    "}"
   ]
  },
  {
   "cell_type": "markdown",
   "metadata": {
    "slideshow": {
     "slide_type": "slide"
    }
   },
   "source": [
    "- A template type alias is useful to define an alias to a dependent type"
   ]
  },
  {
   "cell_type": "code",
   "execution_count": 33,
   "metadata": {
    "execution": {
     "iopub.execute_input": "2020-12-28T04:11:27.279544Z",
     "iopub.status.busy": "2020-12-28T04:11:27.278652Z",
     "iopub.status.idle": "2020-12-28T04:11:27.281584Z",
     "shell.execute_reply": "2020-12-28T04:11:27.280568Z"
    },
    "slideshow": {
     "slide_type": "fragment"
    }
   },
   "outputs": [],
   "source": [
    "template <class I>\n",
    "auto distance(I f, I l) -> typename iterator_traits<I>::difference_type;"
   ]
  },
  {
   "cell_type": "code",
   "execution_count": 34,
   "metadata": {
    "execution": {
     "iopub.execute_input": "2020-12-28T04:11:27.284732Z",
     "iopub.status.busy": "2020-12-28T04:11:27.284143Z",
     "iopub.status.idle": "2020-12-28T04:11:27.285645Z",
     "shell.execute_reply": "2020-12-28T04:11:27.286347Z"
    },
    "slideshow": {
     "slide_type": "skip"
    }
   },
   "outputs": [],
   "source": [
    ".undo 1"
   ]
  },
  {
   "cell_type": "code",
   "execution_count": 35,
   "metadata": {
    "execution": {
     "iopub.execute_input": "2020-12-28T04:11:27.289235Z",
     "iopub.status.busy": "2020-12-28T04:11:27.288340Z",
     "iopub.status.idle": "2020-12-28T04:11:27.290482Z",
     "shell.execute_reply": "2020-12-28T04:11:27.289813Z"
    },
    "slideshow": {
     "slide_type": "fragment"
    }
   },
   "outputs": [],
   "source": [
    "template <class I>\n",
    "using difference_t = typename iterator_traits<I>::difference_type;"
   ]
  },
  {
   "cell_type": "code",
   "execution_count": 36,
   "metadata": {
    "execution": {
     "iopub.execute_input": "2020-12-28T04:11:27.293682Z",
     "iopub.status.busy": "2020-12-28T04:11:27.292901Z",
     "iopub.status.idle": "2020-12-28T04:11:27.295141Z",
     "shell.execute_reply": "2020-12-28T04:11:27.294416Z"
    },
    "slideshow": {
     "slide_type": "fragment"
    }
   },
   "outputs": [],
   "source": [
    "template <class I>\n",
    "auto distance(I f, I l) -> difference_t<I>;"
   ]
  },
  {
   "cell_type": "markdown",
   "metadata": {
    "slideshow": {
     "slide_type": "slide"
    }
   },
   "source": [
    "### Recommendations\n",
    "- Prefer type aliases to typedefs\n",
    "- Use template type aliases as type functions to simplify complex type expressions"
   ]
  },
  {
   "cell_type": "markdown",
   "metadata": {
    "slideshow": {
     "slide_type": "slide"
    }
   },
   "source": [
    "### Homework\n",
    "- Replace some typedefs in your project with type aliases\n",
    "- Find an instance of `typename` used for a dependent type and replace it with template type alias\n",
    "    - **Hint** use the regular expression `[^,<] typename` to find an instance"
   ]
  },
  {
   "cell_type": "markdown",
   "metadata": {
    "slideshow": {
     "slide_type": "slide"
    }
   },
   "source": [
    "## Templates Variables\n",
    "- C++14 added template variables\n",
    "    - A non-const template variable will only have one instance across translation units\n",
    "        - i.e. implicitly `inline`\n",
    "    - However, a `const` (or `constexpr`) template variable is implicitly `static`, one instance per translation unit\n",
    "        - But can be declared `inline`"
   ]
  },
  {
   "cell_type": "code",
   "execution_count": 37,
   "metadata": {
    "execution": {
     "iopub.execute_input": "2020-12-28T04:11:27.298662Z",
     "iopub.status.busy": "2020-12-28T04:11:27.297869Z",
     "iopub.status.idle": "2020-12-28T04:11:27.300304Z",
     "shell.execute_reply": "2020-12-28T04:11:27.299551Z"
    },
    "slideshow": {
     "slide_type": "slide"
    }
   },
   "outputs": [],
   "source": [
    "namespace {\n",
    "    \n",
    "template <class T>\n",
    "inline constexpr T max_value = std::numeric_limits<T>::max();\n",
    "\n",
    "} // namespace"
   ]
  },
  {
   "cell_type": "code",
   "execution_count": 38,
   "metadata": {
    "execution": {
     "iopub.execute_input": "2020-12-28T04:11:27.303434Z",
     "iopub.status.busy": "2020-12-28T04:11:27.302714Z",
     "iopub.status.idle": "2020-12-28T04:11:27.308318Z",
     "shell.execute_reply": "2020-12-28T04:11:27.307717Z"
    },
    "slideshow": {
     "slide_type": "fragment"
    }
   },
   "outputs": [
    {
     "name": "stdout",
     "output_type": "stream",
     "text": [
      "2147483647\n"
     ]
    }
   ],
   "source": [
    "{\n",
    "    auto x = max_value<int>;\n",
    "    \n",
    "    cout << x << endl;\n",
    "}"
   ]
  },
  {
   "cell_type": "markdown",
   "metadata": {
    "slideshow": {
     "slide_type": "slide"
    }
   },
   "source": [
    "### Recommendations\n",
    "- There are minor advantages to template variables over template static members and template functions\n",
    "    - Use as needed (rarely)"
   ]
  },
  {
   "cell_type": "markdown",
   "metadata": {
    "slideshow": {
     "slide_type": "slide"
    }
   },
   "source": [
    "### Homework\n",
    "- None"
   ]
  },
  {
   "cell_type": "markdown",
   "metadata": {
    "slideshow": {
     "slide_type": "slide"
    }
   },
   "source": [
    "## Extern Templates\n",
    "- An explicit instantiation declaration of a template tell the compiler that an explicit instantiation definition exists in exactly one compilation unit"
   ]
  },
  {
   "cell_type": "code",
   "execution_count": 39,
   "metadata": {
    "execution": {
     "iopub.execute_input": "2020-12-28T04:11:27.311626Z",
     "iopub.status.busy": "2020-12-28T04:11:27.310590Z",
     "iopub.status.idle": "2020-12-28T04:11:27.313394Z",
     "shell.execute_reply": "2020-12-28T04:11:27.312586Z"
    },
    "slideshow": {
     "slide_type": "fragment"
    }
   },
   "outputs": [],
   "source": [
    "// header.hpp\n",
    "\n",
    "namespace library {\n",
    "    \n",
    "template <class T>\n",
    "class my_wizzy_type {\n",
    "    void member_function();\n",
    "    // ...\n",
    "};\n",
    "\n",
    "extern template class my_wizzy_type<int>;\n",
    "\n",
    "} // namespace library"
   ]
  },
  {
   "cell_type": "markdown",
   "metadata": {
    "slideshow": {
     "slide_type": "slide"
    }
   },
   "source": [
    "```cpp\n",
    "// code.cpp\n",
    "\n",
    "#include \"header.hpp\"\n",
    "```"
   ]
  },
  {
   "cell_type": "code",
   "execution_count": 40,
   "metadata": {
    "execution": {
     "iopub.execute_input": "2020-12-28T04:11:27.316874Z",
     "iopub.status.busy": "2020-12-28T04:11:27.316195Z",
     "iopub.status.idle": "2020-12-28T04:11:27.318617Z",
     "shell.execute_reply": "2020-12-28T04:11:27.317776Z"
    },
    "slideshow": {
     "slide_type": "-"
    }
   },
   "outputs": [],
   "source": [
    "namespace library {\n",
    "    \n",
    "template <class T>\n",
    "void my_wizzy_type<T>::member_function() {\n",
    "    //...\n",
    "}\n",
    "\n",
    "template class my_wizzy_type<int>;\n",
    "    \n",
    "} // namespace library"
   ]
  },
  {
   "cell_type": "markdown",
   "metadata": {
    "slideshow": {
     "slide_type": "slide"
    }
   },
   "source": [
    "### Recommendations\n",
    "- If you currently rely on hacks to force instantiation in a translation unit, at least use this as a supported mechanism\n",
    "- Potentially useful for controlling instantiation for DLLs\n",
    "    - But still prefer DLLs be avoided\n",
    "- May speed compilation times and allow more separation of interface from implementation\n",
    "    - Measure"
   ]
  },
  {
   "cell_type": "markdown",
   "metadata": {
    "slideshow": {
     "slide_type": "slide"
    }
   },
   "source": [
    "### Homework\n",
    "- None (unless you are currently doing this with a hack, in which case, fix it!)"
   ]
  },
  {
   "cell_type": "markdown",
   "metadata": {
    "slideshow": {
     "slide_type": "slide"
    }
   },
   "source": [
    "## Variadic Macros\n",
    "- C99 added variadic macros, picked up by C++ in C++11\n",
    "    - `__VA_ARGS__` holds argument list\n",
    "    - `__VA_OPT__(`<em>`content`</em>`)` can be used in the replacement (_C++20_)\n",
    "        - If `__VA_ARGS__` is not empty `__VA_OPT__(`<em>`content`</em>`)` is replaced with _`content`_\n",
    "        - Otherwise `__VA_OPT__(`<em>`content`</em>`)` expands to nothing"
   ]
  },
  {
   "cell_type": "code",
   "execution_count": 41,
   "metadata": {
    "execution": {
     "iopub.execute_input": "2020-12-28T04:11:27.321689Z",
     "iopub.status.busy": "2020-12-28T04:11:27.320834Z",
     "iopub.status.idle": "2020-12-28T04:11:27.323415Z",
     "shell.execute_reply": "2020-12-28T04:11:27.322434Z"
    },
    "slideshow": {
     "slide_type": "slide"
    }
   },
   "outputs": [],
   "source": [
    "#define ARRAY(...) \\\n",
    "    int array[] = { __VA_ARGS__ }"
   ]
  },
  {
   "cell_type": "code",
   "execution_count": 42,
   "metadata": {
    "execution": {
     "iopub.execute_input": "2020-12-28T04:11:27.326268Z",
     "iopub.status.busy": "2020-12-28T04:11:27.325611Z",
     "iopub.status.idle": "2020-12-28T04:11:27.331403Z",
     "shell.execute_reply": "2020-12-28T04:11:27.332098Z"
    },
    "slideshow": {
     "slide_type": "fragment"
    }
   },
   "outputs": [
    {
     "name": "stdout",
     "output_type": "stream",
     "text": [
      "5\n",
      "3\n"
     ]
    }
   ],
   "source": [
    "{\n",
    "    ARRAY(5, 3);\n",
    "    for (const auto& e : array) cout << e << endl;\n",
    "}"
   ]
  },
  {
   "cell_type": "markdown",
   "metadata": {
    "slideshow": {
     "slide_type": "slide"
    }
   },
   "source": [
    "- Stringizing `__VA_ARGS__` quotes the entire replacement"
   ]
  },
  {
   "cell_type": "code",
   "execution_count": 43,
   "metadata": {
    "execution": {
     "iopub.execute_input": "2020-12-28T04:11:27.335391Z",
     "iopub.status.busy": "2020-12-28T04:11:27.334641Z",
     "iopub.status.idle": "2020-12-28T04:11:27.337124Z",
     "shell.execute_reply": "2020-12-28T04:11:27.336252Z"
    },
    "slideshow": {
     "slide_type": "fragment"
    }
   },
   "outputs": [],
   "source": [
    "#define SHOW(...) \\\n",
    "    #__VA_ARGS__"
   ]
  },
  {
   "cell_type": "code",
   "execution_count": 44,
   "metadata": {
    "execution": {
     "iopub.execute_input": "2020-12-28T04:11:27.339782Z",
     "iopub.status.busy": "2020-12-28T04:11:27.339242Z",
     "iopub.status.idle": "2020-12-28T04:11:27.806719Z",
     "shell.execute_reply": "2020-12-28T04:11:27.805398Z"
    },
    "slideshow": {
     "slide_type": "fragment"
    }
   },
   "outputs": [
    {
     "data": {
      "text/plain": [
       "\"10, 42.5, x\""
      ]
     },
     "execution_count": 44,
     "metadata": {},
     "output_type": "execute_result"
    }
   ],
   "source": [
    "SHOW(10, 42.5, x)"
   ]
  },
  {
   "cell_type": "markdown",
   "metadata": {
    "slideshow": {
     "slide_type": "slide"
    }
   },
   "source": [
    "### Recommendations\n",
    "- Macros are still best avoided\n",
    "    - File this in your bag of tricks..."
   ]
  },
  {
   "cell_type": "markdown",
   "metadata": {
    "slideshow": {
     "slide_type": "slide"
    }
   },
   "source": [
    "### Homework\n",
    "- None"
   ]
  },
  {
   "cell_type": "markdown",
   "metadata": {
    "slideshow": {
     "slide_type": "slide"
    }
   },
   "source": [
    "## Another Detour\n",
    "- After break we are going to spend a few (4?) courses on testing theory and writing unit tests\n",
    "    - All white-box QE are invited and encouraged to attend\n",
    "        - Black-box QE may also find it interesting\n",
    "    - Very valuable for devs as well\n",
    "- This section came about after reviewing several candidates results of a take-home project to write a unit test for `std::vector<>`"
   ]
  },
  {
   "cell_type": "markdown",
   "metadata": {
    "slideshow": {
     "slide_type": "slide"
    }
   },
   "source": [
    "### Section Outline\n",
    "- Why test?\n",
    "- How is meaning ascribed to software?\n",
    "    - Axioms and Equational Reasoning\n",
    "- Design by Contract\n",
    "- Concepts and models\n",
    "- Quantifying, measuring, and testing performance\n",
    "- Requirements of the Basic Interface\n",
    "- What is not testable, and why"
   ]
  },
  {
   "cell_type": "markdown",
   "metadata": {
    "slideshow": {
     "slide_type": "fragment"
    }
   },
   "source": [
    "- My goal is everyone who attends (and does the homework) should be able to write an _A+_ unit test for `std::vector<>`"
   ]
  }
 ],
 "metadata": {
  "kernelspec": {
   "display_name": "C++17",
   "language": "C++17",
   "name": "xcpp17"
  },
  "language_info": {
   "codemirror_mode": "text/x-c++src",
   "file_extension": ".cpp",
   "mimetype": "text/x-c++src",
   "name": "c++",
   "version": "17"
  }
 },
 "nbformat": 4,
 "nbformat_minor": 4
}
