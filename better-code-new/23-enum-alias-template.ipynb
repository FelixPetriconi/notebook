{
 "cells": [
  {
   "cell_type": "code",
   "execution_count": 1,
   "metadata": {
    "slideshow": {
     "slide_type": "skip"
    }
   },
   "outputs": [],
   "source": [
    "#include <iostream>\n",
    "\n",
    "using namespace std;"
   ]
  },
  {
   "cell_type": "markdown",
   "metadata": {
    "slideshow": {
     "slide_type": "slide"
    }
   },
   "source": [
    "## Recap - Parameter Pack Fold Expressions"
   ]
  },
  {
   "cell_type": "markdown",
   "metadata": {
    "slideshow": {
     "slide_type": "fragment"
    }
   },
   "source": [
    "- Jared Wyles posted in slack that he was starting to use structs with bools instead of bit flags\n",
    "    - One reason is to allow the use of structured bindings\n",
    "    - However, this quickly runs into a scaling issue"
   ]
  },
  {
   "cell_type": "code",
   "execution_count": 2,
   "metadata": {
    "slideshow": {
     "slide_type": "fragment"
    }
   },
   "outputs": [],
   "source": [
    "struct merge_layer_flags_t {\n",
    "    bool use_interior_opacity = false;\n",
    "    bool use_master_opacity = false;\n",
    "    bool use_sheet_mask = false;\n",
    "    bool use_user_mask = false;\n",
    "    bool use_vector_mask = false;\n",
    "    bool use_content_mask = false;\n",
    "    bool use_source_ranges = false;\n",
    "    bool use_destination_ranges = false;\n",
    "    bool use_filter_mask = false;\n",
    "};"
   ]
  },
  {
   "cell_type": "code",
   "execution_count": 3,
   "metadata": {
    "slideshow": {
     "slide_type": "slide"
    }
   },
   "outputs": [
    {
     "name": "stdout",
     "output_type": "stream",
     "text": [
      "0, 0, 0, 1, 0, 1, 0, 0, 0\n"
     ]
    }
   ],
   "source": [
    "{\n",
    "    merge_layer_flags_t flags;\n",
    "\n",
    "    flags.use_user_mask = true;\n",
    "    flags.use_content_mask = true;\n",
    "\n",
    "    auto [io, mo, sm, um, vm, cm, sr, dr, fm] = flags;\n",
    "    \n",
    "    cout << io << \", \" << mo << \", \" << sm << \", \" << um << \", \" << vm << \", \" << cm\n",
    "         << \", \" << sr << \", \" << dr << \", \" << fm << endl;\n",
    "}"
   ]
  },
  {
   "cell_type": "markdown",
   "metadata": {
    "slideshow": {
     "slide_type": "slide"
    }
   },
   "source": [
    "- Could we use an `enum` and use structured bindings to unpack into `bool`s?"
   ]
  },
  {
   "cell_type": "code",
   "execution_count": 4,
   "metadata": {
    "slideshow": {
     "slide_type": "fragment"
    }
   },
   "outputs": [],
   "source": [
    "enum merge_layer_flags {\n",
    "    use_interior_opacity = 1 << 0,\n",
    "    use_master_opacity = 1 << 1,\n",
    "    use_sheet_mask = 1 << 2,\n",
    "    use_user_mask = 1 << 3,\n",
    "    use_vector_mask = 1 << 4,\n",
    "    use_content_mask = 1 << 5,\n",
    "    use_source_ranges = 1 << 6,\n",
    "    use_destination_ranges = 1 << 7,\n",
    "    use_filter_mask = 1 << 8\n",
    "};"
   ]
  },
  {
   "cell_type": "code",
   "execution_count": 5,
   "metadata": {
    "slideshow": {
     "slide_type": "slide"
    }
   },
   "outputs": [],
   "source": [
    "template <auto... I, class T>\n",
    "constexpr auto extract_bits_a(T x) {\n",
    "    return tuple{static_cast<bool>(x & I)...};\n",
    "}"
   ]
  },
  {
   "cell_type": "code",
   "execution_count": 6,
   "metadata": {
    "slideshow": {
     "slide_type": "skip"
    }
   },
   "outputs": [],
   "source": [
    "// skip\n",
    "cout << boolalpha;"
   ]
  },
  {
   "cell_type": "code",
   "execution_count": 7,
   "metadata": {
    "slideshow": {
     "slide_type": "fragment"
    }
   },
   "outputs": [
    {
     "name": "stdout",
     "output_type": "stream",
     "text": [
      "false, true, true\n"
     ]
    }
   ],
   "source": [
    "{\n",
    "    merge_layer_flags flags =\n",
    "        static_cast<merge_layer_flags>(use_user_mask | use_content_mask);\n",
    "\n",
    "    auto [vm, um, cm] =\n",
    "        extract_bits_a<use_vector_mask, use_user_mask, use_content_mask>(flags);\n",
    "\n",
    "    cout << vm << \", \" << um << \", \" << cm << endl;\n",
    "}"
   ]
  },
  {
   "cell_type": "markdown",
   "metadata": {
    "slideshow": {
     "slide_type": "slide"
    }
   },
   "source": [
    "- This is potentially error prone"
   ]
  },
  {
   "cell_type": "code",
   "execution_count": 8,
   "metadata": {
    "slideshow": {
     "slide_type": "fragment"
    }
   },
   "outputs": [
    {
     "name": "stdout",
     "output_type": "stream",
     "text": [
      "true\n"
     ]
    }
   ],
   "source": [
    "{\n",
    "    auto [x] = extract_bits_a<3>(7);\n",
    "    cout << x << endl;\n",
    "}"
   ]
  },
  {
   "cell_type": "markdown",
   "metadata": {
    "slideshow": {
     "slide_type": "slide"
    }
   },
   "source": [
    "- Was the intent to extract the third bit?\n",
    "    - Lower two bits?"
   ]
  },
  {
   "cell_type": "markdown",
   "metadata": {
    "slideshow": {
     "slide_type": "slide"
    }
   },
   "source": [
    "- `ispow2()` is a C++20 function but we can implement it"
   ]
  },
  {
   "cell_type": "code",
   "execution_count": 9,
   "metadata": {
    "slideshow": {
     "slide_type": "fragment"
    }
   },
   "outputs": [],
   "source": [
    "template <class T>\n",
    "constexpr bool ispow2(T x) {\n",
    "    return (x != 0) && !(x & (x - 1));\n",
    "}"
   ]
  },
  {
   "cell_type": "code",
   "execution_count": 10,
   "metadata": {
    "slideshow": {
     "slide_type": "fragment"
    }
   },
   "outputs": [
    {
     "data": {
      "text/plain": [
       "false"
      ]
     },
     "execution_count": 10,
     "metadata": {},
     "output_type": "execute_result"
    }
   ],
   "source": [
    "ispow2(3)"
   ]
  },
  {
   "cell_type": "code",
   "execution_count": 11,
   "metadata": {
    "slideshow": {
     "slide_type": "fragment"
    }
   },
   "outputs": [
    {
     "data": {
      "text/plain": [
       "true"
      ]
     },
     "execution_count": 11,
     "metadata": {},
     "output_type": "execute_result"
    }
   ],
   "source": [
    "ispow2(4)"
   ]
  },
  {
   "cell_type": "markdown",
   "metadata": {
    "slideshow": {
     "slide_type": "slide"
    }
   },
   "source": [
    "- Using a fold expression in a static assert, we can check for valid mask bits"
   ]
  },
  {
   "cell_type": "code",
   "execution_count": 12,
   "metadata": {
    "slideshow": {
     "slide_type": "fragment"
    }
   },
   "outputs": [],
   "source": [
    "template <auto... I, class T>\n",
    "constexpr auto extract_bits(T x) {\n",
    "    static_assert((ispow2(I) && ...));\n",
    "    return tuple{static_cast<bool>(x & I)...};\n",
    "}"
   ]
  },
  {
   "cell_type": "markdown",
   "metadata": {
    "slideshow": {
     "slide_type": "slide"
    }
   },
   "source": [
    "```cpp\n",
    "{\n",
    "    auto [x] = extract_bits<3>(7);\n",
    "    cout << x << endl;\n",
    "}\n",
    "```\n",
    "```\n",
    "input_line_22:3:5: error: static_assert failed\n",
    "    static_assert((ispow2(I) && ...));\n",
    "    ^              ~~~~~~~~~~~~~~~~\n",
    "input_line_25:3:16: note: in instantiation of function template specialization 'extract_bits<3, int>'\n",
    "      requested here\n",
    "    auto [x] = extract_bits<3>(7);\n",
    "               ^\n",
    "```"
   ]
  },
  {
   "cell_type": "code",
   "execution_count": 13,
   "metadata": {
    "slideshow": {
     "slide_type": "fragment"
    }
   },
   "outputs": [
    {
     "name": "stdout",
     "output_type": "stream",
     "text": [
      "true\n"
     ]
    }
   ],
   "source": [
    "{\n",
    "    auto [x] = extract_bits<4>(7);\n",
    "    cout << x << endl;\n",
    "}"
   ]
  },
  {
   "cell_type": "markdown",
   "metadata": {
    "slideshow": {
     "slide_type": "slide"
    }
   },
   "source": [
    "## Scoped enumerations and underlying types\n",
    "\n",
    "- A scoped enumeration, `enum class` or `enum struct`, provides a strongly typed enumeration"
   ]
  },
  {
   "cell_type": "code",
   "execution_count": 14,
   "metadata": {
    "slideshow": {
     "slide_type": "fragment"
    }
   },
   "outputs": [],
   "source": [
    "enum class choice { none, some, all };\n",
    "enum bad_choice { none, some, all };"
   ]
  },
  {
   "cell_type": "markdown",
   "metadata": {
    "slideshow": {
     "slide_type": "slide"
    }
   },
   "source": [
    "- An scoped enumeration defines it's own scope for names (similar to an `enum` declared within a class)"
   ]
  },
  {
   "cell_type": "code",
   "execution_count": 15,
   "metadata": {
    "slideshow": {
     "slide_type": "fragment"
    }
   },
   "outputs": [],
   "source": [
    "{\n",
    "    auto pick = choice::some;\n",
    "    auto bad_pick = some;\n",
    "}"
   ]
  },
  {
   "cell_type": "markdown",
   "metadata": {
    "slideshow": {
     "slide_type": "slide"
    }
   },
   "source": [
    "- A scoped enumeration is not implicitly convertible to an integer"
   ]
  },
  {
   "cell_type": "markdown",
   "metadata": {
    "slideshow": {
     "slide_type": "fragment"
    }
   },
   "source": [
    "```cpp\n",
    "{\n",
    "    int bad_pick = some;\n",
    "    int pick = choice::some;\n",
    "}\n",
    "```\n",
    "```\n",
    "input_line_30:4:9: error: cannot initialize a variable of type 'int' with an rvalue of type 'choice'\n",
    "    int pick = choice::some;\n",
    "        ^      ~~~~~~~~~~~~\n",
    "```"
   ]
  },
  {
   "cell_type": "markdown",
   "metadata": {
    "slideshow": {
     "slide_type": "slide"
    }
   },
   "source": [
    "- However, lack of implicit conversion can make bit fields difficult to use"
   ]
  },
  {
   "cell_type": "code",
   "execution_count": 16,
   "metadata": {
    "slideshow": {
     "slide_type": "fragment"
    }
   },
   "outputs": [],
   "source": [
    "enum class merge_layer {\n",
    "    use_interior_opacity = 1 << 0,\n",
    "    use_master_opacity = 1 << 1,\n",
    "    use_sheet_mask = 1 << 2,\n",
    "    use_user_mask = 1 << 3,\n",
    "    use_vector_mask = 1 << 4,\n",
    "    use_content_mask = 1 << 5,\n",
    "    use_source_ranges = 1 << 6,\n",
    "    use_destination_ranges = 1 << 7,\n",
    "    use_filter_mask = 1 << 8\n",
    "};"
   ]
  },
  {
   "cell_type": "markdown",
   "metadata": {
    "slideshow": {
     "slide_type": "slide"
    }
   },
   "source": [
    "```cpp\n",
    "{\n",
    "    auto flags = merge_layer::use_sheet_mask | merge_layer::use_vector_mask;\n",
    "}\n",
    "```"
   ]
  },
  {
   "cell_type": "markdown",
   "metadata": {
    "slideshow": {
     "slide_type": "fragment"
    }
   },
   "source": [
    "```\n",
    "input_line_27:3:46: error: invalid operands to binary expression ('merge_layer' and 'merge_layer')\n",
    "    auto flags = merge_layer::use_sheet_mask | merge_layer::use_vector_mask;\n",
    "                 ~~~~~~~~~~~~~~~~~~~~~~~~~~~ ^ ~~~~~~~~~~~~~~~~~~~~~~~~~~~~\n",
    "/Users/sean-parent/miniconda3/envs/notebook/include/c++/v1/bitset:1059:1: note: candidate template ignored: could not match 'bitset<_Size>' against 'merge_layer'\n",
    "operator|(const bitset<_Size>& __x, const bitset<_Size>& __y) _NOEXCEPT\n",
    "^\n",
    "/Users/sean-parent/miniconda3/envs/notebook/include/c++/v1/valarray:4049:1: note: candidate template ignored: substitution failure [with _Expr1 = merge_layer, _Expr2\n",
    "      = merge_layer]: no type named 'value_type' in 'merge_layer'\n",
    "operator|(const _Expr1& __x, const _Expr2& __y)\n",
    "^\n",
    "/Users/sean-parent/miniconda3/envs/notebook/include/c++/v1/valarray:4064:1: note: candidate template ignored: substitution failure [with _Expr = merge_layer]: no type\n",
    "      named 'value_type' in 'merge_layer'\n",
    "operator|(const _Expr& __x, const typename _Expr::value_type& __y)\n",
    "^\n",
    "/Users/sean-parent/miniconda3/envs/notebook/include/c++/v1/valarray:4080:1: note: candidate template ignored: substitution failure [with _Expr = merge_layer]: no type\n",
    "      named 'value_type' in 'merge_layer'\n",
    "operator|(const typename _Expr::value_type& __x, const _Expr& __y)\n",
    "^\n",
    "```"
   ]
  },
  {
   "cell_type": "markdown",
   "metadata": {
    "slideshow": {
     "slide_type": "slide"
    }
   },
   "source": [
    "- `std::underlying_type_t<>` can be used to determine the type underlying any `enum` type"
   ]
  },
  {
   "cell_type": "code",
   "execution_count": 17,
   "metadata": {
    "slideshow": {
     "slide_type": "fragment"
    }
   },
   "outputs": [],
   "source": [
    "{\n",
    "    using underlying = underlying_type_t<merge_layer>;\n",
    "\n",
    "    auto flags = static_cast<merge_layer>(\n",
    "        static_cast<underlying>(merge_layer::use_sheet_mask) |\n",
    "        static_cast<underlying>(merge_layer::use_vector_mask));\n",
    "}"
   ]
  },
  {
   "cell_type": "markdown",
   "metadata": {
    "slideshow": {
     "slide_type": "slide"
    }
   },
   "source": [
    "- Adobe source libraries contains `<adobe/enum_ops.hpp>` which allows you to enable bitwise ops"
   ]
  },
  {
   "cell_type": "code",
   "execution_count": 18,
   "metadata": {
    "slideshow": {
     "slide_type": "skip"
    }
   },
   "outputs": [],
   "source": [
    "// skip\n",
    "namespace {\n",
    "merge_layer operator|(merge_layer a, merge_layer b) {\n",
    "    using underlying = underlying_type_t<merge_layer>;\n",
    "    \n",
    "    return static_cast<merge_layer>(static_cast<underlying>(a) |\n",
    "                                    static_cast<underlying>(b));\n",
    "}\n",
    "    \n",
    "template <merge_layer... I>\n",
    "constexpr auto extract_bits(merge_layer x) {\n",
    "    using underlying = underlying_type_t<merge_layer>;\n",
    "    return tuple{static_cast<bool>(static_cast<underlying>(x) & static_cast<underlying>(I))...};\n",
    "}\n",
    "\n",
    "\n",
    "} // namespace"
   ]
  },
  {
   "cell_type": "code",
   "execution_count": 19,
   "metadata": {
    "slideshow": {
     "slide_type": "fragment"
    }
   },
   "outputs": [
    {
     "name": "stdout",
     "output_type": "stream",
     "text": [
      "true\n"
     ]
    }
   ],
   "source": [
    "auto stlab_enable_bitmask_enum(merge_layer) -> std::true_type;\n",
    "\n",
    "{\n",
    "    auto flags = merge_layer::use_sheet_mask | merge_layer::use_vector_mask;\n",
    "    \n",
    "    auto [x] = extract_bits<merge_layer::use_sheet_mask>(flags);\n",
    "    cout << x << endl;\n",
    "}"
   ]
  },
  {
   "cell_type": "markdown",
   "metadata": {
    "slideshow": {
     "slide_type": "slide"
    }
   },
   "source": [
    "- You can specify the underlying type for any `enum` type"
   ]
  },
  {
   "cell_type": "code",
   "execution_count": 20,
   "metadata": {
    "slideshow": {
     "slide_type": "fragment"
    }
   },
   "outputs": [],
   "source": [
    "enum class small_choice : std::int16_t {\n",
    "    none, some, all\n",
    "};"
   ]
  },
  {
   "cell_type": "code",
   "execution_count": 21,
   "metadata": {
    "slideshow": {
     "slide_type": "fragment"
    }
   },
   "outputs": [
    {
     "name": "stdout",
     "output_type": "stream",
     "text": [
      "2\n"
     ]
    }
   ],
   "source": [
    "{\n",
    "    cout << sizeof(small_choice) << endl;\n",
    "}"
   ]
  },
  {
   "cell_type": "code",
   "execution_count": 22,
   "metadata": {
    "slideshow": {
     "slide_type": "slide"
    }
   },
   "outputs": [],
   "source": [
    "enum very_small : std::uint8_t {\n",
    "    success, error\n",
    "};"
   ]
  },
  {
   "cell_type": "code",
   "execution_count": 23,
   "metadata": {
    "slideshow": {
     "slide_type": "fragment"
    }
   },
   "outputs": [
    {
     "name": "stdout",
     "output_type": "stream",
     "text": [
      "1\n"
     ]
    }
   ],
   "source": [
    "{\n",
    "    cout << sizeof(very_small) << endl;\n",
    "}"
   ]
  },
  {
   "cell_type": "markdown",
   "metadata": {
    "slideshow": {
     "slide_type": "slide"
    }
   },
   "source": [
    "- The underlying type of a scoped enumeration if not specified is `int`\n",
    "- The underlying type of a unscoped enumeration if not specified is implementation defined\n",
    "    - Large enough to hold all enumerator values\n",
    "    - Not larger than `int` unless an enumerator value cannot fit into an `int`\n",
    "    - If empty, treated as if it had a single enumerator with value `0`"
   ]
  },
  {
   "cell_type": "markdown",
   "metadata": {
    "slideshow": {
     "slide_type": "slide"
    }
   },
   "source": [
    "### Recommendations\n",
    "- Replace unscoped enumerations with scoped enumerations\n",
    "    - Don't specify the underlying type without cause\n",
    "\n",
    "- Use the `<adobe/enum_ops.hpp>` (which may become `<stlab/enum_ops.hpp>` soon) for\n",
    "    - Types that represent a arithmetic type\n",
    "    - Types that represent bit fields"
   ]
  },
  {
   "cell_type": "markdown",
   "metadata": {
    "slideshow": {
     "slide_type": "slide"
    }
   },
   "source": [
    "### Homework\n",
    "- Replace an unscoped enumeration with a scoped enumeration in your project\n",
    "    - Did it improve the appearance of the code or clutter it?\n",
    "    - Did it catch any errors?"
   ]
  },
  {
   "cell_type": "markdown",
   "metadata": {
    "slideshow": {
     "slide_type": "slide"
    }
   },
   "source": [
    "## Type Aliases\n",
    "- A _type alias_ is a new syntax for `typedef` declarations"
   ]
  },
  {
   "cell_type": "code",
   "execution_count": 24,
   "metadata": {
    "slideshow": {
     "slide_type": "fragment"
    }
   },
   "outputs": [],
   "source": [
    "typedef int some_type;"
   ]
  },
  {
   "cell_type": "code",
   "execution_count": 25,
   "metadata": {
    "slideshow": {
     "slide_type": "skip"
    }
   },
   "outputs": [],
   "source": [
    ".undo 1"
   ]
  },
  {
   "cell_type": "code",
   "execution_count": 26,
   "metadata": {
    "slideshow": {
     "slide_type": "fragment"
    }
   },
   "outputs": [],
   "source": [
    "using some_type = int;"
   ]
  },
  {
   "cell_type": "markdown",
   "metadata": {
    "slideshow": {
     "slide_type": "slide"
    }
   },
   "source": [
    "- The new syntax makes complex aliases easier to read and write"
   ]
  },
  {
   "cell_type": "code",
   "execution_count": 27,
   "metadata": {
    "slideshow": {
     "slide_type": "fragment"
    }
   },
   "outputs": [],
   "source": [
    "typedef int (*some_func)(int);"
   ]
  },
  {
   "cell_type": "code",
   "execution_count": 28,
   "metadata": {
    "slideshow": {
     "slide_type": "skip"
    }
   },
   "outputs": [],
   "source": [
    ".undo 1"
   ]
  },
  {
   "cell_type": "code",
   "execution_count": 29,
   "metadata": {
    "slideshow": {
     "slide_type": "fragment"
    }
   },
   "outputs": [],
   "source": [
    "using some_func = int (*)(int);"
   ]
  },
  {
   "cell_type": "code",
   "execution_count": 30,
   "metadata": {
    "slideshow": {
     "slide_type": "skip"
    }
   },
   "outputs": [],
   "source": [
    ".undo 1"
   ]
  },
  {
   "cell_type": "markdown",
   "metadata": {
    "slideshow": {
     "slide_type": "slide"
    }
   },
   "source": [
    "- Unlike `typedef`, a type alias can be declared as a template"
   ]
  },
  {
   "cell_type": "code",
   "execution_count": 31,
   "metadata": {
    "slideshow": {
     "slide_type": "fragment"
    }
   },
   "outputs": [],
   "source": [
    "template <class T>\n",
    "using some_func = T (*)(T);"
   ]
  },
  {
   "cell_type": "code",
   "execution_count": 32,
   "metadata": {
    "slideshow": {
     "slide_type": "fragment"
    }
   },
   "outputs": [
    {
     "name": "stdout",
     "output_type": "stream",
     "text": [
      "100"
     ]
    }
   ],
   "source": [
    "{\n",
    "    some_func<double> f = [](double x){ return x * x; };\n",
    "    \n",
    "    cout << f(10);\n",
    "}"
   ]
  },
  {
   "cell_type": "markdown",
   "metadata": {
    "slideshow": {
     "slide_type": "slide"
    }
   },
   "source": [
    "- A template type alias is useful to define an alias to a dependent type"
   ]
  },
  {
   "cell_type": "code",
   "execution_count": 33,
   "metadata": {
    "slideshow": {
     "slide_type": "fragment"
    }
   },
   "outputs": [],
   "source": [
    "template <class I>\n",
    "auto distance(I f, I l) -> typename iterator_traits<I>::difference_type;"
   ]
  },
  {
   "cell_type": "code",
   "execution_count": 34,
   "metadata": {
    "slideshow": {
     "slide_type": "skip"
    }
   },
   "outputs": [],
   "source": [
    ".undo 1"
   ]
  },
  {
   "cell_type": "code",
   "execution_count": 35,
   "metadata": {
    "slideshow": {
     "slide_type": "fragment"
    }
   },
   "outputs": [],
   "source": [
    "template <class I>\n",
    "using difference_t = typename iterator_traits<I>::difference_type;"
   ]
  },
  {
   "cell_type": "code",
   "execution_count": 36,
   "metadata": {
    "slideshow": {
     "slide_type": "fragment"
    }
   },
   "outputs": [],
   "source": [
    "template <class I>\n",
    "auto distance(I f, I l) -> difference_t<I>;"
   ]
  },
  {
   "cell_type": "markdown",
   "metadata": {
    "slideshow": {
     "slide_type": "slide"
    }
   },
   "source": [
    "### Recommendations\n",
    "- Prefer type aliases to typedefs\n",
    "- Use template type aliases as type functions to simplify complex type expressions"
   ]
  },
  {
   "cell_type": "markdown",
   "metadata": {
    "slideshow": {
     "slide_type": "slide"
    }
   },
   "source": [
    "### Homework\n",
    "- Replace some typedefs in your project with type aliases\n",
    "- Find an instance of `typename` used for a dependent type and replace it with template type alias\n",
    "    - **Hint** use the regular expression `[^,<] typename` to find an instance"
   ]
  },
  {
   "cell_type": "markdown",
   "metadata": {
    "slideshow": {
     "slide_type": "slide"
    }
   },
   "source": [
    "## Templates Variables\n",
    "- C++14 added template variables\n",
    "    - A non-const template variable will only have one instance across translation units\n",
    "        - i.e. implicitly `inline`\n",
    "    - However, a `const` (or `constexpr`) template variable is implicitly `static`, one instance per translation unit\n",
    "        - But can be declared `inline`"
   ]
  },
  {
   "cell_type": "code",
   "execution_count": 37,
   "metadata": {
    "slideshow": {
     "slide_type": "slide"
    }
   },
   "outputs": [],
   "source": [
    "template <class T>\n",
    "inline constexpr T max_value = std::numeric_limits<T>::max();"
   ]
  },
  {
   "cell_type": "code",
   "execution_count": 38,
   "metadata": {
    "slideshow": {
     "slide_type": "fragment"
    }
   },
   "outputs": [
    {
     "name": "stdout",
     "output_type": "stream",
     "text": [
      "2147483647\n"
     ]
    }
   ],
   "source": [
    "{\n",
    "    auto x = max_value<int>;\n",
    "    \n",
    "    cout << x << endl;\n",
    "}"
   ]
  },
  {
   "cell_type": "markdown",
   "metadata": {
    "slideshow": {
     "slide_type": "slide"
    }
   },
   "source": [
    "### Recommendations\n",
    "- There are minor advantages to template variables over template static members and template functions\n",
    "    - Use as needed (rarely)"
   ]
  },
  {
   "cell_type": "markdown",
   "metadata": {
    "slideshow": {
     "slide_type": "slide"
    }
   },
   "source": [
    "### Homework\n",
    "- None"
   ]
  },
  {
   "cell_type": "markdown",
   "metadata": {
    "slideshow": {
     "slide_type": "slide"
    }
   },
   "source": [
    "## Extern Templates\n",
    "- An explicit instantiation declaration of a template tell the compiler that an explicit instantiation definition exists in exactly one compilation unit"
   ]
  },
  {
   "cell_type": "code",
   "execution_count": 39,
   "metadata": {
    "slideshow": {
     "slide_type": "fragment"
    }
   },
   "outputs": [],
   "source": [
    "// header.hpp\n",
    "\n",
    "template <class T>\n",
    "class my_wizzy_type {\n",
    "    void member_function();\n",
    "    // ...\n",
    "};\n",
    "\n",
    "extern template class my_wizzy_type<int>;"
   ]
  },
  {
   "cell_type": "markdown",
   "metadata": {
    "slideshow": {
     "slide_type": "slide"
    }
   },
   "source": [
    "```cpp\n",
    "// code.cpp\n",
    "\n",
    "#include \"header.hpp\"\n",
    "```"
   ]
  },
  {
   "cell_type": "code",
   "execution_count": 40,
   "metadata": {
    "slideshow": {
     "slide_type": "-"
    }
   },
   "outputs": [],
   "source": [
    "template <class T>\n",
    "void my_wizzy_type<T>::member_function() {\n",
    "    //...\n",
    "}\n",
    "\n",
    "template class my_wizzy_type<int>;"
   ]
  },
  {
   "cell_type": "markdown",
   "metadata": {
    "slideshow": {
     "slide_type": "slide"
    }
   },
   "source": [
    "### Recommendations\n",
    "- If you currently rely on hacks to force instantiation in a translation unit, at least use this as a supported mechanism\n",
    "- Potentially useful for controlling instantiation for DLLs\n",
    "    - But still prefer DLLs be avoided\n",
    "- May speed compilation times and allow more separation of interface from implementation\n",
    "    - Measure"
   ]
  },
  {
   "cell_type": "markdown",
   "metadata": {
    "slideshow": {
     "slide_type": "slide"
    }
   },
   "source": [
    "### Homework\n",
    "- None (unless you are currently doing this with a hack, in which case, fix it!)"
   ]
  },
  {
   "cell_type": "markdown",
   "metadata": {
    "slideshow": {
     "slide_type": "slide"
    }
   },
   "source": [
    "## Variadic Macros\n",
    "- C99 added variadic macros, picked up by C++ in C++11\n",
    "    - `__VA_ARGS__` holds argument list\n",
    "    - `__VA_OPT__(`_content_`)` can be used in the replacement (_C++20_)\n",
    "        - If `__VA_ARGS__` is not empty `__VA_OPT__()` is replaced with _content_\n",
    "        - Otherwise `__VA_OPT__()` expands to nothing"
   ]
  },
  {
   "cell_type": "code",
   "execution_count": 41,
   "metadata": {
    "slideshow": {
     "slide_type": "slide"
    }
   },
   "outputs": [],
   "source": [
    "#define ARRAY(...) \\\n",
    "    int array[] = { __VA_ARGS__ }"
   ]
  },
  {
   "cell_type": "code",
   "execution_count": 42,
   "metadata": {
    "slideshow": {
     "slide_type": "fragment"
    }
   },
   "outputs": [
    {
     "name": "stdout",
     "output_type": "stream",
     "text": [
      "5\n",
      "3\n"
     ]
    }
   ],
   "source": [
    "{\n",
    "    ARRAY(5, 3);\n",
    "    for (const auto& e : array) cout << e << endl;\n",
    "}"
   ]
  },
  {
   "cell_type": "markdown",
   "metadata": {
    "slideshow": {
     "slide_type": "slide"
    }
   },
   "source": [
    "- Stringizing `__VA_ARGS__` quotes the entire replacement"
   ]
  },
  {
   "cell_type": "code",
   "execution_count": 43,
   "metadata": {
    "slideshow": {
     "slide_type": "fragment"
    }
   },
   "outputs": [],
   "source": [
    "#define SHOW(...) \\\n",
    "    #__VA_ARGS__"
   ]
  },
  {
   "cell_type": "code",
   "execution_count": 44,
   "metadata": {
    "slideshow": {
     "slide_type": "fragment"
    }
   },
   "outputs": [
    {
     "data": {
      "text/plain": [
       "\"10, 42.5, x\""
      ]
     },
     "execution_count": 44,
     "metadata": {},
     "output_type": "execute_result"
    }
   ],
   "source": [
    "SHOW(10, 42.5, x)"
   ]
  },
  {
   "cell_type": "markdown",
   "metadata": {
    "slideshow": {
     "slide_type": "slide"
    }
   },
   "source": [
    "### Recommendations\n",
    "- Macros are still best avoided\n",
    "    - File this in your bag of tricks..."
   ]
  },
  {
   "cell_type": "markdown",
   "metadata": {
    "slideshow": {
     "slide_type": "slide"
    }
   },
   "source": [
    "### Homework\n",
    "- None"
   ]
  },
  {
   "cell_type": "markdown",
   "metadata": {
    "slideshow": {
     "slide_type": "slide"
    }
   },
   "source": [
    "## Another Detour\n",
    "- After break we are going to spend a few (4?) courses on testing theory and writing unit tests\n",
    "    - All white-box QE are invited and encouraged to attend\n",
    "        - Black-box QE may also find it interesting\n",
    "    - Very valuable for devs as well\n",
    "- This section came about after reviewing several candidates results of a take-home project to write a unit test for `std::vector<>`"
   ]
  },
  {
   "cell_type": "markdown",
   "metadata": {
    "slideshow": {
     "slide_type": "slide"
    }
   },
   "source": [
    "### Section Outline\n",
    "- Why test?\n",
    "- How is meaning ascribed to software?\n",
    "    - Axioms and Equational Reasoning\n",
    "- Design by Contract\n",
    "- Concepts and models\n",
    "- Quantifying, measuring, and testing performance\n",
    "- Requirements of the Basic Interface\n",
    "- What is not testable, and why"
   ]
  },
  {
   "cell_type": "markdown",
   "metadata": {
    "slideshow": {
     "slide_type": "fragment"
    }
   },
   "source": [
    "- My goal is everyone who attends (and does the homework) should be able to write an _A+_ unit test for `std::vector<>`"
   ]
  },
  {
   "cell_type": "code",
   "execution_count": 45,
   "metadata": {},
   "outputs": [],
   "source": []
  }
 ],
 "metadata": {
  "kernelspec": {
   "display_name": "C++17",
   "language": "C++17",
   "name": "xeus-cling-cpp17"
  },
  "language_info": {
   "codemirror_mode": "text/x-c++src",
   "file_extension": ".cpp",
   "mimetype": "text/x-c++src",
   "name": "c++",
   "version": "-std=c++17"
  }
 },
 "nbformat": 4,
 "nbformat_minor": 2
}
