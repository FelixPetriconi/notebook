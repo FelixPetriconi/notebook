{
 "cells": [
  {
   "cell_type": "code",
   "execution_count": 1,
   "metadata": {
    "execution": {
     "iopub.execute_input": "2020-12-28T04:10:40.369358Z",
     "iopub.status.busy": "2020-12-28T04:10:40.368050Z",
     "iopub.status.idle": "2020-12-28T04:10:40.370376Z",
     "shell.execute_reply": "2020-12-28T04:10:40.371541Z"
    },
    "slideshow": {
     "slide_type": "skip"
    }
   },
   "outputs": [],
   "source": [
    ".I ../stlab/libraries"
   ]
  },
  {
   "cell_type": "code",
   "execution_count": 2,
   "metadata": {
    "execution": {
     "iopub.execute_input": "2020-12-28T04:10:40.375752Z",
     "iopub.status.busy": "2020-12-28T04:10:40.374550Z",
     "iopub.status.idle": "2020-12-28T04:10:40.918102Z",
     "shell.execute_reply": "2020-12-28T04:10:40.917386Z"
    },
    "slideshow": {
     "slide_type": "skip"
    }
   },
   "outputs": [],
   "source": [
    "#include <mutex>\n",
    "#include <string>\n",
    "#include <unordered_set>\n",
    "#include <functional>\n",
    "#include <condition_variable>\n",
    "#include <deque>\n",
    "#include <thread>\n",
    "#include <iostream>\n",
    "#include <type_traits>\n",
    "\n",
    "#define STLAB_DISABLE_FUTURE_COROUTINES 1\n",
    "#include <stlab/concurrency/future.hpp>\n",
    "#include <stlab/concurrency/immediate_executor.hpp>\n",
    "#include <stlab/concurrency/default_executor.hpp>\n",
    "#include <stlab/concurrency/utility.hpp>"
   ]
  },
  {
   "cell_type": "code",
   "execution_count": 3,
   "metadata": {
    "execution": {
     "iopub.execute_input": "2020-12-28T04:10:40.922139Z",
     "iopub.status.busy": "2020-12-28T04:10:40.920865Z",
     "iopub.status.idle": "2020-12-28T04:10:40.922828Z",
     "shell.execute_reply": "2020-12-28T04:10:40.923810Z"
    },
    "slideshow": {
     "slide_type": "skip"
    }
   },
   "outputs": [],
   "source": [
    "using namespace stlab;"
   ]
  },
  {
   "cell_type": "code",
   "execution_count": 4,
   "metadata": {
    "execution": {
     "iopub.execute_input": "2020-12-28T04:10:40.927400Z",
     "iopub.status.busy": "2020-12-28T04:10:40.926437Z",
     "iopub.status.idle": "2020-12-28T04:10:40.928009Z",
     "shell.execute_reply": "2020-12-28T04:10:40.928816Z"
    },
    "slideshow": {
     "slide_type": "skip"
    }
   },
   "outputs": [],
   "source": [
    "using namespace std;"
   ]
  },
  {
   "cell_type": "code",
   "execution_count": 5,
   "metadata": {
    "execution": {
     "iopub.execute_input": "2020-12-28T04:10:40.931772Z",
     "iopub.status.busy": "2020-12-28T04:10:40.931006Z",
     "iopub.status.idle": "2020-12-28T04:10:40.944034Z",
     "shell.execute_reply": "2020-12-28T04:10:40.943300Z"
    },
    "run_control": {
     "marked": true
    },
    "slideshow": {
     "slide_type": "skip"
    }
   },
   "outputs": [],
   "source": [
    "namespace bcc {\n",
    "    \n",
    "class task {\n",
    "    struct concept;\n",
    "\n",
    "    template <class F>\n",
    "    struct model;\n",
    "\n",
    "    std::unique_ptr<concept> _self;\n",
    "\n",
    "public:\n",
    "    task() = default;\n",
    "    //...\n",
    "\n",
    "    template <class F> // F model void()\n",
    "    task(F f);         // Need to implement\n",
    "\n",
    "    void operator()(); // Need to implement\n",
    "};\n",
    "    \n",
    "} // namespace bcc"
   ]
  },
  {
   "cell_type": "code",
   "execution_count": 6,
   "metadata": {
    "execution": {
     "iopub.execute_input": "2020-12-28T04:10:40.947756Z",
     "iopub.status.busy": "2020-12-28T04:10:40.946646Z",
     "iopub.status.idle": "2020-12-28T04:10:40.950995Z",
     "shell.execute_reply": "2020-12-28T04:10:40.950020Z"
    },
    "slideshow": {
     "slide_type": "skip"
    }
   },
   "outputs": [],
   "source": [
    "using namespace bcc;"
   ]
  },
  {
   "cell_type": "code",
   "execution_count": 7,
   "metadata": {
    "execution": {
     "iopub.execute_input": "2020-12-28T04:10:40.955279Z",
     "iopub.status.busy": "2020-12-28T04:10:40.954343Z",
     "iopub.status.idle": "2020-12-28T04:10:40.958024Z",
     "shell.execute_reply": "2020-12-28T04:10:40.956906Z"
    },
    "slideshow": {
     "slide_type": "skip"
    }
   },
   "outputs": [],
   "source": [
    "struct bcc::task::concept {\n",
    "    virtual ~concept() {}\n",
    "    virtual void invoke() = 0;\n",
    "};"
   ]
  },
  {
   "cell_type": "code",
   "execution_count": 8,
   "metadata": {
    "execution": {
     "iopub.execute_input": "2020-12-28T04:10:40.961517Z",
     "iopub.status.busy": "2020-12-28T04:10:40.960816Z",
     "iopub.status.idle": "2020-12-28T04:10:40.963110Z",
     "shell.execute_reply": "2020-12-28T04:10:40.962464Z"
    },
    "slideshow": {
     "slide_type": "skip"
    }
   },
   "outputs": [],
   "source": [
    "template <class F>\n",
    "struct bcc::task::model final : concept {\n",
    "    F _f;\n",
    "    model(F f) : _f(move(f)) {}\n",
    "    void invoke() override { _f(); }\n",
    "};"
   ]
  },
  {
   "cell_type": "code",
   "execution_count": 9,
   "metadata": {
    "execution": {
     "iopub.execute_input": "2020-12-28T04:10:40.966000Z",
     "iopub.status.busy": "2020-12-28T04:10:40.965334Z",
     "iopub.status.idle": "2020-12-28T04:10:40.968024Z",
     "shell.execute_reply": "2020-12-28T04:10:40.967009Z"
    },
    "slideshow": {
     "slide_type": "skip"
    }
   },
   "outputs": [],
   "source": [
    "template <class F>\n",
    "bcc::task::task(F f) : _self(make_unique<model<F>>(move(f))) { }"
   ]
  },
  {
   "cell_type": "code",
   "execution_count": 10,
   "metadata": {
    "execution": {
     "iopub.execute_input": "2020-12-28T04:10:40.970998Z",
     "iopub.status.busy": "2020-12-28T04:10:40.970213Z",
     "iopub.status.idle": "2020-12-28T04:10:40.977018Z",
     "shell.execute_reply": "2020-12-28T04:10:40.975810Z"
    },
    "run_control": {
     "marked": true
    },
    "slideshow": {
     "slide_type": "skip"
    }
   },
   "outputs": [],
   "source": [
    "namespace bcc {\n",
    "\n",
    "void task::operator()() { _self->invoke(); }\n",
    "\n",
    "} // namespace bcc"
   ]
  },
  {
   "cell_type": "code",
   "execution_count": 11,
   "metadata": {
    "execution": {
     "iopub.execute_input": "2020-12-28T04:10:40.981857Z",
     "iopub.status.busy": "2020-12-28T04:10:40.980740Z",
     "iopub.status.idle": "2020-12-28T04:10:41.033297Z",
     "shell.execute_reply": "2020-12-28T04:10:41.032611Z"
    },
    "slideshow": {
     "slide_type": "skip"
    }
   },
   "outputs": [],
   "source": [
    "namespace bcc {\n",
    "\n",
    "class sequential_process {\n",
    "    // using task = function<void()>;\n",
    "\n",
    "    mutex _mutex;\n",
    "    condition_variable _condition;\n",
    "    deque<task> _queue;\n",
    "    bool _done = false;\n",
    "\n",
    "    void run_loop();\n",
    "\n",
    "    thread _thread{[this] { run_loop(); }};\n",
    "\n",
    "public:\n",
    "    ~sequential_process();\n",
    "    void async(task f);\n",
    "};\n",
    "    \n",
    "sequential_process::~sequential_process() {\n",
    "    {\n",
    "        lock_guard<mutex> lock(_mutex);\n",
    "        _done = true;\n",
    "    }\n",
    "    _condition.notify_one();\n",
    "    _thread.join();\n",
    "}\n",
    "\n",
    "void sequential_process::run_loop() {\n",
    "    while (true) {\n",
    "        task work;\n",
    "        {\n",
    "            unique_lock<mutex> lock(_mutex);\n",
    "\n",
    "            while (_queue.empty() && !_done) {\n",
    "                _condition.wait(lock);\n",
    "            }\n",
    "\n",
    "            if (_queue.empty()) return;\n",
    "\n",
    "            work = move(_queue.front());\n",
    "            _queue.pop_front();\n",
    "        }\n",
    "        work();\n",
    "    }\n",
    "}\n",
    "    \n",
    "void sequential_process::async(task f) {\n",
    "    {\n",
    "        lock_guard<mutex> lock(_mutex);\n",
    "        _queue.push_back(move(f));\n",
    "    }\n",
    "    _condition.notify_one();\n",
    "}\n",
    "    \n",
    "} // namespace bcc\n",
    "    \n",
    "template <class F> // F models R()\n",
    "inline auto async_packaged(sequential_process& process, F&& f) {\n",
    "    using result_t = std::result_of_t<std::decay_t<F>()>;\n",
    "    \n",
    "    auto task_future = stlab::package<result_t()>(stlab::immediate_executor, std::forward<F>(f));\n",
    "    \n",
    "    process.async(move(task_future.first));\n",
    "    \n",
    "    return move(task_future.second);\n",
    "}\n",
    "\n",
    "using namespace bcc;"
   ]
  },
  {
   "cell_type": "markdown",
   "metadata": {},
   "source": [
    "# Continuations\n",
    "\n",
    "- Recap\n",
    "    - Callbacks\n",
    "        - Must be known in advance\n",
    "        - Require functional form transformations\n",
    "    - C++11 futures\n",
    "        - Do not compose\n",
    "        - Block on `get()`"
   ]
  },
  {
   "cell_type": "markdown",
   "metadata": {
    "slideshow": {
     "slide_type": "slide"
    }
   },
   "source": [
    "- Continuations combine the best features<sup>*</sup> of these two approaches for returning a value from a task\n",
    "    - Do not need to be known in advance\n",
    "    - Do not require functional transformations\n",
    "    - Compose\n",
    "    - Do not block"
   ]
  },
  {
   "cell_type": "markdown",
   "metadata": {
    "slideshow": {
     "slide_type": "slide"
    }
   },
   "source": [
    "- Continuations are part of futures in the [concurrency TS](http://en.cppreference.com/w/cpp/experimental/concurrency) in `<experimental/future>`\n",
    "    - For this class I'm using [`stlab::future<>`](http://stlab.cc/libraries/concurrency/future/future/) which has additional capabilities and minor differences in syntax\n",
    "    - I'm participating in a standard committee workshop on April 26th to discuss the future of futures in C++20"
   ]
  },
  {
   "cell_type": "markdown",
   "metadata": {
    "slideshow": {
     "slide_type": "slide"
    }
   },
   "source": [
    "- A continuation is a callback attached to a `future`, using [`.then()`](http://stlab.cc/libraries/concurrency/future/future/then.html)\n",
    "    - `.then()` returns a new future that can be used for more continuations"
   ]
  },
  {
   "cell_type": "code",
   "execution_count": 12,
   "metadata": {
    "execution": {
     "iopub.execute_input": "2020-12-28T04:10:41.036860Z",
     "iopub.status.busy": "2020-12-28T04:10:41.036034Z",
     "iopub.status.idle": "2020-12-28T04:10:41.722664Z",
     "shell.execute_reply": "2020-12-28T04:10:41.723415Z"
    },
    "slideshow": {
     "slide_type": "fragment"
    }
   },
   "outputs": [
    {
     "name": "stdout",
     "output_type": "stream",
     "text": [
      "42\n",
      "done!\n"
     ]
    }
   ],
   "source": [
    "{\n",
    "auto p = async(default_executor, []{ return 42; });\n",
    "    \n",
    "auto q = p.then([](int x){ cout << x << endl; });\n",
    "    \n",
    "auto r = q.then([]{ cout << \"done!\" << endl; });\n",
    "\n",
    "blocking_get(r); // <-- DON'T DO THIS IN REAL CODE!!!\n",
    "}"
   ]
  },
  {
   "cell_type": "markdown",
   "metadata": {
    "slideshow": {
     "slide_type": "slide"
    }
   },
   "source": [
    "- Recall our interned string implementation with futures"
   ]
  },
  {
   "cell_type": "code",
   "execution_count": 13,
   "metadata": {
    "execution": {
     "iopub.execute_input": "2020-12-28T04:10:41.726853Z",
     "iopub.status.busy": "2020-12-28T04:10:41.725973Z",
     "iopub.status.idle": "2020-12-28T04:10:41.859927Z",
     "shell.execute_reply": "2020-12-28T04:10:41.859201Z"
    },
    "slideshow": {
     "slide_type": "fragment"
    }
   },
   "outputs": [],
   "source": [
    "namespace bcc {\n",
    "\n",
    "struct shared_pool {\n",
    "    unordered_set<string> _pool;\n",
    "    sequential_process _process;\n",
    "    \n",
    "    auto insert(string) -> stlab::future<const string*>;\n",
    "};\n",
    "    \n",
    "auto shared_pool::insert(string a) -> stlab::future<const string*> {\n",
    "    return async_packaged(_process, [this, _a = move(a)]() mutable {\n",
    "        return &*_pool.insert(move(_a)).first;\n",
    "    });\n",
    "}\n",
    "    \n",
    "}"
   ]
  },
  {
   "cell_type": "markdown",
   "metadata": {
    "run_control": {
     "marked": true
    },
    "slideshow": {
     "slide_type": "slide"
    }
   },
   "source": [
    "```cpp\n",
    "class interned_string {\n",
    "    // struct shared_pool\n",
    "\n",
    "    static auto pool() -> shared_pool& {\n",
    "        static shared_pool result;\n",
    "        return result;\n",
    "    }\n",
    "\n",
    "    shared_future<const std::string*> _string;\n",
    "public:\n",
    "    interned_string(string a) : _string(pool().insert(move(a))) {}\n",
    "    \n",
    "    auto str() const {\n",
    "        return *_string.get(); // <---- BLOCKING!!!\n",
    "    }\n",
    "};\n",
    "```"
   ]
  },
  {
   "cell_type": "code",
   "execution_count": 14,
   "metadata": {
    "execution": {
     "iopub.execute_input": "2020-12-28T04:10:41.862981Z",
     "iopub.status.busy": "2020-12-28T04:10:41.862055Z",
     "iopub.status.idle": "2020-12-28T04:10:41.919985Z",
     "shell.execute_reply": "2020-12-28T04:10:41.918792Z"
    },
    "slideshow": {
     "slide_type": "slide"
    }
   },
   "outputs": [],
   "source": [
    "namespace {\n",
    "\n",
    "class interned_string {\n",
    "    // struct shared_pool\n",
    "\n",
    "    static auto pool() -> shared_pool& {\n",
    "        static shared_pool result;\n",
    "        return result;\n",
    "    }\n",
    "\n",
    "    stlab::future<const string*> _string; // or std::experimental::shared_future\n",
    "public:\n",
    "    interned_string(string a) : _string(pool().insert(move(a))) {}\n",
    "    \n",
    "    auto str() const -> stlab::future<reference_wrapper<const string>> {\n",
    "        return _string.then([](const string* p) { return cref(*p); });\n",
    "    }\n",
    "};\n",
    "    \n",
    "} // namespace"
   ]
  },
  {
   "cell_type": "code",
   "execution_count": 15,
   "metadata": {
    "execution": {
     "iopub.execute_input": "2020-12-28T04:10:41.923315Z",
     "iopub.status.busy": "2020-12-28T04:10:41.922261Z",
     "iopub.status.idle": "2020-12-28T04:10:42.544006Z",
     "shell.execute_reply": "2020-12-28T04:10:42.545376Z"
    },
    "slideshow": {
     "slide_type": "slide"
    }
   },
   "outputs": [
    {
     "name": "stdout",
     "output_type": "stream",
     "text": [
      "Hello World!\n"
     ]
    }
   ],
   "source": [
    "{\n",
    "interned_string s(\"Hello World!\"s);\n",
    "\n",
    "auto done = s.str().then([](const string& s){\n",
    "    cout << s << '\\n';\n",
    "});\n",
    "    \n",
    "blocking_get(done);\n",
    "}"
   ]
  },
  {
   "cell_type": "markdown",
   "metadata": {
    "slideshow": {
     "slide_type": "slide"
    }
   },
   "source": [
    "- Pros for continuations\n",
    "    - Do not need to be known in advance\n",
    "    - Do not require functional transformations\n",
    "        - Straight forward transformation from synchronous to asynchronous code\n",
    "    - Compose\n",
    "    - Do not block\n",
    "- Cons\n",
    "    - Require more synchronization than callbacks\n",
    "    - Execution context is ambiguous\n",
    "        - _Immediate execution_ may happen either in the calling context or resolving context"
   ]
  },
  {
   "cell_type": "markdown",
   "metadata": {
    "slideshow": {
     "slide_type": "slide"
    }
   },
   "source": [
    "- Multiple continuation can be attached to a single `future` (or `shared_future`)\n",
    "    - This _splits_ execution\n",
    "    - i.e.\n",
    "        - \"blur the document\"\n",
    "            - \"then save the document\"\n",
    "            - \"then rotate the document\"\n",
    "- A _join_ is accomplished using `when_all()`"
   ]
  },
  {
   "cell_type": "code",
   "execution_count": 16,
   "metadata": {
    "execution": {
     "iopub.execute_input": "2020-12-28T04:10:42.549171Z",
     "iopub.status.busy": "2020-12-28T04:10:42.548557Z",
     "iopub.status.idle": "2020-12-28T04:10:43.378796Z",
     "shell.execute_reply": "2020-12-28T04:10:43.379533Z"
    },
    "slideshow": {
     "slide_type": "slide"
    }
   },
   "outputs": [
    {
     "name": "stdout",
     "output_type": "stream",
     "text": [
      "47\n"
     ]
    }
   ],
   "source": [
    "{\n",
    "auto p = async(default_executor, []{ return 42; });\n",
    "auto q = async(default_executor, []{ return 5; });\n",
    "\n",
    "auto done = when_all(default_executor, [](int x, int y){ cout << x + y << endl; }, p, q);\n",
    "    \n",
    "blocking_get(done);\n",
    "}"
   ]
  },
  {
   "cell_type": "markdown",
   "metadata": {
    "slideshow": {
     "slide_type": "slide"
    }
   },
   "source": [
    "- Joins are non-blocking\n",
    "    - Attach continuations to the arguments\n",
    "    - Keep an atomic count of how many arguments are resolved\n",
    "    - Execute continuation on last resolve\n",
    "- Splits and Joins allow us to construct arbitrary dependency DAGs"
   ]
  },
  {
   "cell_type": "markdown",
   "metadata": {
    "slideshow": {
     "slide_type": "fragment"
    }
   },
   "source": [
    "- Continuations are a form of a sequential process"
   ]
  },
  {
   "cell_type": "code",
   "execution_count": null,
   "metadata": {},
   "outputs": [],
   "source": []
  }
 ],
 "metadata": {
  "kernelspec": {
   "display_name": "C++17",
   "language": "C++17",
   "name": "xcpp17"
  },
  "language_info": {
   "codemirror_mode": "text/x-c++src",
   "file_extension": ".cpp",
   "mimetype": "text/x-c++src",
   "name": "c++",
   "version": "17"
  }
 },
 "nbformat": 4,
 "nbformat_minor": 4
}
