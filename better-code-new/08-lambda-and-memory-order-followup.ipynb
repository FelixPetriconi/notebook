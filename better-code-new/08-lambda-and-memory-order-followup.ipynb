{
 "cells": [
  {
   "cell_type": "code",
   "execution_count": 1,
   "metadata": {
    "execution": {
     "iopub.execute_input": "2020-12-28T02:33:26.623279Z",
     "iopub.status.busy": "2020-12-28T02:33:26.622310Z",
     "iopub.status.idle": "2020-12-28T02:33:26.667659Z",
     "shell.execute_reply": "2020-12-28T02:33:26.667172Z"
    },
    "slideshow": {
     "slide_type": "skip"
    }
   },
   "outputs": [],
   "source": [
    "#include <set>\n",
    "#include <atomic>\n",
    "\n",
    "using namespace std;"
   ]
  },
  {
   "cell_type": "markdown",
   "metadata": {
    "slideshow": {
     "slide_type": "slide"
    }
   },
   "source": [
    "# Lambda Expression Follow-up\n",
    "- Homework to use a lambda expression with a standard algorithm or container\n",
    "```cpp\n",
    "set<int, ???> s; // How do you use a lambda for a comparison type?\n",
    "```"
   ]
  },
  {
   "cell_type": "markdown",
   "metadata": {
    "slideshow": {
     "slide_type": "fragment"
    }
   },
   "source": [
    "- You cannot\n",
    "    - Best you can do is use a pointer to function or std::function and pass the lambda to the constructor as comparison"
   ]
  },
  {
   "cell_type": "code",
   "execution_count": 2,
   "metadata": {
    "execution": {
     "iopub.execute_input": "2020-12-28T02:33:26.671251Z",
     "iopub.status.busy": "2020-12-28T02:33:26.670442Z",
     "iopub.status.idle": "2020-12-28T02:33:26.695223Z",
     "shell.execute_reply": "2020-12-28T02:33:26.694618Z"
    },
    "slideshow": {
     "slide_type": "fragment"
    }
   },
   "outputs": [],
   "source": [
    "{\n",
    "    set<int, bool (*)(int a, int b)> s{[](int a, int b) { return a > b; }};\n",
    "}"
   ]
  },
  {
   "cell_type": "markdown",
   "metadata": {
    "slideshow": {
     "slide_type": "slide"
    }
   },
   "source": [
    "- Disadvantage is the expression cannot be inlined\n",
    "- Recommendation - continue to use function objects"
   ]
  },
  {
   "cell_type": "code",
   "execution_count": 3,
   "metadata": {
    "execution": {
     "iopub.execute_input": "2020-12-28T02:33:26.698408Z",
     "iopub.status.busy": "2020-12-28T02:33:26.697555Z",
     "iopub.status.idle": "2020-12-28T02:33:26.717514Z",
     "shell.execute_reply": "2020-12-28T02:33:26.716840Z"
    },
    "slideshow": {
     "slide_type": "fragment"
    }
   },
   "outputs": [],
   "source": [
    "{\n",
    "    set<int, greater<>> s;\n",
    "}"
   ]
  },
  {
   "cell_type": "markdown",
   "metadata": {
    "slideshow": {
     "slide_type": "slide"
    }
   },
   "source": [
    "# Memory Order Follow-up\n",
    "\n",
    "- It wasn't clear in my slides that C++11 allows you to specify the memory order on many operations"
   ]
  },
  {
   "cell_type": "code",
   "execution_count": 4,
   "metadata": {
    "execution": {
     "iopub.execute_input": "2020-12-28T02:33:26.720634Z",
     "iopub.status.busy": "2020-12-28T02:33:26.719656Z",
     "iopub.status.idle": "2020-12-28T02:33:26.727232Z",
     "shell.execute_reply": "2020-12-28T02:33:26.726522Z"
    },
    "slideshow": {
     "slide_type": "fragment"
    }
   },
   "outputs": [],
   "source": [
    "atomic<int> x;\n",
    "x.store(10, memory_order_relaxed);"
   ]
  },
  {
   "cell_type": "markdown",
   "metadata": {
    "slideshow": {
     "slide_type": "fragment"
    }
   },
   "source": [
    "- You can specify the memory order for\n",
    "    - operations on atomics\n",
    "    - explicitly with `std::atomic_thread_fence`, `std::atomic_signal_fence`\n",
    "    - and can explicitly control dependencies with `std::kill_dependency`"
   ]
  },
  {
   "cell_type": "markdown",
   "metadata": {
    "slideshow": {
     "slide_type": "slide"
    }
   },
   "source": [
    "- The memory order controls\n",
    "    - How the compiler can reorder operations on possibly shared memory around the atomic operations\n",
    "    - Which instructions the compiler emits to control processor memory ordering around the atomic operations"
   ]
  },
  {
   "cell_type": "code",
   "execution_count": 5,
   "metadata": {},
   "outputs": [],
   "source": []
  }
 ],
 "metadata": {
  "celltoolbar": "Slideshow",
  "kernelspec": {
   "display_name": "C++17",
   "language": "C++17",
   "name": "xcpp17"
  },
  "language_info": {
   "codemirror_mode": "text/x-c++src",
   "file_extension": ".cpp",
   "mimetype": "text/x-c++src",
   "name": "c++",
   "version": "17"
  },
  "toc": {
   "nav_menu": {},
   "number_sections": true,
   "sideBar": true,
   "skip_h1_title": false,
   "toc_cell": false,
   "toc_position": {},
   "toc_section_display": "block",
   "toc_window_display": false
  }
 },
 "nbformat": 4,
 "nbformat_minor": 4
}
