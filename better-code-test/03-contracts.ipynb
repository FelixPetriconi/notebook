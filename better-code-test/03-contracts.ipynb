{
 "cells": [
  {
   "cell_type": "code",
   "execution_count": 1,
   "metadata": {},
   "outputs": [],
   "source": [
    "#include \"../common.hpp\""
   ]
  },
  {
   "cell_type": "markdown",
   "metadata": {
    "toc": true
   },
   "source": [
    "<h1>Table of Contents<span class=\"tocSkip\"></span></h1>\n",
    "<div class=\"toc\" style=\"margin-top: 1em;\"><ul class=\"toc-item\"><li><span><a href=\"#Contracts\" data-toc-modified-id=\"Contracts-1\"><span class=\"toc-item-num\">1&nbsp;&nbsp;</span>Contracts</a></span><ul class=\"toc-item\"><li><span><a href=\"#History\" data-toc-modified-id=\"History-1.1\"><span class=\"toc-item-num\">1.1&nbsp;&nbsp;</span>History</a></span></li><li><span><a href=\"#Preconditions\" data-toc-modified-id=\"Preconditions-1.2\"><span class=\"toc-item-num\">1.2&nbsp;&nbsp;</span>Preconditions</a></span><ul class=\"toc-item\"><li><span><a href=\"#operator[]()-and-at()\" data-toc-modified-id=\"operator[]()-and-at()-1.2.1\"><span class=\"toc-item-num\">1.2.1&nbsp;&nbsp;</span><code>operator[]()</code> and <code>at()</code></a></span></li><li><span><a href=\"#Basic-Interface-Preconditions\" data-toc-modified-id=\"Basic-Interface-Preconditions-1.2.2\"><span class=\"toc-item-num\">1.2.2&nbsp;&nbsp;</span>Basic Interface Preconditions</a></span></li></ul></li><li><span><a href=\"#Postconditions\" data-toc-modified-id=\"Postconditions-1.3\"><span class=\"toc-item-num\">1.3&nbsp;&nbsp;</span>Postconditions</a></span><ul class=\"toc-item\"><li><span><a href=\"#Basic-Interface-Postconditions\" data-toc-modified-id=\"Basic-Interface-Postconditions-1.3.1\"><span class=\"toc-item-num\">1.3.1&nbsp;&nbsp;</span>Basic Interface Postconditions</a></span><ul class=\"toc-item\"><li><span><a href=\"#Lifetime-of-reference-results\" data-toc-modified-id=\"Lifetime-of-reference-results-1.3.1.1\"><span class=\"toc-item-num\">1.3.1.1&nbsp;&nbsp;</span>Lifetime of reference results</a></span></li><li><span><a href=\"#Exception-Guarantees\" data-toc-modified-id=\"Exception-Guarantees-1.3.1.2\"><span class=\"toc-item-num\">1.3.1.2&nbsp;&nbsp;</span>Exception Guarantees</a></span></li></ul></li></ul></li><li><span><a href=\"#Invariants\" data-toc-modified-id=\"Invariants-1.4\"><span class=\"toc-item-num\">1.4&nbsp;&nbsp;</span>Invariants</a></span></li></ul></li></ul></div>"
   ]
  },
  {
   "cell_type": "markdown",
   "metadata": {},
   "source": [
    "# Contracts\n",
    "## History\n",
    "\n",
    "- _Design by contract_ comes from Bertrand Meyer's work on the Eiffel programming language\n",
    "- Described in his book [Object-Oriented Software Construction](https://en.wikipedia.org/wiki/Object-Oriented_Software_Construction)\n",
    "- The work builds on _Hoare logic_ and Dijkstra's _predicate transformer semantics_.\n",
    "- Hoare logic is also known as _Floyd-Hoare logic_, Floyd being Robert Floyd who was Jim King's advisor\n",
    "\n",
    "- A contract describes:\n",
    "    - Operation pre- and postconditions\n",
    "    - Class invariants\n",
    "        - Class invariants are postconditions common to all operations on a class\n",
    "        \n",
    "- A contract is a _Hoare triple_\n",
    "    - Expectation (precondition)\n",
    "    - Guarantee (postcondition)\n",
    "    - Maintains (invariants)\n",
    "\n",
    "## Preconditions\n",
    "- The preconditions of a function are what the function expects\n",
    "    - Violation of a precondition is undefined behavior\n",
    "    - A precondition can not be tested\n",
    "    - _Some_ preconditions may be _asserted_ by the function\n",
    "- It is not practical to assert all preconditions\n",
    "    - Examples of preconditions which are impractical to test\n",
    "        - A pair of pointers specify a valid range\n",
    "        - A comparison function defines a strict-weak-ordering\n",
    "### `operator[]()` and `at()`\n",
    "- `vector::operator[]()` has _strong_ preconditions\n",
    "    - If the index is out of range, behavior is undefined\n",
    "    - You cannot test behavior for an out-of-range index\n",
    "- `vector::at()` has _weaker_ preconditions\n",
    "    - If the index is out of range it will throw `std::out_of_range`\n",
    "    "
   ]
  },
  {
   "cell_type": "code",
   "execution_count": null,
   "metadata": {},
   "outputs": [],
   "source": [
    "template <typename T>\n",
    "void test_indexing(T& x) {\n",
    "    x.at\n",
    "    \n",
    "    const T& cx = x;\n",
    "}"
   ]
  },
  {
   "cell_type": "code",
   "execution_count": 5,
   "metadata": {},
   "outputs": [
    {
     "name": "stderr",
     "output_type": "stream",
     "text": [
      "FAILED: REQUIRE_THROWS_AS(x.at(2))\n"
     ]
    }
   ],
   "source": [
    "{\n",
    "    vector<int> x{0, 1, 2};\n",
    "    REQUIRE_THROWS_AS(x.at(2), std::out_of_range);\n",
    "}"
   ]
  },
  {
   "cell_type": "markdown",
   "metadata": {},
   "source": [
    "### Basic Interface Preconditions\n",
    "## Postconditions\n",
    "### Basic Interface Postconditions\n",
    "#### Lifetime of reference results\n",
    "- A member function returning a reference to a _part_ of the object is valid until:\n",
    "    - a mutable (non-const) member function call\n",
    "    - or, the end of the objects lifetime\n",
    "#### Exception Guarantees\n",
    "## Invariants"
   ]
  },
  {
   "cell_type": "code",
   "execution_count": null,
   "metadata": {},
   "outputs": [],
   "source": []
  }
 ],
 "metadata": {
  "kernelspec": {
   "display_name": "C++17",
   "language": "C++17",
   "name": "xeus-cling-cpp17"
  },
  "language_info": {
   "codemirror_mode": "text/x-c++src",
   "file_extension": ".cpp",
   "mimetype": "text/x-c++src",
   "name": "c++",
   "version": "-std=c++17"
  },
  "toc": {
   "nav_menu": {},
   "number_sections": true,
   "sideBar": true,
   "skip_h1_title": false,
   "toc_cell": true,
   "toc_position": {},
   "toc_section_display": "block",
   "toc_window_display": false
  }
 },
 "nbformat": 4,
 "nbformat_minor": 2
}
