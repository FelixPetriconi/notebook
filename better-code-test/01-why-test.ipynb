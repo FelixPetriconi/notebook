{
 "cells": [
  {
   "cell_type": "code",
   "execution_count": 1,
   "metadata": {
    "slideshow": {
     "slide_type": "skip"
    }
   },
   "outputs": [],
   "source": [
    "#include \"../common.hpp\""
   ]
  },
  {
   "cell_type": "markdown",
   "metadata": {
    "slideshow": {
     "slide_type": "slide"
    }
   },
   "source": [
    "## Introduction\n",
    "- The take home QE test:\n",
    "    - Write a unit test, using Catch2 (a single-header C++ test framework) for `std::vector<>`."
   ]
  },
  {
   "cell_type": "markdown",
   "metadata": {
    "slideshow": {
     "slide_type": "fragment"
    }
   },
   "source": [
    "- IMO this is a bad problem\n",
    "    - As we will see, this is a significant project in scale\n",
    "    - The Catch2 docs use `vector<>` in their examples, badly\n",
    "    - `vector<>` is very well specified, most APIs are not\n",
    "    - Writing good tests requires some knowledge of the implementation\n",
    "    - `vector<>` has been very well vetted, so it is extremely unlikely the candidate will find a bug"
   ]
  },
  {
   "cell_type": "markdown",
   "metadata": {
    "slideshow": {
     "slide_type": "fragment"
    }
   },
   "source": [
    "- I've been surprised by the results"
   ]
  },
  {
   "cell_type": "markdown",
   "metadata": {
    "slideshow": {
     "slide_type": "slide"
    }
   },
   "source": [
    "- _Disclaimers_"
   ]
  },
  {
   "cell_type": "markdown",
   "metadata": {
    "slideshow": {
     "slide_type": "slide"
    }
   },
   "source": [
    "- The usual approach to writing tests is:\n",
    "    - Make sure every operation is called once\n",
    "    - Check an attribute of the post-condition\n",
    "    - Add additional tests until 100% code coverage is obtained"
   ]
  },
  {
   "cell_type": "markdown",
   "metadata": {
    "slideshow": {
     "slide_type": "fragment"
    }
   },
   "source": [
    "- This approach will usually only catch trivial mistakes\n",
    "    - It is unlikely to catch edge cases or design errors"
   ]
  },
  {
   "cell_type": "markdown",
   "metadata": {
    "slideshow": {
     "slide_type": "slide"
    }
   },
   "source": [
    "- During this course section we will be developing an approach to test `std::vector<>`\n",
    "    - To simplify the problem we will be only be testing with the default allocator\n",
    "    - We will also ignore the `std::vector<bool>` specialization"
   ]
  },
  {
   "cell_type": "markdown",
   "metadata": {
    "slideshow": {
     "slide_type": "slide"
    }
   },
   "source": [
    "## Why test?\n",
    "\n",
    "### Preliminaries"
   ]
  },
  {
   "cell_type": "markdown",
   "metadata": {
    "slideshow": {
     "slide_type": "fragment"
    }
   },
   "source": [
    "- To improve the probability the code is _correct_"
   ]
  },
  {
   "cell_type": "markdown",
   "metadata": {
    "slideshow": {
     "slide_type": "fragment"
    }
   },
   "source": [
    "- But what is _correct_?"
   ]
  },
  {
   "cell_type": "markdown",
   "metadata": {
    "slideshow": {
     "slide_type": "fragment"
    }
   },
   "source": [
    "- Correct is logically consistent, without _contradiction_"
   ]
  },
  {
   "cell_type": "markdown",
   "metadata": {
    "slideshow": {
     "slide_type": "fragment"
    }
   },
   "source": [
    "- For software to be correct it has to mean something\n",
    "    - What does `0100` mean?"
   ]
  },
  {
   "cell_type": "markdown",
   "metadata": {
    "slideshow": {
     "slide_type": "slide"
    }
   },
   "source": [
    "- For objects to have meaning they must correspond to an _entity_, either concrete or abstract\n",
    "```cpp\n",
    "void f() {\n",
    "    int i; // the value of i has no meaning\n",
    "}\n",
    "```"
   ]
  },
  {
   "cell_type": "markdown",
   "metadata": {
    "slideshow": {
     "slide_type": "fragment"
    }
   },
   "source": [
    "- Two objects are _equal_ iff their values correspond to the same entity\n",
    "- From this definition of equality we can derive the following properties"
   ]
  },
  {
   "cell_type": "markdown",
   "metadata": {
    "slideshow": {
     "slide_type": "fragment"
    }
   },
   "source": [
    "\\begin{align}\n",
    "(\\forall a) a &= a.\\tag{Reflexivity} \\\\\n",
    "(\\forall a, b) a &= b \\implies b = a.\\tag{Symmetry} \\\\\n",
    "(\\forall a, b, c) a &= b \\wedge b = c \\implies a = c.\\tag{Transitivity}\n",
    "\\end{align}"
   ]
  },
  {
   "cell_type": "markdown",
   "metadata": {
    "slideshow": {
     "slide_type": "slide"
    }
   },
   "source": [
    "### History"
   ]
  },
  {
   "cell_type": "markdown",
   "metadata": {
    "slideshow": {
     "slide_type": "fragment"
    }
   },
   "source": [
    "- _Double-entry bookkeeping_ was pioneered in the 11th century by Jewish banking community\n",
    "    - and likely developed independently in Korea in the same time period\n",
    "- In the late 13th century it spread to Italy\n",
    "- In the 14th century double-entry bookkeeping was adopted by the Medici bank\n",
    "    - And is credited with establishing the Medici bank as reliable and trustworthy, leading to the rise of one of the most powerful family dynasties in history\n",
    "- Was codified by Luca Pacioli (the Father of Accounting) in 1494"
   ]
  },
  {
   "cell_type": "markdown",
   "metadata": {
    "slideshow": {
     "slide_type": "slide"
    }
   },
   "source": [
    "- Double-entry bookkeeping is a tool for error detection and fraud prevention\n",
    "- It relies on the accounting equation:\n",
    "$$assets = liabilities + equity$$\n",
    "- And is an example of _equational reasoning_"
   ]
  },
  {
   "cell_type": "markdown",
   "metadata": {
    "slideshow": {
     "slide_type": "fragment"
    }
   },
   "source": [
    "- By ensuring that all transactions are made against two separate accounts\n",
    "    - The probability of error is significantly reduced\n",
    "        - Not eliminated\n",
    "    - And the account gains _transparency_ making it easier to _audit_ and detect fraud"
   ]
  },
  {
   "cell_type": "markdown",
   "metadata": {
    "slideshow": {
     "slide_type": "slide"
    }
   },
   "source": [
    "### Principals of Testing\n",
    "- _Testing_ is applying the principals of double-entry bookkeeping to engineering\n",
    "- State each operation in two _independent but equivalent_ forms\n",
    "    - Where possible, state an operation in terms of the _axioms_ that define it\n",
    "- Test for equivalency and flag any contradictions"
   ]
  },
  {
   "cell_type": "markdown",
   "metadata": {
    "slideshow": {
     "slide_type": "fragment"
    }
   },
   "source": [
    "- A contradiction does not imply the code being tested is wrong\n",
    "    - The test case is at least as likely to be incorrect\n",
    "    - A failed test only implies _something_ is inconsistent"
   ]
  },
  {
   "cell_type": "markdown",
   "metadata": {
    "slideshow": {
     "slide_type": "slide"
    }
   },
   "source": [
    "### First Test"
   ]
  },
  {
   "cell_type": "markdown",
   "metadata": {
    "slideshow": {
     "slide_type": "fragment"
    }
   },
   "source": [
    "- Our tests will largely be based on what equality means\n",
    "    - So we start our test with making sure equality is correct\n",
    "- `vector` is a container, the standard includes a table of the container requirements:"
   ]
  },
  {
   "cell_type": "markdown",
   "metadata": {
    "slideshow": {
     "slide_type": "fragment"
    }
   },
   "source": [
    "![](./img/equality.png)"
   ]
  },
  {
   "cell_type": "markdown",
   "metadata": {
    "slideshow": {
     "slide_type": "slide"
    }
   },
   "source": [
    "![](./img/equality-comparable.png)"
   ]
  },
  {
   "cell_type": "code",
   "execution_count": 2,
   "metadata": {
    "slideshow": {
     "slide_type": "slide"
    }
   },
   "outputs": [],
   "source": [
    "template <class T>\n",
    "void test_equality_1(const T& a, const T& b, const T& c) {\n",
    "    REQUIRE(a == a);                          // Reflexivity\n",
    "    REQUIRE(!(a == b) || (b == a));           // Symmetry\n",
    "    REQUIRE(!(a == b && b == c) || (a == c)); // Transitivity\n",
    "}"
   ]
  },
  {
   "cell_type": "code",
   "execution_count": 3,
   "metadata": {
    "slideshow": {
     "slide_type": "fragment"
    }
   },
   "outputs": [],
   "source": [
    "{\n",
    "    vector<int> a, b, c;\n",
    "    test_equality_1(a, b, c);\n",
    "}"
   ]
  },
  {
   "cell_type": "markdown",
   "metadata": {
    "slideshow": {
     "slide_type": "slide"
    }
   },
   "source": [
    "- There are at least two problems with this test\n",
    "    - It ignores the existential quantifier, $\\forall$\n",
    "    - It is trivially satisfiable\n",
    "        - `operator==()` could always return true"
   ]
  },
  {
   "cell_type": "markdown",
   "metadata": {
    "slideshow": {
     "slide_type": "fragment"
    }
   },
   "source": [
    "- It isn't practical, or even possible, to test existential quantifiers\n",
    "    - Instead we need to choose _representative values_"
   ]
  },
  {
   "cell_type": "markdown",
   "metadata": {
    "slideshow": {
     "slide_type": "slide"
    }
   },
   "source": [
    "![](./img/vector-anatomy.svg)"
   ]
  },
  {
   "cell_type": "markdown",
   "metadata": {
    "slideshow": {
     "slide_type": "fragment"
    }
   },
   "source": [
    "- size (zero, not-zero, different)\n",
    "- capacity (equal size, greater size, different)\n",
    "- values (equal, initial equal, different)"
   ]
  },
  {
   "cell_type": "code",
   "execution_count": 4,
   "metadata": {
    "slideshow": {
     "slide_type": "slide"
    }
   },
   "outputs": [],
   "source": [
    "template <class T>\n",
    "auto make_vector(initializer_list<T> init, std::size_t additional_capacity) {\n",
    "    vector<T> r;\n",
    "    r.reserve(size(init) + additional_capacity);\n",
    "    r.insert(end(r), init);\n",
    "    return r;\n",
    "}"
   ]
  },
  {
   "cell_type": "markdown",
   "metadata": {
    "slideshow": {
     "slide_type": "slide"
    }
   },
   "source": [
    "- Create an array of pairs tags and representative values\n",
    "    - Values with the same tag, and only values with the same tag, must be equal"
   ]
  },
  {
   "cell_type": "code",
   "execution_count": 5,
   "metadata": {
    "slideshow": {
     "slide_type": "fragment"
    }
   },
   "outputs": [],
   "source": [
    "struct {\n",
    "    int tag;\n",
    "    std::vector<int> value;\n",
    "} vec_rep[]{\n",
    "    {0, make_vector<int>({}, 0)}, {0, make_vector<int>({}, 1)},\n",
    "    {0, make_vector<int>({}, 2)},\n",
    "\n",
    "    {1, make_vector({0}, 0)},     {1, make_vector({0}, 1)},\n",
    "    {1, make_vector({0}, 2)},\n",
    "\n",
    "    {2, make_vector({0, 1}, 0)},  {2, make_vector({0, 1}, 0)},\n",
    "    {2, make_vector({0, 1}, 0)},\n",
    "\n",
    "    {3, make_vector({0, 2}, 0)},  {3, make_vector({0, 2}, 0)},\n",
    "    {3, make_vector({0, 2}, 0)},\n",
    "\n",
    "    {4, make_vector({1, 2}, 0)},  {4, make_vector({1, 2}, 0)},\n",
    "    {4, make_vector({1, 2}, 0)},\n",
    "};"
   ]
  },
  {
   "cell_type": "code",
   "execution_count": 6,
   "metadata": {
    "slideshow": {
     "slide_type": "slide"
    }
   },
   "outputs": [],
   "source": [
    "template <class T>\n",
    "void test_equality_2(const T& a) {\n",
    "    // Reflexivity\n",
    "    for (const auto& e : a)\n",
    "        REQUIRE(e.value == e.value);\n",
    "\n",
    "    // Symmetry\n",
    "    for_each_k_combination<2>(a, [](const auto& a, const auto& b) {\n",
    "        REQUIRE((a.tag == b.tag) == (a.value == b.value));\n",
    "        REQUIRE(!(a.value == b.value) || (b.value == a.value));\n",
    "    });\n",
    "\n",
    "    // Transitivity\n",
    "    for_each_k_combination<3>(a, [](const auto& a, const auto& b, const auto& c) {\n",
    "        REQUIRE(!(a.value == b.value && b.value == c.value) ||\n",
    "                (a.value == c.value));\n",
    "    });\n",
    "}"
   ]
  },
  {
   "cell_type": "code",
   "execution_count": 7,
   "metadata": {
    "slideshow": {
     "slide_type": "slide"
    }
   },
   "outputs": [],
   "source": [
    "{\n",
    "    test_equality_2(vec_rep);\n",
    "}"
   ]
  },
  {
   "cell_type": "markdown",
   "metadata": {
    "slideshow": {
     "slide_type": "slide"
    }
   },
   "source": [
    "- Side notes\n",
    "    - Is the test for transitivity redundant?\n",
    "        - All pair value combinations are equal to the equivalency of tags\n",
    "        - Tag comparisons are transitive\n",
    "        - Therefore value comparisons are transitive\n",
    "    - `for_each_k_combination<>` is an interesting algorithm (implementation in my notes)"
   ]
  },
  {
   "cell_type": "code",
   "execution_count": 8,
   "metadata": {
    "slideshow": {
     "slide_type": "slide"
    }
   },
   "outputs": [
    {
     "name": "stdout",
     "output_type": "stream",
     "text": [
      "0,1,2\n",
      "0,1,3\n",
      "0,1,4\n",
      "0,2,3\n",
      "0,2,4\n",
      "0,3,4\n",
      "1,2,3\n",
      "1,2,4\n",
      "1,3,4\n",
      "2,3,4\n"
     ]
    }
   ],
   "source": [
    "{\n",
    "    int a[] = {0, 1, 2, 3, 4};\n",
    "    for_each_k_combination<3>(a, [](int a, int b, int c){\n",
    "        cout << a << \",\" << b << \",\" << c << endl;\n",
    "    });\n",
    "}"
   ]
  },
  {
   "cell_type": "markdown",
   "metadata": {
    "slideshow": {
     "slide_type": "slide"
    }
   },
   "source": [
    "- Knowing `operator==()` is correct we can test operator `operator!=()` easily"
   ]
  },
  {
   "cell_type": "code",
   "execution_count": 9,
   "metadata": {
    "slideshow": {
     "slide_type": "fragment"
    }
   },
   "outputs": [],
   "source": [
    "template <class T>\n",
    "void test_inequality_1(const T& a) {\n",
    "    for_each_k_combination<2>(a, [](const auto& a, const auto& b){\n",
    "        REQUIRE(!(a.value == b.value) == (a.value != b.value));\n",
    "        REQUIRE(!(a.value == b.value) == (b.value != a.value));\n",
    "    });\n",
    "}"
   ]
  },
  {
   "cell_type": "code",
   "execution_count": 10,
   "metadata": {
    "slideshow": {
     "slide_type": "fragment"
    }
   },
   "outputs": [],
   "source": [
    "{\n",
    "    test_inequality_1(vec_rep);\n",
    "}"
   ]
  },
  {
   "cell_type": "markdown",
   "metadata": {
    "slideshow": {
     "slide_type": "slide"
    }
   },
   "source": [
    "### Copy & Assignment\n",
    "- Copy & Assignment are defined in term of equality"
   ]
  },
  {
   "cell_type": "markdown",
   "metadata": {
    "slideshow": {
     "slide_type": "fragment"
    }
   },
   "source": [
    "Let $m()$ be an an action that modifies its argument such that given $a = b$, $m(a) \\implies a \\not= b.$\n",
    "\n",
    "\\begin{align}\n",
    "a \\rightarrow b &\\implies a = b. \\tag{Copies are Equal} \\\\\n",
    "\\text{Let } a = c  \\text{. } a \\rightarrow b \\text{, } m(a) &\\implies a \\not = b \\wedge b = c. \\tag{Copies are Disjoint} \\\\\n",
    "\\end{align}\n",
    "\n",
    "See [_Fundamentals of Generic Programming_](http://stepanovpapers.com/DeSt98.pdf)"
   ]
  },
  {
   "cell_type": "markdown",
   "metadata": {
    "slideshow": {
     "slide_type": "slide"
    }
   },
   "source": [
    "![](./img/copy-constructible.png)\n",
    "![](./img/copy-assignable.png)"
   ]
  },
  {
   "cell_type": "markdown",
   "metadata": {},
   "source": [
    "![](./img/container-copy-constructible.png)\n",
    "![](./img/container-copy-assignable.png)"
   ]
  },
  {
   "cell_type": "markdown",
   "metadata": {
    "slideshow": {
     "slide_type": "slide"
    }
   },
   "source": [
    "- Notice anything missing?"
   ]
  },
  {
   "cell_type": "markdown",
   "metadata": {
    "slideshow": {
     "slide_type": "slide"
    }
   },
   "source": [
    "- Nothing I can find in the C++ standard precludes aliased copies, i.e.\n",
    "```cpp\n",
    "vector<int> a;\n",
    "vector<int> b = a;\n",
    "a.push_back(42);\n",
    "assert(b.back() == 42);\n",
    "```"
   ]
  },
  {
   "cell_type": "markdown",
   "metadata": {
    "slideshow": {
     "slide_type": "fragment"
    }
   },
   "source": [
    "- Except for breaking-all-the-code there is no disjoint requirement\n",
    "    - Eric Niebler and Stephan T. Lavavej agree"
   ]
  },
  {
   "cell_type": "code",
   "execution_count": 11,
   "metadata": {
    "slideshow": {
     "slide_type": "slide"
    }
   },
   "outputs": [],
   "source": [
    "template <class T>\n",
    "void test_copy_and_assignment_1(const T& v) {\n",
    "    for (const auto& a : v) {\n",
    "        {\n",
    "            decltype(a.value) b = a.value; // copy construct\n",
    "            REQUIRE(a.value == b);\n",
    "        }\n",
    "        {\n",
    "            decltype(a.value) b; // default construct\n",
    "            b = a.value;         // assignment\n",
    "            REQUIRE(a.value == b);\n",
    "        }\n",
    "    }\n",
    "}"
   ]
  },
  {
   "cell_type": "code",
   "execution_count": 12,
   "metadata": {},
   "outputs": [],
   "source": [
    "{\n",
    "    test_copy_and_assignment_1(vec_rep);\n",
    "}"
   ]
  },
  {
   "cell_type": "markdown",
   "metadata": {
    "slideshow": {
     "slide_type": "slide"
    }
   },
   "source": [
    "- Only checking the first axiom\n",
    "- The assignment check is always assigning to a default constructed object\n",
    "    - This might mask a leak\n",
    "- Self assignment is not checked\n",
    "    - A common failure case\n",
    "- No complexity test\n",
    "- No failure tests"
   ]
  },
  {
   "cell_type": "markdown",
   "metadata": {
    "slideshow": {
     "slide_type": "fragment"
    }
   },
   "source": [
    "- Also, what is the behavior if there is sufficient capacity for the left value of assignment?"
   ]
  },
  {
   "cell_type": "markdown",
   "metadata": {
    "slideshow": {
     "slide_type": "slide"
    }
   },
   "source": [
    "![](./img/vector-anatomy.svg)"
   ]
  },
  {
   "cell_type": "markdown",
   "metadata": {
    "slideshow": {
     "slide_type": "slide"
    }
   },
   "source": [
    "- I do not believe this behavior is currently specified"
   ]
  },
  {
   "cell_type": "code",
   "execution_count": null,
   "metadata": {},
   "outputs": [],
   "source": [
    "std::vector<int> vec_rep_2[]{\n",
    "    make_vector<int>({}, 0),\n",
    "    make_vector<int>({}, 1),\n",
    "    make_vector<int>({}, 2),\n",
    "    make_vector({0}, 0),\n",
    "    make_vector({0}, 1),\n",
    "    make_vector({0}, 2),\n",
    "    make_vector({0, 1}, 0),\n",
    "    make_vector({0, 2}, 0),\n",
    "    make_vector({1, 2}, 0)\n",
    "};"
   ]
  },
  {
   "cell_type": "code",
   "execution_count": 13,
   "metadata": {},
   "outputs": [],
   "source": [
    "template <class T>\n",
    "void modify(vector<T>& a) {\n",
    "    a.push_back(T{});\n",
    "}"
   ]
  },
  {
   "cell_type": "code",
   "execution_count": 1,
   "metadata": {},
   "outputs": [],
   "source": [
    "template <class T>\n",
    "void test_copy_and_assignment_2(const T& v) {\n",
    "    for (const auto& a : v) {\n",
    "        decltype(a) b = a;        // copy construct\n",
    "        REQUIRE(a == b);          // copies are equal\n",
    "        b = b;                    // self assignment\n",
    "        REQUIRE(a == b);          // self assignment is a no-op\n",
    "        modify(b);                \n",
    "        REQUIRE(a != b);          // copies are disjoint\n",
    "    }                             \n",
    "    for (const auto& a : v) {     \n",
    "        for (const auto& c : v) { \n",
    "            decltype(a) b = a;    // make a copy\n",
    "            b = c;                // copy assignment\n",
    "            REQUIRE(b == c);      // copies ar equal\n",
    "            modify(b);            \n",
    "            REQUIRE(b != c);      // copies are disjoint\n",
    "        }\n",
    "    }\n",
    "}"
   ]
  },
  {
   "cell_type": "markdown",
   "metadata": {},
   "source": [
    "- We are still missing complexity and failure cases..."
   ]
  },
  {
   "cell_type": "markdown",
   "metadata": {
    "slideshow": {
     "slide_type": "slide"
    }
   },
   "source": [
    "### Homework\n",
    "- Read the C++ specification for `vector`: http://www.open-std.org/jtc1/sc22/wg21/docs/papers/2017/n4713.pdf\n",
    "    - When you come across terms like `Container` and `EqualityComparable` look those up as well\n",
    "- Create a class with an `operato==()` which fails in various ways and test it\n",
    "    - Implementation of `for_each_k_combination<>` is available here [ link and pages ]\n",
    "- Can you create an `vector<T>` where `T` is not `EqualityComparable`?\n",
    "    - Consider how to test such an instance"
   ]
  },
  {
   "cell_type": "code",
   "execution_count": null,
   "metadata": {},
   "outputs": [],
   "source": []
  }
 ],
 "metadata": {
  "kernelspec": {
   "display_name": "C++17",
   "language": "C++17",
   "name": "xeus-cling-cpp17"
  },
  "language_info": {
   "codemirror_mode": "text/x-c++src",
   "file_extension": ".cpp",
   "mimetype": "text/x-c++src",
   "name": "c++",
   "version": "-std=c++17"
  }
 },
 "nbformat": 4,
 "nbformat_minor": 2
}
